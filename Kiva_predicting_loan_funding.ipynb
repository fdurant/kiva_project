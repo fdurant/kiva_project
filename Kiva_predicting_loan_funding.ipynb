{
 "metadata": {
  "name": "",
  "signature": "sha256:33af5cff25f567062f1eb61abc9e518433c1fdca62eff962e91f24feb33db938"
 },
 "nbformat": 3,
 "nbformat_minor": 0,
 "worksheets": [
  {
   "cells": [
    {
     "cell_type": "heading",
     "level": 1,
     "metadata": {},
     "source": [
      "Final Project at Metis Data Science Bootcamp: Predicting Kiva loan grants"
     ]
    },
    {
     "cell_type": "heading",
     "level": 1,
     "metadata": {},
     "source": [
      "Goals"
     ]
    },
    {
     "cell_type": "markdown",
     "metadata": {},
     "source": [
      "* Build a system that predicts whether a loan request will be funded by enough lenders - or not (binary classifier)\n",
      "* The prediction should include features from the loan descriptions, using LDA (unsupervised => as feature creator; maybe supervised too)\n",
      "* Evaluate performance of the classifier\n",
      "* Run a live instance of the classifier behind an API\n",
      "* Integrate the API with the live Kiva system (how/where remains to be seen: GreaseMonkey?)\n"
     ]
    },
    {
     "cell_type": "heading",
     "level": 2,
     "metadata": {},
     "source": [
      "Users"
     ]
    },
    {
     "cell_type": "markdown",
     "metadata": {},
     "source": [
      "Primary user: Kiva field partners. As we can read in \"[How Kiva Works, The Long Version](http://www.kiva.org/about/how/even-more)\":\n",
      "\n",
      "* field partners make pre-disbursements to borrowers *before* a loan has been published!\n",
      "* the field partners collect stories and photos from the borrowers for review, translation and publication\n",
      "* lenders *backfill* the loans pre-disbursed by the field partners\n",
      "* lenders run the risk for loans they support\n",
      "* Field Partners (supposedly) run the risk for loans that they pre-disburse, but don't get funded by enough supporters\n",
      "\n",
      "The proposed solution is there to give Field Partners an insight into the risk they run"
     ]
    },
    {
     "cell_type": "heading",
     "level": 1,
     "metadata": {},
     "source": [
      "Data preparation (the sequel)"
     ]
    },
    {
     "cell_type": "markdown",
     "metadata": {},
     "source": [
      "Information on loans were already entered in MongoDB previously. Here we focus on loading the lenders, and the loans_lenders instances."
     ]
    },
    {
     "cell_type": "code",
     "collapsed": false,
     "input": [
      "# Next line commented out because we only want to run this once\n",
      "#!python src/load_kiva_lenders_to_mongodb.py"
     ],
     "language": "python",
     "metadata": {},
     "outputs": [
      {
       "output_type": "stream",
       "stream": "stdout",
       "text": [
        "Processing lenders file 1/1614 ..."
       ]
      },
      {
       "output_type": "stream",
       "stream": "stdout",
       "text": [
        " done\r\n",
        "Processing lenders file 2/1614 ..."
       ]
      },
      {
       "output_type": "stream",
       "stream": "stdout",
       "text": [
        " done\r\n",
        "Processing lenders file 3/1614 ..."
       ]
      },
      {
       "output_type": "stream",
       "stream": "stdout",
       "text": [
        " done\r\n",
        "Processing lenders file 4/1614 ..."
       ]
      },
      {
       "output_type": "stream",
       "stream": "stdout",
       "text": [
        " done\r\n",
        "Processing lenders file 5/1614 ..."
       ]
      },
      {
       "output_type": "stream",
       "stream": "stdout",
       "text": [
        " done\r\n",
        "Processing lenders file 6/1614 ..."
       ]
      },
      {
       "output_type": "stream",
       "stream": "stdout",
       "text": [
        " done\r\n",
        "Processing lenders file 7/1614 ..."
       ]
      },
      {
       "output_type": "stream",
       "stream": "stdout",
       "text": [
        " done\r\n",
        "Processing lenders file 8/1614 ..."
       ]
      },
      {
       "output_type": "stream",
       "stream": "stdout",
       "text": [
        " done\r\n",
        "Processing lenders file 9/1614 ..."
       ]
      },
      {
       "output_type": "stream",
       "stream": "stdout",
       "text": [
        " done\r\n",
        "Processing lenders file 10/1614 ..."
       ]
      },
      {
       "output_type": "stream",
       "stream": "stdout",
       "text": [
        " done\r\n",
        "Processing lenders file 11/1614 ..."
       ]
      },
      {
       "output_type": "stream",
       "stream": "stdout",
       "text": [
        " done\r\n",
        "Processing lenders file 12/1614 ..."
       ]
      },
      {
       "output_type": "stream",
       "stream": "stdout",
       "text": [
        " done\r\n",
        "Processing lenders file 13/1614 ..."
       ]
      },
      {
       "output_type": "stream",
       "stream": "stdout",
       "text": [
        " done\r\n",
        "Processing lenders file 14/1614 ..."
       ]
      },
      {
       "output_type": "stream",
       "stream": "stdout",
       "text": [
        " done\r\n",
        "Processing lenders file 15/1614 ..."
       ]
      },
      {
       "output_type": "stream",
       "stream": "stdout",
       "text": [
        " done\r\n",
        "Processing lenders file 16/1614 ..."
       ]
      },
      {
       "output_type": "stream",
       "stream": "stdout",
       "text": [
        " done\r\n",
        "Processing lenders file 17/1614 ..."
       ]
      },
      {
       "output_type": "stream",
       "stream": "stdout",
       "text": [
        " done\r\n",
        "Processing lenders file 18/1614 ..."
       ]
      },
      {
       "output_type": "stream",
       "stream": "stdout",
       "text": [
        " done\r\n",
        "Processing lenders file 19/1614 ..."
       ]
      },
      {
       "output_type": "stream",
       "stream": "stdout",
       "text": [
        " done\r\n",
        "Processing lenders file 20/1614 ..."
       ]
      },
      {
       "output_type": "stream",
       "stream": "stdout",
       "text": [
        " done\r\n",
        "Processing lenders file 21/1614 ..."
       ]
      },
      {
       "output_type": "stream",
       "stream": "stdout",
       "text": [
        " done\r\n",
        "Processing lenders file 22/1614 ..."
       ]
      },
      {
       "output_type": "stream",
       "stream": "stdout",
       "text": [
        " done\r\n",
        "Processing lenders file 23/1614 ..."
       ]
      },
      {
       "output_type": "stream",
       "stream": "stdout",
       "text": [
        " done\r\n",
        "Processing lenders file 24/1614 ..."
       ]
      },
      {
       "output_type": "stream",
       "stream": "stdout",
       "text": [
        " done\r\n",
        "Processing lenders file 25/1614 ..."
       ]
      },
      {
       "output_type": "stream",
       "stream": "stdout",
       "text": [
        " done\r\n",
        "Processing lenders file 26/1614 ..."
       ]
      },
      {
       "output_type": "stream",
       "stream": "stdout",
       "text": [
        " done\r\n",
        "Processing lenders file 27/1614 ..."
       ]
      },
      {
       "output_type": "stream",
       "stream": "stdout",
       "text": [
        " done\r\n",
        "Processing lenders file 28/1614 ..."
       ]
      },
      {
       "output_type": "stream",
       "stream": "stdout",
       "text": [
        " done\r\n",
        "Processing lenders file 29/1614 ..."
       ]
      },
      {
       "output_type": "stream",
       "stream": "stdout",
       "text": [
        " done\r\n",
        "Processing lenders file 30/1614 ..."
       ]
      },
      {
       "output_type": "stream",
       "stream": "stdout",
       "text": [
        " done\r\n",
        "Processing lenders file 31/1614 ..."
       ]
      },
      {
       "output_type": "stream",
       "stream": "stdout",
       "text": [
        " done\r\n",
        "Processing lenders file 32/1614 ..."
       ]
      },
      {
       "output_type": "stream",
       "stream": "stdout",
       "text": [
        " done\r\n",
        "Processing lenders file 33/1614 ..."
       ]
      },
      {
       "output_type": "stream",
       "stream": "stdout",
       "text": [
        " done\r\n",
        "Processing lenders file 34/1614 ..."
       ]
      },
      {
       "output_type": "stream",
       "stream": "stdout",
       "text": [
        " done\r\n",
        "Processing lenders file 35/1614 ..."
       ]
      },
      {
       "output_type": "stream",
       "stream": "stdout",
       "text": [
        " done\r\n",
        "Processing lenders file 36/1614 ..."
       ]
      },
      {
       "output_type": "stream",
       "stream": "stdout",
       "text": [
        " done\r\n",
        "Processing lenders file 37/1614 ..."
       ]
      },
      {
       "output_type": "stream",
       "stream": "stdout",
       "text": [
        " done\r\n",
        "Processing lenders file 38/1614 ..."
       ]
      },
      {
       "output_type": "stream",
       "stream": "stdout",
       "text": [
        " done\r\n",
        "Processing lenders file 39/1614 ..."
       ]
      },
      {
       "output_type": "stream",
       "stream": "stdout",
       "text": [
        " done\r\n",
        "Processing lenders file 40/1614 ..."
       ]
      },
      {
       "output_type": "stream",
       "stream": "stdout",
       "text": [
        " done\r\n",
        "Processing lenders file 41/1614 ..."
       ]
      },
      {
       "output_type": "stream",
       "stream": "stdout",
       "text": [
        " done\r\n",
        "Processing lenders file 42/1614 ..."
       ]
      },
      {
       "output_type": "stream",
       "stream": "stdout",
       "text": [
        " done\r\n",
        "Processing lenders file 43/1614 ..."
       ]
      },
      {
       "output_type": "stream",
       "stream": "stdout",
       "text": [
        " done\r\n",
        "Processing lenders file 44/1614 ..."
       ]
      },
      {
       "output_type": "stream",
       "stream": "stdout",
       "text": [
        " done\r\n",
        "Processing lenders file 45/1614 ..."
       ]
      },
      {
       "output_type": "stream",
       "stream": "stdout",
       "text": [
        " done\r\n",
        "Processing lenders file 46/1614 ..."
       ]
      },
      {
       "output_type": "stream",
       "stream": "stdout",
       "text": [
        " done\r\n",
        "Processing lenders file 47/1614 ..."
       ]
      },
      {
       "output_type": "stream",
       "stream": "stdout",
       "text": [
        " done\r\n",
        "Processing lenders file 48/1614 ..."
       ]
      },
      {
       "output_type": "stream",
       "stream": "stdout",
       "text": [
        " done\r\n",
        "Processing lenders file 49/1614 ..."
       ]
      },
      {
       "output_type": "stream",
       "stream": "stdout",
       "text": [
        " done\r\n",
        "Processing lenders file 50/1614 ..."
       ]
      },
      {
       "output_type": "stream",
       "stream": "stdout",
       "text": [
        " done\r\n",
        "Processing lenders file 51/1614 ..."
       ]
      },
      {
       "output_type": "stream",
       "stream": "stdout",
       "text": [
        " done\r\n",
        "Processing lenders file 52/1614 ..."
       ]
      },
      {
       "output_type": "stream",
       "stream": "stdout",
       "text": [
        " done\r\n",
        "Processing lenders file 53/1614 ..."
       ]
      },
      {
       "output_type": "stream",
       "stream": "stdout",
       "text": [
        " done\r\n",
        "Processing lenders file 54/1614 ..."
       ]
      },
      {
       "output_type": "stream",
       "stream": "stdout",
       "text": [
        " done\r\n",
        "Processing lenders file 55/1614 ..."
       ]
      },
      {
       "output_type": "stream",
       "stream": "stdout",
       "text": [
        " done\r\n",
        "Processing lenders file 56/1614 ..."
       ]
      },
      {
       "output_type": "stream",
       "stream": "stdout",
       "text": [
        " done\r\n",
        "Processing lenders file 57/1614 ..."
       ]
      },
      {
       "output_type": "stream",
       "stream": "stdout",
       "text": [
        " done\r\n",
        "Processing lenders file 58/1614 ..."
       ]
      },
      {
       "output_type": "stream",
       "stream": "stdout",
       "text": [
        " done\r\n",
        "Processing lenders file 59/1614 ..."
       ]
      },
      {
       "output_type": "stream",
       "stream": "stdout",
       "text": [
        " done\r\n",
        "Processing lenders file 60/1614 ..."
       ]
      },
      {
       "output_type": "stream",
       "stream": "stdout",
       "text": [
        " done\r\n",
        "Processing lenders file 61/1614 ..."
       ]
      },
      {
       "output_type": "stream",
       "stream": "stdout",
       "text": [
        " done\r\n",
        "Processing lenders file 62/1614 ..."
       ]
      },
      {
       "output_type": "stream",
       "stream": "stdout",
       "text": [
        " done\r\n",
        "Processing lenders file 63/1614 ..."
       ]
      },
      {
       "output_type": "stream",
       "stream": "stdout",
       "text": [
        " done\r\n",
        "Processing lenders file 64/1614 ..."
       ]
      },
      {
       "output_type": "stream",
       "stream": "stdout",
       "text": [
        " done\r\n",
        "Processing lenders file 65/1614 ..."
       ]
      },
      {
       "output_type": "stream",
       "stream": "stdout",
       "text": [
        " done\r\n",
        "Processing lenders file 66/1614 ..."
       ]
      },
      {
       "output_type": "stream",
       "stream": "stdout",
       "text": [
        " done\r\n",
        "Processing lenders file 67/1614 ..."
       ]
      },
      {
       "output_type": "stream",
       "stream": "stdout",
       "text": [
        " done\r\n",
        "Processing lenders file 68/1614 ..."
       ]
      },
      {
       "output_type": "stream",
       "stream": "stdout",
       "text": [
        " done\r\n",
        "Processing lenders file 69/1614 ..."
       ]
      },
      {
       "output_type": "stream",
       "stream": "stdout",
       "text": [
        " done\r\n",
        "Processing lenders file 70/1614 ..."
       ]
      },
      {
       "output_type": "stream",
       "stream": "stdout",
       "text": [
        " done\r\n",
        "Processing lenders file 71/1614 ..."
       ]
      },
      {
       "output_type": "stream",
       "stream": "stdout",
       "text": [
        " done\r\n",
        "Processing lenders file 72/1614 ..."
       ]
      },
      {
       "output_type": "stream",
       "stream": "stdout",
       "text": [
        " done\r\n",
        "Processing lenders file 73/1614 ..."
       ]
      },
      {
       "output_type": "stream",
       "stream": "stdout",
       "text": [
        " done\r\n",
        "Processing lenders file 74/1614 ..."
       ]
      },
      {
       "output_type": "stream",
       "stream": "stdout",
       "text": [
        " done\r\n",
        "Processing lenders file 75/1614 ..."
       ]
      },
      {
       "output_type": "stream",
       "stream": "stdout",
       "text": [
        " done\r\n",
        "Processing lenders file 76/1614 ..."
       ]
      },
      {
       "output_type": "stream",
       "stream": "stdout",
       "text": [
        " done\r\n",
        "Processing lenders file 77/1614 ..."
       ]
      },
      {
       "output_type": "stream",
       "stream": "stdout",
       "text": [
        " done\r\n",
        "Processing lenders file 78/1614 ..."
       ]
      },
      {
       "output_type": "stream",
       "stream": "stdout",
       "text": [
        " done\r\n",
        "Processing lenders file 79/1614 ..."
       ]
      },
      {
       "output_type": "stream",
       "stream": "stdout",
       "text": [
        " done\r\n",
        "Processing lenders file 80/1614 ..."
       ]
      },
      {
       "output_type": "stream",
       "stream": "stdout",
       "text": [
        " done\r\n",
        "Processing lenders file 81/1614 ..."
       ]
      },
      {
       "output_type": "stream",
       "stream": "stdout",
       "text": [
        " done\r\n",
        "Processing lenders file 82/1614 ..."
       ]
      },
      {
       "output_type": "stream",
       "stream": "stdout",
       "text": [
        " done\r\n",
        "Processing lenders file 83/1614 ..."
       ]
      },
      {
       "output_type": "stream",
       "stream": "stdout",
       "text": [
        " done\r\n",
        "Processing lenders file 84/1614 ..."
       ]
      },
      {
       "output_type": "stream",
       "stream": "stdout",
       "text": [
        " done\r\n",
        "Processing lenders file 85/1614 ..."
       ]
      },
      {
       "output_type": "stream",
       "stream": "stdout",
       "text": [
        " done\r\n",
        "Processing lenders file 86/1614 ..."
       ]
      },
      {
       "output_type": "stream",
       "stream": "stdout",
       "text": [
        " done\r\n",
        "Processing lenders file 87/1614 ..."
       ]
      },
      {
       "output_type": "stream",
       "stream": "stdout",
       "text": [
        " done\r\n",
        "Processing lenders file 88/1614 ..."
       ]
      },
      {
       "output_type": "stream",
       "stream": "stdout",
       "text": [
        " done\r\n",
        "Processing lenders file 89/1614 ..."
       ]
      },
      {
       "output_type": "stream",
       "stream": "stdout",
       "text": [
        " done\r\n",
        "Processing lenders file 90/1614 ..."
       ]
      },
      {
       "output_type": "stream",
       "stream": "stdout",
       "text": [
        " done\r\n",
        "Processing lenders file 91/1614 ..."
       ]
      },
      {
       "output_type": "stream",
       "stream": "stdout",
       "text": [
        " done\r\n",
        "Processing lenders file 92/1614 ..."
       ]
      },
      {
       "output_type": "stream",
       "stream": "stdout",
       "text": [
        " done\r\n",
        "Processing lenders file 93/1614 ..."
       ]
      },
      {
       "output_type": "stream",
       "stream": "stdout",
       "text": [
        " done\r\n",
        "Processing lenders file 94/1614 ..."
       ]
      },
      {
       "output_type": "stream",
       "stream": "stdout",
       "text": [
        " done\r\n",
        "Processing lenders file 95/1614 ..."
       ]
      },
      {
       "output_type": "stream",
       "stream": "stdout",
       "text": [
        " done\r\n",
        "Processing lenders file 96/1614 ..."
       ]
      },
      {
       "output_type": "stream",
       "stream": "stdout",
       "text": [
        " done\r\n",
        "Processing lenders file 97/1614 ..."
       ]
      },
      {
       "output_type": "stream",
       "stream": "stdout",
       "text": [
        " done\r\n",
        "Processing lenders file 98/1614 ..."
       ]
      },
      {
       "output_type": "stream",
       "stream": "stdout",
       "text": [
        " done\r\n",
        "Processing lenders file 99/1614 ..."
       ]
      },
      {
       "output_type": "stream",
       "stream": "stdout",
       "text": [
        " done\r\n",
        "Processing lenders file 100/1614 ..."
       ]
      },
      {
       "output_type": "stream",
       "stream": "stdout",
       "text": [
        " done\r\n",
        "Processing lenders file 101/1614 ..."
       ]
      },
      {
       "output_type": "stream",
       "stream": "stdout",
       "text": [
        " done\r\n",
        "Processing lenders file 102/1614 ..."
       ]
      },
      {
       "output_type": "stream",
       "stream": "stdout",
       "text": [
        " done\r\n",
        "Processing lenders file 103/1614 ..."
       ]
      },
      {
       "output_type": "stream",
       "stream": "stdout",
       "text": [
        " done\r\n",
        "Processing lenders file 104/1614 ..."
       ]
      },
      {
       "output_type": "stream",
       "stream": "stdout",
       "text": [
        " done\r\n",
        "Processing lenders file 105/1614 ..."
       ]
      },
      {
       "output_type": "stream",
       "stream": "stdout",
       "text": [
        " done\r\n",
        "Processing lenders file 106/1614 ..."
       ]
      },
      {
       "output_type": "stream",
       "stream": "stdout",
       "text": [
        " done\r\n",
        "Processing lenders file 107/1614 ..."
       ]
      },
      {
       "output_type": "stream",
       "stream": "stdout",
       "text": [
        " done\r\n",
        "Processing lenders file 108/1614 ..."
       ]
      },
      {
       "output_type": "stream",
       "stream": "stdout",
       "text": [
        " done\r\n",
        "Processing lenders file 109/1614 ..."
       ]
      },
      {
       "output_type": "stream",
       "stream": "stdout",
       "text": [
        " done\r\n",
        "Processing lenders file 110/1614 ..."
       ]
      },
      {
       "output_type": "stream",
       "stream": "stdout",
       "text": [
        " done\r\n",
        "Processing lenders file 111/1614 ..."
       ]
      },
      {
       "output_type": "stream",
       "stream": "stdout",
       "text": [
        " done\r\n",
        "Processing lenders file 112/1614 ..."
       ]
      },
      {
       "output_type": "stream",
       "stream": "stdout",
       "text": [
        " done\r\n",
        "Processing lenders file 113/1614 ..."
       ]
      },
      {
       "output_type": "stream",
       "stream": "stdout",
       "text": [
        " done\r\n",
        "Processing lenders file 114/1614 ..."
       ]
      },
      {
       "output_type": "stream",
       "stream": "stdout",
       "text": [
        " done\r\n",
        "Processing lenders file 115/1614 ..."
       ]
      },
      {
       "output_type": "stream",
       "stream": "stdout",
       "text": [
        " done\r\n",
        "Processing lenders file 116/1614 ..."
       ]
      },
      {
       "output_type": "stream",
       "stream": "stdout",
       "text": [
        " done\r\n",
        "Processing lenders file 117/1614 ..."
       ]
      },
      {
       "output_type": "stream",
       "stream": "stdout",
       "text": [
        " done\r\n",
        "Processing lenders file 118/1614 ..."
       ]
      },
      {
       "output_type": "stream",
       "stream": "stdout",
       "text": [
        " done\r\n",
        "Processing lenders file 119/1614 ..."
       ]
      },
      {
       "output_type": "stream",
       "stream": "stdout",
       "text": [
        " done\r\n",
        "Processing lenders file 120/1614 ..."
       ]
      },
      {
       "output_type": "stream",
       "stream": "stdout",
       "text": [
        " done\r\n",
        "Processing lenders file 121/1614 ..."
       ]
      },
      {
       "output_type": "stream",
       "stream": "stdout",
       "text": [
        " done\r\n",
        "Processing lenders file 122/1614 ..."
       ]
      },
      {
       "output_type": "stream",
       "stream": "stdout",
       "text": [
        " done\r\n",
        "Processing lenders file 123/1614 ..."
       ]
      },
      {
       "output_type": "stream",
       "stream": "stdout",
       "text": [
        " done\r\n",
        "Processing lenders file 124/1614 ..."
       ]
      },
      {
       "output_type": "stream",
       "stream": "stdout",
       "text": [
        " done\r\n",
        "Processing lenders file 125/1614 ..."
       ]
      },
      {
       "output_type": "stream",
       "stream": "stdout",
       "text": [
        " done\r\n",
        "Processing lenders file 126/1614 ..."
       ]
      },
      {
       "output_type": "stream",
       "stream": "stdout",
       "text": [
        " done\r\n",
        "Processing lenders file 127/1614 ..."
       ]
      },
      {
       "output_type": "stream",
       "stream": "stdout",
       "text": [
        " done\r\n",
        "Processing lenders file 128/1614 ..."
       ]
      },
      {
       "output_type": "stream",
       "stream": "stdout",
       "text": [
        " done\r\n",
        "Processing lenders file 129/1614 ..."
       ]
      },
      {
       "output_type": "stream",
       "stream": "stdout",
       "text": [
        " done\r\n",
        "Processing lenders file 130/1614 ..."
       ]
      },
      {
       "output_type": "stream",
       "stream": "stdout",
       "text": [
        " done\r\n",
        "Processing lenders file 131/1614 ..."
       ]
      },
      {
       "output_type": "stream",
       "stream": "stdout",
       "text": [
        " done\r\n",
        "Processing lenders file 132/1614 ..."
       ]
      },
      {
       "output_type": "stream",
       "stream": "stdout",
       "text": [
        " done\r\n",
        "Processing lenders file 133/1614 ..."
       ]
      },
      {
       "output_type": "stream",
       "stream": "stdout",
       "text": [
        " done\r\n",
        "Processing lenders file 134/1614 ..."
       ]
      },
      {
       "output_type": "stream",
       "stream": "stdout",
       "text": [
        " done\r\n",
        "Processing lenders file 135/1614 ..."
       ]
      },
      {
       "output_type": "stream",
       "stream": "stdout",
       "text": [
        " done\r\n",
        "Processing lenders file 136/1614 ..."
       ]
      },
      {
       "output_type": "stream",
       "stream": "stdout",
       "text": [
        " done\r\n",
        "Processing lenders file 137/1614 ..."
       ]
      },
      {
       "output_type": "stream",
       "stream": "stdout",
       "text": [
        " done\r\n",
        "Processing lenders file 138/1614 ..."
       ]
      },
      {
       "output_type": "stream",
       "stream": "stdout",
       "text": [
        " done\r\n",
        "Processing lenders file 139/1614 ..."
       ]
      },
      {
       "output_type": "stream",
       "stream": "stdout",
       "text": [
        " done\r\n",
        "Processing lenders file 140/1614 ..."
       ]
      },
      {
       "output_type": "stream",
       "stream": "stdout",
       "text": [
        " done\r\n",
        "Processing lenders file 141/1614 ..."
       ]
      },
      {
       "output_type": "stream",
       "stream": "stdout",
       "text": [
        " done\r\n",
        "Processing lenders file 142/1614 ..."
       ]
      },
      {
       "output_type": "stream",
       "stream": "stdout",
       "text": [
        " done\r\n",
        "Processing lenders file 143/1614 ..."
       ]
      },
      {
       "output_type": "stream",
       "stream": "stdout",
       "text": [
        " done\r\n",
        "Processing lenders file 144/1614 ..."
       ]
      },
      {
       "output_type": "stream",
       "stream": "stdout",
       "text": [
        " done\r\n",
        "Processing lenders file 145/1614 ..."
       ]
      },
      {
       "output_type": "stream",
       "stream": "stdout",
       "text": [
        " done\r\n",
        "Processing lenders file 146/1614 ..."
       ]
      },
      {
       "output_type": "stream",
       "stream": "stdout",
       "text": [
        " done\r\n",
        "Processing lenders file 147/1614 ..."
       ]
      },
      {
       "output_type": "stream",
       "stream": "stdout",
       "text": [
        " done\r\n",
        "Processing lenders file 148/1614 ..."
       ]
      },
      {
       "output_type": "stream",
       "stream": "stdout",
       "text": [
        " done\r\n",
        "Processing lenders file 149/1614 ..."
       ]
      },
      {
       "output_type": "stream",
       "stream": "stdout",
       "text": [
        " done\r\n",
        "Processing lenders file 150/1614 ..."
       ]
      },
      {
       "output_type": "stream",
       "stream": "stdout",
       "text": [
        " done\r\n",
        "Processing lenders file 151/1614 ..."
       ]
      },
      {
       "output_type": "stream",
       "stream": "stdout",
       "text": [
        " done\r\n",
        "Processing lenders file 152/1614 ..."
       ]
      },
      {
       "output_type": "stream",
       "stream": "stdout",
       "text": [
        " done\r\n",
        "Processing lenders file 153/1614 ..."
       ]
      },
      {
       "output_type": "stream",
       "stream": "stdout",
       "text": [
        " done\r\n",
        "Processing lenders file 154/1614 ..."
       ]
      },
      {
       "output_type": "stream",
       "stream": "stdout",
       "text": [
        " done\r\n",
        "Processing lenders file 155/1614 ..."
       ]
      },
      {
       "output_type": "stream",
       "stream": "stdout",
       "text": [
        " done\r\n",
        "Processing lenders file 156/1614 ..."
       ]
      },
      {
       "output_type": "stream",
       "stream": "stdout",
       "text": [
        " done\r\n",
        "Processing lenders file 157/1614 ..."
       ]
      },
      {
       "output_type": "stream",
       "stream": "stdout",
       "text": [
        " done\r\n",
        "Processing lenders file 158/1614 ..."
       ]
      },
      {
       "output_type": "stream",
       "stream": "stdout",
       "text": [
        " done\r\n",
        "Processing lenders file 159/1614 ..."
       ]
      },
      {
       "output_type": "stream",
       "stream": "stdout",
       "text": [
        " done\r\n",
        "Processing lenders file 160/1614 ..."
       ]
      },
      {
       "output_type": "stream",
       "stream": "stdout",
       "text": [
        " done\r\n",
        "Processing lenders file 161/1614 ..."
       ]
      },
      {
       "output_type": "stream",
       "stream": "stdout",
       "text": [
        " done\r\n",
        "Processing lenders file 162/1614 ..."
       ]
      },
      {
       "output_type": "stream",
       "stream": "stdout",
       "text": [
        " done\r\n",
        "Processing lenders file 163/1614 ..."
       ]
      },
      {
       "output_type": "stream",
       "stream": "stdout",
       "text": [
        " done\r\n",
        "Processing lenders file 164/1614 ..."
       ]
      },
      {
       "output_type": "stream",
       "stream": "stdout",
       "text": [
        " done\r\n",
        "Processing lenders file 165/1614 ..."
       ]
      },
      {
       "output_type": "stream",
       "stream": "stdout",
       "text": [
        " done\r\n",
        "Processing lenders file 166/1614 ..."
       ]
      },
      {
       "output_type": "stream",
       "stream": "stdout",
       "text": [
        " done\r\n",
        "Processing lenders file 167/1614 ..."
       ]
      },
      {
       "output_type": "stream",
       "stream": "stdout",
       "text": [
        " done\r\n",
        "Processing lenders file 168/1614 ..."
       ]
      },
      {
       "output_type": "stream",
       "stream": "stdout",
       "text": [
        " done\r\n",
        "Processing lenders file 169/1614 ..."
       ]
      },
      {
       "output_type": "stream",
       "stream": "stdout",
       "text": [
        " done\r\n",
        "Processing lenders file 170/1614 ..."
       ]
      },
      {
       "output_type": "stream",
       "stream": "stdout",
       "text": [
        " done\r\n",
        "Processing lenders file 171/1614 ..."
       ]
      },
      {
       "output_type": "stream",
       "stream": "stdout",
       "text": [
        " done\r\n",
        "Processing lenders file 172/1614 ..."
       ]
      },
      {
       "output_type": "stream",
       "stream": "stdout",
       "text": [
        " done\r\n",
        "Processing lenders file 173/1614 ..."
       ]
      },
      {
       "output_type": "stream",
       "stream": "stdout",
       "text": [
        " done\r\n",
        "Processing lenders file 174/1614 ..."
       ]
      },
      {
       "output_type": "stream",
       "stream": "stdout",
       "text": [
        " done\r\n",
        "Processing lenders file 175/1614 ..."
       ]
      },
      {
       "output_type": "stream",
       "stream": "stdout",
       "text": [
        " done\r\n",
        "Processing lenders file 176/1614 ..."
       ]
      },
      {
       "output_type": "stream",
       "stream": "stdout",
       "text": [
        " done\r\n",
        "Processing lenders file 177/1614 ..."
       ]
      },
      {
       "output_type": "stream",
       "stream": "stdout",
       "text": [
        " done\r\n",
        "Processing lenders file 178/1614 ..."
       ]
      },
      {
       "output_type": "stream",
       "stream": "stdout",
       "text": [
        " done\r\n",
        "Processing lenders file 179/1614 ..."
       ]
      },
      {
       "output_type": "stream",
       "stream": "stdout",
       "text": [
        " done\r\n",
        "Processing lenders file 180/1614 ..."
       ]
      },
      {
       "output_type": "stream",
       "stream": "stdout",
       "text": [
        " done\r\n",
        "Processing lenders file 181/1614 ..."
       ]
      },
      {
       "output_type": "stream",
       "stream": "stdout",
       "text": [
        " done\r\n",
        "Processing lenders file 182/1614 ..."
       ]
      },
      {
       "output_type": "stream",
       "stream": "stdout",
       "text": [
        " done\r\n",
        "Processing lenders file 183/1614 ..."
       ]
      },
      {
       "output_type": "stream",
       "stream": "stdout",
       "text": [
        " done\r\n",
        "Processing lenders file 184/1614 ..."
       ]
      },
      {
       "output_type": "stream",
       "stream": "stdout",
       "text": [
        " done\r\n",
        "Processing lenders file 185/1614 ..."
       ]
      },
      {
       "output_type": "stream",
       "stream": "stdout",
       "text": [
        " done\r\n",
        "Processing lenders file 186/1614 ..."
       ]
      },
      {
       "output_type": "stream",
       "stream": "stdout",
       "text": [
        " done\r\n",
        "Processing lenders file 187/1614 ..."
       ]
      },
      {
       "output_type": "stream",
       "stream": "stdout",
       "text": [
        " done\r\n",
        "Processing lenders file 188/1614 ..."
       ]
      },
      {
       "output_type": "stream",
       "stream": "stdout",
       "text": [
        " done\r\n",
        "Processing lenders file 189/1614 ..."
       ]
      },
      {
       "output_type": "stream",
       "stream": "stdout",
       "text": [
        " done\r\n",
        "Processing lenders file 190/1614 ..."
       ]
      },
      {
       "output_type": "stream",
       "stream": "stdout",
       "text": [
        " done\r\n",
        "Processing lenders file 191/1614 ..."
       ]
      },
      {
       "output_type": "stream",
       "stream": "stdout",
       "text": [
        " done\r\n",
        "Processing lenders file 192/1614 ..."
       ]
      },
      {
       "output_type": "stream",
       "stream": "stdout",
       "text": [
        " done\r\n",
        "Processing lenders file 193/1614 ..."
       ]
      },
      {
       "output_type": "stream",
       "stream": "stdout",
       "text": [
        " done\r\n",
        "Processing lenders file 194/1614 ..."
       ]
      },
      {
       "output_type": "stream",
       "stream": "stdout",
       "text": [
        " done\r\n",
        "Processing lenders file 195/1614 ..."
       ]
      },
      {
       "output_type": "stream",
       "stream": "stdout",
       "text": [
        " done\r\n",
        "Processing lenders file 196/1614 ..."
       ]
      },
      {
       "output_type": "stream",
       "stream": "stdout",
       "text": [
        " done\r\n",
        "Processing lenders file 197/1614 ..."
       ]
      },
      {
       "output_type": "stream",
       "stream": "stdout",
       "text": [
        " done\r\n",
        "Processing lenders file 198/1614 ..."
       ]
      },
      {
       "output_type": "stream",
       "stream": "stdout",
       "text": [
        " done\r\n",
        "Processing lenders file 199/1614 ..."
       ]
      },
      {
       "output_type": "stream",
       "stream": "stdout",
       "text": [
        " done\r\n",
        "Processing lenders file 200/1614 ..."
       ]
      },
      {
       "output_type": "stream",
       "stream": "stdout",
       "text": [
        " done\r\n",
        "Processing lenders file 201/1614 ..."
       ]
      },
      {
       "output_type": "stream",
       "stream": "stdout",
       "text": [
        " done\r\n",
        "Processing lenders file 202/1614 ..."
       ]
      },
      {
       "output_type": "stream",
       "stream": "stdout",
       "text": [
        " done\r\n",
        "Processing lenders file 203/1614 ..."
       ]
      },
      {
       "output_type": "stream",
       "stream": "stdout",
       "text": [
        " done\r\n",
        "Processing lenders file 204/1614 ..."
       ]
      },
      {
       "output_type": "stream",
       "stream": "stdout",
       "text": [
        " done\r\n",
        "Processing lenders file 205/1614 ..."
       ]
      },
      {
       "output_type": "stream",
       "stream": "stdout",
       "text": [
        " done\r\n",
        "Processing lenders file 206/1614 ..."
       ]
      },
      {
       "output_type": "stream",
       "stream": "stdout",
       "text": [
        " done\r\n",
        "Processing lenders file 207/1614 ..."
       ]
      },
      {
       "output_type": "stream",
       "stream": "stdout",
       "text": [
        " done\r\n",
        "Processing lenders file 208/1614 ..."
       ]
      },
      {
       "output_type": "stream",
       "stream": "stdout",
       "text": [
        " done\r\n",
        "Processing lenders file 209/1614 ..."
       ]
      },
      {
       "output_type": "stream",
       "stream": "stdout",
       "text": [
        " done\r\n",
        "Processing lenders file 210/1614 ..."
       ]
      },
      {
       "output_type": "stream",
       "stream": "stdout",
       "text": [
        " done\r\n",
        "Processing lenders file 211/1614 ..."
       ]
      },
      {
       "output_type": "stream",
       "stream": "stdout",
       "text": [
        " done\r\n",
        "Processing lenders file 212/1614 ..."
       ]
      },
      {
       "output_type": "stream",
       "stream": "stdout",
       "text": [
        " done\r\n",
        "Processing lenders file 213/1614 ..."
       ]
      },
      {
       "output_type": "stream",
       "stream": "stdout",
       "text": [
        " done\r\n",
        "Processing lenders file 214/1614 ..."
       ]
      },
      {
       "output_type": "stream",
       "stream": "stdout",
       "text": [
        " done\r\n",
        "Processing lenders file 215/1614 ..."
       ]
      },
      {
       "output_type": "stream",
       "stream": "stdout",
       "text": [
        " done\r\n",
        "Processing lenders file 216/1614 ..."
       ]
      },
      {
       "output_type": "stream",
       "stream": "stdout",
       "text": [
        " done\r\n",
        "Processing lenders file 217/1614 ..."
       ]
      },
      {
       "output_type": "stream",
       "stream": "stdout",
       "text": [
        " done\r\n",
        "Processing lenders file 218/1614 ..."
       ]
      },
      {
       "output_type": "stream",
       "stream": "stdout",
       "text": [
        " done\r\n",
        "Processing lenders file 219/1614 ..."
       ]
      },
      {
       "output_type": "stream",
       "stream": "stdout",
       "text": [
        " done\r\n",
        "Processing lenders file 220/1614 ..."
       ]
      },
      {
       "output_type": "stream",
       "stream": "stdout",
       "text": [
        " done\r\n",
        "Processing lenders file 221/1614 ..."
       ]
      },
      {
       "output_type": "stream",
       "stream": "stdout",
       "text": [
        " done\r\n",
        "Processing lenders file 222/1614 ..."
       ]
      },
      {
       "output_type": "stream",
       "stream": "stdout",
       "text": [
        " done\r\n",
        "Processing lenders file 223/1614 ..."
       ]
      },
      {
       "output_type": "stream",
       "stream": "stdout",
       "text": [
        " done\r\n",
        "Processing lenders file 224/1614 ..."
       ]
      },
      {
       "output_type": "stream",
       "stream": "stdout",
       "text": [
        " done\r\n",
        "Processing lenders file 225/1614 ..."
       ]
      },
      {
       "output_type": "stream",
       "stream": "stdout",
       "text": [
        " done\r\n",
        "Processing lenders file 226/1614 ..."
       ]
      },
      {
       "output_type": "stream",
       "stream": "stdout",
       "text": [
        " done\r\n",
        "Processing lenders file 227/1614 ..."
       ]
      },
      {
       "output_type": "stream",
       "stream": "stdout",
       "text": [
        " done\r\n",
        "Processing lenders file 228/1614 ..."
       ]
      },
      {
       "output_type": "stream",
       "stream": "stdout",
       "text": [
        " done\r\n",
        "Processing lenders file 229/1614 ..."
       ]
      },
      {
       "output_type": "stream",
       "stream": "stdout",
       "text": [
        " done\r\n",
        "Processing lenders file 230/1614 ..."
       ]
      },
      {
       "output_type": "stream",
       "stream": "stdout",
       "text": [
        " done\r\n",
        "Processing lenders file 231/1614 ..."
       ]
      },
      {
       "output_type": "stream",
       "stream": "stdout",
       "text": [
        " done\r\n",
        "Processing lenders file 232/1614 ..."
       ]
      },
      {
       "output_type": "stream",
       "stream": "stdout",
       "text": [
        " done\r\n",
        "Processing lenders file 233/1614 ..."
       ]
      },
      {
       "output_type": "stream",
       "stream": "stdout",
       "text": [
        " done\r\n",
        "Processing lenders file 234/1614 ..."
       ]
      },
      {
       "output_type": "stream",
       "stream": "stdout",
       "text": [
        " done\r\n",
        "Processing lenders file 235/1614 ..."
       ]
      },
      {
       "output_type": "stream",
       "stream": "stdout",
       "text": [
        " done\r\n",
        "Processing lenders file 236/1614 ..."
       ]
      },
      {
       "output_type": "stream",
       "stream": "stdout",
       "text": [
        " done\r\n",
        "Processing lenders file 237/1614 ..."
       ]
      },
      {
       "output_type": "stream",
       "stream": "stdout",
       "text": [
        " done\r\n",
        "Processing lenders file 238/1614 ..."
       ]
      },
      {
       "output_type": "stream",
       "stream": "stdout",
       "text": [
        " done\r\n",
        "Processing lenders file 239/1614 ..."
       ]
      },
      {
       "output_type": "stream",
       "stream": "stdout",
       "text": [
        " done\r\n",
        "Processing lenders file 240/1614 ..."
       ]
      },
      {
       "output_type": "stream",
       "stream": "stdout",
       "text": [
        " done\r\n",
        "Processing lenders file 241/1614 ..."
       ]
      },
      {
       "output_type": "stream",
       "stream": "stdout",
       "text": [
        " done\r\n",
        "Processing lenders file 242/1614 ..."
       ]
      },
      {
       "output_type": "stream",
       "stream": "stdout",
       "text": [
        " done\r\n",
        "Processing lenders file 243/1614 ..."
       ]
      },
      {
       "output_type": "stream",
       "stream": "stdout",
       "text": [
        " done\r\n",
        "Processing lenders file 244/1614 ..."
       ]
      },
      {
       "output_type": "stream",
       "stream": "stdout",
       "text": [
        " done\r\n",
        "Processing lenders file 245/1614 ..."
       ]
      },
      {
       "output_type": "stream",
       "stream": "stdout",
       "text": [
        " done\r\n",
        "Processing lenders file 246/1614 ..."
       ]
      },
      {
       "output_type": "stream",
       "stream": "stdout",
       "text": [
        " done\r\n",
        "Processing lenders file 247/1614 ..."
       ]
      },
      {
       "output_type": "stream",
       "stream": "stdout",
       "text": [
        " done\r\n",
        "Processing lenders file 248/1614 ..."
       ]
      },
      {
       "output_type": "stream",
       "stream": "stdout",
       "text": [
        " done\r\n",
        "Processing lenders file 249/1614 ..."
       ]
      },
      {
       "output_type": "stream",
       "stream": "stdout",
       "text": [
        " done\r\n",
        "Processing lenders file 250/1614 ..."
       ]
      },
      {
       "output_type": "stream",
       "stream": "stdout",
       "text": [
        " done\r\n",
        "Processing lenders file 251/1614 ..."
       ]
      },
      {
       "output_type": "stream",
       "stream": "stdout",
       "text": [
        " done\r\n",
        "Processing lenders file 252/1614 ..."
       ]
      },
      {
       "output_type": "stream",
       "stream": "stdout",
       "text": [
        " done\r\n",
        "Processing lenders file 253/1614 ..."
       ]
      },
      {
       "output_type": "stream",
       "stream": "stdout",
       "text": [
        " done\r\n",
        "Processing lenders file 254/1614 ..."
       ]
      },
      {
       "output_type": "stream",
       "stream": "stdout",
       "text": [
        " done\r\n",
        "Processing lenders file 255/1614 ..."
       ]
      },
      {
       "output_type": "stream",
       "stream": "stdout",
       "text": [
        " done\r\n",
        "Processing lenders file 256/1614 ..."
       ]
      },
      {
       "output_type": "stream",
       "stream": "stdout",
       "text": [
        " done\r\n",
        "Processing lenders file 257/1614 ..."
       ]
      },
      {
       "output_type": "stream",
       "stream": "stdout",
       "text": [
        " done\r\n",
        "Processing lenders file 258/1614 ..."
       ]
      },
      {
       "output_type": "stream",
       "stream": "stdout",
       "text": [
        " done\r\n",
        "Processing lenders file 259/1614 ..."
       ]
      },
      {
       "output_type": "stream",
       "stream": "stdout",
       "text": [
        " done\r\n",
        "Processing lenders file 260/1614 ..."
       ]
      },
      {
       "output_type": "stream",
       "stream": "stdout",
       "text": [
        " done\r\n",
        "Processing lenders file 261/1614 ..."
       ]
      },
      {
       "output_type": "stream",
       "stream": "stdout",
       "text": [
        " done\r\n",
        "Processing lenders file 262/1614 ..."
       ]
      },
      {
       "output_type": "stream",
       "stream": "stdout",
       "text": [
        " done\r\n",
        "Processing lenders file 263/1614 ..."
       ]
      },
      {
       "output_type": "stream",
       "stream": "stdout",
       "text": [
        " done\r\n",
        "Processing lenders file 264/1614 ..."
       ]
      },
      {
       "output_type": "stream",
       "stream": "stdout",
       "text": [
        " done\r\n",
        "Processing lenders file 265/1614 ..."
       ]
      },
      {
       "output_type": "stream",
       "stream": "stdout",
       "text": [
        " done\r\n",
        "Processing lenders file 266/1614 ..."
       ]
      },
      {
       "output_type": "stream",
       "stream": "stdout",
       "text": [
        " done\r\n",
        "Processing lenders file 267/1614 ..."
       ]
      },
      {
       "output_type": "stream",
       "stream": "stdout",
       "text": [
        " done\r\n",
        "Processing lenders file 268/1614 ..."
       ]
      },
      {
       "output_type": "stream",
       "stream": "stdout",
       "text": [
        " done\r\n",
        "Processing lenders file 269/1614 ..."
       ]
      },
      {
       "output_type": "stream",
       "stream": "stdout",
       "text": [
        " done\r\n",
        "Processing lenders file 270/1614 ..."
       ]
      },
      {
       "output_type": "stream",
       "stream": "stdout",
       "text": [
        " done\r\n",
        "Processing lenders file 271/1614 ..."
       ]
      },
      {
       "output_type": "stream",
       "stream": "stdout",
       "text": [
        " done\r\n",
        "Processing lenders file 272/1614 ..."
       ]
      },
      {
       "output_type": "stream",
       "stream": "stdout",
       "text": [
        " done\r\n",
        "Processing lenders file 273/1614 ..."
       ]
      },
      {
       "output_type": "stream",
       "stream": "stdout",
       "text": [
        " done\r\n",
        "Processing lenders file 274/1614 ..."
       ]
      },
      {
       "output_type": "stream",
       "stream": "stdout",
       "text": [
        " done\r\n",
        "Processing lenders file 275/1614 ..."
       ]
      },
      {
       "output_type": "stream",
       "stream": "stdout",
       "text": [
        " done\r\n",
        "Processing lenders file 276/1614 ..."
       ]
      },
      {
       "output_type": "stream",
       "stream": "stdout",
       "text": [
        " done\r\n",
        "Processing lenders file 277/1614 ..."
       ]
      },
      {
       "output_type": "stream",
       "stream": "stdout",
       "text": [
        " done\r\n",
        "Processing lenders file 278/1614 ..."
       ]
      },
      {
       "output_type": "stream",
       "stream": "stdout",
       "text": [
        " done\r\n",
        "Processing lenders file 279/1614 ..."
       ]
      },
      {
       "output_type": "stream",
       "stream": "stdout",
       "text": [
        " done\r\n",
        "Processing lenders file 280/1614 ..."
       ]
      },
      {
       "output_type": "stream",
       "stream": "stdout",
       "text": [
        " done\r\n",
        "Processing lenders file 281/1614 ..."
       ]
      },
      {
       "output_type": "stream",
       "stream": "stdout",
       "text": [
        " done\r\n",
        "Processing lenders file 282/1614 ..."
       ]
      },
      {
       "output_type": "stream",
       "stream": "stdout",
       "text": [
        " done\r\n",
        "Processing lenders file 283/1614 ..."
       ]
      },
      {
       "output_type": "stream",
       "stream": "stdout",
       "text": [
        " done\r\n",
        "Processing lenders file 284/1614 ..."
       ]
      },
      {
       "output_type": "stream",
       "stream": "stdout",
       "text": [
        " done\r\n",
        "Processing lenders file 285/1614 ..."
       ]
      },
      {
       "output_type": "stream",
       "stream": "stdout",
       "text": [
        " done\r\n",
        "Processing lenders file 286/1614 ..."
       ]
      },
      {
       "output_type": "stream",
       "stream": "stdout",
       "text": [
        " done\r\n",
        "Processing lenders file 287/1614 ..."
       ]
      },
      {
       "output_type": "stream",
       "stream": "stdout",
       "text": [
        " done\r\n",
        "Processing lenders file 288/1614 ..."
       ]
      },
      {
       "output_type": "stream",
       "stream": "stdout",
       "text": [
        " done\r\n",
        "Processing lenders file 289/1614 ..."
       ]
      },
      {
       "output_type": "stream",
       "stream": "stdout",
       "text": [
        " done\r\n",
        "Processing lenders file 290/1614 ..."
       ]
      },
      {
       "output_type": "stream",
       "stream": "stdout",
       "text": [
        " done\r\n",
        "Processing lenders file 291/1614 ..."
       ]
      },
      {
       "output_type": "stream",
       "stream": "stdout",
       "text": [
        " done\r\n",
        "Processing lenders file 292/1614 ..."
       ]
      },
      {
       "output_type": "stream",
       "stream": "stdout",
       "text": [
        " done\r\n",
        "Processing lenders file 293/1614 ..."
       ]
      },
      {
       "output_type": "stream",
       "stream": "stdout",
       "text": [
        " done\r\n",
        "Processing lenders file 294/1614 ..."
       ]
      },
      {
       "output_type": "stream",
       "stream": "stdout",
       "text": [
        " done\r\n",
        "Processing lenders file 295/1614 ..."
       ]
      },
      {
       "output_type": "stream",
       "stream": "stdout",
       "text": [
        " done\r\n",
        "Processing lenders file 296/1614 ..."
       ]
      },
      {
       "output_type": "stream",
       "stream": "stdout",
       "text": [
        " done\r\n",
        "Processing lenders file 297/1614 ..."
       ]
      },
      {
       "output_type": "stream",
       "stream": "stdout",
       "text": [
        " done\r\n",
        "Processing lenders file 298/1614 ..."
       ]
      },
      {
       "output_type": "stream",
       "stream": "stdout",
       "text": [
        " done\r\n",
        "Processing lenders file 299/1614 ..."
       ]
      },
      {
       "output_type": "stream",
       "stream": "stdout",
       "text": [
        " done\r\n",
        "Processing lenders file 300/1614 ..."
       ]
      },
      {
       "output_type": "stream",
       "stream": "stdout",
       "text": [
        " done\r\n",
        "Processing lenders file 301/1614 ..."
       ]
      },
      {
       "output_type": "stream",
       "stream": "stdout",
       "text": [
        " done\r\n",
        "Processing lenders file 302/1614 ..."
       ]
      },
      {
       "output_type": "stream",
       "stream": "stdout",
       "text": [
        " done\r\n",
        "Processing lenders file 303/1614 ..."
       ]
      },
      {
       "output_type": "stream",
       "stream": "stdout",
       "text": [
        " done\r\n",
        "Processing lenders file 304/1614 ..."
       ]
      },
      {
       "output_type": "stream",
       "stream": "stdout",
       "text": [
        " done\r\n",
        "Processing lenders file 305/1614 ..."
       ]
      },
      {
       "output_type": "stream",
       "stream": "stdout",
       "text": [
        " done\r\n",
        "Processing lenders file 306/1614 ..."
       ]
      },
      {
       "output_type": "stream",
       "stream": "stdout",
       "text": [
        " done\r\n",
        "Processing lenders file 307/1614 ..."
       ]
      },
      {
       "output_type": "stream",
       "stream": "stdout",
       "text": [
        " done\r\n",
        "Processing lenders file 308/1614 ..."
       ]
      },
      {
       "output_type": "stream",
       "stream": "stdout",
       "text": [
        " done\r\n",
        "Processing lenders file 309/1614 ..."
       ]
      },
      {
       "output_type": "stream",
       "stream": "stdout",
       "text": [
        " done\r\n",
        "Processing lenders file 310/1614 ..."
       ]
      },
      {
       "output_type": "stream",
       "stream": "stdout",
       "text": [
        " done\r\n",
        "Processing lenders file 311/1614 ..."
       ]
      },
      {
       "output_type": "stream",
       "stream": "stdout",
       "text": [
        " done\r\n",
        "Processing lenders file 312/1614 ..."
       ]
      },
      {
       "output_type": "stream",
       "stream": "stdout",
       "text": [
        " done\r\n",
        "Processing lenders file 313/1614 ..."
       ]
      },
      {
       "output_type": "stream",
       "stream": "stdout",
       "text": [
        " done\r\n",
        "Processing lenders file 314/1614 ..."
       ]
      },
      {
       "output_type": "stream",
       "stream": "stdout",
       "text": [
        " done\r\n",
        "Processing lenders file 315/1614 ..."
       ]
      },
      {
       "output_type": "stream",
       "stream": "stdout",
       "text": [
        " done\r\n",
        "Processing lenders file 316/1614 ..."
       ]
      },
      {
       "output_type": "stream",
       "stream": "stdout",
       "text": [
        " done\r\n",
        "Processing lenders file 317/1614 ..."
       ]
      },
      {
       "output_type": "stream",
       "stream": "stdout",
       "text": [
        " done\r\n",
        "Processing lenders file 318/1614 ..."
       ]
      },
      {
       "output_type": "stream",
       "stream": "stdout",
       "text": [
        " done\r\n",
        "Processing lenders file 319/1614 ..."
       ]
      },
      {
       "output_type": "stream",
       "stream": "stdout",
       "text": [
        " done\r\n",
        "Processing lenders file 320/1614 ..."
       ]
      },
      {
       "output_type": "stream",
       "stream": "stdout",
       "text": [
        " done\r\n",
        "Processing lenders file 321/1614 ..."
       ]
      },
      {
       "output_type": "stream",
       "stream": "stdout",
       "text": [
        " done\r\n",
        "Processing lenders file 322/1614 ..."
       ]
      },
      {
       "output_type": "stream",
       "stream": "stdout",
       "text": [
        " done\r\n",
        "Processing lenders file 323/1614 ..."
       ]
      },
      {
       "output_type": "stream",
       "stream": "stdout",
       "text": [
        " done\r\n",
        "Processing lenders file 324/1614 ..."
       ]
      },
      {
       "output_type": "stream",
       "stream": "stdout",
       "text": [
        " done\r\n",
        "Processing lenders file 325/1614 ..."
       ]
      },
      {
       "output_type": "stream",
       "stream": "stdout",
       "text": [
        " done\r\n",
        "Processing lenders file 326/1614 ..."
       ]
      },
      {
       "output_type": "stream",
       "stream": "stdout",
       "text": [
        " done\r\n",
        "Processing lenders file 327/1614 ..."
       ]
      },
      {
       "output_type": "stream",
       "stream": "stdout",
       "text": [
        " done\r\n",
        "Processing lenders file 328/1614 ..."
       ]
      },
      {
       "output_type": "stream",
       "stream": "stdout",
       "text": [
        " done\r\n",
        "Processing lenders file 329/1614 ..."
       ]
      },
      {
       "output_type": "stream",
       "stream": "stdout",
       "text": [
        " done\r\n",
        "Processing lenders file 330/1614 ..."
       ]
      },
      {
       "output_type": "stream",
       "stream": "stdout",
       "text": [
        " done\r\n",
        "Processing lenders file 331/1614 ..."
       ]
      },
      {
       "output_type": "stream",
       "stream": "stdout",
       "text": [
        " done\r\n",
        "Processing lenders file 332/1614 ..."
       ]
      },
      {
       "output_type": "stream",
       "stream": "stdout",
       "text": [
        " done\r\n",
        "Processing lenders file 333/1614 ..."
       ]
      },
      {
       "output_type": "stream",
       "stream": "stdout",
       "text": [
        " done\r\n",
        "Processing lenders file 334/1614 ..."
       ]
      },
      {
       "output_type": "stream",
       "stream": "stdout",
       "text": [
        " done\r\n",
        "Processing lenders file 335/1614 ..."
       ]
      },
      {
       "output_type": "stream",
       "stream": "stdout",
       "text": [
        " done\r\n",
        "Processing lenders file 336/1614 ..."
       ]
      },
      {
       "output_type": "stream",
       "stream": "stdout",
       "text": [
        " done\r\n",
        "Processing lenders file 337/1614 ..."
       ]
      },
      {
       "output_type": "stream",
       "stream": "stdout",
       "text": [
        " done\r\n",
        "Processing lenders file 338/1614 ..."
       ]
      },
      {
       "output_type": "stream",
       "stream": "stdout",
       "text": [
        " done\r\n",
        "Processing lenders file 339/1614 ..."
       ]
      },
      {
       "output_type": "stream",
       "stream": "stdout",
       "text": [
        " done\r\n",
        "Processing lenders file 340/1614 ..."
       ]
      },
      {
       "output_type": "stream",
       "stream": "stdout",
       "text": [
        " done\r\n",
        "Processing lenders file 341/1614 ..."
       ]
      },
      {
       "output_type": "stream",
       "stream": "stdout",
       "text": [
        " done\r\n",
        "Processing lenders file 342/1614 ..."
       ]
      },
      {
       "output_type": "stream",
       "stream": "stdout",
       "text": [
        " done\r\n",
        "Processing lenders file 343/1614 ..."
       ]
      },
      {
       "output_type": "stream",
       "stream": "stdout",
       "text": [
        " done\r\n",
        "Processing lenders file 344/1614 ..."
       ]
      },
      {
       "output_type": "stream",
       "stream": "stdout",
       "text": [
        " done\r\n",
        "Processing lenders file 345/1614 ..."
       ]
      },
      {
       "output_type": "stream",
       "stream": "stdout",
       "text": [
        " done\r\n",
        "Processing lenders file 346/1614 ..."
       ]
      },
      {
       "output_type": "stream",
       "stream": "stdout",
       "text": [
        " done\r\n",
        "Processing lenders file 347/1614 ..."
       ]
      },
      {
       "output_type": "stream",
       "stream": "stdout",
       "text": [
        " done\r\n",
        "Processing lenders file 348/1614 ..."
       ]
      },
      {
       "output_type": "stream",
       "stream": "stdout",
       "text": [
        " done\r\n",
        "Processing lenders file 349/1614 ..."
       ]
      },
      {
       "output_type": "stream",
       "stream": "stdout",
       "text": [
        " done\r\n",
        "Processing lenders file 350/1614 ..."
       ]
      },
      {
       "output_type": "stream",
       "stream": "stdout",
       "text": [
        " done\r\n",
        "Processing lenders file 351/1614 ..."
       ]
      },
      {
       "output_type": "stream",
       "stream": "stdout",
       "text": [
        " done\r\n",
        "Processing lenders file 352/1614 ..."
       ]
      },
      {
       "output_type": "stream",
       "stream": "stdout",
       "text": [
        " done\r\n",
        "Processing lenders file 353/1614 ..."
       ]
      },
      {
       "output_type": "stream",
       "stream": "stdout",
       "text": [
        " done\r\n",
        "Processing lenders file 354/1614 ..."
       ]
      },
      {
       "output_type": "stream",
       "stream": "stdout",
       "text": [
        " done\r\n",
        "Processing lenders file 355/1614 ..."
       ]
      },
      {
       "output_type": "stream",
       "stream": "stdout",
       "text": [
        " done\r\n",
        "Processing lenders file 356/1614 ..."
       ]
      },
      {
       "output_type": "stream",
       "stream": "stdout",
       "text": [
        " done\r\n",
        "Processing lenders file 357/1614 ..."
       ]
      },
      {
       "output_type": "stream",
       "stream": "stdout",
       "text": [
        " done\r\n",
        "Processing lenders file 358/1614 ..."
       ]
      },
      {
       "output_type": "stream",
       "stream": "stdout",
       "text": [
        " done\r\n",
        "Processing lenders file 359/1614 ..."
       ]
      },
      {
       "output_type": "stream",
       "stream": "stdout",
       "text": [
        " done\r\n",
        "Processing lenders file 360/1614 ..."
       ]
      },
      {
       "output_type": "stream",
       "stream": "stdout",
       "text": [
        " done\r\n",
        "Processing lenders file 361/1614 ..."
       ]
      },
      {
       "output_type": "stream",
       "stream": "stdout",
       "text": [
        " done\r\n",
        "Processing lenders file 362/1614 ..."
       ]
      },
      {
       "output_type": "stream",
       "stream": "stdout",
       "text": [
        " done\r\n",
        "Processing lenders file 363/1614 ..."
       ]
      },
      {
       "output_type": "stream",
       "stream": "stdout",
       "text": [
        " done\r\n",
        "Processing lenders file 364/1614 ..."
       ]
      },
      {
       "output_type": "stream",
       "stream": "stdout",
       "text": [
        " done\r\n",
        "Processing lenders file 365/1614 ..."
       ]
      },
      {
       "output_type": "stream",
       "stream": "stdout",
       "text": [
        " done\r\n",
        "Processing lenders file 366/1614 ..."
       ]
      },
      {
       "output_type": "stream",
       "stream": "stdout",
       "text": [
        " done\r\n",
        "Processing lenders file 367/1614 ..."
       ]
      },
      {
       "output_type": "stream",
       "stream": "stdout",
       "text": [
        " done\r\n",
        "Processing lenders file 368/1614 ..."
       ]
      },
      {
       "output_type": "stream",
       "stream": "stdout",
       "text": [
        " done\r\n",
        "Processing lenders file 369/1614 ..."
       ]
      },
      {
       "output_type": "stream",
       "stream": "stdout",
       "text": [
        " done\r\n",
        "Processing lenders file 370/1614 ..."
       ]
      },
      {
       "output_type": "stream",
       "stream": "stdout",
       "text": [
        " done\r\n",
        "Processing lenders file 371/1614 ..."
       ]
      },
      {
       "output_type": "stream",
       "stream": "stdout",
       "text": [
        " done\r\n",
        "Processing lenders file 372/1614 ..."
       ]
      },
      {
       "output_type": "stream",
       "stream": "stdout",
       "text": [
        " done\r\n",
        "Processing lenders file 373/1614 ..."
       ]
      },
      {
       "output_type": "stream",
       "stream": "stdout",
       "text": [
        " done\r\n",
        "Processing lenders file 374/1614 ..."
       ]
      },
      {
       "output_type": "stream",
       "stream": "stdout",
       "text": [
        " done\r\n",
        "Processing lenders file 375/1614 ..."
       ]
      },
      {
       "output_type": "stream",
       "stream": "stdout",
       "text": [
        " done\r\n",
        "Processing lenders file 376/1614 ..."
       ]
      },
      {
       "output_type": "stream",
       "stream": "stdout",
       "text": [
        " done\r\n",
        "Processing lenders file 377/1614 ..."
       ]
      },
      {
       "output_type": "stream",
       "stream": "stdout",
       "text": [
        " done\r\n",
        "Processing lenders file 378/1614 ..."
       ]
      },
      {
       "output_type": "stream",
       "stream": "stdout",
       "text": [
        " done\r\n",
        "Processing lenders file 379/1614 ..."
       ]
      },
      {
       "output_type": "stream",
       "stream": "stdout",
       "text": [
        " done\r\n",
        "Processing lenders file 380/1614 ..."
       ]
      },
      {
       "output_type": "stream",
       "stream": "stdout",
       "text": [
        " done\r\n",
        "Processing lenders file 381/1614 ..."
       ]
      },
      {
       "output_type": "stream",
       "stream": "stdout",
       "text": [
        " done\r\n",
        "Processing lenders file 382/1614 ..."
       ]
      },
      {
       "output_type": "stream",
       "stream": "stdout",
       "text": [
        " done\r\n",
        "Processing lenders file 383/1614 ..."
       ]
      },
      {
       "output_type": "stream",
       "stream": "stdout",
       "text": [
        " done\r\n",
        "Processing lenders file 384/1614 ..."
       ]
      },
      {
       "output_type": "stream",
       "stream": "stdout",
       "text": [
        " done\r\n",
        "Processing lenders file 385/1614 ..."
       ]
      },
      {
       "output_type": "stream",
       "stream": "stdout",
       "text": [
        " done\r\n",
        "Processing lenders file 386/1614 ..."
       ]
      },
      {
       "output_type": "stream",
       "stream": "stdout",
       "text": [
        " done\r\n",
        "Processing lenders file 387/1614 ..."
       ]
      },
      {
       "output_type": "stream",
       "stream": "stdout",
       "text": [
        " done\r\n",
        "Processing lenders file 388/1614 ..."
       ]
      },
      {
       "output_type": "stream",
       "stream": "stdout",
       "text": [
        " done\r\n",
        "Processing lenders file 389/1614 ..."
       ]
      },
      {
       "output_type": "stream",
       "stream": "stdout",
       "text": [
        " done\r\n",
        "Processing lenders file 390/1614 ..."
       ]
      },
      {
       "output_type": "stream",
       "stream": "stdout",
       "text": [
        " done\r\n",
        "Processing lenders file 391/1614 ..."
       ]
      },
      {
       "output_type": "stream",
       "stream": "stdout",
       "text": [
        " done\r\n",
        "Processing lenders file 392/1614 ..."
       ]
      },
      {
       "output_type": "stream",
       "stream": "stdout",
       "text": [
        " done\r\n",
        "Processing lenders file 393/1614 ..."
       ]
      },
      {
       "output_type": "stream",
       "stream": "stdout",
       "text": [
        " done\r\n",
        "Processing lenders file 394/1614 ..."
       ]
      },
      {
       "output_type": "stream",
       "stream": "stdout",
       "text": [
        " done\r\n",
        "Processing lenders file 395/1614 ..."
       ]
      },
      {
       "output_type": "stream",
       "stream": "stdout",
       "text": [
        " done\r\n",
        "Processing lenders file 396/1614 ..."
       ]
      },
      {
       "output_type": "stream",
       "stream": "stdout",
       "text": [
        " done\r\n",
        "Processing lenders file 397/1614 ..."
       ]
      },
      {
       "output_type": "stream",
       "stream": "stdout",
       "text": [
        " done\r\n",
        "Processing lenders file 398/1614 ..."
       ]
      },
      {
       "output_type": "stream",
       "stream": "stdout",
       "text": [
        " done\r\n",
        "Processing lenders file 399/1614 ..."
       ]
      },
      {
       "output_type": "stream",
       "stream": "stdout",
       "text": [
        " done\r\n",
        "Processing lenders file 400/1614 ..."
       ]
      },
      {
       "output_type": "stream",
       "stream": "stdout",
       "text": [
        " done\r\n",
        "Processing lenders file 401/1614 ..."
       ]
      },
      {
       "output_type": "stream",
       "stream": "stdout",
       "text": [
        " done\r\n",
        "Processing lenders file 402/1614 ..."
       ]
      },
      {
       "output_type": "stream",
       "stream": "stdout",
       "text": [
        " done\r\n",
        "Processing lenders file 403/1614 ..."
       ]
      },
      {
       "output_type": "stream",
       "stream": "stdout",
       "text": [
        " done\r\n",
        "Processing lenders file 404/1614 ..."
       ]
      },
      {
       "output_type": "stream",
       "stream": "stdout",
       "text": [
        " done\r\n",
        "Processing lenders file 405/1614 ..."
       ]
      },
      {
       "output_type": "stream",
       "stream": "stdout",
       "text": [
        " done\r\n",
        "Processing lenders file 406/1614 ..."
       ]
      },
      {
       "output_type": "stream",
       "stream": "stdout",
       "text": [
        " done\r\n",
        "Processing lenders file 407/1614 ..."
       ]
      },
      {
       "output_type": "stream",
       "stream": "stdout",
       "text": [
        " done\r\n",
        "Processing lenders file 408/1614 ..."
       ]
      },
      {
       "output_type": "stream",
       "stream": "stdout",
       "text": [
        " done\r\n",
        "Processing lenders file 409/1614 ..."
       ]
      },
      {
       "output_type": "stream",
       "stream": "stdout",
       "text": [
        " done\r\n",
        "Processing lenders file 410/1614 ..."
       ]
      },
      {
       "output_type": "stream",
       "stream": "stdout",
       "text": [
        " done\r\n",
        "Processing lenders file 411/1614 ..."
       ]
      },
      {
       "output_type": "stream",
       "stream": "stdout",
       "text": [
        " done\r\n",
        "Processing lenders file 412/1614 ..."
       ]
      },
      {
       "output_type": "stream",
       "stream": "stdout",
       "text": [
        " done\r\n",
        "Processing lenders file 413/1614 ..."
       ]
      },
      {
       "output_type": "stream",
       "stream": "stdout",
       "text": [
        " done\r\n",
        "Processing lenders file 414/1614 ..."
       ]
      },
      {
       "output_type": "stream",
       "stream": "stdout",
       "text": [
        " done\r\n",
        "Processing lenders file 415/1614 ..."
       ]
      },
      {
       "output_type": "stream",
       "stream": "stdout",
       "text": [
        " done\r\n",
        "Processing lenders file 416/1614 ..."
       ]
      },
      {
       "output_type": "stream",
       "stream": "stdout",
       "text": [
        " done\r\n",
        "Processing lenders file 417/1614 ..."
       ]
      },
      {
       "output_type": "stream",
       "stream": "stdout",
       "text": [
        " done\r\n",
        "Processing lenders file 418/1614 ..."
       ]
      },
      {
       "output_type": "stream",
       "stream": "stdout",
       "text": [
        " done\r\n",
        "Processing lenders file 419/1614 ..."
       ]
      },
      {
       "output_type": "stream",
       "stream": "stdout",
       "text": [
        " done\r\n",
        "Processing lenders file 420/1614 ..."
       ]
      },
      {
       "output_type": "stream",
       "stream": "stdout",
       "text": [
        " done\r\n",
        "Processing lenders file 421/1614 ..."
       ]
      },
      {
       "output_type": "stream",
       "stream": "stdout",
       "text": [
        " done\r\n",
        "Processing lenders file 422/1614 ..."
       ]
      },
      {
       "output_type": "stream",
       "stream": "stdout",
       "text": [
        " done\r\n",
        "Processing lenders file 423/1614 ..."
       ]
      },
      {
       "output_type": "stream",
       "stream": "stdout",
       "text": [
        " done\r\n",
        "Processing lenders file 424/1614 ..."
       ]
      },
      {
       "output_type": "stream",
       "stream": "stdout",
       "text": [
        " done\r\n",
        "Processing lenders file 425/1614 ..."
       ]
      },
      {
       "output_type": "stream",
       "stream": "stdout",
       "text": [
        " done\r\n",
        "Processing lenders file 426/1614 ..."
       ]
      },
      {
       "output_type": "stream",
       "stream": "stdout",
       "text": [
        " done\r\n",
        "Processing lenders file 427/1614 ..."
       ]
      },
      {
       "output_type": "stream",
       "stream": "stdout",
       "text": [
        " done\r\n",
        "Processing lenders file 428/1614 ..."
       ]
      },
      {
       "output_type": "stream",
       "stream": "stdout",
       "text": [
        " done\r\n",
        "Processing lenders file 429/1614 ..."
       ]
      },
      {
       "output_type": "stream",
       "stream": "stdout",
       "text": [
        " done\r\n",
        "Processing lenders file 430/1614 ..."
       ]
      },
      {
       "output_type": "stream",
       "stream": "stdout",
       "text": [
        " done\r\n",
        "Processing lenders file 431/1614 ..."
       ]
      },
      {
       "output_type": "stream",
       "stream": "stdout",
       "text": [
        " done\r\n",
        "Processing lenders file 432/1614 ..."
       ]
      },
      {
       "output_type": "stream",
       "stream": "stdout",
       "text": [
        " done\r\n",
        "Processing lenders file 433/1614 ..."
       ]
      },
      {
       "output_type": "stream",
       "stream": "stdout",
       "text": [
        " done\r\n",
        "Processing lenders file 434/1614 ..."
       ]
      },
      {
       "output_type": "stream",
       "stream": "stdout",
       "text": [
        " done\r\n",
        "Processing lenders file 435/1614 ..."
       ]
      },
      {
       "output_type": "stream",
       "stream": "stdout",
       "text": [
        " done\r\n",
        "Processing lenders file 436/1614 ..."
       ]
      },
      {
       "output_type": "stream",
       "stream": "stdout",
       "text": [
        " done\r\n",
        "Processing lenders file 437/1614 ..."
       ]
      },
      {
       "output_type": "stream",
       "stream": "stdout",
       "text": [
        " done\r\n",
        "Processing lenders file 438/1614 ..."
       ]
      },
      {
       "output_type": "stream",
       "stream": "stdout",
       "text": [
        " done\r\n",
        "Processing lenders file 439/1614 ..."
       ]
      },
      {
       "output_type": "stream",
       "stream": "stdout",
       "text": [
        " done\r\n",
        "Processing lenders file 440/1614 ..."
       ]
      },
      {
       "output_type": "stream",
       "stream": "stdout",
       "text": [
        " done\r\n",
        "Processing lenders file 441/1614 ..."
       ]
      },
      {
       "output_type": "stream",
       "stream": "stdout",
       "text": [
        " done\r\n",
        "Processing lenders file 442/1614 ..."
       ]
      },
      {
       "output_type": "stream",
       "stream": "stdout",
       "text": [
        " done\r\n",
        "Processing lenders file 443/1614 ..."
       ]
      },
      {
       "output_type": "stream",
       "stream": "stdout",
       "text": [
        " done\r\n",
        "Processing lenders file 444/1614 ..."
       ]
      },
      {
       "output_type": "stream",
       "stream": "stdout",
       "text": [
        " done\r\n",
        "Processing lenders file 445/1614 ..."
       ]
      },
      {
       "output_type": "stream",
       "stream": "stdout",
       "text": [
        " done\r\n",
        "Processing lenders file 446/1614 ..."
       ]
      },
      {
       "output_type": "stream",
       "stream": "stdout",
       "text": [
        " done\r\n",
        "Processing lenders file 447/1614 ..."
       ]
      },
      {
       "output_type": "stream",
       "stream": "stdout",
       "text": [
        " done\r\n",
        "Processing lenders file 448/1614 ..."
       ]
      },
      {
       "output_type": "stream",
       "stream": "stdout",
       "text": [
        " done\r\n",
        "Processing lenders file 449/1614 ..."
       ]
      },
      {
       "output_type": "stream",
       "stream": "stdout",
       "text": [
        " done\r\n",
        "Processing lenders file 450/1614 ..."
       ]
      },
      {
       "output_type": "stream",
       "stream": "stdout",
       "text": [
        " done\r\n",
        "Processing lenders file 451/1614 ..."
       ]
      },
      {
       "output_type": "stream",
       "stream": "stdout",
       "text": [
        " done\r\n",
        "Processing lenders file 452/1614 ..."
       ]
      },
      {
       "output_type": "stream",
       "stream": "stdout",
       "text": [
        " done\r\n",
        "Processing lenders file 453/1614 ..."
       ]
      },
      {
       "output_type": "stream",
       "stream": "stdout",
       "text": [
        " done\r\n",
        "Processing lenders file 454/1614 ..."
       ]
      },
      {
       "output_type": "stream",
       "stream": "stdout",
       "text": [
        " done\r\n",
        "Processing lenders file 455/1614 ..."
       ]
      },
      {
       "output_type": "stream",
       "stream": "stdout",
       "text": [
        " done\r\n",
        "Processing lenders file 456/1614 ..."
       ]
      },
      {
       "output_type": "stream",
       "stream": "stdout",
       "text": [
        " done\r\n",
        "Processing lenders file 457/1614 ..."
       ]
      },
      {
       "output_type": "stream",
       "stream": "stdout",
       "text": [
        " done\r\n",
        "Processing lenders file 458/1614 ..."
       ]
      },
      {
       "output_type": "stream",
       "stream": "stdout",
       "text": [
        " done\r\n",
        "Processing lenders file 459/1614 ..."
       ]
      },
      {
       "output_type": "stream",
       "stream": "stdout",
       "text": [
        " done\r\n",
        "Processing lenders file 460/1614 ..."
       ]
      },
      {
       "output_type": "stream",
       "stream": "stdout",
       "text": [
        " done\r\n",
        "Processing lenders file 461/1614 ..."
       ]
      },
      {
       "output_type": "stream",
       "stream": "stdout",
       "text": [
        " done\r\n",
        "Processing lenders file 462/1614 ..."
       ]
      },
      {
       "output_type": "stream",
       "stream": "stdout",
       "text": [
        " done\r\n",
        "Processing lenders file 463/1614 ..."
       ]
      },
      {
       "output_type": "stream",
       "stream": "stdout",
       "text": [
        " done\r\n",
        "Processing lenders file 464/1614 ..."
       ]
      },
      {
       "output_type": "stream",
       "stream": "stdout",
       "text": [
        " done\r\n",
        "Processing lenders file 465/1614 ..."
       ]
      },
      {
       "output_type": "stream",
       "stream": "stdout",
       "text": [
        " done\r\n",
        "Processing lenders file 466/1614 ..."
       ]
      },
      {
       "output_type": "stream",
       "stream": "stdout",
       "text": [
        " done\r\n",
        "Processing lenders file 467/1614 ..."
       ]
      },
      {
       "output_type": "stream",
       "stream": "stdout",
       "text": [
        " done\r\n",
        "Processing lenders file 468/1614 ..."
       ]
      },
      {
       "output_type": "stream",
       "stream": "stdout",
       "text": [
        " done\r\n",
        "Processing lenders file 469/1614 ..."
       ]
      },
      {
       "output_type": "stream",
       "stream": "stdout",
       "text": [
        " done\r\n",
        "Processing lenders file 470/1614 ..."
       ]
      },
      {
       "output_type": "stream",
       "stream": "stdout",
       "text": [
        " done\r\n",
        "Processing lenders file 471/1614 ..."
       ]
      },
      {
       "output_type": "stream",
       "stream": "stdout",
       "text": [
        " done\r\n",
        "Processing lenders file 472/1614 ..."
       ]
      },
      {
       "output_type": "stream",
       "stream": "stdout",
       "text": [
        " done\r\n",
        "Processing lenders file 473/1614 ..."
       ]
      },
      {
       "output_type": "stream",
       "stream": "stdout",
       "text": [
        " done\r\n",
        "Processing lenders file 474/1614 ..."
       ]
      },
      {
       "output_type": "stream",
       "stream": "stdout",
       "text": [
        " done\r\n",
        "Processing lenders file 475/1614 ..."
       ]
      },
      {
       "output_type": "stream",
       "stream": "stdout",
       "text": [
        " done\r\n",
        "Processing lenders file 476/1614 ..."
       ]
      },
      {
       "output_type": "stream",
       "stream": "stdout",
       "text": [
        " done\r\n",
        "Processing lenders file 477/1614 ..."
       ]
      },
      {
       "output_type": "stream",
       "stream": "stdout",
       "text": [
        " done\r\n",
        "Processing lenders file 478/1614 ..."
       ]
      },
      {
       "output_type": "stream",
       "stream": "stdout",
       "text": [
        " done\r\n",
        "Processing lenders file 479/1614 ..."
       ]
      },
      {
       "output_type": "stream",
       "stream": "stdout",
       "text": [
        " done\r\n",
        "Processing lenders file 480/1614 ..."
       ]
      },
      {
       "output_type": "stream",
       "stream": "stdout",
       "text": [
        " done\r\n",
        "Processing lenders file 481/1614 ..."
       ]
      },
      {
       "output_type": "stream",
       "stream": "stdout",
       "text": [
        " done\r\n",
        "Processing lenders file 482/1614 ..."
       ]
      },
      {
       "output_type": "stream",
       "stream": "stdout",
       "text": [
        " done\r\n",
        "Processing lenders file 483/1614 ..."
       ]
      },
      {
       "output_type": "stream",
       "stream": "stdout",
       "text": [
        " done\r\n",
        "Processing lenders file 484/1614 ..."
       ]
      },
      {
       "output_type": "stream",
       "stream": "stdout",
       "text": [
        " done\r\n",
        "Processing lenders file 485/1614 ..."
       ]
      },
      {
       "output_type": "stream",
       "stream": "stdout",
       "text": [
        " done\r\n",
        "Processing lenders file 486/1614 ..."
       ]
      },
      {
       "output_type": "stream",
       "stream": "stdout",
       "text": [
        " done\r\n",
        "Processing lenders file 487/1614 ..."
       ]
      },
      {
       "output_type": "stream",
       "stream": "stdout",
       "text": [
        " done\r\n",
        "Processing lenders file 488/1614 ..."
       ]
      },
      {
       "output_type": "stream",
       "stream": "stdout",
       "text": [
        " done\r\n",
        "Processing lenders file 489/1614 ..."
       ]
      },
      {
       "output_type": "stream",
       "stream": "stdout",
       "text": [
        " done\r\n",
        "Processing lenders file 490/1614 ..."
       ]
      },
      {
       "output_type": "stream",
       "stream": "stdout",
       "text": [
        " done\r\n",
        "Processing lenders file 491/1614 ..."
       ]
      },
      {
       "output_type": "stream",
       "stream": "stdout",
       "text": [
        " done\r\n",
        "Processing lenders file 492/1614 ..."
       ]
      },
      {
       "output_type": "stream",
       "stream": "stdout",
       "text": [
        " done\r\n",
        "Processing lenders file 493/1614 ..."
       ]
      },
      {
       "output_type": "stream",
       "stream": "stdout",
       "text": [
        " done\r\n",
        "Processing lenders file 494/1614 ..."
       ]
      },
      {
       "output_type": "stream",
       "stream": "stdout",
       "text": [
        " done\r\n",
        "Processing lenders file 495/1614 ..."
       ]
      },
      {
       "output_type": "stream",
       "stream": "stdout",
       "text": [
        " done\r\n",
        "Processing lenders file 496/1614 ..."
       ]
      },
      {
       "output_type": "stream",
       "stream": "stdout",
       "text": [
        " done\r\n",
        "Processing lenders file 497/1614 ..."
       ]
      },
      {
       "output_type": "stream",
       "stream": "stdout",
       "text": [
        " done\r\n",
        "Processing lenders file 498/1614 ..."
       ]
      },
      {
       "output_type": "stream",
       "stream": "stdout",
       "text": [
        " done\r\n",
        "Processing lenders file 499/1614 ..."
       ]
      },
      {
       "output_type": "stream",
       "stream": "stdout",
       "text": [
        " done\r\n",
        "Processing lenders file 500/1614 ..."
       ]
      },
      {
       "output_type": "stream",
       "stream": "stdout",
       "text": [
        " done\r\n",
        "Processing lenders file 501/1614 ..."
       ]
      },
      {
       "output_type": "stream",
       "stream": "stdout",
       "text": [
        " done\r\n",
        "Processing lenders file 502/1614 ..."
       ]
      },
      {
       "output_type": "stream",
       "stream": "stdout",
       "text": [
        " done\r\n",
        "Processing lenders file 503/1614 ..."
       ]
      },
      {
       "output_type": "stream",
       "stream": "stdout",
       "text": [
        " done\r\n",
        "Processing lenders file 504/1614 ..."
       ]
      },
      {
       "output_type": "stream",
       "stream": "stdout",
       "text": [
        " done\r\n",
        "Processing lenders file 505/1614 ..."
       ]
      },
      {
       "output_type": "stream",
       "stream": "stdout",
       "text": [
        " done\r\n",
        "Processing lenders file 506/1614 ..."
       ]
      },
      {
       "output_type": "stream",
       "stream": "stdout",
       "text": [
        " done\r\n",
        "Processing lenders file 507/1614 ..."
       ]
      },
      {
       "output_type": "stream",
       "stream": "stdout",
       "text": [
        " done\r\n",
        "Processing lenders file 508/1614 ..."
       ]
      },
      {
       "output_type": "stream",
       "stream": "stdout",
       "text": [
        " done\r\n",
        "Processing lenders file 509/1614 ..."
       ]
      },
      {
       "output_type": "stream",
       "stream": "stdout",
       "text": [
        " done\r\n",
        "Processing lenders file 510/1614 ..."
       ]
      },
      {
       "output_type": "stream",
       "stream": "stdout",
       "text": [
        " done\r\n",
        "Processing lenders file 511/1614 ..."
       ]
      },
      {
       "output_type": "stream",
       "stream": "stdout",
       "text": [
        " done\r\n",
        "Processing lenders file 512/1614 ..."
       ]
      },
      {
       "output_type": "stream",
       "stream": "stdout",
       "text": [
        " done\r\n",
        "Processing lenders file 513/1614 ..."
       ]
      },
      {
       "output_type": "stream",
       "stream": "stdout",
       "text": [
        " done\r\n",
        "Processing lenders file 514/1614 ..."
       ]
      },
      {
       "output_type": "stream",
       "stream": "stdout",
       "text": [
        " done\r\n",
        "Processing lenders file 515/1614 ..."
       ]
      },
      {
       "output_type": "stream",
       "stream": "stdout",
       "text": [
        " done\r\n",
        "Processing lenders file 516/1614 ..."
       ]
      },
      {
       "output_type": "stream",
       "stream": "stdout",
       "text": [
        " done\r\n",
        "Processing lenders file 517/1614 ..."
       ]
      },
      {
       "output_type": "stream",
       "stream": "stdout",
       "text": [
        " done\r\n",
        "Processing lenders file 518/1614 ..."
       ]
      },
      {
       "output_type": "stream",
       "stream": "stdout",
       "text": [
        " done\r\n",
        "Processing lenders file 519/1614 ..."
       ]
      },
      {
       "output_type": "stream",
       "stream": "stdout",
       "text": [
        " done\r\n",
        "Processing lenders file 520/1614 ..."
       ]
      },
      {
       "output_type": "stream",
       "stream": "stdout",
       "text": [
        " done\r\n",
        "Processing lenders file 521/1614 ..."
       ]
      },
      {
       "output_type": "stream",
       "stream": "stdout",
       "text": [
        " done\r\n",
        "Processing lenders file 522/1614 ..."
       ]
      },
      {
       "output_type": "stream",
       "stream": "stdout",
       "text": [
        " done\r\n",
        "Processing lenders file 523/1614 ..."
       ]
      },
      {
       "output_type": "stream",
       "stream": "stdout",
       "text": [
        " done\r\n",
        "Processing lenders file 524/1614 ..."
       ]
      },
      {
       "output_type": "stream",
       "stream": "stdout",
       "text": [
        " done\r\n",
        "Processing lenders file 525/1614 ..."
       ]
      },
      {
       "output_type": "stream",
       "stream": "stdout",
       "text": [
        " done\r\n",
        "Processing lenders file 526/1614 ..."
       ]
      },
      {
       "output_type": "stream",
       "stream": "stdout",
       "text": [
        " done\r\n",
        "Processing lenders file 527/1614 ..."
       ]
      },
      {
       "output_type": "stream",
       "stream": "stdout",
       "text": [
        " done\r\n",
        "Processing lenders file 528/1614 ..."
       ]
      },
      {
       "output_type": "stream",
       "stream": "stdout",
       "text": [
        " done\r\n",
        "Processing lenders file 529/1614 ..."
       ]
      },
      {
       "output_type": "stream",
       "stream": "stdout",
       "text": [
        " done\r\n",
        "Processing lenders file 530/1614 ..."
       ]
      },
      {
       "output_type": "stream",
       "stream": "stdout",
       "text": [
        " done\r\n",
        "Processing lenders file 531/1614 ..."
       ]
      },
      {
       "output_type": "stream",
       "stream": "stdout",
       "text": [
        " done\r\n",
        "Processing lenders file 532/1614 ..."
       ]
      },
      {
       "output_type": "stream",
       "stream": "stdout",
       "text": [
        " done\r\n",
        "Processing lenders file 533/1614 ..."
       ]
      },
      {
       "output_type": "stream",
       "stream": "stdout",
       "text": [
        " done\r\n",
        "Processing lenders file 534/1614 ..."
       ]
      },
      {
       "output_type": "stream",
       "stream": "stdout",
       "text": [
        " done\r\n",
        "Processing lenders file 535/1614 ..."
       ]
      },
      {
       "output_type": "stream",
       "stream": "stdout",
       "text": [
        " done\r\n",
        "Processing lenders file 536/1614 ..."
       ]
      },
      {
       "output_type": "stream",
       "stream": "stdout",
       "text": [
        " done\r\n",
        "Processing lenders file 537/1614 ..."
       ]
      },
      {
       "output_type": "stream",
       "stream": "stdout",
       "text": [
        " done\r\n",
        "Processing lenders file 538/1614 ..."
       ]
      },
      {
       "output_type": "stream",
       "stream": "stdout",
       "text": [
        " done\r\n",
        "Processing lenders file 539/1614 ..."
       ]
      },
      {
       "output_type": "stream",
       "stream": "stdout",
       "text": [
        " done\r\n",
        "Processing lenders file 540/1614 ..."
       ]
      },
      {
       "output_type": "stream",
       "stream": "stdout",
       "text": [
        " done\r\n",
        "Processing lenders file 541/1614 ..."
       ]
      },
      {
       "output_type": "stream",
       "stream": "stdout",
       "text": [
        " done\r\n",
        "Processing lenders file 542/1614 ..."
       ]
      },
      {
       "output_type": "stream",
       "stream": "stdout",
       "text": [
        " done\r\n",
        "Processing lenders file 543/1614 ..."
       ]
      },
      {
       "output_type": "stream",
       "stream": "stdout",
       "text": [
        " done\r\n",
        "Processing lenders file 544/1614 ..."
       ]
      },
      {
       "output_type": "stream",
       "stream": "stdout",
       "text": [
        " done\r\n",
        "Processing lenders file 545/1614 ..."
       ]
      },
      {
       "output_type": "stream",
       "stream": "stdout",
       "text": [
        " done\r\n",
        "Processing lenders file 546/1614 ..."
       ]
      },
      {
       "output_type": "stream",
       "stream": "stdout",
       "text": [
        " done\r\n",
        "Processing lenders file 547/1614 ..."
       ]
      },
      {
       "output_type": "stream",
       "stream": "stdout",
       "text": [
        " done\r\n",
        "Processing lenders file 548/1614 ..."
       ]
      },
      {
       "output_type": "stream",
       "stream": "stdout",
       "text": [
        " done\r\n",
        "Processing lenders file 549/1614 ..."
       ]
      },
      {
       "output_type": "stream",
       "stream": "stdout",
       "text": [
        " done\r\n",
        "Processing lenders file 550/1614 ..."
       ]
      },
      {
       "output_type": "stream",
       "stream": "stdout",
       "text": [
        " done\r\n",
        "Processing lenders file 551/1614 ..."
       ]
      },
      {
       "output_type": "stream",
       "stream": "stdout",
       "text": [
        " done\r\n",
        "Processing lenders file 552/1614 ..."
       ]
      },
      {
       "output_type": "stream",
       "stream": "stdout",
       "text": [
        " done\r\n",
        "Processing lenders file 553/1614 ..."
       ]
      },
      {
       "output_type": "stream",
       "stream": "stdout",
       "text": [
        " done\r\n",
        "Processing lenders file 554/1614 ..."
       ]
      },
      {
       "output_type": "stream",
       "stream": "stdout",
       "text": [
        " done\r\n",
        "Processing lenders file 555/1614 ..."
       ]
      },
      {
       "output_type": "stream",
       "stream": "stdout",
       "text": [
        " done\r\n",
        "Processing lenders file 556/1614 ..."
       ]
      },
      {
       "output_type": "stream",
       "stream": "stdout",
       "text": [
        " done\r\n",
        "Processing lenders file 557/1614 ..."
       ]
      },
      {
       "output_type": "stream",
       "stream": "stdout",
       "text": [
        " done\r\n",
        "Processing lenders file 558/1614 ..."
       ]
      },
      {
       "output_type": "stream",
       "stream": "stdout",
       "text": [
        " done\r\n",
        "Processing lenders file 559/1614 ..."
       ]
      },
      {
       "output_type": "stream",
       "stream": "stdout",
       "text": [
        " done\r\n",
        "Processing lenders file 560/1614 ..."
       ]
      },
      {
       "output_type": "stream",
       "stream": "stdout",
       "text": [
        " done\r\n",
        "Processing lenders file 561/1614 ..."
       ]
      },
      {
       "output_type": "stream",
       "stream": "stdout",
       "text": [
        " done\r\n",
        "Processing lenders file 562/1614 ..."
       ]
      },
      {
       "output_type": "stream",
       "stream": "stdout",
       "text": [
        " done\r\n",
        "Processing lenders file 563/1614 ..."
       ]
      },
      {
       "output_type": "stream",
       "stream": "stdout",
       "text": [
        " done\r\n",
        "Processing lenders file 564/1614 ..."
       ]
      },
      {
       "output_type": "stream",
       "stream": "stdout",
       "text": [
        " done\r\n",
        "Processing lenders file 565/1614 ..."
       ]
      },
      {
       "output_type": "stream",
       "stream": "stdout",
       "text": [
        " done\r\n",
        "Processing lenders file 566/1614 ..."
       ]
      },
      {
       "output_type": "stream",
       "stream": "stdout",
       "text": [
        " done\r\n",
        "Processing lenders file 567/1614 ..."
       ]
      },
      {
       "output_type": "stream",
       "stream": "stdout",
       "text": [
        " done\r\n",
        "Processing lenders file 568/1614 ..."
       ]
      },
      {
       "output_type": "stream",
       "stream": "stdout",
       "text": [
        " done\r\n",
        "Processing lenders file 569/1614 ..."
       ]
      },
      {
       "output_type": "stream",
       "stream": "stdout",
       "text": [
        " done\r\n",
        "Processing lenders file 570/1614 ..."
       ]
      },
      {
       "output_type": "stream",
       "stream": "stdout",
       "text": [
        " done\r\n",
        "Processing lenders file 571/1614 ..."
       ]
      },
      {
       "output_type": "stream",
       "stream": "stdout",
       "text": [
        " done\r\n",
        "Processing lenders file 572/1614 ..."
       ]
      },
      {
       "output_type": "stream",
       "stream": "stdout",
       "text": [
        " done\r\n",
        "Processing lenders file 573/1614 ..."
       ]
      },
      {
       "output_type": "stream",
       "stream": "stdout",
       "text": [
        " done\r\n",
        "Processing lenders file 574/1614 ..."
       ]
      },
      {
       "output_type": "stream",
       "stream": "stdout",
       "text": [
        " done\r\n",
        "Processing lenders file 575/1614 ..."
       ]
      },
      {
       "output_type": "stream",
       "stream": "stdout",
       "text": [
        " done\r\n",
        "Processing lenders file 576/1614 ..."
       ]
      },
      {
       "output_type": "stream",
       "stream": "stdout",
       "text": [
        " done\r\n",
        "Processing lenders file 577/1614 ..."
       ]
      },
      {
       "output_type": "stream",
       "stream": "stdout",
       "text": [
        " done\r\n",
        "Processing lenders file 578/1614 ..."
       ]
      },
      {
       "output_type": "stream",
       "stream": "stdout",
       "text": [
        " done\r\n",
        "Processing lenders file 579/1614 ..."
       ]
      },
      {
       "output_type": "stream",
       "stream": "stdout",
       "text": [
        " done\r\n",
        "Processing lenders file 580/1614 ..."
       ]
      },
      {
       "output_type": "stream",
       "stream": "stdout",
       "text": [
        " done\r\n",
        "Processing lenders file 581/1614 ..."
       ]
      },
      {
       "output_type": "stream",
       "stream": "stdout",
       "text": [
        " done\r\n",
        "Processing lenders file 582/1614 ..."
       ]
      },
      {
       "output_type": "stream",
       "stream": "stdout",
       "text": [
        " done\r\n",
        "Processing lenders file 583/1614 ..."
       ]
      },
      {
       "output_type": "stream",
       "stream": "stdout",
       "text": [
        " done\r\n",
        "Processing lenders file 584/1614 ..."
       ]
      },
      {
       "output_type": "stream",
       "stream": "stdout",
       "text": [
        " done\r\n",
        "Processing lenders file 585/1614 ..."
       ]
      },
      {
       "output_type": "stream",
       "stream": "stdout",
       "text": [
        " done\r\n",
        "Processing lenders file 586/1614 ..."
       ]
      },
      {
       "output_type": "stream",
       "stream": "stdout",
       "text": [
        " done\r\n",
        "Processing lenders file 587/1614 ..."
       ]
      },
      {
       "output_type": "stream",
       "stream": "stdout",
       "text": [
        " done\r\n",
        "Processing lenders file 588/1614 ..."
       ]
      },
      {
       "output_type": "stream",
       "stream": "stdout",
       "text": [
        " done\r\n",
        "Processing lenders file 589/1614 ..."
       ]
      },
      {
       "output_type": "stream",
       "stream": "stdout",
       "text": [
        " done\r\n",
        "Processing lenders file 590/1614 ..."
       ]
      },
      {
       "output_type": "stream",
       "stream": "stdout",
       "text": [
        " done\r\n",
        "Processing lenders file 591/1614 ..."
       ]
      },
      {
       "output_type": "stream",
       "stream": "stdout",
       "text": [
        " done\r\n",
        "Processing lenders file 592/1614 ..."
       ]
      },
      {
       "output_type": "stream",
       "stream": "stdout",
       "text": [
        " done\r\n",
        "Processing lenders file 593/1614 ..."
       ]
      },
      {
       "output_type": "stream",
       "stream": "stdout",
       "text": [
        " done\r\n",
        "Processing lenders file 594/1614 ..."
       ]
      },
      {
       "output_type": "stream",
       "stream": "stdout",
       "text": [
        " done\r\n",
        "Processing lenders file 595/1614 ..."
       ]
      },
      {
       "output_type": "stream",
       "stream": "stdout",
       "text": [
        " done\r\n",
        "Processing lenders file 596/1614 ..."
       ]
      },
      {
       "output_type": "stream",
       "stream": "stdout",
       "text": [
        " done\r\n",
        "Processing lenders file 597/1614 ..."
       ]
      },
      {
       "output_type": "stream",
       "stream": "stdout",
       "text": [
        " done\r\n",
        "Processing lenders file 598/1614 ..."
       ]
      },
      {
       "output_type": "stream",
       "stream": "stdout",
       "text": [
        " done\r\n",
        "Processing lenders file 599/1614 ..."
       ]
      },
      {
       "output_type": "stream",
       "stream": "stdout",
       "text": [
        " done\r\n",
        "Processing lenders file 600/1614 ..."
       ]
      },
      {
       "output_type": "stream",
       "stream": "stdout",
       "text": [
        " done\r\n",
        "Processing lenders file 601/1614 ..."
       ]
      },
      {
       "output_type": "stream",
       "stream": "stdout",
       "text": [
        " done\r\n",
        "Processing lenders file 602/1614 ..."
       ]
      },
      {
       "output_type": "stream",
       "stream": "stdout",
       "text": [
        " done\r\n",
        "Processing lenders file 603/1614 ..."
       ]
      },
      {
       "output_type": "stream",
       "stream": "stdout",
       "text": [
        " done\r\n",
        "Processing lenders file 604/1614 ..."
       ]
      },
      {
       "output_type": "stream",
       "stream": "stdout",
       "text": [
        " done\r\n",
        "Processing lenders file 605/1614 ..."
       ]
      },
      {
       "output_type": "stream",
       "stream": "stdout",
       "text": [
        " done\r\n",
        "Processing lenders file 606/1614 ..."
       ]
      },
      {
       "output_type": "stream",
       "stream": "stdout",
       "text": [
        " done\r\n",
        "Processing lenders file 607/1614 ..."
       ]
      },
      {
       "output_type": "stream",
       "stream": "stdout",
       "text": [
        " done\r\n",
        "Processing lenders file 608/1614 ..."
       ]
      },
      {
       "output_type": "stream",
       "stream": "stdout",
       "text": [
        " done\r\n",
        "Processing lenders file 609/1614 ..."
       ]
      },
      {
       "output_type": "stream",
       "stream": "stdout",
       "text": [
        " done\r\n",
        "Processing lenders file 610/1614 ..."
       ]
      },
      {
       "output_type": "stream",
       "stream": "stdout",
       "text": [
        " done\r\n",
        "Processing lenders file 611/1614 ..."
       ]
      },
      {
       "output_type": "stream",
       "stream": "stdout",
       "text": [
        " done\r\n",
        "Processing lenders file 612/1614 ..."
       ]
      },
      {
       "output_type": "stream",
       "stream": "stdout",
       "text": [
        " done\r\n",
        "Processing lenders file 613/1614 ..."
       ]
      },
      {
       "output_type": "stream",
       "stream": "stdout",
       "text": [
        " done\r\n",
        "Processing lenders file 614/1614 ..."
       ]
      },
      {
       "output_type": "stream",
       "stream": "stdout",
       "text": [
        " done\r\n",
        "Processing lenders file 615/1614 ..."
       ]
      },
      {
       "output_type": "stream",
       "stream": "stdout",
       "text": [
        " done\r\n",
        "Processing lenders file 616/1614 ..."
       ]
      },
      {
       "output_type": "stream",
       "stream": "stdout",
       "text": [
        " done\r\n",
        "Processing lenders file 617/1614 ..."
       ]
      },
      {
       "output_type": "stream",
       "stream": "stdout",
       "text": [
        " done\r\n",
        "Processing lenders file 618/1614 ..."
       ]
      },
      {
       "output_type": "stream",
       "stream": "stdout",
       "text": [
        " done\r\n",
        "Processing lenders file 619/1614 ..."
       ]
      },
      {
       "output_type": "stream",
       "stream": "stdout",
       "text": [
        " done\r\n",
        "Processing lenders file 620/1614 ..."
       ]
      },
      {
       "output_type": "stream",
       "stream": "stdout",
       "text": [
        " done\r\n",
        "Processing lenders file 621/1614 ..."
       ]
      },
      {
       "output_type": "stream",
       "stream": "stdout",
       "text": [
        " done\r\n",
        "Processing lenders file 622/1614 ..."
       ]
      },
      {
       "output_type": "stream",
       "stream": "stdout",
       "text": [
        " done\r\n",
        "Processing lenders file 623/1614 ..."
       ]
      },
      {
       "output_type": "stream",
       "stream": "stdout",
       "text": [
        " done\r\n",
        "Processing lenders file 624/1614 ..."
       ]
      },
      {
       "output_type": "stream",
       "stream": "stdout",
       "text": [
        " done\r\n",
        "Processing lenders file 625/1614 ..."
       ]
      },
      {
       "output_type": "stream",
       "stream": "stdout",
       "text": [
        " done\r\n",
        "Processing lenders file 626/1614 ..."
       ]
      },
      {
       "output_type": "stream",
       "stream": "stdout",
       "text": [
        " done\r\n",
        "Processing lenders file 627/1614 ..."
       ]
      },
      {
       "output_type": "stream",
       "stream": "stdout",
       "text": [
        " done\r\n",
        "Processing lenders file 628/1614 ..."
       ]
      },
      {
       "output_type": "stream",
       "stream": "stdout",
       "text": [
        " done\r\n",
        "Processing lenders file 629/1614 ..."
       ]
      },
      {
       "output_type": "stream",
       "stream": "stdout",
       "text": [
        " done\r\n",
        "Processing lenders file 630/1614 ..."
       ]
      },
      {
       "output_type": "stream",
       "stream": "stdout",
       "text": [
        " done\r\n",
        "Processing lenders file 631/1614 ..."
       ]
      },
      {
       "output_type": "stream",
       "stream": "stdout",
       "text": [
        " done\r\n",
        "Processing lenders file 632/1614 ..."
       ]
      },
      {
       "output_type": "stream",
       "stream": "stdout",
       "text": [
        " done\r\n",
        "Processing lenders file 633/1614 ..."
       ]
      },
      {
       "output_type": "stream",
       "stream": "stdout",
       "text": [
        " done\r\n",
        "Processing lenders file 634/1614 ..."
       ]
      },
      {
       "output_type": "stream",
       "stream": "stdout",
       "text": [
        " done\r\n",
        "Processing lenders file 635/1614 ..."
       ]
      },
      {
       "output_type": "stream",
       "stream": "stdout",
       "text": [
        " done\r\n",
        "Processing lenders file 636/1614 ..."
       ]
      },
      {
       "output_type": "stream",
       "stream": "stdout",
       "text": [
        " done\r\n",
        "Processing lenders file 637/1614 ..."
       ]
      },
      {
       "output_type": "stream",
       "stream": "stdout",
       "text": [
        " done\r\n",
        "Processing lenders file 638/1614 ..."
       ]
      },
      {
       "output_type": "stream",
       "stream": "stdout",
       "text": [
        " done\r\n",
        "Processing lenders file 639/1614 ..."
       ]
      },
      {
       "output_type": "stream",
       "stream": "stdout",
       "text": [
        " done\r\n",
        "Processing lenders file 640/1614 ..."
       ]
      },
      {
       "output_type": "stream",
       "stream": "stdout",
       "text": [
        " done\r\n",
        "Processing lenders file 641/1614 ..."
       ]
      },
      {
       "output_type": "stream",
       "stream": "stdout",
       "text": [
        " done\r\n",
        "Processing lenders file 642/1614 ..."
       ]
      },
      {
       "output_type": "stream",
       "stream": "stdout",
       "text": [
        " done\r\n",
        "Processing lenders file 643/1614 ..."
       ]
      },
      {
       "output_type": "stream",
       "stream": "stdout",
       "text": [
        " done\r\n",
        "Processing lenders file 644/1614 ..."
       ]
      },
      {
       "output_type": "stream",
       "stream": "stdout",
       "text": [
        " done\r\n",
        "Processing lenders file 645/1614 ..."
       ]
      },
      {
       "output_type": "stream",
       "stream": "stdout",
       "text": [
        " done\r\n",
        "Processing lenders file 646/1614 ..."
       ]
      },
      {
       "output_type": "stream",
       "stream": "stdout",
       "text": [
        " done\r\n",
        "Processing lenders file 647/1614 ..."
       ]
      },
      {
       "output_type": "stream",
       "stream": "stdout",
       "text": [
        " done\r\n",
        "Processing lenders file 648/1614 ..."
       ]
      },
      {
       "output_type": "stream",
       "stream": "stdout",
       "text": [
        " done\r\n",
        "Processing lenders file 649/1614 ..."
       ]
      },
      {
       "output_type": "stream",
       "stream": "stdout",
       "text": [
        " done\r\n",
        "Processing lenders file 650/1614 ..."
       ]
      },
      {
       "output_type": "stream",
       "stream": "stdout",
       "text": [
        " done\r\n",
        "Processing lenders file 651/1614 ..."
       ]
      },
      {
       "output_type": "stream",
       "stream": "stdout",
       "text": [
        " done\r\n",
        "Processing lenders file 652/1614 ..."
       ]
      },
      {
       "output_type": "stream",
       "stream": "stdout",
       "text": [
        " done\r\n",
        "Processing lenders file 653/1614 ..."
       ]
      },
      {
       "output_type": "stream",
       "stream": "stdout",
       "text": [
        " done\r\n",
        "Processing lenders file 654/1614 ..."
       ]
      },
      {
       "output_type": "stream",
       "stream": "stdout",
       "text": [
        " done\r\n",
        "Processing lenders file 655/1614 ..."
       ]
      },
      {
       "output_type": "stream",
       "stream": "stdout",
       "text": [
        " done\r\n",
        "Processing lenders file 656/1614 ..."
       ]
      },
      {
       "output_type": "stream",
       "stream": "stdout",
       "text": [
        " done\r\n",
        "Processing lenders file 657/1614 ..."
       ]
      },
      {
       "output_type": "stream",
       "stream": "stdout",
       "text": [
        " done\r\n",
        "Processing lenders file 658/1614 ..."
       ]
      },
      {
       "output_type": "stream",
       "stream": "stdout",
       "text": [
        " done\r\n",
        "Processing lenders file 659/1614 ..."
       ]
      },
      {
       "output_type": "stream",
       "stream": "stdout",
       "text": [
        " done\r\n",
        "Processing lenders file 660/1614 ..."
       ]
      },
      {
       "output_type": "stream",
       "stream": "stdout",
       "text": [
        " done\r\n",
        "Processing lenders file 661/1614 ..."
       ]
      },
      {
       "output_type": "stream",
       "stream": "stdout",
       "text": [
        " done\r\n",
        "Processing lenders file 662/1614 ..."
       ]
      },
      {
       "output_type": "stream",
       "stream": "stdout",
       "text": [
        " done\r\n",
        "Processing lenders file 663/1614 ..."
       ]
      },
      {
       "output_type": "stream",
       "stream": "stdout",
       "text": [
        " done\r\n",
        "Processing lenders file 664/1614 ..."
       ]
      },
      {
       "output_type": "stream",
       "stream": "stdout",
       "text": [
        " done\r\n",
        "Processing lenders file 665/1614 ..."
       ]
      },
      {
       "output_type": "stream",
       "stream": "stdout",
       "text": [
        " done\r\n",
        "Processing lenders file 666/1614 ..."
       ]
      },
      {
       "output_type": "stream",
       "stream": "stdout",
       "text": [
        " done\r\n",
        "Processing lenders file 667/1614 ..."
       ]
      },
      {
       "output_type": "stream",
       "stream": "stdout",
       "text": [
        " done\r\n",
        "Processing lenders file 668/1614 ..."
       ]
      },
      {
       "output_type": "stream",
       "stream": "stdout",
       "text": [
        " done\r\n",
        "Processing lenders file 669/1614 ..."
       ]
      },
      {
       "output_type": "stream",
       "stream": "stdout",
       "text": [
        " done\r\n",
        "Processing lenders file 670/1614 ..."
       ]
      },
      {
       "output_type": "stream",
       "stream": "stdout",
       "text": [
        " done\r\n",
        "Processing lenders file 671/1614 ..."
       ]
      },
      {
       "output_type": "stream",
       "stream": "stdout",
       "text": [
        " done\r\n",
        "Processing lenders file 672/1614 ..."
       ]
      },
      {
       "output_type": "stream",
       "stream": "stdout",
       "text": [
        " done\r\n",
        "Processing lenders file 673/1614 ..."
       ]
      },
      {
       "output_type": "stream",
       "stream": "stdout",
       "text": [
        " done\r\n",
        "Processing lenders file 674/1614 ..."
       ]
      },
      {
       "output_type": "stream",
       "stream": "stdout",
       "text": [
        " done\r\n",
        "Processing lenders file 675/1614 ..."
       ]
      },
      {
       "output_type": "stream",
       "stream": "stdout",
       "text": [
        " done\r\n",
        "Processing lenders file 676/1614 ..."
       ]
      },
      {
       "output_type": "stream",
       "stream": "stdout",
       "text": [
        " done\r\n",
        "Processing lenders file 677/1614 ..."
       ]
      },
      {
       "output_type": "stream",
       "stream": "stdout",
       "text": [
        " done\r\n",
        "Processing lenders file 678/1614 ..."
       ]
      },
      {
       "output_type": "stream",
       "stream": "stdout",
       "text": [
        " done\r\n",
        "Processing lenders file 679/1614 ..."
       ]
      },
      {
       "output_type": "stream",
       "stream": "stdout",
       "text": [
        " done\r\n",
        "Processing lenders file 680/1614 ..."
       ]
      },
      {
       "output_type": "stream",
       "stream": "stdout",
       "text": [
        " done\r\n",
        "Processing lenders file 681/1614 ..."
       ]
      },
      {
       "output_type": "stream",
       "stream": "stdout",
       "text": [
        " done\r\n",
        "Processing lenders file 682/1614 ..."
       ]
      },
      {
       "output_type": "stream",
       "stream": "stdout",
       "text": [
        " done\r\n",
        "Processing lenders file 683/1614 ..."
       ]
      },
      {
       "output_type": "stream",
       "stream": "stdout",
       "text": [
        " done\r\n",
        "Processing lenders file 684/1614 ..."
       ]
      },
      {
       "output_type": "stream",
       "stream": "stdout",
       "text": [
        " done\r\n",
        "Processing lenders file 685/1614 ..."
       ]
      },
      {
       "output_type": "stream",
       "stream": "stdout",
       "text": [
        " done\r\n",
        "Processing lenders file 686/1614 ..."
       ]
      },
      {
       "output_type": "stream",
       "stream": "stdout",
       "text": [
        " done\r\n",
        "Processing lenders file 687/1614 ..."
       ]
      },
      {
       "output_type": "stream",
       "stream": "stdout",
       "text": [
        " done\r\n",
        "Processing lenders file 688/1614 ..."
       ]
      },
      {
       "output_type": "stream",
       "stream": "stdout",
       "text": [
        " done\r\n",
        "Processing lenders file 689/1614 ..."
       ]
      },
      {
       "output_type": "stream",
       "stream": "stdout",
       "text": [
        " done\r\n",
        "Processing lenders file 690/1614 ..."
       ]
      },
      {
       "output_type": "stream",
       "stream": "stdout",
       "text": [
        " done\r\n",
        "Processing lenders file 691/1614 ..."
       ]
      },
      {
       "output_type": "stream",
       "stream": "stdout",
       "text": [
        " done\r\n",
        "Processing lenders file 692/1614 ..."
       ]
      },
      {
       "output_type": "stream",
       "stream": "stdout",
       "text": [
        " done\r\n",
        "Processing lenders file 693/1614 ..."
       ]
      },
      {
       "output_type": "stream",
       "stream": "stdout",
       "text": [
        " done\r\n",
        "Processing lenders file 694/1614 ..."
       ]
      },
      {
       "output_type": "stream",
       "stream": "stdout",
       "text": [
        " done\r\n",
        "Processing lenders file 695/1614 ..."
       ]
      },
      {
       "output_type": "stream",
       "stream": "stdout",
       "text": [
        " done\r\n",
        "Processing lenders file 696/1614 ..."
       ]
      },
      {
       "output_type": "stream",
       "stream": "stdout",
       "text": [
        " done\r\n",
        "Processing lenders file 697/1614 ..."
       ]
      },
      {
       "output_type": "stream",
       "stream": "stdout",
       "text": [
        " done\r\n",
        "Processing lenders file 698/1614 ..."
       ]
      },
      {
       "output_type": "stream",
       "stream": "stdout",
       "text": [
        " done\r\n",
        "Processing lenders file 699/1614 ..."
       ]
      },
      {
       "output_type": "stream",
       "stream": "stdout",
       "text": [
        " done\r\n",
        "Processing lenders file 700/1614 ..."
       ]
      },
      {
       "output_type": "stream",
       "stream": "stdout",
       "text": [
        " done\r\n",
        "Processing lenders file 701/1614 ..."
       ]
      },
      {
       "output_type": "stream",
       "stream": "stdout",
       "text": [
        " done\r\n",
        "Processing lenders file 702/1614 ..."
       ]
      },
      {
       "output_type": "stream",
       "stream": "stdout",
       "text": [
        " done\r\n",
        "Processing lenders file 703/1614 ..."
       ]
      },
      {
       "output_type": "stream",
       "stream": "stdout",
       "text": [
        " done\r\n",
        "Processing lenders file 704/1614 ..."
       ]
      },
      {
       "output_type": "stream",
       "stream": "stdout",
       "text": [
        " done\r\n",
        "Processing lenders file 705/1614 ..."
       ]
      },
      {
       "output_type": "stream",
       "stream": "stdout",
       "text": [
        " done\r\n",
        "Processing lenders file 706/1614 ..."
       ]
      },
      {
       "output_type": "stream",
       "stream": "stdout",
       "text": [
        " done\r\n",
        "Processing lenders file 707/1614 ..."
       ]
      },
      {
       "output_type": "stream",
       "stream": "stdout",
       "text": [
        " done\r\n",
        "Processing lenders file 708/1614 ..."
       ]
      },
      {
       "output_type": "stream",
       "stream": "stdout",
       "text": [
        " done\r\n",
        "Processing lenders file 709/1614 ..."
       ]
      },
      {
       "output_type": "stream",
       "stream": "stdout",
       "text": [
        " done\r\n",
        "Processing lenders file 710/1614 ..."
       ]
      },
      {
       "output_type": "stream",
       "stream": "stdout",
       "text": [
        " done\r\n",
        "Processing lenders file 711/1614 ..."
       ]
      },
      {
       "output_type": "stream",
       "stream": "stdout",
       "text": [
        " done\r\n",
        "Processing lenders file 712/1614 ..."
       ]
      },
      {
       "output_type": "stream",
       "stream": "stdout",
       "text": [
        " done\r\n",
        "Processing lenders file 713/1614 ..."
       ]
      },
      {
       "output_type": "stream",
       "stream": "stdout",
       "text": [
        " done\r\n",
        "Processing lenders file 714/1614 ..."
       ]
      },
      {
       "output_type": "stream",
       "stream": "stdout",
       "text": [
        " done\r\n",
        "Processing lenders file 715/1614 ..."
       ]
      },
      {
       "output_type": "stream",
       "stream": "stdout",
       "text": [
        " done\r\n",
        "Processing lenders file 716/1614 ..."
       ]
      },
      {
       "output_type": "stream",
       "stream": "stdout",
       "text": [
        " done\r\n",
        "Processing lenders file 717/1614 ..."
       ]
      },
      {
       "output_type": "stream",
       "stream": "stdout",
       "text": [
        " done\r\n",
        "Processing lenders file 718/1614 ..."
       ]
      },
      {
       "output_type": "stream",
       "stream": "stdout",
       "text": [
        " done\r\n",
        "Processing lenders file 719/1614 ..."
       ]
      },
      {
       "output_type": "stream",
       "stream": "stdout",
       "text": [
        " done\r\n",
        "Processing lenders file 720/1614 ..."
       ]
      },
      {
       "output_type": "stream",
       "stream": "stdout",
       "text": [
        " done\r\n",
        "Processing lenders file 721/1614 ..."
       ]
      },
      {
       "output_type": "stream",
       "stream": "stdout",
       "text": [
        " done\r\n",
        "Processing lenders file 722/1614 ..."
       ]
      },
      {
       "output_type": "stream",
       "stream": "stdout",
       "text": [
        " done\r\n",
        "Processing lenders file 723/1614 ..."
       ]
      },
      {
       "output_type": "stream",
       "stream": "stdout",
       "text": [
        " done\r\n",
        "Processing lenders file 724/1614 ..."
       ]
      },
      {
       "output_type": "stream",
       "stream": "stdout",
       "text": [
        " done\r\n",
        "Processing lenders file 725/1614 ..."
       ]
      },
      {
       "output_type": "stream",
       "stream": "stdout",
       "text": [
        " done\r\n",
        "Processing lenders file 726/1614 ..."
       ]
      },
      {
       "output_type": "stream",
       "stream": "stdout",
       "text": [
        " done\r\n",
        "Processing lenders file 727/1614 ..."
       ]
      },
      {
       "output_type": "stream",
       "stream": "stdout",
       "text": [
        " done\r\n",
        "Processing lenders file 728/1614 ..."
       ]
      },
      {
       "output_type": "stream",
       "stream": "stdout",
       "text": [
        " done\r\n",
        "Processing lenders file 729/1614 ..."
       ]
      },
      {
       "output_type": "stream",
       "stream": "stdout",
       "text": [
        " done\r\n",
        "Processing lenders file 730/1614 ..."
       ]
      },
      {
       "output_type": "stream",
       "stream": "stdout",
       "text": [
        " done\r\n",
        "Processing lenders file 731/1614 ..."
       ]
      },
      {
       "output_type": "stream",
       "stream": "stdout",
       "text": [
        " done\r\n",
        "Processing lenders file 732/1614 ..."
       ]
      },
      {
       "output_type": "stream",
       "stream": "stdout",
       "text": [
        " done\r\n",
        "Processing lenders file 733/1614 ..."
       ]
      },
      {
       "output_type": "stream",
       "stream": "stdout",
       "text": [
        " done\r\n",
        "Processing lenders file 734/1614 ..."
       ]
      },
      {
       "output_type": "stream",
       "stream": "stdout",
       "text": [
        " done\r\n",
        "Processing lenders file 735/1614 ..."
       ]
      },
      {
       "output_type": "stream",
       "stream": "stdout",
       "text": [
        " done\r\n",
        "Processing lenders file 736/1614 ..."
       ]
      },
      {
       "output_type": "stream",
       "stream": "stdout",
       "text": [
        " done\r\n",
        "Processing lenders file 737/1614 ..."
       ]
      },
      {
       "output_type": "stream",
       "stream": "stdout",
       "text": [
        " done\r\n",
        "Processing lenders file 738/1614 ..."
       ]
      },
      {
       "output_type": "stream",
       "stream": "stdout",
       "text": [
        " done\r\n",
        "Processing lenders file 739/1614 ..."
       ]
      },
      {
       "output_type": "stream",
       "stream": "stdout",
       "text": [
        " done\r\n",
        "Processing lenders file 740/1614 ..."
       ]
      },
      {
       "output_type": "stream",
       "stream": "stdout",
       "text": [
        " done\r\n",
        "Processing lenders file 741/1614 ..."
       ]
      },
      {
       "output_type": "stream",
       "stream": "stdout",
       "text": [
        " done\r\n",
        "Processing lenders file 742/1614 ..."
       ]
      },
      {
       "output_type": "stream",
       "stream": "stdout",
       "text": [
        " done\r\n",
        "Processing lenders file 743/1614 ..."
       ]
      },
      {
       "output_type": "stream",
       "stream": "stdout",
       "text": [
        " done\r\n",
        "Processing lenders file 744/1614 ..."
       ]
      },
      {
       "output_type": "stream",
       "stream": "stdout",
       "text": [
        " done\r\n",
        "Processing lenders file 745/1614 ..."
       ]
      },
      {
       "output_type": "stream",
       "stream": "stdout",
       "text": [
        " done\r\n",
        "Processing lenders file 746/1614 ..."
       ]
      },
      {
       "output_type": "stream",
       "stream": "stdout",
       "text": [
        " done\r\n",
        "Processing lenders file 747/1614 ..."
       ]
      },
      {
       "output_type": "stream",
       "stream": "stdout",
       "text": [
        " done\r\n",
        "Processing lenders file 748/1614 ..."
       ]
      },
      {
       "output_type": "stream",
       "stream": "stdout",
       "text": [
        " done\r\n",
        "Processing lenders file 749/1614 ..."
       ]
      },
      {
       "output_type": "stream",
       "stream": "stdout",
       "text": [
        " done\r\n",
        "Processing lenders file 750/1614 ..."
       ]
      },
      {
       "output_type": "stream",
       "stream": "stdout",
       "text": [
        " done\r\n",
        "Processing lenders file 751/1614 ..."
       ]
      },
      {
       "output_type": "stream",
       "stream": "stdout",
       "text": [
        " done\r\n",
        "Processing lenders file 752/1614 ..."
       ]
      },
      {
       "output_type": "stream",
       "stream": "stdout",
       "text": [
        " done\r\n",
        "Processing lenders file 753/1614 ..."
       ]
      },
      {
       "output_type": "stream",
       "stream": "stdout",
       "text": [
        " done\r\n",
        "Processing lenders file 754/1614 ..."
       ]
      },
      {
       "output_type": "stream",
       "stream": "stdout",
       "text": [
        " done\r\n",
        "Processing lenders file 755/1614 ..."
       ]
      },
      {
       "output_type": "stream",
       "stream": "stdout",
       "text": [
        " done\r\n",
        "Processing lenders file 756/1614 ..."
       ]
      },
      {
       "output_type": "stream",
       "stream": "stdout",
       "text": [
        " done\r\n",
        "Processing lenders file 757/1614 ..."
       ]
      },
      {
       "output_type": "stream",
       "stream": "stdout",
       "text": [
        " done\r\n",
        "Processing lenders file 758/1614 ..."
       ]
      },
      {
       "output_type": "stream",
       "stream": "stdout",
       "text": [
        " done\r\n",
        "Processing lenders file 759/1614 ..."
       ]
      },
      {
       "output_type": "stream",
       "stream": "stdout",
       "text": [
        " done\r\n",
        "Processing lenders file 760/1614 ..."
       ]
      },
      {
       "output_type": "stream",
       "stream": "stdout",
       "text": [
        " done\r\n",
        "Processing lenders file 761/1614 ..."
       ]
      },
      {
       "output_type": "stream",
       "stream": "stdout",
       "text": [
        " done\r\n",
        "Processing lenders file 762/1614 ..."
       ]
      },
      {
       "output_type": "stream",
       "stream": "stdout",
       "text": [
        " done\r\n",
        "Processing lenders file 763/1614 ..."
       ]
      },
      {
       "output_type": "stream",
       "stream": "stdout",
       "text": [
        " done\r\n",
        "Processing lenders file 764/1614 ..."
       ]
      },
      {
       "output_type": "stream",
       "stream": "stdout",
       "text": [
        " done\r\n",
        "Processing lenders file 765/1614 ..."
       ]
      },
      {
       "output_type": "stream",
       "stream": "stdout",
       "text": [
        " done\r\n",
        "Processing lenders file 766/1614 ..."
       ]
      },
      {
       "output_type": "stream",
       "stream": "stdout",
       "text": [
        " done\r\n",
        "Processing lenders file 767/1614 ..."
       ]
      },
      {
       "output_type": "stream",
       "stream": "stdout",
       "text": [
        " done\r\n",
        "Processing lenders file 768/1614 ..."
       ]
      },
      {
       "output_type": "stream",
       "stream": "stdout",
       "text": [
        " done\r\n",
        "Processing lenders file 769/1614 ..."
       ]
      },
      {
       "output_type": "stream",
       "stream": "stdout",
       "text": [
        " done\r\n",
        "Processing lenders file 770/1614 ..."
       ]
      },
      {
       "output_type": "stream",
       "stream": "stdout",
       "text": [
        " done\r\n",
        "Processing lenders file 771/1614 ..."
       ]
      },
      {
       "output_type": "stream",
       "stream": "stdout",
       "text": [
        " done\r\n",
        "Processing lenders file 772/1614 ..."
       ]
      },
      {
       "output_type": "stream",
       "stream": "stdout",
       "text": [
        " done\r\n",
        "Processing lenders file 773/1614 ..."
       ]
      },
      {
       "output_type": "stream",
       "stream": "stdout",
       "text": [
        " done\r\n",
        "Processing lenders file 774/1614 ..."
       ]
      },
      {
       "output_type": "stream",
       "stream": "stdout",
       "text": [
        " done\r\n",
        "Processing lenders file 775/1614 ..."
       ]
      },
      {
       "output_type": "stream",
       "stream": "stdout",
       "text": [
        " done\r\n",
        "Processing lenders file 776/1614 ..."
       ]
      },
      {
       "output_type": "stream",
       "stream": "stdout",
       "text": [
        " done\r\n",
        "Processing lenders file 777/1614 ..."
       ]
      },
      {
       "output_type": "stream",
       "stream": "stdout",
       "text": [
        " done\r\n",
        "Processing lenders file 778/1614 ..."
       ]
      },
      {
       "output_type": "stream",
       "stream": "stdout",
       "text": [
        " done\r\n",
        "Processing lenders file 779/1614 ..."
       ]
      },
      {
       "output_type": "stream",
       "stream": "stdout",
       "text": [
        " done\r\n",
        "Processing lenders file 780/1614 ..."
       ]
      },
      {
       "output_type": "stream",
       "stream": "stdout",
       "text": [
        " done\r\n",
        "Processing lenders file 781/1614 ..."
       ]
      },
      {
       "output_type": "stream",
       "stream": "stdout",
       "text": [
        " done\r\n",
        "Processing lenders file 782/1614 ..."
       ]
      },
      {
       "output_type": "stream",
       "stream": "stdout",
       "text": [
        " done\r\n",
        "Processing lenders file 783/1614 ..."
       ]
      },
      {
       "output_type": "stream",
       "stream": "stdout",
       "text": [
        " done\r\n",
        "Processing lenders file 784/1614 ..."
       ]
      },
      {
       "output_type": "stream",
       "stream": "stdout",
       "text": [
        " done\r\n",
        "Processing lenders file 785/1614 ..."
       ]
      },
      {
       "output_type": "stream",
       "stream": "stdout",
       "text": [
        " done\r\n",
        "Processing lenders file 786/1614 ..."
       ]
      },
      {
       "output_type": "stream",
       "stream": "stdout",
       "text": [
        " done\r\n",
        "Processing lenders file 787/1614 ..."
       ]
      },
      {
       "output_type": "stream",
       "stream": "stdout",
       "text": [
        " done\r\n",
        "Processing lenders file 788/1614 ..."
       ]
      },
      {
       "output_type": "stream",
       "stream": "stdout",
       "text": [
        " done\r\n",
        "Processing lenders file 789/1614 ..."
       ]
      },
      {
       "output_type": "stream",
       "stream": "stdout",
       "text": [
        " done\r\n",
        "Processing lenders file 790/1614 ..."
       ]
      },
      {
       "output_type": "stream",
       "stream": "stdout",
       "text": [
        " done\r\n",
        "Processing lenders file 791/1614 ..."
       ]
      },
      {
       "output_type": "stream",
       "stream": "stdout",
       "text": [
        " done\r\n",
        "Processing lenders file 792/1614 ..."
       ]
      },
      {
       "output_type": "stream",
       "stream": "stdout",
       "text": [
        " done\r\n",
        "Processing lenders file 793/1614 ..."
       ]
      },
      {
       "output_type": "stream",
       "stream": "stdout",
       "text": [
        " done\r\n",
        "Processing lenders file 794/1614 ..."
       ]
      },
      {
       "output_type": "stream",
       "stream": "stdout",
       "text": [
        " done\r\n",
        "Processing lenders file 795/1614 ..."
       ]
      },
      {
       "output_type": "stream",
       "stream": "stdout",
       "text": [
        " done\r\n",
        "Processing lenders file 796/1614 ..."
       ]
      },
      {
       "output_type": "stream",
       "stream": "stdout",
       "text": [
        " done\r\n",
        "Processing lenders file 797/1614 ..."
       ]
      },
      {
       "output_type": "stream",
       "stream": "stdout",
       "text": [
        " done\r\n",
        "Processing lenders file 798/1614 ..."
       ]
      },
      {
       "output_type": "stream",
       "stream": "stdout",
       "text": [
        " done\r\n",
        "Processing lenders file 799/1614 ..."
       ]
      },
      {
       "output_type": "stream",
       "stream": "stdout",
       "text": [
        " done\r\n",
        "Processing lenders file 800/1614 ..."
       ]
      },
      {
       "output_type": "stream",
       "stream": "stdout",
       "text": [
        " done\r\n",
        "Processing lenders file 801/1614 ..."
       ]
      },
      {
       "output_type": "stream",
       "stream": "stdout",
       "text": [
        " done\r\n",
        "Processing lenders file 802/1614 ..."
       ]
      },
      {
       "output_type": "stream",
       "stream": "stdout",
       "text": [
        " done\r\n",
        "Processing lenders file 803/1614 ..."
       ]
      },
      {
       "output_type": "stream",
       "stream": "stdout",
       "text": [
        " done\r\n",
        "Processing lenders file 804/1614 ..."
       ]
      },
      {
       "output_type": "stream",
       "stream": "stdout",
       "text": [
        " done\r\n",
        "Processing lenders file 805/1614 ..."
       ]
      },
      {
       "output_type": "stream",
       "stream": "stdout",
       "text": [
        " done\r\n",
        "Processing lenders file 806/1614 ..."
       ]
      },
      {
       "output_type": "stream",
       "stream": "stdout",
       "text": [
        " done\r\n",
        "Processing lenders file 807/1614 ..."
       ]
      },
      {
       "output_type": "stream",
       "stream": "stdout",
       "text": [
        " done\r\n",
        "Processing lenders file 808/1614 ..."
       ]
      },
      {
       "output_type": "stream",
       "stream": "stdout",
       "text": [
        " done\r\n",
        "Processing lenders file 809/1614 ..."
       ]
      },
      {
       "output_type": "stream",
       "stream": "stdout",
       "text": [
        " done\r\n",
        "Processing lenders file 810/1614 ..."
       ]
      },
      {
       "output_type": "stream",
       "stream": "stdout",
       "text": [
        " done\r\n",
        "Processing lenders file 811/1614 ..."
       ]
      },
      {
       "output_type": "stream",
       "stream": "stdout",
       "text": [
        " done\r\n",
        "Processing lenders file 812/1614 ..."
       ]
      },
      {
       "output_type": "stream",
       "stream": "stdout",
       "text": [
        " done\r\n",
        "Processing lenders file 813/1614 ..."
       ]
      },
      {
       "output_type": "stream",
       "stream": "stdout",
       "text": [
        " done\r\n",
        "Processing lenders file 814/1614 ..."
       ]
      },
      {
       "output_type": "stream",
       "stream": "stdout",
       "text": [
        " done\r\n",
        "Processing lenders file 815/1614 ..."
       ]
      },
      {
       "output_type": "stream",
       "stream": "stdout",
       "text": [
        " done\r\n",
        "Processing lenders file 816/1614 ..."
       ]
      },
      {
       "output_type": "stream",
       "stream": "stdout",
       "text": [
        " done\r\n",
        "Processing lenders file 817/1614 ..."
       ]
      },
      {
       "output_type": "stream",
       "stream": "stdout",
       "text": [
        " done\r\n",
        "Processing lenders file 818/1614 ..."
       ]
      },
      {
       "output_type": "stream",
       "stream": "stdout",
       "text": [
        " done\r\n",
        "Processing lenders file 819/1614 ..."
       ]
      },
      {
       "output_type": "stream",
       "stream": "stdout",
       "text": [
        " done\r\n",
        "Processing lenders file 820/1614 ..."
       ]
      },
      {
       "output_type": "stream",
       "stream": "stdout",
       "text": [
        " done\r\n",
        "Processing lenders file 821/1614 ..."
       ]
      },
      {
       "output_type": "stream",
       "stream": "stdout",
       "text": [
        " done\r\n",
        "Processing lenders file 822/1614 ..."
       ]
      },
      {
       "output_type": "stream",
       "stream": "stdout",
       "text": [
        " done\r\n",
        "Processing lenders file 823/1614 ..."
       ]
      },
      {
       "output_type": "stream",
       "stream": "stdout",
       "text": [
        " done\r\n",
        "Processing lenders file 824/1614 ..."
       ]
      },
      {
       "output_type": "stream",
       "stream": "stdout",
       "text": [
        " done\r\n",
        "Processing lenders file 825/1614 ..."
       ]
      },
      {
       "output_type": "stream",
       "stream": "stdout",
       "text": [
        " done\r\n",
        "Processing lenders file 826/1614 ..."
       ]
      },
      {
       "output_type": "stream",
       "stream": "stdout",
       "text": [
        " done\r\n",
        "Processing lenders file 827/1614 ..."
       ]
      },
      {
       "output_type": "stream",
       "stream": "stdout",
       "text": [
        " done\r\n",
        "Processing lenders file 828/1614 ..."
       ]
      },
      {
       "output_type": "stream",
       "stream": "stdout",
       "text": [
        " done\r\n",
        "Processing lenders file 829/1614 ..."
       ]
      },
      {
       "output_type": "stream",
       "stream": "stdout",
       "text": [
        " done\r\n",
        "Processing lenders file 830/1614 ..."
       ]
      },
      {
       "output_type": "stream",
       "stream": "stdout",
       "text": [
        " done\r\n",
        "Processing lenders file 831/1614 ..."
       ]
      },
      {
       "output_type": "stream",
       "stream": "stdout",
       "text": [
        " done\r\n",
        "Processing lenders file 832/1614 ..."
       ]
      },
      {
       "output_type": "stream",
       "stream": "stdout",
       "text": [
        " done\r\n",
        "Processing lenders file 833/1614 ..."
       ]
      },
      {
       "output_type": "stream",
       "stream": "stdout",
       "text": [
        " done\r\n",
        "Processing lenders file 834/1614 ..."
       ]
      },
      {
       "output_type": "stream",
       "stream": "stdout",
       "text": [
        " done\r\n",
        "Processing lenders file 835/1614 ..."
       ]
      },
      {
       "output_type": "stream",
       "stream": "stdout",
       "text": [
        " done\r\n",
        "Processing lenders file 836/1614 ..."
       ]
      },
      {
       "output_type": "stream",
       "stream": "stdout",
       "text": [
        " done\r\n",
        "Processing lenders file 837/1614 ..."
       ]
      },
      {
       "output_type": "stream",
       "stream": "stdout",
       "text": [
        " done\r\n",
        "Processing lenders file 838/1614 ..."
       ]
      },
      {
       "output_type": "stream",
       "stream": "stdout",
       "text": [
        " done\r\n",
        "Processing lenders file 839/1614 ..."
       ]
      },
      {
       "output_type": "stream",
       "stream": "stdout",
       "text": [
        " done\r\n",
        "Processing lenders file 840/1614 ..."
       ]
      },
      {
       "output_type": "stream",
       "stream": "stdout",
       "text": [
        " done\r\n",
        "Processing lenders file 841/1614 ..."
       ]
      },
      {
       "output_type": "stream",
       "stream": "stdout",
       "text": [
        " done\r\n",
        "Processing lenders file 842/1614 ..."
       ]
      },
      {
       "output_type": "stream",
       "stream": "stdout",
       "text": [
        " done\r\n",
        "Processing lenders file 843/1614 ..."
       ]
      },
      {
       "output_type": "stream",
       "stream": "stdout",
       "text": [
        " done\r\n",
        "Processing lenders file 844/1614 ..."
       ]
      },
      {
       "output_type": "stream",
       "stream": "stdout",
       "text": [
        " done\r\n",
        "Processing lenders file 845/1614 ..."
       ]
      },
      {
       "output_type": "stream",
       "stream": "stdout",
       "text": [
        " done\r\n",
        "Processing lenders file 846/1614 ..."
       ]
      },
      {
       "output_type": "stream",
       "stream": "stdout",
       "text": [
        " done\r\n",
        "Processing lenders file 847/1614 ..."
       ]
      },
      {
       "output_type": "stream",
       "stream": "stdout",
       "text": [
        " done\r\n",
        "Processing lenders file 848/1614 ..."
       ]
      },
      {
       "output_type": "stream",
       "stream": "stdout",
       "text": [
        " done\r\n",
        "Processing lenders file 849/1614 ..."
       ]
      },
      {
       "output_type": "stream",
       "stream": "stdout",
       "text": [
        " done\r\n",
        "Processing lenders file 850/1614 ..."
       ]
      },
      {
       "output_type": "stream",
       "stream": "stdout",
       "text": [
        " done\r\n",
        "Processing lenders file 851/1614 ..."
       ]
      },
      {
       "output_type": "stream",
       "stream": "stdout",
       "text": [
        " done\r\n",
        "Processing lenders file 852/1614 ..."
       ]
      },
      {
       "output_type": "stream",
       "stream": "stdout",
       "text": [
        " done\r\n",
        "Processing lenders file 853/1614 ..."
       ]
      },
      {
       "output_type": "stream",
       "stream": "stdout",
       "text": [
        " done\r\n",
        "Processing lenders file 854/1614 ..."
       ]
      },
      {
       "output_type": "stream",
       "stream": "stdout",
       "text": [
        " done\r\n",
        "Processing lenders file 855/1614 ..."
       ]
      },
      {
       "output_type": "stream",
       "stream": "stdout",
       "text": [
        " done\r\n",
        "Processing lenders file 856/1614 ..."
       ]
      },
      {
       "output_type": "stream",
       "stream": "stdout",
       "text": [
        " done\r\n",
        "Processing lenders file 857/1614 ..."
       ]
      },
      {
       "output_type": "stream",
       "stream": "stdout",
       "text": [
        " done\r\n",
        "Processing lenders file 858/1614 ..."
       ]
      },
      {
       "output_type": "stream",
       "stream": "stdout",
       "text": [
        " done\r\n",
        "Processing lenders file 859/1614 ..."
       ]
      },
      {
       "output_type": "stream",
       "stream": "stdout",
       "text": [
        " done\r\n",
        "Processing lenders file 860/1614 ..."
       ]
      },
      {
       "output_type": "stream",
       "stream": "stdout",
       "text": [
        " done\r\n",
        "Processing lenders file 861/1614 ..."
       ]
      },
      {
       "output_type": "stream",
       "stream": "stdout",
       "text": [
        " done\r\n",
        "Processing lenders file 862/1614 ..."
       ]
      },
      {
       "output_type": "stream",
       "stream": "stdout",
       "text": [
        " done\r\n",
        "Processing lenders file 863/1614 ..."
       ]
      },
      {
       "output_type": "stream",
       "stream": "stdout",
       "text": [
        " done\r\n",
        "Processing lenders file 864/1614 ..."
       ]
      },
      {
       "output_type": "stream",
       "stream": "stdout",
       "text": [
        " done\r\n",
        "Processing lenders file 865/1614 ..."
       ]
      },
      {
       "output_type": "stream",
       "stream": "stdout",
       "text": [
        " done\r\n",
        "Processing lenders file 866/1614 ..."
       ]
      },
      {
       "output_type": "stream",
       "stream": "stdout",
       "text": [
        " done\r\n",
        "Processing lenders file 867/1614 ..."
       ]
      },
      {
       "output_type": "stream",
       "stream": "stdout",
       "text": [
        " done\r\n",
        "Processing lenders file 868/1614 ..."
       ]
      },
      {
       "output_type": "stream",
       "stream": "stdout",
       "text": [
        " done\r\n",
        "Processing lenders file 869/1614 ..."
       ]
      },
      {
       "output_type": "stream",
       "stream": "stdout",
       "text": [
        " done\r\n",
        "Processing lenders file 870/1614 ..."
       ]
      },
      {
       "output_type": "stream",
       "stream": "stdout",
       "text": [
        " done\r\n",
        "Processing lenders file 871/1614 ..."
       ]
      },
      {
       "output_type": "stream",
       "stream": "stdout",
       "text": [
        " done\r\n",
        "Processing lenders file 872/1614 ..."
       ]
      },
      {
       "output_type": "stream",
       "stream": "stdout",
       "text": [
        " done\r\n",
        "Processing lenders file 873/1614 ..."
       ]
      },
      {
       "output_type": "stream",
       "stream": "stdout",
       "text": [
        " done\r\n",
        "Processing lenders file 874/1614 ..."
       ]
      },
      {
       "output_type": "stream",
       "stream": "stdout",
       "text": [
        " done\r\n",
        "Processing lenders file 875/1614 ..."
       ]
      },
      {
       "output_type": "stream",
       "stream": "stdout",
       "text": [
        " done\r\n",
        "Processing lenders file 876/1614 ..."
       ]
      },
      {
       "output_type": "stream",
       "stream": "stdout",
       "text": [
        " done\r\n",
        "Processing lenders file 877/1614 ..."
       ]
      },
      {
       "output_type": "stream",
       "stream": "stdout",
       "text": [
        " done\r\n",
        "Processing lenders file 878/1614 ..."
       ]
      },
      {
       "output_type": "stream",
       "stream": "stdout",
       "text": [
        " done\r\n",
        "Processing lenders file 879/1614 ..."
       ]
      },
      {
       "output_type": "stream",
       "stream": "stdout",
       "text": [
        " done\r\n",
        "Processing lenders file 880/1614 ..."
       ]
      },
      {
       "output_type": "stream",
       "stream": "stdout",
       "text": [
        " done\r\n",
        "Processing lenders file 881/1614 ..."
       ]
      },
      {
       "output_type": "stream",
       "stream": "stdout",
       "text": [
        " done\r\n",
        "Processing lenders file 882/1614 ..."
       ]
      },
      {
       "output_type": "stream",
       "stream": "stdout",
       "text": [
        " done\r\n",
        "Processing lenders file 883/1614 ..."
       ]
      },
      {
       "output_type": "stream",
       "stream": "stdout",
       "text": [
        " done\r\n",
        "Processing lenders file 884/1614 ..."
       ]
      },
      {
       "output_type": "stream",
       "stream": "stdout",
       "text": [
        " done\r\n",
        "Processing lenders file 885/1614 ..."
       ]
      },
      {
       "output_type": "stream",
       "stream": "stdout",
       "text": [
        " done\r\n",
        "Processing lenders file 886/1614 ..."
       ]
      },
      {
       "output_type": "stream",
       "stream": "stdout",
       "text": [
        " done\r\n",
        "Processing lenders file 887/1614 ..."
       ]
      },
      {
       "output_type": "stream",
       "stream": "stdout",
       "text": [
        " done\r\n",
        "Processing lenders file 888/1614 ..."
       ]
      },
      {
       "output_type": "stream",
       "stream": "stdout",
       "text": [
        " done\r\n",
        "Processing lenders file 889/1614 ..."
       ]
      },
      {
       "output_type": "stream",
       "stream": "stdout",
       "text": [
        " done\r\n",
        "Processing lenders file 890/1614 ..."
       ]
      },
      {
       "output_type": "stream",
       "stream": "stdout",
       "text": [
        " done\r\n",
        "Processing lenders file 891/1614 ..."
       ]
      },
      {
       "output_type": "stream",
       "stream": "stdout",
       "text": [
        " done\r\n",
        "Processing lenders file 892/1614 ..."
       ]
      },
      {
       "output_type": "stream",
       "stream": "stdout",
       "text": [
        " done\r\n",
        "Processing lenders file 893/1614 ..."
       ]
      },
      {
       "output_type": "stream",
       "stream": "stdout",
       "text": [
        " done\r\n",
        "Processing lenders file 894/1614 ..."
       ]
      },
      {
       "output_type": "stream",
       "stream": "stdout",
       "text": [
        " done\r\n",
        "Processing lenders file 895/1614 ..."
       ]
      },
      {
       "output_type": "stream",
       "stream": "stdout",
       "text": [
        " done\r\n",
        "Processing lenders file 896/1614 ..."
       ]
      },
      {
       "output_type": "stream",
       "stream": "stdout",
       "text": [
        " done\r\n",
        "Processing lenders file 897/1614 ..."
       ]
      },
      {
       "output_type": "stream",
       "stream": "stdout",
       "text": [
        " done\r\n",
        "Processing lenders file 898/1614 ..."
       ]
      },
      {
       "output_type": "stream",
       "stream": "stdout",
       "text": [
        " done\r\n",
        "Processing lenders file 899/1614 ..."
       ]
      },
      {
       "output_type": "stream",
       "stream": "stdout",
       "text": [
        " done\r\n",
        "Processing lenders file 900/1614 ..."
       ]
      },
      {
       "output_type": "stream",
       "stream": "stdout",
       "text": [
        " done\r\n",
        "Processing lenders file 901/1614 ..."
       ]
      },
      {
       "output_type": "stream",
       "stream": "stdout",
       "text": [
        " done\r\n",
        "Processing lenders file 902/1614 ..."
       ]
      },
      {
       "output_type": "stream",
       "stream": "stdout",
       "text": [
        " done\r\n",
        "Processing lenders file 903/1614 ..."
       ]
      },
      {
       "output_type": "stream",
       "stream": "stdout",
       "text": [
        " done\r\n",
        "Processing lenders file 904/1614 ..."
       ]
      },
      {
       "output_type": "stream",
       "stream": "stdout",
       "text": [
        " done\r\n",
        "Processing lenders file 905/1614 ..."
       ]
      },
      {
       "output_type": "stream",
       "stream": "stdout",
       "text": [
        " done\r\n",
        "Processing lenders file 906/1614 ..."
       ]
      },
      {
       "output_type": "stream",
       "stream": "stdout",
       "text": [
        " done\r\n",
        "Processing lenders file 907/1614 ..."
       ]
      },
      {
       "output_type": "stream",
       "stream": "stdout",
       "text": [
        " done\r\n",
        "Processing lenders file 908/1614 ..."
       ]
      },
      {
       "output_type": "stream",
       "stream": "stdout",
       "text": [
        " done\r\n",
        "Processing lenders file 909/1614 ..."
       ]
      },
      {
       "output_type": "stream",
       "stream": "stdout",
       "text": [
        " done\r\n",
        "Processing lenders file 910/1614 ..."
       ]
      },
      {
       "output_type": "stream",
       "stream": "stdout",
       "text": [
        " done\r\n",
        "Processing lenders file 911/1614 ..."
       ]
      },
      {
       "output_type": "stream",
       "stream": "stdout",
       "text": [
        " done\r\n",
        "Processing lenders file 912/1614 ..."
       ]
      },
      {
       "output_type": "stream",
       "stream": "stdout",
       "text": [
        " done\r\n",
        "Processing lenders file 913/1614 ..."
       ]
      },
      {
       "output_type": "stream",
       "stream": "stdout",
       "text": [
        " done\r\n",
        "Processing lenders file 914/1614 ..."
       ]
      },
      {
       "output_type": "stream",
       "stream": "stdout",
       "text": [
        " done\r\n",
        "Processing lenders file 915/1614 ..."
       ]
      },
      {
       "output_type": "stream",
       "stream": "stdout",
       "text": [
        " done\r\n",
        "Processing lenders file 916/1614 ..."
       ]
      },
      {
       "output_type": "stream",
       "stream": "stdout",
       "text": [
        " done\r\n",
        "Processing lenders file 917/1614 ..."
       ]
      },
      {
       "output_type": "stream",
       "stream": "stdout",
       "text": [
        " done\r\n",
        "Processing lenders file 918/1614 ..."
       ]
      },
      {
       "output_type": "stream",
       "stream": "stdout",
       "text": [
        " done\r\n",
        "Processing lenders file 919/1614 ..."
       ]
      },
      {
       "output_type": "stream",
       "stream": "stdout",
       "text": [
        " done\r\n",
        "Processing lenders file 920/1614 ..."
       ]
      },
      {
       "output_type": "stream",
       "stream": "stdout",
       "text": [
        " done\r\n",
        "Processing lenders file 921/1614 ..."
       ]
      },
      {
       "output_type": "stream",
       "stream": "stdout",
       "text": [
        " done\r\n",
        "Processing lenders file 922/1614 ..."
       ]
      },
      {
       "output_type": "stream",
       "stream": "stdout",
       "text": [
        " done\r\n",
        "Processing lenders file 923/1614 ..."
       ]
      },
      {
       "output_type": "stream",
       "stream": "stdout",
       "text": [
        " done\r\n",
        "Processing lenders file 924/1614 ..."
       ]
      },
      {
       "output_type": "stream",
       "stream": "stdout",
       "text": [
        " done\r\n",
        "Processing lenders file 925/1614 ..."
       ]
      },
      {
       "output_type": "stream",
       "stream": "stdout",
       "text": [
        " done\r\n",
        "Processing lenders file 926/1614 ..."
       ]
      },
      {
       "output_type": "stream",
       "stream": "stdout",
       "text": [
        " done\r\n",
        "Processing lenders file 927/1614 ..."
       ]
      },
      {
       "output_type": "stream",
       "stream": "stdout",
       "text": [
        " done\r\n",
        "Processing lenders file 928/1614 ..."
       ]
      },
      {
       "output_type": "stream",
       "stream": "stdout",
       "text": [
        " done\r\n",
        "Processing lenders file 929/1614 ..."
       ]
      },
      {
       "output_type": "stream",
       "stream": "stdout",
       "text": [
        " done\r\n",
        "Processing lenders file 930/1614 ..."
       ]
      },
      {
       "output_type": "stream",
       "stream": "stdout",
       "text": [
        " done\r\n",
        "Processing lenders file 931/1614 ..."
       ]
      },
      {
       "output_type": "stream",
       "stream": "stdout",
       "text": [
        " done\r\n",
        "Processing lenders file 932/1614 ..."
       ]
      },
      {
       "output_type": "stream",
       "stream": "stdout",
       "text": [
        " done\r\n",
        "Processing lenders file 933/1614 ..."
       ]
      },
      {
       "output_type": "stream",
       "stream": "stdout",
       "text": [
        " done\r\n",
        "Processing lenders file 934/1614 ..."
       ]
      },
      {
       "output_type": "stream",
       "stream": "stdout",
       "text": [
        " done\r\n",
        "Processing lenders file 935/1614 ..."
       ]
      },
      {
       "output_type": "stream",
       "stream": "stdout",
       "text": [
        " done\r\n",
        "Processing lenders file 936/1614 ..."
       ]
      },
      {
       "output_type": "stream",
       "stream": "stdout",
       "text": [
        " done\r\n",
        "Processing lenders file 937/1614 ..."
       ]
      },
      {
       "output_type": "stream",
       "stream": "stdout",
       "text": [
        " done\r\n",
        "Processing lenders file 938/1614 ..."
       ]
      },
      {
       "output_type": "stream",
       "stream": "stdout",
       "text": [
        " done\r\n",
        "Processing lenders file 939/1614 ..."
       ]
      },
      {
       "output_type": "stream",
       "stream": "stdout",
       "text": [
        " done\r\n",
        "Processing lenders file 940/1614 ..."
       ]
      },
      {
       "output_type": "stream",
       "stream": "stdout",
       "text": [
        " done\r\n",
        "Processing lenders file 941/1614 ..."
       ]
      },
      {
       "output_type": "stream",
       "stream": "stdout",
       "text": [
        " done\r\n",
        "Processing lenders file 942/1614 ..."
       ]
      },
      {
       "output_type": "stream",
       "stream": "stdout",
       "text": [
        " done\r\n",
        "Processing lenders file 943/1614 ..."
       ]
      },
      {
       "output_type": "stream",
       "stream": "stdout",
       "text": [
        " done\r\n",
        "Processing lenders file 944/1614 ..."
       ]
      },
      {
       "output_type": "stream",
       "stream": "stdout",
       "text": [
        " done\r\n",
        "Processing lenders file 945/1614 ..."
       ]
      },
      {
       "output_type": "stream",
       "stream": "stdout",
       "text": [
        " done\r\n",
        "Processing lenders file 946/1614 ..."
       ]
      },
      {
       "output_type": "stream",
       "stream": "stdout",
       "text": [
        " done\r\n",
        "Processing lenders file 947/1614 ..."
       ]
      },
      {
       "output_type": "stream",
       "stream": "stdout",
       "text": [
        " done\r\n",
        "Processing lenders file 948/1614 ..."
       ]
      },
      {
       "output_type": "stream",
       "stream": "stdout",
       "text": [
        " done\r\n",
        "Processing lenders file 949/1614 ..."
       ]
      },
      {
       "output_type": "stream",
       "stream": "stdout",
       "text": [
        " done\r\n",
        "Processing lenders file 950/1614 ..."
       ]
      },
      {
       "output_type": "stream",
       "stream": "stdout",
       "text": [
        " done\r\n",
        "Processing lenders file 951/1614 ..."
       ]
      },
      {
       "output_type": "stream",
       "stream": "stdout",
       "text": [
        " done\r\n",
        "Processing lenders file 952/1614 ..."
       ]
      },
      {
       "output_type": "stream",
       "stream": "stdout",
       "text": [
        " done\r\n",
        "Processing lenders file 953/1614 ..."
       ]
      },
      {
       "output_type": "stream",
       "stream": "stdout",
       "text": [
        " done\r\n",
        "Processing lenders file 954/1614 ..."
       ]
      },
      {
       "output_type": "stream",
       "stream": "stdout",
       "text": [
        " done\r\n",
        "Processing lenders file 955/1614 ..."
       ]
      },
      {
       "output_type": "stream",
       "stream": "stdout",
       "text": [
        " done\r\n",
        "Processing lenders file 956/1614 ..."
       ]
      },
      {
       "output_type": "stream",
       "stream": "stdout",
       "text": [
        " done\r\n",
        "Processing lenders file 957/1614 ..."
       ]
      },
      {
       "output_type": "stream",
       "stream": "stdout",
       "text": [
        " done\r\n",
        "Processing lenders file 958/1614 ..."
       ]
      },
      {
       "output_type": "stream",
       "stream": "stdout",
       "text": [
        " done\r\n",
        "Processing lenders file 959/1614 ..."
       ]
      },
      {
       "output_type": "stream",
       "stream": "stdout",
       "text": [
        " done\r\n",
        "Processing lenders file 960/1614 ..."
       ]
      },
      {
       "output_type": "stream",
       "stream": "stdout",
       "text": [
        " done\r\n",
        "Processing lenders file 961/1614 ..."
       ]
      },
      {
       "output_type": "stream",
       "stream": "stdout",
       "text": [
        " done\r\n",
        "Processing lenders file 962/1614 ..."
       ]
      },
      {
       "output_type": "stream",
       "stream": "stdout",
       "text": [
        " done\r\n",
        "Processing lenders file 963/1614 ..."
       ]
      },
      {
       "output_type": "stream",
       "stream": "stdout",
       "text": [
        " done\r\n",
        "Processing lenders file 964/1614 ..."
       ]
      },
      {
       "output_type": "stream",
       "stream": "stdout",
       "text": [
        " done\r\n",
        "Processing lenders file 965/1614 ..."
       ]
      },
      {
       "output_type": "stream",
       "stream": "stdout",
       "text": [
        " done\r\n",
        "Processing lenders file 966/1614 ..."
       ]
      },
      {
       "output_type": "stream",
       "stream": "stdout",
       "text": [
        " done\r\n",
        "Processing lenders file 967/1614 ..."
       ]
      },
      {
       "output_type": "stream",
       "stream": "stdout",
       "text": [
        " done\r\n",
        "Processing lenders file 968/1614 ..."
       ]
      },
      {
       "output_type": "stream",
       "stream": "stdout",
       "text": [
        " done\r\n",
        "Processing lenders file 969/1614 ..."
       ]
      },
      {
       "output_type": "stream",
       "stream": "stdout",
       "text": [
        " done\r\n",
        "Processing lenders file 970/1614 ..."
       ]
      },
      {
       "output_type": "stream",
       "stream": "stdout",
       "text": [
        " done\r\n",
        "Processing lenders file 971/1614 ..."
       ]
      },
      {
       "output_type": "stream",
       "stream": "stdout",
       "text": [
        " done\r\n",
        "Processing lenders file 972/1614 ..."
       ]
      },
      {
       "output_type": "stream",
       "stream": "stdout",
       "text": [
        " done\r\n",
        "Processing lenders file 973/1614 ..."
       ]
      },
      {
       "output_type": "stream",
       "stream": "stdout",
       "text": [
        " done\r\n",
        "Processing lenders file 974/1614 ..."
       ]
      },
      {
       "output_type": "stream",
       "stream": "stdout",
       "text": [
        " done\r\n",
        "Processing lenders file 975/1614 ..."
       ]
      },
      {
       "output_type": "stream",
       "stream": "stdout",
       "text": [
        " done\r\n",
        "Processing lenders file 976/1614 ..."
       ]
      },
      {
       "output_type": "stream",
       "stream": "stdout",
       "text": [
        " done\r\n",
        "Processing lenders file 977/1614 ..."
       ]
      },
      {
       "output_type": "stream",
       "stream": "stdout",
       "text": [
        " done\r\n",
        "Processing lenders file 978/1614 ..."
       ]
      },
      {
       "output_type": "stream",
       "stream": "stdout",
       "text": [
        " done\r\n",
        "Processing lenders file 979/1614 ..."
       ]
      },
      {
       "output_type": "stream",
       "stream": "stdout",
       "text": [
        " done\r\n",
        "Processing lenders file 980/1614 ..."
       ]
      },
      {
       "output_type": "stream",
       "stream": "stdout",
       "text": [
        " done\r\n",
        "Processing lenders file 981/1614 ..."
       ]
      },
      {
       "output_type": "stream",
       "stream": "stdout",
       "text": [
        " done\r\n",
        "Processing lenders file 982/1614 ..."
       ]
      },
      {
       "output_type": "stream",
       "stream": "stdout",
       "text": [
        " done\r\n",
        "Processing lenders file 983/1614 ..."
       ]
      },
      {
       "output_type": "stream",
       "stream": "stdout",
       "text": [
        " done\r\n",
        "Processing lenders file 984/1614 ..."
       ]
      },
      {
       "output_type": "stream",
       "stream": "stdout",
       "text": [
        " done\r\n",
        "Processing lenders file 985/1614 ..."
       ]
      },
      {
       "output_type": "stream",
       "stream": "stdout",
       "text": [
        " done\r\n",
        "Processing lenders file 986/1614 ..."
       ]
      },
      {
       "output_type": "stream",
       "stream": "stdout",
       "text": [
        " done\r\n",
        "Processing lenders file 987/1614 ..."
       ]
      },
      {
       "output_type": "stream",
       "stream": "stdout",
       "text": [
        " done\r\n",
        "Processing lenders file 988/1614 ..."
       ]
      },
      {
       "output_type": "stream",
       "stream": "stdout",
       "text": [
        " done\r\n",
        "Processing lenders file 989/1614 ..."
       ]
      },
      {
       "output_type": "stream",
       "stream": "stdout",
       "text": [
        " done\r\n",
        "Processing lenders file 990/1614 ..."
       ]
      },
      {
       "output_type": "stream",
       "stream": "stdout",
       "text": [
        " done\r\n",
        "Processing lenders file 991/1614 ..."
       ]
      },
      {
       "output_type": "stream",
       "stream": "stdout",
       "text": [
        " done\r\n",
        "Processing lenders file 992/1614 ..."
       ]
      },
      {
       "output_type": "stream",
       "stream": "stdout",
       "text": [
        " done\r\n",
        "Processing lenders file 993/1614 ..."
       ]
      },
      {
       "output_type": "stream",
       "stream": "stdout",
       "text": [
        " done\r\n",
        "Processing lenders file 994/1614 ..."
       ]
      },
      {
       "output_type": "stream",
       "stream": "stdout",
       "text": [
        " done\r\n",
        "Processing lenders file 995/1614 ..."
       ]
      },
      {
       "output_type": "stream",
       "stream": "stdout",
       "text": [
        " done\r\n",
        "Processing lenders file 996/1614 ..."
       ]
      },
      {
       "output_type": "stream",
       "stream": "stdout",
       "text": [
        " done\r\n",
        "Processing lenders file 997/1614 ..."
       ]
      },
      {
       "output_type": "stream",
       "stream": "stdout",
       "text": [
        " done\r\n",
        "Processing lenders file 998/1614 ..."
       ]
      },
      {
       "output_type": "stream",
       "stream": "stdout",
       "text": [
        " done\r\n",
        "Processing lenders file 999/1614 ..."
       ]
      },
      {
       "output_type": "stream",
       "stream": "stdout",
       "text": [
        " done\r\n",
        "Processing lenders file 1000/1614 ..."
       ]
      },
      {
       "output_type": "stream",
       "stream": "stdout",
       "text": [
        " done\r\n",
        "Processing lenders file 1001/1614 ..."
       ]
      },
      {
       "output_type": "stream",
       "stream": "stdout",
       "text": [
        " done\r\n",
        "Processing lenders file 1002/1614 ..."
       ]
      },
      {
       "output_type": "stream",
       "stream": "stdout",
       "text": [
        " done\r\n",
        "Processing lenders file 1003/1614 ..."
       ]
      },
      {
       "output_type": "stream",
       "stream": "stdout",
       "text": [
        " done\r\n",
        "Processing lenders file 1004/1614 ..."
       ]
      },
      {
       "output_type": "stream",
       "stream": "stdout",
       "text": [
        " done\r\n",
        "Processing lenders file 1005/1614 ..."
       ]
      },
      {
       "output_type": "stream",
       "stream": "stdout",
       "text": [
        " done\r\n",
        "Processing lenders file 1006/1614 ..."
       ]
      },
      {
       "output_type": "stream",
       "stream": "stdout",
       "text": [
        " done\r\n",
        "Processing lenders file 1007/1614 ..."
       ]
      },
      {
       "output_type": "stream",
       "stream": "stdout",
       "text": [
        " done\r\n",
        "Processing lenders file 1008/1614 ..."
       ]
      },
      {
       "output_type": "stream",
       "stream": "stdout",
       "text": [
        " done\r\n",
        "Processing lenders file 1009/1614 ..."
       ]
      },
      {
       "output_type": "stream",
       "stream": "stdout",
       "text": [
        " done\r\n",
        "Processing lenders file 1010/1614 ..."
       ]
      },
      {
       "output_type": "stream",
       "stream": "stdout",
       "text": [
        " done\r\n",
        "Processing lenders file 1011/1614 ..."
       ]
      },
      {
       "output_type": "stream",
       "stream": "stdout",
       "text": [
        " done\r\n",
        "Processing lenders file 1012/1614 ..."
       ]
      },
      {
       "output_type": "stream",
       "stream": "stdout",
       "text": [
        " done\r\n",
        "Processing lenders file 1013/1614 ..."
       ]
      },
      {
       "output_type": "stream",
       "stream": "stdout",
       "text": [
        " done\r\n",
        "Processing lenders file 1014/1614 ..."
       ]
      },
      {
       "output_type": "stream",
       "stream": "stdout",
       "text": [
        " done\r\n",
        "Processing lenders file 1015/1614 ..."
       ]
      },
      {
       "output_type": "stream",
       "stream": "stdout",
       "text": [
        " done\r\n",
        "Processing lenders file 1016/1614 ..."
       ]
      },
      {
       "output_type": "stream",
       "stream": "stdout",
       "text": [
        " done\r\n",
        "Processing lenders file 1017/1614 ..."
       ]
      },
      {
       "output_type": "stream",
       "stream": "stdout",
       "text": [
        " done\r\n",
        "Processing lenders file 1018/1614 ..."
       ]
      },
      {
       "output_type": "stream",
       "stream": "stdout",
       "text": [
        " done\r\n",
        "Processing lenders file 1019/1614 ..."
       ]
      },
      {
       "output_type": "stream",
       "stream": "stdout",
       "text": [
        " done\r\n",
        "Processing lenders file 1020/1614 ..."
       ]
      },
      {
       "output_type": "stream",
       "stream": "stdout",
       "text": [
        " done\r\n",
        "Processing lenders file 1021/1614 ..."
       ]
      },
      {
       "output_type": "stream",
       "stream": "stdout",
       "text": [
        " done\r\n",
        "Processing lenders file 1022/1614 ..."
       ]
      },
      {
       "output_type": "stream",
       "stream": "stdout",
       "text": [
        " done\r\n",
        "Processing lenders file 1023/1614 ..."
       ]
      },
      {
       "output_type": "stream",
       "stream": "stdout",
       "text": [
        " done\r\n",
        "Processing lenders file 1024/1614 ..."
       ]
      },
      {
       "output_type": "stream",
       "stream": "stdout",
       "text": [
        " done\r\n",
        "Processing lenders file 1025/1614 ..."
       ]
      },
      {
       "output_type": "stream",
       "stream": "stdout",
       "text": [
        " done\r\n",
        "Processing lenders file 1026/1614 ..."
       ]
      },
      {
       "output_type": "stream",
       "stream": "stdout",
       "text": [
        " done\r\n",
        "Processing lenders file 1027/1614 ..."
       ]
      },
      {
       "output_type": "stream",
       "stream": "stdout",
       "text": [
        " done\r\n",
        "Processing lenders file 1028/1614 ..."
       ]
      },
      {
       "output_type": "stream",
       "stream": "stdout",
       "text": [
        " done\r\n",
        "Processing lenders file 1029/1614 ..."
       ]
      },
      {
       "output_type": "stream",
       "stream": "stdout",
       "text": [
        " done\r\n",
        "Processing lenders file 1030/1614 ..."
       ]
      },
      {
       "output_type": "stream",
       "stream": "stdout",
       "text": [
        " done\r\n",
        "Processing lenders file 1031/1614 ..."
       ]
      },
      {
       "output_type": "stream",
       "stream": "stdout",
       "text": [
        " done\r\n",
        "Processing lenders file 1032/1614 ..."
       ]
      },
      {
       "output_type": "stream",
       "stream": "stdout",
       "text": [
        " done\r\n",
        "Processing lenders file 1033/1614 ..."
       ]
      },
      {
       "output_type": "stream",
       "stream": "stdout",
       "text": [
        " done\r\n",
        "Processing lenders file 1034/1614 ..."
       ]
      },
      {
       "output_type": "stream",
       "stream": "stdout",
       "text": [
        " done\r\n",
        "Processing lenders file 1035/1614 ..."
       ]
      },
      {
       "output_type": "stream",
       "stream": "stdout",
       "text": [
        " done\r\n",
        "Processing lenders file 1036/1614 ..."
       ]
      },
      {
       "output_type": "stream",
       "stream": "stdout",
       "text": [
        " done\r\n",
        "Processing lenders file 1037/1614 ..."
       ]
      },
      {
       "output_type": "stream",
       "stream": "stdout",
       "text": [
        " done\r\n",
        "Processing lenders file 1038/1614 ..."
       ]
      },
      {
       "output_type": "stream",
       "stream": "stdout",
       "text": [
        " done\r\n",
        "Processing lenders file 1039/1614 ..."
       ]
      },
      {
       "output_type": "stream",
       "stream": "stdout",
       "text": [
        " done\r\n",
        "Processing lenders file 1040/1614 ..."
       ]
      },
      {
       "output_type": "stream",
       "stream": "stdout",
       "text": [
        " done\r\n",
        "Processing lenders file 1041/1614 ..."
       ]
      },
      {
       "output_type": "stream",
       "stream": "stdout",
       "text": [
        " done\r\n",
        "Processing lenders file 1042/1614 ..."
       ]
      },
      {
       "output_type": "stream",
       "stream": "stdout",
       "text": [
        " done\r\n",
        "Processing lenders file 1043/1614 ..."
       ]
      },
      {
       "output_type": "stream",
       "stream": "stdout",
       "text": [
        " done\r\n",
        "Processing lenders file 1044/1614 ..."
       ]
      },
      {
       "output_type": "stream",
       "stream": "stdout",
       "text": [
        " done\r\n",
        "Processing lenders file 1045/1614 ..."
       ]
      },
      {
       "output_type": "stream",
       "stream": "stdout",
       "text": [
        " done\r\n",
        "Processing lenders file 1046/1614 ..."
       ]
      },
      {
       "output_type": "stream",
       "stream": "stdout",
       "text": [
        " done\r\n",
        "Processing lenders file 1047/1614 ..."
       ]
      },
      {
       "output_type": "stream",
       "stream": "stdout",
       "text": [
        " done\r\n",
        "Processing lenders file 1048/1614 ..."
       ]
      },
      {
       "output_type": "stream",
       "stream": "stdout",
       "text": [
        " done\r\n",
        "Processing lenders file 1049/1614 ..."
       ]
      },
      {
       "output_type": "stream",
       "stream": "stdout",
       "text": [
        " done\r\n",
        "Processing lenders file 1050/1614 ..."
       ]
      },
      {
       "output_type": "stream",
       "stream": "stdout",
       "text": [
        " done\r\n",
        "Processing lenders file 1051/1614 ..."
       ]
      },
      {
       "output_type": "stream",
       "stream": "stdout",
       "text": [
        " done\r\n",
        "Processing lenders file 1052/1614 ..."
       ]
      },
      {
       "output_type": "stream",
       "stream": "stdout",
       "text": [
        " done\r\n",
        "Processing lenders file 1053/1614 ..."
       ]
      },
      {
       "output_type": "stream",
       "stream": "stdout",
       "text": [
        " done\r\n",
        "Processing lenders file 1054/1614 ..."
       ]
      },
      {
       "output_type": "stream",
       "stream": "stdout",
       "text": [
        " done\r\n",
        "Processing lenders file 1055/1614 ..."
       ]
      },
      {
       "output_type": "stream",
       "stream": "stdout",
       "text": [
        " done\r\n",
        "Processing lenders file 1056/1614 ..."
       ]
      },
      {
       "output_type": "stream",
       "stream": "stdout",
       "text": [
        " done\r\n",
        "Processing lenders file 1057/1614 ..."
       ]
      },
      {
       "output_type": "stream",
       "stream": "stdout",
       "text": [
        " done\r\n",
        "Processing lenders file 1058/1614 ..."
       ]
      },
      {
       "output_type": "stream",
       "stream": "stdout",
       "text": [
        " done\r\n",
        "Processing lenders file 1059/1614 ..."
       ]
      },
      {
       "output_type": "stream",
       "stream": "stdout",
       "text": [
        " done\r\n",
        "Processing lenders file 1060/1614 ..."
       ]
      },
      {
       "output_type": "stream",
       "stream": "stdout",
       "text": [
        " done\r\n",
        "Processing lenders file 1061/1614 ..."
       ]
      },
      {
       "output_type": "stream",
       "stream": "stdout",
       "text": [
        " done\r\n",
        "Processing lenders file 1062/1614 ..."
       ]
      },
      {
       "output_type": "stream",
       "stream": "stdout",
       "text": [
        " done\r\n",
        "Processing lenders file 1063/1614 ..."
       ]
      },
      {
       "output_type": "stream",
       "stream": "stdout",
       "text": [
        " done\r\n",
        "Processing lenders file 1064/1614 ..."
       ]
      },
      {
       "output_type": "stream",
       "stream": "stdout",
       "text": [
        " done\r\n",
        "Processing lenders file 1065/1614 ..."
       ]
      },
      {
       "output_type": "stream",
       "stream": "stdout",
       "text": [
        " done\r\n",
        "Processing lenders file 1066/1614 ..."
       ]
      },
      {
       "output_type": "stream",
       "stream": "stdout",
       "text": [
        " done\r\n",
        "Processing lenders file 1067/1614 ..."
       ]
      },
      {
       "output_type": "stream",
       "stream": "stdout",
       "text": [
        " done\r\n",
        "Processing lenders file 1068/1614 ..."
       ]
      },
      {
       "output_type": "stream",
       "stream": "stdout",
       "text": [
        " done\r\n",
        "Processing lenders file 1069/1614 ..."
       ]
      },
      {
       "output_type": "stream",
       "stream": "stdout",
       "text": [
        " done\r\n",
        "Processing lenders file 1070/1614 ..."
       ]
      },
      {
       "output_type": "stream",
       "stream": "stdout",
       "text": [
        " done\r\n",
        "Processing lenders file 1071/1614 ..."
       ]
      },
      {
       "output_type": "stream",
       "stream": "stdout",
       "text": [
        " done\r\n",
        "Processing lenders file 1072/1614 ..."
       ]
      },
      {
       "output_type": "stream",
       "stream": "stdout",
       "text": [
        " done\r\n",
        "Processing lenders file 1073/1614 ..."
       ]
      },
      {
       "output_type": "stream",
       "stream": "stdout",
       "text": [
        " done\r\n",
        "Processing lenders file 1074/1614 ..."
       ]
      },
      {
       "output_type": "stream",
       "stream": "stdout",
       "text": [
        " done\r\n",
        "Processing lenders file 1075/1614 ..."
       ]
      },
      {
       "output_type": "stream",
       "stream": "stdout",
       "text": [
        " done\r\n",
        "Processing lenders file 1076/1614 ..."
       ]
      },
      {
       "output_type": "stream",
       "stream": "stdout",
       "text": [
        " done\r\n",
        "Processing lenders file 1077/1614 ..."
       ]
      },
      {
       "output_type": "stream",
       "stream": "stdout",
       "text": [
        " done\r\n",
        "Processing lenders file 1078/1614 ..."
       ]
      },
      {
       "output_type": "stream",
       "stream": "stdout",
       "text": [
        " done\r\n",
        "Processing lenders file 1079/1614 ..."
       ]
      },
      {
       "output_type": "stream",
       "stream": "stdout",
       "text": [
        " done\r\n",
        "Processing lenders file 1080/1614 ..."
       ]
      },
      {
       "output_type": "stream",
       "stream": "stdout",
       "text": [
        " done\r\n",
        "Processing lenders file 1081/1614 ..."
       ]
      },
      {
       "output_type": "stream",
       "stream": "stdout",
       "text": [
        " done\r\n",
        "Processing lenders file 1082/1614 ..."
       ]
      },
      {
       "output_type": "stream",
       "stream": "stdout",
       "text": [
        " done\r\n",
        "Processing lenders file 1083/1614 ..."
       ]
      },
      {
       "output_type": "stream",
       "stream": "stdout",
       "text": [
        " done\r\n",
        "Processing lenders file 1084/1614 ..."
       ]
      },
      {
       "output_type": "stream",
       "stream": "stdout",
       "text": [
        " done\r\n",
        "Processing lenders file 1085/1614 ..."
       ]
      },
      {
       "output_type": "stream",
       "stream": "stdout",
       "text": [
        " done\r\n",
        "Processing lenders file 1086/1614 ..."
       ]
      },
      {
       "output_type": "stream",
       "stream": "stdout",
       "text": [
        " done\r\n",
        "Processing lenders file 1087/1614 ..."
       ]
      },
      {
       "output_type": "stream",
       "stream": "stdout",
       "text": [
        " done\r\n",
        "Processing lenders file 1088/1614 ..."
       ]
      },
      {
       "output_type": "stream",
       "stream": "stdout",
       "text": [
        " done\r\n",
        "Processing lenders file 1089/1614 ..."
       ]
      },
      {
       "output_type": "stream",
       "stream": "stdout",
       "text": [
        " done\r\n",
        "Processing lenders file 1090/1614 ..."
       ]
      },
      {
       "output_type": "stream",
       "stream": "stdout",
       "text": [
        " done\r\n",
        "Processing lenders file 1091/1614 ..."
       ]
      },
      {
       "output_type": "stream",
       "stream": "stdout",
       "text": [
        " done\r\n",
        "Processing lenders file 1092/1614 ..."
       ]
      },
      {
       "output_type": "stream",
       "stream": "stdout",
       "text": [
        " done\r\n",
        "Processing lenders file 1093/1614 ..."
       ]
      },
      {
       "output_type": "stream",
       "stream": "stdout",
       "text": [
        " done\r\n",
        "Processing lenders file 1094/1614 ..."
       ]
      },
      {
       "output_type": "stream",
       "stream": "stdout",
       "text": [
        " done\r\n",
        "Processing lenders file 1095/1614 ..."
       ]
      },
      {
       "output_type": "stream",
       "stream": "stdout",
       "text": [
        " done\r\n",
        "Processing lenders file 1096/1614 ..."
       ]
      },
      {
       "output_type": "stream",
       "stream": "stdout",
       "text": [
        " done\r\n",
        "Processing lenders file 1097/1614 ..."
       ]
      },
      {
       "output_type": "stream",
       "stream": "stdout",
       "text": [
        " done\r\n",
        "Processing lenders file 1098/1614 ..."
       ]
      },
      {
       "output_type": "stream",
       "stream": "stdout",
       "text": [
        " done\r\n",
        "Processing lenders file 1099/1614 ..."
       ]
      },
      {
       "output_type": "stream",
       "stream": "stdout",
       "text": [
        " done\r\n",
        "Processing lenders file 1100/1614 ..."
       ]
      },
      {
       "output_type": "stream",
       "stream": "stdout",
       "text": [
        " done\r\n",
        "Processing lenders file 1101/1614 ..."
       ]
      },
      {
       "output_type": "stream",
       "stream": "stdout",
       "text": [
        " done\r\n",
        "Processing lenders file 1102/1614 ..."
       ]
      },
      {
       "output_type": "stream",
       "stream": "stdout",
       "text": [
        " done\r\n",
        "Processing lenders file 1103/1614 ..."
       ]
      },
      {
       "output_type": "stream",
       "stream": "stdout",
       "text": [
        " done\r\n",
        "Processing lenders file 1104/1614 ..."
       ]
      },
      {
       "output_type": "stream",
       "stream": "stdout",
       "text": [
        " done\r\n",
        "Processing lenders file 1105/1614 ..."
       ]
      },
      {
       "output_type": "stream",
       "stream": "stdout",
       "text": [
        " done\r\n",
        "Processing lenders file 1106/1614 ..."
       ]
      },
      {
       "output_type": "stream",
       "stream": "stdout",
       "text": [
        " done\r\n",
        "Processing lenders file 1107/1614 ..."
       ]
      },
      {
       "output_type": "stream",
       "stream": "stdout",
       "text": [
        " done\r\n",
        "Processing lenders file 1108/1614 ..."
       ]
      },
      {
       "output_type": "stream",
       "stream": "stdout",
       "text": [
        " done\r\n",
        "Processing lenders file 1109/1614 ..."
       ]
      },
      {
       "output_type": "stream",
       "stream": "stdout",
       "text": [
        " done\r\n",
        "Processing lenders file 1110/1614 ..."
       ]
      },
      {
       "output_type": "stream",
       "stream": "stdout",
       "text": [
        " done\r\n",
        "Processing lenders file 1111/1614 ..."
       ]
      },
      {
       "output_type": "stream",
       "stream": "stdout",
       "text": [
        " done\r\n",
        "Processing lenders file 1112/1614 ..."
       ]
      },
      {
       "output_type": "stream",
       "stream": "stdout",
       "text": [
        " done\r\n",
        "Processing lenders file 1113/1614 ..."
       ]
      },
      {
       "output_type": "stream",
       "stream": "stdout",
       "text": [
        " done\r\n",
        "Processing lenders file 1114/1614 ..."
       ]
      },
      {
       "output_type": "stream",
       "stream": "stdout",
       "text": [
        " done\r\n",
        "Processing lenders file 1115/1614 ..."
       ]
      },
      {
       "output_type": "stream",
       "stream": "stdout",
       "text": [
        " done\r\n",
        "Processing lenders file 1116/1614 ..."
       ]
      },
      {
       "output_type": "stream",
       "stream": "stdout",
       "text": [
        " done\r\n",
        "Processing lenders file 1117/1614 ..."
       ]
      },
      {
       "output_type": "stream",
       "stream": "stdout",
       "text": [
        " done\r\n",
        "Processing lenders file 1118/1614 ..."
       ]
      },
      {
       "output_type": "stream",
       "stream": "stdout",
       "text": [
        " done\r\n",
        "Processing lenders file 1119/1614 ..."
       ]
      },
      {
       "output_type": "stream",
       "stream": "stdout",
       "text": [
        " done\r\n",
        "Processing lenders file 1120/1614 ..."
       ]
      },
      {
       "output_type": "stream",
       "stream": "stdout",
       "text": [
        " done\r\n",
        "Processing lenders file 1121/1614 ..."
       ]
      },
      {
       "output_type": "stream",
       "stream": "stdout",
       "text": [
        " done\r\n",
        "Processing lenders file 1122/1614 ..."
       ]
      },
      {
       "output_type": "stream",
       "stream": "stdout",
       "text": [
        " done\r\n",
        "Processing lenders file 1123/1614 ..."
       ]
      },
      {
       "output_type": "stream",
       "stream": "stdout",
       "text": [
        " done\r\n",
        "Processing lenders file 1124/1614 ..."
       ]
      },
      {
       "output_type": "stream",
       "stream": "stdout",
       "text": [
        " done\r\n",
        "Processing lenders file 1125/1614 ..."
       ]
      },
      {
       "output_type": "stream",
       "stream": "stdout",
       "text": [
        " done\r\n",
        "Processing lenders file 1126/1614 ..."
       ]
      },
      {
       "output_type": "stream",
       "stream": "stdout",
       "text": [
        " done\r\n",
        "Processing lenders file 1127/1614 ..."
       ]
      },
      {
       "output_type": "stream",
       "stream": "stdout",
       "text": [
        " done\r\n",
        "Processing lenders file 1128/1614 ..."
       ]
      },
      {
       "output_type": "stream",
       "stream": "stdout",
       "text": [
        " done\r\n",
        "Processing lenders file 1129/1614 ..."
       ]
      },
      {
       "output_type": "stream",
       "stream": "stdout",
       "text": [
        " done\r\n",
        "Processing lenders file 1130/1614 ..."
       ]
      },
      {
       "output_type": "stream",
       "stream": "stdout",
       "text": [
        " done\r\n",
        "Processing lenders file 1131/1614 ..."
       ]
      },
      {
       "output_type": "stream",
       "stream": "stdout",
       "text": [
        " done\r\n",
        "Processing lenders file 1132/1614 ..."
       ]
      },
      {
       "output_type": "stream",
       "stream": "stdout",
       "text": [
        " done\r\n",
        "Processing lenders file 1133/1614 ..."
       ]
      },
      {
       "output_type": "stream",
       "stream": "stdout",
       "text": [
        " done\r\n",
        "Processing lenders file 1134/1614 ..."
       ]
      },
      {
       "output_type": "stream",
       "stream": "stdout",
       "text": [
        " done\r\n",
        "Processing lenders file 1135/1614 ..."
       ]
      },
      {
       "output_type": "stream",
       "stream": "stdout",
       "text": [
        " done\r\n",
        "Processing lenders file 1136/1614 ..."
       ]
      },
      {
       "output_type": "stream",
       "stream": "stdout",
       "text": [
        " done\r\n",
        "Processing lenders file 1137/1614 ..."
       ]
      },
      {
       "output_type": "stream",
       "stream": "stdout",
       "text": [
        " done\r\n",
        "Processing lenders file 1138/1614 ..."
       ]
      },
      {
       "output_type": "stream",
       "stream": "stdout",
       "text": [
        " done\r\n",
        "Processing lenders file 1139/1614 ..."
       ]
      },
      {
       "output_type": "stream",
       "stream": "stdout",
       "text": [
        " done\r\n",
        "Processing lenders file 1140/1614 ..."
       ]
      },
      {
       "output_type": "stream",
       "stream": "stdout",
       "text": [
        " done\r\n",
        "Processing lenders file 1141/1614 ..."
       ]
      },
      {
       "output_type": "stream",
       "stream": "stdout",
       "text": [
        " done\r\n",
        "Processing lenders file 1142/1614 ..."
       ]
      },
      {
       "output_type": "stream",
       "stream": "stdout",
       "text": [
        " done\r\n",
        "Processing lenders file 1143/1614 ..."
       ]
      },
      {
       "output_type": "stream",
       "stream": "stdout",
       "text": [
        " done\r\n",
        "Processing lenders file 1144/1614 ..."
       ]
      },
      {
       "output_type": "stream",
       "stream": "stdout",
       "text": [
        " done\r\n",
        "Processing lenders file 1145/1614 ..."
       ]
      },
      {
       "output_type": "stream",
       "stream": "stdout",
       "text": [
        " done\r\n",
        "Processing lenders file 1146/1614 ..."
       ]
      },
      {
       "output_type": "stream",
       "stream": "stdout",
       "text": [
        " done\r\n",
        "Processing lenders file 1147/1614 ..."
       ]
      },
      {
       "output_type": "stream",
       "stream": "stdout",
       "text": [
        " done\r\n",
        "Processing lenders file 1148/1614 ..."
       ]
      },
      {
       "output_type": "stream",
       "stream": "stdout",
       "text": [
        " done\r\n",
        "Processing lenders file 1149/1614 ..."
       ]
      },
      {
       "output_type": "stream",
       "stream": "stdout",
       "text": [
        " done\r\n",
        "Processing lenders file 1150/1614 ..."
       ]
      },
      {
       "output_type": "stream",
       "stream": "stdout",
       "text": [
        " done\r\n",
        "Processing lenders file 1151/1614 ..."
       ]
      },
      {
       "output_type": "stream",
       "stream": "stdout",
       "text": [
        " done\r\n",
        "Processing lenders file 1152/1614 ..."
       ]
      },
      {
       "output_type": "stream",
       "stream": "stdout",
       "text": [
        " done\r\n",
        "Processing lenders file 1153/1614 ..."
       ]
      },
      {
       "output_type": "stream",
       "stream": "stdout",
       "text": [
        " done\r\n",
        "Processing lenders file 1154/1614 ..."
       ]
      },
      {
       "output_type": "stream",
       "stream": "stdout",
       "text": [
        " done\r\n",
        "Processing lenders file 1155/1614 ..."
       ]
      },
      {
       "output_type": "stream",
       "stream": "stdout",
       "text": [
        " done\r\n",
        "Processing lenders file 1156/1614 ..."
       ]
      },
      {
       "output_type": "stream",
       "stream": "stdout",
       "text": [
        " done\r\n",
        "Processing lenders file 1157/1614 ..."
       ]
      },
      {
       "output_type": "stream",
       "stream": "stdout",
       "text": [
        " done\r\n",
        "Processing lenders file 1158/1614 ..."
       ]
      },
      {
       "output_type": "stream",
       "stream": "stdout",
       "text": [
        " done\r\n",
        "Processing lenders file 1159/1614 ..."
       ]
      },
      {
       "output_type": "stream",
       "stream": "stdout",
       "text": [
        " done\r\n",
        "Processing lenders file 1160/1614 ..."
       ]
      },
      {
       "output_type": "stream",
       "stream": "stdout",
       "text": [
        " done\r\n",
        "Processing lenders file 1161/1614 ..."
       ]
      },
      {
       "output_type": "stream",
       "stream": "stdout",
       "text": [
        " done\r\n",
        "Processing lenders file 1162/1614 ..."
       ]
      },
      {
       "output_type": "stream",
       "stream": "stdout",
       "text": [
        " done\r\n",
        "Processing lenders file 1163/1614 ..."
       ]
      },
      {
       "output_type": "stream",
       "stream": "stdout",
       "text": [
        " done\r\n",
        "Processing lenders file 1164/1614 ..."
       ]
      },
      {
       "output_type": "stream",
       "stream": "stdout",
       "text": [
        " done\r\n",
        "Processing lenders file 1165/1614 ..."
       ]
      },
      {
       "output_type": "stream",
       "stream": "stdout",
       "text": [
        " done\r\n",
        "Processing lenders file 1166/1614 ..."
       ]
      },
      {
       "output_type": "stream",
       "stream": "stdout",
       "text": [
        " done\r\n",
        "Processing lenders file 1167/1614 ..."
       ]
      },
      {
       "output_type": "stream",
       "stream": "stdout",
       "text": [
        " done\r\n",
        "Processing lenders file 1168/1614 ..."
       ]
      },
      {
       "output_type": "stream",
       "stream": "stdout",
       "text": [
        " done\r\n",
        "Processing lenders file 1169/1614 ..."
       ]
      },
      {
       "output_type": "stream",
       "stream": "stdout",
       "text": [
        " done\r\n",
        "Processing lenders file 1170/1614 ..."
       ]
      },
      {
       "output_type": "stream",
       "stream": "stdout",
       "text": [
        " done\r\n",
        "Processing lenders file 1171/1614 ..."
       ]
      },
      {
       "output_type": "stream",
       "stream": "stdout",
       "text": [
        " done\r\n",
        "Processing lenders file 1172/1614 ..."
       ]
      },
      {
       "output_type": "stream",
       "stream": "stdout",
       "text": [
        " done\r\n",
        "Processing lenders file 1173/1614 ..."
       ]
      },
      {
       "output_type": "stream",
       "stream": "stdout",
       "text": [
        " done\r\n",
        "Processing lenders file 1174/1614 ..."
       ]
      },
      {
       "output_type": "stream",
       "stream": "stdout",
       "text": [
        " done\r\n",
        "Processing lenders file 1175/1614 ..."
       ]
      },
      {
       "output_type": "stream",
       "stream": "stdout",
       "text": [
        " done\r\n",
        "Processing lenders file 1176/1614 ..."
       ]
      },
      {
       "output_type": "stream",
       "stream": "stdout",
       "text": [
        " done\r\n",
        "Processing lenders file 1177/1614 ..."
       ]
      },
      {
       "output_type": "stream",
       "stream": "stdout",
       "text": [
        " done\r\n",
        "Processing lenders file 1178/1614 ..."
       ]
      },
      {
       "output_type": "stream",
       "stream": "stdout",
       "text": [
        " done\r\n",
        "Processing lenders file 1179/1614 ..."
       ]
      },
      {
       "output_type": "stream",
       "stream": "stdout",
       "text": [
        " done\r\n",
        "Processing lenders file 1180/1614 ..."
       ]
      },
      {
       "output_type": "stream",
       "stream": "stdout",
       "text": [
        " done\r\n",
        "Processing lenders file 1181/1614 ..."
       ]
      },
      {
       "output_type": "stream",
       "stream": "stdout",
       "text": [
        " done\r\n",
        "Processing lenders file 1182/1614 ..."
       ]
      },
      {
       "output_type": "stream",
       "stream": "stdout",
       "text": [
        " done\r\n",
        "Processing lenders file 1183/1614 ..."
       ]
      },
      {
       "output_type": "stream",
       "stream": "stdout",
       "text": [
        " done\r\n",
        "Processing lenders file 1184/1614 ..."
       ]
      },
      {
       "output_type": "stream",
       "stream": "stdout",
       "text": [
        " done\r\n",
        "Processing lenders file 1185/1614 ..."
       ]
      },
      {
       "output_type": "stream",
       "stream": "stdout",
       "text": [
        " done\r\n",
        "Processing lenders file 1186/1614 ..."
       ]
      },
      {
       "output_type": "stream",
       "stream": "stdout",
       "text": [
        " done\r\n",
        "Processing lenders file 1187/1614 ..."
       ]
      },
      {
       "output_type": "stream",
       "stream": "stdout",
       "text": [
        " done\r\n",
        "Processing lenders file 1188/1614 ..."
       ]
      },
      {
       "output_type": "stream",
       "stream": "stdout",
       "text": [
        " done\r\n",
        "Processing lenders file 1189/1614 ..."
       ]
      },
      {
       "output_type": "stream",
       "stream": "stdout",
       "text": [
        " done\r\n",
        "Processing lenders file 1190/1614 ..."
       ]
      },
      {
       "output_type": "stream",
       "stream": "stdout",
       "text": [
        " done\r\n",
        "Processing lenders file 1191/1614 ..."
       ]
      },
      {
       "output_type": "stream",
       "stream": "stdout",
       "text": [
        " done\r\n",
        "Processing lenders file 1192/1614 ..."
       ]
      },
      {
       "output_type": "stream",
       "stream": "stdout",
       "text": [
        " done\r\n",
        "Processing lenders file 1193/1614 ..."
       ]
      },
      {
       "output_type": "stream",
       "stream": "stdout",
       "text": [
        " done\r\n",
        "Processing lenders file 1194/1614 ..."
       ]
      },
      {
       "output_type": "stream",
       "stream": "stdout",
       "text": [
        " done\r\n",
        "Processing lenders file 1195/1614 ..."
       ]
      },
      {
       "output_type": "stream",
       "stream": "stdout",
       "text": [
        " done\r\n",
        "Processing lenders file 1196/1614 ..."
       ]
      },
      {
       "output_type": "stream",
       "stream": "stdout",
       "text": [
        " done\r\n",
        "Processing lenders file 1197/1614 ..."
       ]
      },
      {
       "output_type": "stream",
       "stream": "stdout",
       "text": [
        " done\r\n",
        "Processing lenders file 1198/1614 ..."
       ]
      },
      {
       "output_type": "stream",
       "stream": "stdout",
       "text": [
        " done\r\n",
        "Processing lenders file 1199/1614 ..."
       ]
      },
      {
       "output_type": "stream",
       "stream": "stdout",
       "text": [
        " done\r\n",
        "Processing lenders file 1200/1614 ..."
       ]
      },
      {
       "output_type": "stream",
       "stream": "stdout",
       "text": [
        " done\r\n",
        "Processing lenders file 1201/1614 ..."
       ]
      },
      {
       "output_type": "stream",
       "stream": "stdout",
       "text": [
        " done\r\n",
        "Processing lenders file 1202/1614 ..."
       ]
      },
      {
       "output_type": "stream",
       "stream": "stdout",
       "text": [
        " done\r\n",
        "Processing lenders file 1203/1614 ..."
       ]
      },
      {
       "output_type": "stream",
       "stream": "stdout",
       "text": [
        " done\r\n",
        "Processing lenders file 1204/1614 ..."
       ]
      },
      {
       "output_type": "stream",
       "stream": "stdout",
       "text": [
        " done\r\n",
        "Processing lenders file 1205/1614 ..."
       ]
      },
      {
       "output_type": "stream",
       "stream": "stdout",
       "text": [
        " done\r\n",
        "Processing lenders file 1206/1614 ..."
       ]
      },
      {
       "output_type": "stream",
       "stream": "stdout",
       "text": [
        " done\r\n",
        "Processing lenders file 1207/1614 ..."
       ]
      },
      {
       "output_type": "stream",
       "stream": "stdout",
       "text": [
        " done\r\n",
        "Processing lenders file 1208/1614 ..."
       ]
      },
      {
       "output_type": "stream",
       "stream": "stdout",
       "text": [
        " done\r\n",
        "Processing lenders file 1209/1614 ..."
       ]
      },
      {
       "output_type": "stream",
       "stream": "stdout",
       "text": [
        " done\r\n",
        "Processing lenders file 1210/1614 ..."
       ]
      },
      {
       "output_type": "stream",
       "stream": "stdout",
       "text": [
        " done\r\n",
        "Processing lenders file 1211/1614 ..."
       ]
      },
      {
       "output_type": "stream",
       "stream": "stdout",
       "text": [
        " done\r\n",
        "Processing lenders file 1212/1614 ..."
       ]
      },
      {
       "output_type": "stream",
       "stream": "stdout",
       "text": [
        " done\r\n",
        "Processing lenders file 1213/1614 ..."
       ]
      },
      {
       "output_type": "stream",
       "stream": "stdout",
       "text": [
        " done\r\n",
        "Processing lenders file 1214/1614 ..."
       ]
      },
      {
       "output_type": "stream",
       "stream": "stdout",
       "text": [
        " done\r\n",
        "Processing lenders file 1215/1614 ..."
       ]
      },
      {
       "output_type": "stream",
       "stream": "stdout",
       "text": [
        " done\r\n",
        "Processing lenders file 1216/1614 ..."
       ]
      },
      {
       "output_type": "stream",
       "stream": "stdout",
       "text": [
        " done\r\n",
        "Processing lenders file 1217/1614 ..."
       ]
      },
      {
       "output_type": "stream",
       "stream": "stdout",
       "text": [
        " done\r\n",
        "Processing lenders file 1218/1614 ..."
       ]
      },
      {
       "output_type": "stream",
       "stream": "stdout",
       "text": [
        " done\r\n",
        "Processing lenders file 1219/1614 ..."
       ]
      },
      {
       "output_type": "stream",
       "stream": "stdout",
       "text": [
        " done\r\n",
        "Processing lenders file 1220/1614 ..."
       ]
      },
      {
       "output_type": "stream",
       "stream": "stdout",
       "text": [
        " done\r\n",
        "Processing lenders file 1221/1614 ..."
       ]
      },
      {
       "output_type": "stream",
       "stream": "stdout",
       "text": [
        " done\r\n",
        "Processing lenders file 1222/1614 ..."
       ]
      },
      {
       "output_type": "stream",
       "stream": "stdout",
       "text": [
        " done\r\n",
        "Processing lenders file 1223/1614 ..."
       ]
      },
      {
       "output_type": "stream",
       "stream": "stdout",
       "text": [
        " done\r\n",
        "Processing lenders file 1224/1614 ..."
       ]
      },
      {
       "output_type": "stream",
       "stream": "stdout",
       "text": [
        " done\r\n",
        "Processing lenders file 1225/1614 ..."
       ]
      },
      {
       "output_type": "stream",
       "stream": "stdout",
       "text": [
        " done\r\n",
        "Processing lenders file 1226/1614 ..."
       ]
      },
      {
       "output_type": "stream",
       "stream": "stdout",
       "text": [
        " done\r\n",
        "Processing lenders file 1227/1614 ..."
       ]
      },
      {
       "output_type": "stream",
       "stream": "stdout",
       "text": [
        " done\r\n",
        "Processing lenders file 1228/1614 ..."
       ]
      },
      {
       "output_type": "stream",
       "stream": "stdout",
       "text": [
        " done\r\n",
        "Processing lenders file 1229/1614 ..."
       ]
      },
      {
       "output_type": "stream",
       "stream": "stdout",
       "text": [
        " done\r\n",
        "Processing lenders file 1230/1614 ..."
       ]
      },
      {
       "output_type": "stream",
       "stream": "stdout",
       "text": [
        " done\r\n",
        "Processing lenders file 1231/1614 ..."
       ]
      },
      {
       "output_type": "stream",
       "stream": "stdout",
       "text": [
        " done\r\n",
        "Processing lenders file 1232/1614 ..."
       ]
      },
      {
       "output_type": "stream",
       "stream": "stdout",
       "text": [
        " done\r\n",
        "Processing lenders file 1233/1614 ..."
       ]
      },
      {
       "output_type": "stream",
       "stream": "stdout",
       "text": [
        " done\r\n",
        "Processing lenders file 1234/1614 ..."
       ]
      },
      {
       "output_type": "stream",
       "stream": "stdout",
       "text": [
        " done\r\n",
        "Processing lenders file 1235/1614 ..."
       ]
      },
      {
       "output_type": "stream",
       "stream": "stdout",
       "text": [
        " done\r\n",
        "Processing lenders file 1236/1614 ..."
       ]
      },
      {
       "output_type": "stream",
       "stream": "stdout",
       "text": [
        " done\r\n",
        "Processing lenders file 1237/1614 ..."
       ]
      },
      {
       "output_type": "stream",
       "stream": "stdout",
       "text": [
        " done\r\n",
        "Processing lenders file 1238/1614 ..."
       ]
      },
      {
       "output_type": "stream",
       "stream": "stdout",
       "text": [
        " done\r\n",
        "Processing lenders file 1239/1614 ..."
       ]
      },
      {
       "output_type": "stream",
       "stream": "stdout",
       "text": [
        " done\r\n",
        "Processing lenders file 1240/1614 ..."
       ]
      },
      {
       "output_type": "stream",
       "stream": "stdout",
       "text": [
        " done\r\n",
        "Processing lenders file 1241/1614 ..."
       ]
      },
      {
       "output_type": "stream",
       "stream": "stdout",
       "text": [
        " done\r\n",
        "Processing lenders file 1242/1614 ..."
       ]
      },
      {
       "output_type": "stream",
       "stream": "stdout",
       "text": [
        " done\r\n",
        "Processing lenders file 1243/1614 ..."
       ]
      },
      {
       "output_type": "stream",
       "stream": "stdout",
       "text": [
        " done\r\n",
        "Processing lenders file 1244/1614 ..."
       ]
      },
      {
       "output_type": "stream",
       "stream": "stdout",
       "text": [
        " done\r\n",
        "Processing lenders file 1245/1614 ..."
       ]
      },
      {
       "output_type": "stream",
       "stream": "stdout",
       "text": [
        " done\r\n",
        "Processing lenders file 1246/1614 ..."
       ]
      },
      {
       "output_type": "stream",
       "stream": "stdout",
       "text": [
        " done\r\n",
        "Processing lenders file 1247/1614 ..."
       ]
      },
      {
       "output_type": "stream",
       "stream": "stdout",
       "text": [
        " done\r\n",
        "Processing lenders file 1248/1614 ..."
       ]
      },
      {
       "output_type": "stream",
       "stream": "stdout",
       "text": [
        " done\r\n",
        "Processing lenders file 1249/1614 ..."
       ]
      },
      {
       "output_type": "stream",
       "stream": "stdout",
       "text": [
        " done\r\n",
        "Processing lenders file 1250/1614 ..."
       ]
      },
      {
       "output_type": "stream",
       "stream": "stdout",
       "text": [
        " done\r\n",
        "Processing lenders file 1251/1614 ..."
       ]
      },
      {
       "output_type": "stream",
       "stream": "stdout",
       "text": [
        " done\r\n",
        "Processing lenders file 1252/1614 ..."
       ]
      },
      {
       "output_type": "stream",
       "stream": "stdout",
       "text": [
        " done\r\n",
        "Processing lenders file 1253/1614 ..."
       ]
      },
      {
       "output_type": "stream",
       "stream": "stdout",
       "text": [
        " done\r\n",
        "Processing lenders file 1254/1614 ..."
       ]
      },
      {
       "output_type": "stream",
       "stream": "stdout",
       "text": [
        " done\r\n",
        "Processing lenders file 1255/1614 ..."
       ]
      },
      {
       "output_type": "stream",
       "stream": "stdout",
       "text": [
        " done\r\n",
        "Processing lenders file 1256/1614 ..."
       ]
      },
      {
       "output_type": "stream",
       "stream": "stdout",
       "text": [
        " done\r\n",
        "Processing lenders file 1257/1614 ..."
       ]
      },
      {
       "output_type": "stream",
       "stream": "stdout",
       "text": [
        " done\r\n",
        "Processing lenders file 1258/1614 ..."
       ]
      },
      {
       "output_type": "stream",
       "stream": "stdout",
       "text": [
        " done\r\n",
        "Processing lenders file 1259/1614 ..."
       ]
      },
      {
       "output_type": "stream",
       "stream": "stdout",
       "text": [
        " done\r\n",
        "Processing lenders file 1260/1614 ..."
       ]
      },
      {
       "output_type": "stream",
       "stream": "stdout",
       "text": [
        " done\r\n",
        "Processing lenders file 1261/1614 ..."
       ]
      },
      {
       "output_type": "stream",
       "stream": "stdout",
       "text": [
        " done\r\n",
        "Processing lenders file 1262/1614 ..."
       ]
      },
      {
       "output_type": "stream",
       "stream": "stdout",
       "text": [
        " done\r\n",
        "Processing lenders file 1263/1614 ..."
       ]
      },
      {
       "output_type": "stream",
       "stream": "stdout",
       "text": [
        " done\r\n",
        "Processing lenders file 1264/1614 ..."
       ]
      },
      {
       "output_type": "stream",
       "stream": "stdout",
       "text": [
        " done\r\n",
        "Processing lenders file 1265/1614 ..."
       ]
      },
      {
       "output_type": "stream",
       "stream": "stdout",
       "text": [
        " done\r\n",
        "Processing lenders file 1266/1614 ..."
       ]
      },
      {
       "output_type": "stream",
       "stream": "stdout",
       "text": [
        " done\r\n",
        "Processing lenders file 1267/1614 ..."
       ]
      },
      {
       "output_type": "stream",
       "stream": "stdout",
       "text": [
        " done\r\n",
        "Processing lenders file 1268/1614 ..."
       ]
      },
      {
       "output_type": "stream",
       "stream": "stdout",
       "text": [
        " done\r\n",
        "Processing lenders file 1269/1614 ..."
       ]
      },
      {
       "output_type": "stream",
       "stream": "stdout",
       "text": [
        " done\r\n",
        "Processing lenders file 1270/1614 ..."
       ]
      },
      {
       "output_type": "stream",
       "stream": "stdout",
       "text": [
        " done\r\n",
        "Processing lenders file 1271/1614 ..."
       ]
      },
      {
       "output_type": "stream",
       "stream": "stdout",
       "text": [
        " done\r\n",
        "Processing lenders file 1272/1614 ..."
       ]
      },
      {
       "output_type": "stream",
       "stream": "stdout",
       "text": [
        " done\r\n",
        "Processing lenders file 1273/1614 ..."
       ]
      },
      {
       "output_type": "stream",
       "stream": "stdout",
       "text": [
        " done\r\n",
        "Processing lenders file 1274/1614 ..."
       ]
      },
      {
       "output_type": "stream",
       "stream": "stdout",
       "text": [
        " done\r\n",
        "Processing lenders file 1275/1614 ..."
       ]
      },
      {
       "output_type": "stream",
       "stream": "stdout",
       "text": [
        " done\r\n",
        "Processing lenders file 1276/1614 ..."
       ]
      },
      {
       "output_type": "stream",
       "stream": "stdout",
       "text": [
        " done\r\n",
        "Processing lenders file 1277/1614 ..."
       ]
      },
      {
       "output_type": "stream",
       "stream": "stdout",
       "text": [
        " done\r\n",
        "Processing lenders file 1278/1614 ..."
       ]
      },
      {
       "output_type": "stream",
       "stream": "stdout",
       "text": [
        " done\r\n",
        "Processing lenders file 1279/1614 ..."
       ]
      },
      {
       "output_type": "stream",
       "stream": "stdout",
       "text": [
        " done\r\n",
        "Processing lenders file 1280/1614 ..."
       ]
      },
      {
       "output_type": "stream",
       "stream": "stdout",
       "text": [
        " done\r\n",
        "Processing lenders file 1281/1614 ..."
       ]
      },
      {
       "output_type": "stream",
       "stream": "stdout",
       "text": [
        " done\r\n",
        "Processing lenders file 1282/1614 ..."
       ]
      },
      {
       "output_type": "stream",
       "stream": "stdout",
       "text": [
        " done\r\n",
        "Processing lenders file 1283/1614 ..."
       ]
      },
      {
       "output_type": "stream",
       "stream": "stdout",
       "text": [
        " done\r\n",
        "Processing lenders file 1284/1614 ..."
       ]
      },
      {
       "output_type": "stream",
       "stream": "stdout",
       "text": [
        " done\r\n",
        "Processing lenders file 1285/1614 ..."
       ]
      },
      {
       "output_type": "stream",
       "stream": "stdout",
       "text": [
        " done\r\n",
        "Processing lenders file 1286/1614 ..."
       ]
      },
      {
       "output_type": "stream",
       "stream": "stdout",
       "text": [
        " done\r\n",
        "Processing lenders file 1287/1614 ..."
       ]
      },
      {
       "output_type": "stream",
       "stream": "stdout",
       "text": [
        " done\r\n",
        "Processing lenders file 1288/1614 ..."
       ]
      },
      {
       "output_type": "stream",
       "stream": "stdout",
       "text": [
        " done\r\n",
        "Processing lenders file 1289/1614 ..."
       ]
      },
      {
       "output_type": "stream",
       "stream": "stdout",
       "text": [
        " done\r\n",
        "Processing lenders file 1290/1614 ..."
       ]
      },
      {
       "output_type": "stream",
       "stream": "stdout",
       "text": [
        " done\r\n",
        "Processing lenders file 1291/1614 ..."
       ]
      },
      {
       "output_type": "stream",
       "stream": "stdout",
       "text": [
        " done\r\n",
        "Processing lenders file 1292/1614 ..."
       ]
      },
      {
       "output_type": "stream",
       "stream": "stdout",
       "text": [
        " done\r\n",
        "Processing lenders file 1293/1614 ..."
       ]
      },
      {
       "output_type": "stream",
       "stream": "stdout",
       "text": [
        " done\r\n",
        "Processing lenders file 1294/1614 ..."
       ]
      },
      {
       "output_type": "stream",
       "stream": "stdout",
       "text": [
        " done\r\n",
        "Processing lenders file 1295/1614 ..."
       ]
      },
      {
       "output_type": "stream",
       "stream": "stdout",
       "text": [
        " done\r\n",
        "Processing lenders file 1296/1614 ..."
       ]
      },
      {
       "output_type": "stream",
       "stream": "stdout",
       "text": [
        " done\r\n",
        "Processing lenders file 1297/1614 ..."
       ]
      },
      {
       "output_type": "stream",
       "stream": "stdout",
       "text": [
        " done\r\n",
        "Processing lenders file 1298/1614 ..."
       ]
      },
      {
       "output_type": "stream",
       "stream": "stdout",
       "text": [
        " done\r\n",
        "Processing lenders file 1299/1614 ..."
       ]
      },
      {
       "output_type": "stream",
       "stream": "stdout",
       "text": [
        " done\r\n",
        "Processing lenders file 1300/1614 ..."
       ]
      },
      {
       "output_type": "stream",
       "stream": "stdout",
       "text": [
        " done\r\n",
        "Processing lenders file 1301/1614 ..."
       ]
      },
      {
       "output_type": "stream",
       "stream": "stdout",
       "text": [
        " done\r\n",
        "Processing lenders file 1302/1614 ..."
       ]
      },
      {
       "output_type": "stream",
       "stream": "stdout",
       "text": [
        " done\r\n",
        "Processing lenders file 1303/1614 ..."
       ]
      },
      {
       "output_type": "stream",
       "stream": "stdout",
       "text": [
        " done\r\n",
        "Processing lenders file 1304/1614 ..."
       ]
      },
      {
       "output_type": "stream",
       "stream": "stdout",
       "text": [
        " done\r\n",
        "Processing lenders file 1305/1614 ..."
       ]
      },
      {
       "output_type": "stream",
       "stream": "stdout",
       "text": [
        " done\r\n",
        "Processing lenders file 1306/1614 ..."
       ]
      },
      {
       "output_type": "stream",
       "stream": "stdout",
       "text": [
        " done\r\n",
        "Processing lenders file 1307/1614 ..."
       ]
      },
      {
       "output_type": "stream",
       "stream": "stdout",
       "text": [
        " done\r\n",
        "Processing lenders file 1308/1614 ..."
       ]
      },
      {
       "output_type": "stream",
       "stream": "stdout",
       "text": [
        " done\r\n",
        "Processing lenders file 1309/1614 ..."
       ]
      },
      {
       "output_type": "stream",
       "stream": "stdout",
       "text": [
        " done\r\n",
        "Processing lenders file 1310/1614 ..."
       ]
      },
      {
       "output_type": "stream",
       "stream": "stdout",
       "text": [
        " done\r\n",
        "Processing lenders file 1311/1614 ..."
       ]
      },
      {
       "output_type": "stream",
       "stream": "stdout",
       "text": [
        " done\r\n",
        "Processing lenders file 1312/1614 ..."
       ]
      },
      {
       "output_type": "stream",
       "stream": "stdout",
       "text": [
        " done\r\n",
        "Processing lenders file 1313/1614 ..."
       ]
      },
      {
       "output_type": "stream",
       "stream": "stdout",
       "text": [
        " done\r\n",
        "Processing lenders file 1314/1614 ..."
       ]
      },
      {
       "output_type": "stream",
       "stream": "stdout",
       "text": [
        " done\r\n",
        "Processing lenders file 1315/1614 ..."
       ]
      },
      {
       "output_type": "stream",
       "stream": "stdout",
       "text": [
        " done\r\n",
        "Processing lenders file 1316/1614 ..."
       ]
      },
      {
       "output_type": "stream",
       "stream": "stdout",
       "text": [
        " done\r\n",
        "Processing lenders file 1317/1614 ..."
       ]
      },
      {
       "output_type": "stream",
       "stream": "stdout",
       "text": [
        " done\r\n",
        "Processing lenders file 1318/1614 ..."
       ]
      },
      {
       "output_type": "stream",
       "stream": "stdout",
       "text": [
        " done\r\n",
        "Processing lenders file 1319/1614 ..."
       ]
      },
      {
       "output_type": "stream",
       "stream": "stdout",
       "text": [
        " done\r\n",
        "Processing lenders file 1320/1614 ..."
       ]
      },
      {
       "output_type": "stream",
       "stream": "stdout",
       "text": [
        " done\r\n",
        "Processing lenders file 1321/1614 ..."
       ]
      },
      {
       "output_type": "stream",
       "stream": "stdout",
       "text": [
        " done\r\n",
        "Processing lenders file 1322/1614 ..."
       ]
      },
      {
       "output_type": "stream",
       "stream": "stdout",
       "text": [
        " done\r\n",
        "Processing lenders file 1323/1614 ..."
       ]
      },
      {
       "output_type": "stream",
       "stream": "stdout",
       "text": [
        " done\r\n",
        "Processing lenders file 1324/1614 ..."
       ]
      },
      {
       "output_type": "stream",
       "stream": "stdout",
       "text": [
        " done\r\n",
        "Processing lenders file 1325/1614 ..."
       ]
      },
      {
       "output_type": "stream",
       "stream": "stdout",
       "text": [
        " done\r\n",
        "Processing lenders file 1326/1614 ..."
       ]
      },
      {
       "output_type": "stream",
       "stream": "stdout",
       "text": [
        " done\r\n",
        "Processing lenders file 1327/1614 ..."
       ]
      },
      {
       "output_type": "stream",
       "stream": "stdout",
       "text": [
        " done\r\n",
        "Processing lenders file 1328/1614 ..."
       ]
      },
      {
       "output_type": "stream",
       "stream": "stdout",
       "text": [
        " done\r\n",
        "Processing lenders file 1329/1614 ..."
       ]
      },
      {
       "output_type": "stream",
       "stream": "stdout",
       "text": [
        " done\r\n",
        "Processing lenders file 1330/1614 ..."
       ]
      },
      {
       "output_type": "stream",
       "stream": "stdout",
       "text": [
        " done\r\n",
        "Processing lenders file 1331/1614 ..."
       ]
      },
      {
       "output_type": "stream",
       "stream": "stdout",
       "text": [
        " done\r\n",
        "Processing lenders file 1332/1614 ..."
       ]
      },
      {
       "output_type": "stream",
       "stream": "stdout",
       "text": [
        " done\r\n",
        "Processing lenders file 1333/1614 ..."
       ]
      },
      {
       "output_type": "stream",
       "stream": "stdout",
       "text": [
        " done\r\n",
        "Processing lenders file 1334/1614 ..."
       ]
      },
      {
       "output_type": "stream",
       "stream": "stdout",
       "text": [
        " done\r\n",
        "Processing lenders file 1335/1614 ..."
       ]
      },
      {
       "output_type": "stream",
       "stream": "stdout",
       "text": [
        " done\r\n",
        "Processing lenders file 1336/1614 ..."
       ]
      },
      {
       "output_type": "stream",
       "stream": "stdout",
       "text": [
        " done\r\n",
        "Processing lenders file 1337/1614 ..."
       ]
      },
      {
       "output_type": "stream",
       "stream": "stdout",
       "text": [
        " done\r\n",
        "Processing lenders file 1338/1614 ..."
       ]
      },
      {
       "output_type": "stream",
       "stream": "stdout",
       "text": [
        " done\r\n",
        "Processing lenders file 1339/1614 ..."
       ]
      },
      {
       "output_type": "stream",
       "stream": "stdout",
       "text": [
        " done\r\n",
        "Processing lenders file 1340/1614 ..."
       ]
      },
      {
       "output_type": "stream",
       "stream": "stdout",
       "text": [
        " done\r\n",
        "Processing lenders file 1341/1614 ..."
       ]
      },
      {
       "output_type": "stream",
       "stream": "stdout",
       "text": [
        " done\r\n",
        "Processing lenders file 1342/1614 ..."
       ]
      },
      {
       "output_type": "stream",
       "stream": "stdout",
       "text": [
        " done\r\n",
        "Processing lenders file 1343/1614 ..."
       ]
      },
      {
       "output_type": "stream",
       "stream": "stdout",
       "text": [
        " done\r\n",
        "Processing lenders file 1344/1614 ..."
       ]
      },
      {
       "output_type": "stream",
       "stream": "stdout",
       "text": [
        " done\r\n",
        "Processing lenders file 1345/1614 ..."
       ]
      },
      {
       "output_type": "stream",
       "stream": "stdout",
       "text": [
        " done\r\n",
        "Processing lenders file 1346/1614 ..."
       ]
      },
      {
       "output_type": "stream",
       "stream": "stdout",
       "text": [
        " done\r\n",
        "Processing lenders file 1347/1614 ..."
       ]
      },
      {
       "output_type": "stream",
       "stream": "stdout",
       "text": [
        " done\r\n",
        "Processing lenders file 1348/1614 ..."
       ]
      },
      {
       "output_type": "stream",
       "stream": "stdout",
       "text": [
        " done\r\n",
        "Processing lenders file 1349/1614 ..."
       ]
      },
      {
       "output_type": "stream",
       "stream": "stdout",
       "text": [
        " done\r\n",
        "Processing lenders file 1350/1614 ..."
       ]
      },
      {
       "output_type": "stream",
       "stream": "stdout",
       "text": [
        " done\r\n",
        "Processing lenders file 1351/1614 ..."
       ]
      },
      {
       "output_type": "stream",
       "stream": "stdout",
       "text": [
        " done\r\n",
        "Processing lenders file 1352/1614 ..."
       ]
      },
      {
       "output_type": "stream",
       "stream": "stdout",
       "text": [
        " done\r\n",
        "Processing lenders file 1353/1614 ..."
       ]
      },
      {
       "output_type": "stream",
       "stream": "stdout",
       "text": [
        " done\r\n",
        "Processing lenders file 1354/1614 ..."
       ]
      },
      {
       "output_type": "stream",
       "stream": "stdout",
       "text": [
        " done\r\n",
        "Processing lenders file 1355/1614 ..."
       ]
      },
      {
       "output_type": "stream",
       "stream": "stdout",
       "text": [
        " done\r\n",
        "Processing lenders file 1356/1614 ..."
       ]
      },
      {
       "output_type": "stream",
       "stream": "stdout",
       "text": [
        " done\r\n",
        "Processing lenders file 1357/1614 ..."
       ]
      },
      {
       "output_type": "stream",
       "stream": "stdout",
       "text": [
        " done\r\n",
        "Processing lenders file 1358/1614 ..."
       ]
      },
      {
       "output_type": "stream",
       "stream": "stdout",
       "text": [
        " done\r\n",
        "Processing lenders file 1359/1614 ..."
       ]
      },
      {
       "output_type": "stream",
       "stream": "stdout",
       "text": [
        " done\r\n",
        "Processing lenders file 1360/1614 ..."
       ]
      },
      {
       "output_type": "stream",
       "stream": "stdout",
       "text": [
        " done\r\n",
        "Processing lenders file 1361/1614 ..."
       ]
      },
      {
       "output_type": "stream",
       "stream": "stdout",
       "text": [
        " done\r\n",
        "Processing lenders file 1362/1614 ..."
       ]
      },
      {
       "output_type": "stream",
       "stream": "stdout",
       "text": [
        " done\r\n",
        "Processing lenders file 1363/1614 ..."
       ]
      },
      {
       "output_type": "stream",
       "stream": "stdout",
       "text": [
        " done\r\n",
        "Processing lenders file 1364/1614 ..."
       ]
      },
      {
       "output_type": "stream",
       "stream": "stdout",
       "text": [
        " done\r\n",
        "Processing lenders file 1365/1614 ..."
       ]
      },
      {
       "output_type": "stream",
       "stream": "stdout",
       "text": [
        " done\r\n",
        "Processing lenders file 1366/1614 ..."
       ]
      },
      {
       "output_type": "stream",
       "stream": "stdout",
       "text": [
        " done\r\n",
        "Processing lenders file 1367/1614 ..."
       ]
      },
      {
       "output_type": "stream",
       "stream": "stdout",
       "text": [
        " done\r\n",
        "Processing lenders file 1368/1614 ..."
       ]
      },
      {
       "output_type": "stream",
       "stream": "stdout",
       "text": [
        " done\r\n",
        "Processing lenders file 1369/1614 ..."
       ]
      },
      {
       "output_type": "stream",
       "stream": "stdout",
       "text": [
        " done\r\n",
        "Processing lenders file 1370/1614 ..."
       ]
      },
      {
       "output_type": "stream",
       "stream": "stdout",
       "text": [
        " done\r\n",
        "Processing lenders file 1371/1614 ..."
       ]
      },
      {
       "output_type": "stream",
       "stream": "stdout",
       "text": [
        " done\r\n",
        "Processing lenders file 1372/1614 ..."
       ]
      },
      {
       "output_type": "stream",
       "stream": "stdout",
       "text": [
        " done\r\n",
        "Processing lenders file 1373/1614 ..."
       ]
      },
      {
       "output_type": "stream",
       "stream": "stdout",
       "text": [
        " done\r\n",
        "Processing lenders file 1374/1614 ..."
       ]
      },
      {
       "output_type": "stream",
       "stream": "stdout",
       "text": [
        " done\r\n",
        "Processing lenders file 1375/1614 ..."
       ]
      },
      {
       "output_type": "stream",
       "stream": "stdout",
       "text": [
        " done\r\n",
        "Processing lenders file 1376/1614 ..."
       ]
      },
      {
       "output_type": "stream",
       "stream": "stdout",
       "text": [
        " done\r\n",
        "Processing lenders file 1377/1614 ..."
       ]
      },
      {
       "output_type": "stream",
       "stream": "stdout",
       "text": [
        " done\r\n",
        "Processing lenders file 1378/1614 ..."
       ]
      },
      {
       "output_type": "stream",
       "stream": "stdout",
       "text": [
        " done\r\n",
        "Processing lenders file 1379/1614 ..."
       ]
      },
      {
       "output_type": "stream",
       "stream": "stdout",
       "text": [
        " done\r\n",
        "Processing lenders file 1380/1614 ..."
       ]
      },
      {
       "output_type": "stream",
       "stream": "stdout",
       "text": [
        " done\r\n",
        "Processing lenders file 1381/1614 ..."
       ]
      },
      {
       "output_type": "stream",
       "stream": "stdout",
       "text": [
        " done\r\n",
        "Processing lenders file 1382/1614 ..."
       ]
      },
      {
       "output_type": "stream",
       "stream": "stdout",
       "text": [
        " done\r\n",
        "Processing lenders file 1383/1614 ..."
       ]
      },
      {
       "output_type": "stream",
       "stream": "stdout",
       "text": [
        " done\r\n",
        "Processing lenders file 1384/1614 ..."
       ]
      },
      {
       "output_type": "stream",
       "stream": "stdout",
       "text": [
        " done\r\n",
        "Processing lenders file 1385/1614 ..."
       ]
      },
      {
       "output_type": "stream",
       "stream": "stdout",
       "text": [
        " done\r\n",
        "Processing lenders file 1386/1614 ..."
       ]
      },
      {
       "output_type": "stream",
       "stream": "stdout",
       "text": [
        " done\r\n",
        "Processing lenders file 1387/1614 ..."
       ]
      },
      {
       "output_type": "stream",
       "stream": "stdout",
       "text": [
        " done\r\n",
        "Processing lenders file 1388/1614 ..."
       ]
      },
      {
       "output_type": "stream",
       "stream": "stdout",
       "text": [
        " done\r\n",
        "Processing lenders file 1389/1614 ..."
       ]
      },
      {
       "output_type": "stream",
       "stream": "stdout",
       "text": [
        " done\r\n",
        "Processing lenders file 1390/1614 ..."
       ]
      },
      {
       "output_type": "stream",
       "stream": "stdout",
       "text": [
        " done\r\n",
        "Processing lenders file 1391/1614 ..."
       ]
      },
      {
       "output_type": "stream",
       "stream": "stdout",
       "text": [
        " done\r\n",
        "Processing lenders file 1392/1614 ..."
       ]
      },
      {
       "output_type": "stream",
       "stream": "stdout",
       "text": [
        " done\r\n",
        "Processing lenders file 1393/1614 ..."
       ]
      },
      {
       "output_type": "stream",
       "stream": "stdout",
       "text": [
        " done\r\n",
        "Processing lenders file 1394/1614 ..."
       ]
      },
      {
       "output_type": "stream",
       "stream": "stdout",
       "text": [
        " done\r\n",
        "Processing lenders file 1395/1614 ..."
       ]
      },
      {
       "output_type": "stream",
       "stream": "stdout",
       "text": [
        " done\r\n",
        "Processing lenders file 1396/1614 ..."
       ]
      },
      {
       "output_type": "stream",
       "stream": "stdout",
       "text": [
        " done\r\n",
        "Processing lenders file 1397/1614 ..."
       ]
      },
      {
       "output_type": "stream",
       "stream": "stdout",
       "text": [
        " done\r\n",
        "Processing lenders file 1398/1614 ..."
       ]
      },
      {
       "output_type": "stream",
       "stream": "stdout",
       "text": [
        " done\r\n",
        "Processing lenders file 1399/1614 ..."
       ]
      },
      {
       "output_type": "stream",
       "stream": "stdout",
       "text": [
        " done\r\n",
        "Processing lenders file 1400/1614 ..."
       ]
      },
      {
       "output_type": "stream",
       "stream": "stdout",
       "text": [
        " done\r\n",
        "Processing lenders file 1401/1614 ..."
       ]
      },
      {
       "output_type": "stream",
       "stream": "stdout",
       "text": [
        " done\r\n",
        "Processing lenders file 1402/1614 ..."
       ]
      },
      {
       "output_type": "stream",
       "stream": "stdout",
       "text": [
        " done\r\n",
        "Processing lenders file 1403/1614 ..."
       ]
      },
      {
       "output_type": "stream",
       "stream": "stdout",
       "text": [
        " done\r\n",
        "Processing lenders file 1404/1614 ..."
       ]
      },
      {
       "output_type": "stream",
       "stream": "stdout",
       "text": [
        " done\r\n",
        "Processing lenders file 1405/1614 ..."
       ]
      },
      {
       "output_type": "stream",
       "stream": "stdout",
       "text": [
        " done\r\n",
        "Processing lenders file 1406/1614 ..."
       ]
      },
      {
       "output_type": "stream",
       "stream": "stdout",
       "text": [
        " done\r\n",
        "Processing lenders file 1407/1614 ..."
       ]
      },
      {
       "output_type": "stream",
       "stream": "stdout",
       "text": [
        " done\r\n",
        "Processing lenders file 1408/1614 ..."
       ]
      },
      {
       "output_type": "stream",
       "stream": "stdout",
       "text": [
        " done\r\n",
        "Processing lenders file 1409/1614 ..."
       ]
      },
      {
       "output_type": "stream",
       "stream": "stdout",
       "text": [
        " done\r\n",
        "Processing lenders file 1410/1614 ..."
       ]
      },
      {
       "output_type": "stream",
       "stream": "stdout",
       "text": [
        " done\r\n",
        "Processing lenders file 1411/1614 ..."
       ]
      },
      {
       "output_type": "stream",
       "stream": "stdout",
       "text": [
        " done\r\n",
        "Processing lenders file 1412/1614 ..."
       ]
      },
      {
       "output_type": "stream",
       "stream": "stdout",
       "text": [
        " done\r\n",
        "Processing lenders file 1413/1614 ..."
       ]
      },
      {
       "output_type": "stream",
       "stream": "stdout",
       "text": [
        " done\r\n",
        "Processing lenders file 1414/1614 ..."
       ]
      },
      {
       "output_type": "stream",
       "stream": "stdout",
       "text": [
        " done\r\n",
        "Processing lenders file 1415/1614 ..."
       ]
      },
      {
       "output_type": "stream",
       "stream": "stdout",
       "text": [
        " done\r\n",
        "Processing lenders file 1416/1614 ..."
       ]
      },
      {
       "output_type": "stream",
       "stream": "stdout",
       "text": [
        " done\r\n",
        "Processing lenders file 1417/1614 ..."
       ]
      },
      {
       "output_type": "stream",
       "stream": "stdout",
       "text": [
        " done\r\n",
        "Processing lenders file 1418/1614 ..."
       ]
      },
      {
       "output_type": "stream",
       "stream": "stdout",
       "text": [
        " done\r\n",
        "Processing lenders file 1419/1614 ..."
       ]
      },
      {
       "output_type": "stream",
       "stream": "stdout",
       "text": [
        " done\r\n",
        "Processing lenders file 1420/1614 ..."
       ]
      },
      {
       "output_type": "stream",
       "stream": "stdout",
       "text": [
        " done\r\n",
        "Processing lenders file 1421/1614 ..."
       ]
      },
      {
       "output_type": "stream",
       "stream": "stdout",
       "text": [
        " done\r\n",
        "Processing lenders file 1422/1614 ..."
       ]
      },
      {
       "output_type": "stream",
       "stream": "stdout",
       "text": [
        " done\r\n",
        "Processing lenders file 1423/1614 ..."
       ]
      },
      {
       "output_type": "stream",
       "stream": "stdout",
       "text": [
        " done\r\n",
        "Processing lenders file 1424/1614 ..."
       ]
      },
      {
       "output_type": "stream",
       "stream": "stdout",
       "text": [
        " done\r\n",
        "Processing lenders file 1425/1614 ..."
       ]
      },
      {
       "output_type": "stream",
       "stream": "stdout",
       "text": [
        " done\r\n",
        "Processing lenders file 1426/1614 ..."
       ]
      },
      {
       "output_type": "stream",
       "stream": "stdout",
       "text": [
        " done\r\n",
        "Processing lenders file 1427/1614 ..."
       ]
      },
      {
       "output_type": "stream",
       "stream": "stdout",
       "text": [
        " done\r\n",
        "Processing lenders file 1428/1614 ..."
       ]
      },
      {
       "output_type": "stream",
       "stream": "stdout",
       "text": [
        " done\r\n",
        "Processing lenders file 1429/1614 ..."
       ]
      },
      {
       "output_type": "stream",
       "stream": "stdout",
       "text": [
        " done\r\n",
        "Processing lenders file 1430/1614 ..."
       ]
      },
      {
       "output_type": "stream",
       "stream": "stdout",
       "text": [
        " done\r\n",
        "Processing lenders file 1431/1614 ..."
       ]
      },
      {
       "output_type": "stream",
       "stream": "stdout",
       "text": [
        " done\r\n",
        "Processing lenders file 1432/1614 ..."
       ]
      },
      {
       "output_type": "stream",
       "stream": "stdout",
       "text": [
        " done\r\n",
        "Processing lenders file 1433/1614 ..."
       ]
      },
      {
       "output_type": "stream",
       "stream": "stdout",
       "text": [
        " done\r\n",
        "Processing lenders file 1434/1614 ..."
       ]
      },
      {
       "output_type": "stream",
       "stream": "stdout",
       "text": [
        " done\r\n",
        "Processing lenders file 1435/1614 ..."
       ]
      },
      {
       "output_type": "stream",
       "stream": "stdout",
       "text": [
        " done\r\n",
        "Processing lenders file 1436/1614 ..."
       ]
      },
      {
       "output_type": "stream",
       "stream": "stdout",
       "text": [
        " done\r\n",
        "Processing lenders file 1437/1614 ..."
       ]
      },
      {
       "output_type": "stream",
       "stream": "stdout",
       "text": [
        " done\r\n",
        "Processing lenders file 1438/1614 ..."
       ]
      },
      {
       "output_type": "stream",
       "stream": "stdout",
       "text": [
        " done\r\n",
        "Processing lenders file 1439/1614 ..."
       ]
      },
      {
       "output_type": "stream",
       "stream": "stdout",
       "text": [
        " done\r\n",
        "Processing lenders file 1440/1614 ..."
       ]
      },
      {
       "output_type": "stream",
       "stream": "stdout",
       "text": [
        " done\r\n",
        "Processing lenders file 1441/1614 ..."
       ]
      },
      {
       "output_type": "stream",
       "stream": "stdout",
       "text": [
        " done\r\n",
        "Processing lenders file 1442/1614 ..."
       ]
      },
      {
       "output_type": "stream",
       "stream": "stdout",
       "text": [
        " done\r\n",
        "Processing lenders file 1443/1614 ..."
       ]
      },
      {
       "output_type": "stream",
       "stream": "stdout",
       "text": [
        " done\r\n",
        "Processing lenders file 1444/1614 ..."
       ]
      },
      {
       "output_type": "stream",
       "stream": "stdout",
       "text": [
        " done\r\n",
        "Processing lenders file 1445/1614 ..."
       ]
      },
      {
       "output_type": "stream",
       "stream": "stdout",
       "text": [
        " done\r\n",
        "Processing lenders file 1446/1614 ..."
       ]
      },
      {
       "output_type": "stream",
       "stream": "stdout",
       "text": [
        " done\r\n",
        "Processing lenders file 1447/1614 ..."
       ]
      },
      {
       "output_type": "stream",
       "stream": "stdout",
       "text": [
        " done\r\n",
        "Processing lenders file 1448/1614 ..."
       ]
      },
      {
       "output_type": "stream",
       "stream": "stdout",
       "text": [
        " done\r\n",
        "Processing lenders file 1449/1614 ..."
       ]
      },
      {
       "output_type": "stream",
       "stream": "stdout",
       "text": [
        " done\r\n",
        "Processing lenders file 1450/1614 ..."
       ]
      },
      {
       "output_type": "stream",
       "stream": "stdout",
       "text": [
        " done\r\n",
        "Processing lenders file 1451/1614 ..."
       ]
      },
      {
       "output_type": "stream",
       "stream": "stdout",
       "text": [
        " done\r\n",
        "Processing lenders file 1452/1614 ..."
       ]
      },
      {
       "output_type": "stream",
       "stream": "stdout",
       "text": [
        " done\r\n",
        "Processing lenders file 1453/1614 ..."
       ]
      },
      {
       "output_type": "stream",
       "stream": "stdout",
       "text": [
        " done\r\n",
        "Processing lenders file 1454/1614 ..."
       ]
      },
      {
       "output_type": "stream",
       "stream": "stdout",
       "text": [
        " done\r\n",
        "Processing lenders file 1455/1614 ..."
       ]
      },
      {
       "output_type": "stream",
       "stream": "stdout",
       "text": [
        " done\r\n",
        "Processing lenders file 1456/1614 ..."
       ]
      },
      {
       "output_type": "stream",
       "stream": "stdout",
       "text": [
        " done\r\n",
        "Processing lenders file 1457/1614 ..."
       ]
      },
      {
       "output_type": "stream",
       "stream": "stdout",
       "text": [
        " done\r\n",
        "Processing lenders file 1458/1614 ..."
       ]
      },
      {
       "output_type": "stream",
       "stream": "stdout",
       "text": [
        " done\r\n",
        "Processing lenders file 1459/1614 ..."
       ]
      },
      {
       "output_type": "stream",
       "stream": "stdout",
       "text": [
        " done\r\n",
        "Processing lenders file 1460/1614 ..."
       ]
      },
      {
       "output_type": "stream",
       "stream": "stdout",
       "text": [
        " done\r\n",
        "Processing lenders file 1461/1614 ..."
       ]
      },
      {
       "output_type": "stream",
       "stream": "stdout",
       "text": [
        " done\r\n",
        "Processing lenders file 1462/1614 ..."
       ]
      },
      {
       "output_type": "stream",
       "stream": "stdout",
       "text": [
        " done\r\n",
        "Processing lenders file 1463/1614 ..."
       ]
      },
      {
       "output_type": "stream",
       "stream": "stdout",
       "text": [
        " done\r\n",
        "Processing lenders file 1464/1614 ..."
       ]
      },
      {
       "output_type": "stream",
       "stream": "stdout",
       "text": [
        " done\r\n",
        "Processing lenders file 1465/1614 ..."
       ]
      },
      {
       "output_type": "stream",
       "stream": "stdout",
       "text": [
        " done\r\n",
        "Processing lenders file 1466/1614 ..."
       ]
      },
      {
       "output_type": "stream",
       "stream": "stdout",
       "text": [
        " done\r\n",
        "Processing lenders file 1467/1614 ..."
       ]
      },
      {
       "output_type": "stream",
       "stream": "stdout",
       "text": [
        " done\r\n",
        "Processing lenders file 1468/1614 ..."
       ]
      },
      {
       "output_type": "stream",
       "stream": "stdout",
       "text": [
        " done\r\n",
        "Processing lenders file 1469/1614 ..."
       ]
      },
      {
       "output_type": "stream",
       "stream": "stdout",
       "text": [
        " done\r\n",
        "Processing lenders file 1470/1614 ..."
       ]
      },
      {
       "output_type": "stream",
       "stream": "stdout",
       "text": [
        " done\r\n",
        "Processing lenders file 1471/1614 ..."
       ]
      },
      {
       "output_type": "stream",
       "stream": "stdout",
       "text": [
        " done\r\n",
        "Processing lenders file 1472/1614 ..."
       ]
      },
      {
       "output_type": "stream",
       "stream": "stdout",
       "text": [
        " done\r\n",
        "Processing lenders file 1473/1614 ..."
       ]
      },
      {
       "output_type": "stream",
       "stream": "stdout",
       "text": [
        " done\r\n",
        "Processing lenders file 1474/1614 ..."
       ]
      },
      {
       "output_type": "stream",
       "stream": "stdout",
       "text": [
        " done\r\n",
        "Processing lenders file 1475/1614 ..."
       ]
      },
      {
       "output_type": "stream",
       "stream": "stdout",
       "text": [
        " done\r\n",
        "Processing lenders file 1476/1614 ..."
       ]
      },
      {
       "output_type": "stream",
       "stream": "stdout",
       "text": [
        " done\r\n",
        "Processing lenders file 1477/1614 ..."
       ]
      },
      {
       "output_type": "stream",
       "stream": "stdout",
       "text": [
        " done\r\n",
        "Processing lenders file 1478/1614 ..."
       ]
      },
      {
       "output_type": "stream",
       "stream": "stdout",
       "text": [
        " done\r\n",
        "Processing lenders file 1479/1614 ..."
       ]
      },
      {
       "output_type": "stream",
       "stream": "stdout",
       "text": [
        " done\r\n",
        "Processing lenders file 1480/1614 ..."
       ]
      },
      {
       "output_type": "stream",
       "stream": "stdout",
       "text": [
        " done\r\n",
        "Processing lenders file 1481/1614 ..."
       ]
      },
      {
       "output_type": "stream",
       "stream": "stdout",
       "text": [
        " done\r\n",
        "Processing lenders file 1482/1614 ..."
       ]
      },
      {
       "output_type": "stream",
       "stream": "stdout",
       "text": [
        " done\r\n",
        "Processing lenders file 1483/1614 ..."
       ]
      },
      {
       "output_type": "stream",
       "stream": "stdout",
       "text": [
        " done\r\n",
        "Processing lenders file 1484/1614 ..."
       ]
      },
      {
       "output_type": "stream",
       "stream": "stdout",
       "text": [
        " done\r\n",
        "Processing lenders file 1485/1614 ..."
       ]
      },
      {
       "output_type": "stream",
       "stream": "stdout",
       "text": [
        " done\r\n",
        "Processing lenders file 1486/1614 ..."
       ]
      },
      {
       "output_type": "stream",
       "stream": "stdout",
       "text": [
        " done\r\n",
        "Processing lenders file 1487/1614 ..."
       ]
      },
      {
       "output_type": "stream",
       "stream": "stdout",
       "text": [
        " done\r\n",
        "Processing lenders file 1488/1614 ..."
       ]
      },
      {
       "output_type": "stream",
       "stream": "stdout",
       "text": [
        " done\r\n",
        "Processing lenders file 1489/1614 ..."
       ]
      },
      {
       "output_type": "stream",
       "stream": "stdout",
       "text": [
        " done\r\n",
        "Processing lenders file 1490/1614 ..."
       ]
      },
      {
       "output_type": "stream",
       "stream": "stdout",
       "text": [
        " done\r\n",
        "Processing lenders file 1491/1614 ..."
       ]
      },
      {
       "output_type": "stream",
       "stream": "stdout",
       "text": [
        " done\r\n",
        "Processing lenders file 1492/1614 ..."
       ]
      },
      {
       "output_type": "stream",
       "stream": "stdout",
       "text": [
        " done\r\n",
        "Processing lenders file 1493/1614 ..."
       ]
      },
      {
       "output_type": "stream",
       "stream": "stdout",
       "text": [
        " done\r\n",
        "Processing lenders file 1494/1614 ..."
       ]
      },
      {
       "output_type": "stream",
       "stream": "stdout",
       "text": [
        " done\r\n",
        "Processing lenders file 1495/1614 ..."
       ]
      },
      {
       "output_type": "stream",
       "stream": "stdout",
       "text": [
        " done\r\n",
        "Processing lenders file 1496/1614 ..."
       ]
      },
      {
       "output_type": "stream",
       "stream": "stdout",
       "text": [
        " done\r\n",
        "Processing lenders file 1497/1614 ..."
       ]
      },
      {
       "output_type": "stream",
       "stream": "stdout",
       "text": [
        " done\r\n",
        "Processing lenders file 1498/1614 ..."
       ]
      },
      {
       "output_type": "stream",
       "stream": "stdout",
       "text": [
        " done\r\n",
        "Processing lenders file 1499/1614 ..."
       ]
      },
      {
       "output_type": "stream",
       "stream": "stdout",
       "text": [
        " done\r\n",
        "Processing lenders file 1500/1614 ..."
       ]
      },
      {
       "output_type": "stream",
       "stream": "stdout",
       "text": [
        " done\r\n",
        "Processing lenders file 1501/1614 ..."
       ]
      },
      {
       "output_type": "stream",
       "stream": "stdout",
       "text": [
        " done\r\n",
        "Processing lenders file 1502/1614 ..."
       ]
      },
      {
       "output_type": "stream",
       "stream": "stdout",
       "text": [
        " done\r\n",
        "Processing lenders file 1503/1614 ..."
       ]
      },
      {
       "output_type": "stream",
       "stream": "stdout",
       "text": [
        " done\r\n",
        "Processing lenders file 1504/1614 ..."
       ]
      },
      {
       "output_type": "stream",
       "stream": "stdout",
       "text": [
        " done\r\n",
        "Processing lenders file 1505/1614 ..."
       ]
      },
      {
       "output_type": "stream",
       "stream": "stdout",
       "text": [
        " done\r\n",
        "Processing lenders file 1506/1614 ..."
       ]
      },
      {
       "output_type": "stream",
       "stream": "stdout",
       "text": [
        " done\r\n",
        "Processing lenders file 1507/1614 ..."
       ]
      },
      {
       "output_type": "stream",
       "stream": "stdout",
       "text": [
        " done\r\n",
        "Processing lenders file 1508/1614 ..."
       ]
      },
      {
       "output_type": "stream",
       "stream": "stdout",
       "text": [
        " done\r\n",
        "Processing lenders file 1509/1614 ..."
       ]
      },
      {
       "output_type": "stream",
       "stream": "stdout",
       "text": [
        " done\r\n",
        "Processing lenders file 1510/1614 ..."
       ]
      },
      {
       "output_type": "stream",
       "stream": "stdout",
       "text": [
        " done\r\n",
        "Processing lenders file 1511/1614 ..."
       ]
      },
      {
       "output_type": "stream",
       "stream": "stdout",
       "text": [
        " done\r\n",
        "Processing lenders file 1512/1614 ..."
       ]
      },
      {
       "output_type": "stream",
       "stream": "stdout",
       "text": [
        " done\r\n",
        "Processing lenders file 1513/1614 ..."
       ]
      },
      {
       "output_type": "stream",
       "stream": "stdout",
       "text": [
        " done\r\n",
        "Processing lenders file 1514/1614 ..."
       ]
      },
      {
       "output_type": "stream",
       "stream": "stdout",
       "text": [
        " done\r\n",
        "Processing lenders file 1515/1614 ..."
       ]
      },
      {
       "output_type": "stream",
       "stream": "stdout",
       "text": [
        " done\r\n",
        "Processing lenders file 1516/1614 ..."
       ]
      },
      {
       "output_type": "stream",
       "stream": "stdout",
       "text": [
        " done\r\n",
        "Processing lenders file 1517/1614 ..."
       ]
      },
      {
       "output_type": "stream",
       "stream": "stdout",
       "text": [
        " done\r\n",
        "Processing lenders file 1518/1614 ..."
       ]
      },
      {
       "output_type": "stream",
       "stream": "stdout",
       "text": [
        " done\r\n",
        "Processing lenders file 1519/1614 ..."
       ]
      },
      {
       "output_type": "stream",
       "stream": "stdout",
       "text": [
        " done\r\n",
        "Processing lenders file 1520/1614 ..."
       ]
      },
      {
       "output_type": "stream",
       "stream": "stdout",
       "text": [
        " done\r\n",
        "Processing lenders file 1521/1614 ..."
       ]
      },
      {
       "output_type": "stream",
       "stream": "stdout",
       "text": [
        " done\r\n",
        "Processing lenders file 1522/1614 ..."
       ]
      },
      {
       "output_type": "stream",
       "stream": "stdout",
       "text": [
        " done\r\n",
        "Processing lenders file 1523/1614 ..."
       ]
      },
      {
       "output_type": "stream",
       "stream": "stdout",
       "text": [
        " done\r\n",
        "Processing lenders file 1524/1614 ..."
       ]
      },
      {
       "output_type": "stream",
       "stream": "stdout",
       "text": [
        " done\r\n",
        "Processing lenders file 1525/1614 ..."
       ]
      },
      {
       "output_type": "stream",
       "stream": "stdout",
       "text": [
        " done\r\n",
        "Processing lenders file 1526/1614 ..."
       ]
      },
      {
       "output_type": "stream",
       "stream": "stdout",
       "text": [
        " done\r\n",
        "Processing lenders file 1527/1614 ..."
       ]
      },
      {
       "output_type": "stream",
       "stream": "stdout",
       "text": [
        " done\r\n",
        "Processing lenders file 1528/1614 ..."
       ]
      },
      {
       "output_type": "stream",
       "stream": "stdout",
       "text": [
        " done\r\n",
        "Processing lenders file 1529/1614 ..."
       ]
      },
      {
       "output_type": "stream",
       "stream": "stdout",
       "text": [
        " done\r\n",
        "Processing lenders file 1530/1614 ..."
       ]
      },
      {
       "output_type": "stream",
       "stream": "stdout",
       "text": [
        " done\r\n",
        "Processing lenders file 1531/1614 ..."
       ]
      },
      {
       "output_type": "stream",
       "stream": "stdout",
       "text": [
        " done\r\n",
        "Processing lenders file 1532/1614 ..."
       ]
      },
      {
       "output_type": "stream",
       "stream": "stdout",
       "text": [
        " done\r\n",
        "Processing lenders file 1533/1614 ..."
       ]
      },
      {
       "output_type": "stream",
       "stream": "stdout",
       "text": [
        " done\r\n",
        "Processing lenders file 1534/1614 ..."
       ]
      },
      {
       "output_type": "stream",
       "stream": "stdout",
       "text": [
        " done\r\n",
        "Processing lenders file 1535/1614 ..."
       ]
      },
      {
       "output_type": "stream",
       "stream": "stdout",
       "text": [
        " done\r\n",
        "Processing lenders file 1536/1614 ..."
       ]
      },
      {
       "output_type": "stream",
       "stream": "stdout",
       "text": [
        " done\r\n",
        "Processing lenders file 1537/1614 ..."
       ]
      },
      {
       "output_type": "stream",
       "stream": "stdout",
       "text": [
        " done\r\n",
        "Processing lenders file 1538/1614 ..."
       ]
      },
      {
       "output_type": "stream",
       "stream": "stdout",
       "text": [
        " done\r\n",
        "Processing lenders file 1539/1614 ..."
       ]
      },
      {
       "output_type": "stream",
       "stream": "stdout",
       "text": [
        " done\r\n",
        "Processing lenders file 1540/1614 ..."
       ]
      },
      {
       "output_type": "stream",
       "stream": "stdout",
       "text": [
        " done\r\n",
        "Processing lenders file 1541/1614 ..."
       ]
      },
      {
       "output_type": "stream",
       "stream": "stdout",
       "text": [
        " done\r\n",
        "Processing lenders file 1542/1614 ..."
       ]
      },
      {
       "output_type": "stream",
       "stream": "stdout",
       "text": [
        " done\r\n",
        "Processing lenders file 1543/1614 ..."
       ]
      },
      {
       "output_type": "stream",
       "stream": "stdout",
       "text": [
        " done\r\n",
        "Processing lenders file 1544/1614 ..."
       ]
      },
      {
       "output_type": "stream",
       "stream": "stdout",
       "text": [
        " done\r\n",
        "Processing lenders file 1545/1614 ..."
       ]
      },
      {
       "output_type": "stream",
       "stream": "stdout",
       "text": [
        " done\r\n",
        "Processing lenders file 1546/1614 ..."
       ]
      },
      {
       "output_type": "stream",
       "stream": "stdout",
       "text": [
        " done\r\n",
        "Processing lenders file 1547/1614 ..."
       ]
      },
      {
       "output_type": "stream",
       "stream": "stdout",
       "text": [
        " done\r\n",
        "Processing lenders file 1548/1614 ..."
       ]
      },
      {
       "output_type": "stream",
       "stream": "stdout",
       "text": [
        " done\r\n",
        "Processing lenders file 1549/1614 ..."
       ]
      },
      {
       "output_type": "stream",
       "stream": "stdout",
       "text": [
        " done\r\n",
        "Processing lenders file 1550/1614 ..."
       ]
      },
      {
       "output_type": "stream",
       "stream": "stdout",
       "text": [
        " done\r\n",
        "Processing lenders file 1551/1614 ..."
       ]
      },
      {
       "output_type": "stream",
       "stream": "stdout",
       "text": [
        " done\r\n",
        "Processing lenders file 1552/1614 ..."
       ]
      },
      {
       "output_type": "stream",
       "stream": "stdout",
       "text": [
        " done\r\n",
        "Processing lenders file 1553/1614 ..."
       ]
      },
      {
       "output_type": "stream",
       "stream": "stdout",
       "text": [
        " done\r\n",
        "Processing lenders file 1554/1614 ..."
       ]
      },
      {
       "output_type": "stream",
       "stream": "stdout",
       "text": [
        " done\r\n",
        "Processing lenders file 1555/1614 ..."
       ]
      },
      {
       "output_type": "stream",
       "stream": "stdout",
       "text": [
        " done\r\n",
        "Processing lenders file 1556/1614 ..."
       ]
      },
      {
       "output_type": "stream",
       "stream": "stdout",
       "text": [
        " done\r\n",
        "Processing lenders file 1557/1614 ..."
       ]
      },
      {
       "output_type": "stream",
       "stream": "stdout",
       "text": [
        " done\r\n",
        "Processing lenders file 1558/1614 ..."
       ]
      },
      {
       "output_type": "stream",
       "stream": "stdout",
       "text": [
        " done\r\n",
        "Processing lenders file 1559/1614 ..."
       ]
      },
      {
       "output_type": "stream",
       "stream": "stdout",
       "text": [
        " done\r\n",
        "Processing lenders file 1560/1614 ..."
       ]
      },
      {
       "output_type": "stream",
       "stream": "stdout",
       "text": [
        " done\r\n",
        "Processing lenders file 1561/1614 ..."
       ]
      },
      {
       "output_type": "stream",
       "stream": "stdout",
       "text": [
        " done\r\n",
        "Processing lenders file 1562/1614 ..."
       ]
      },
      {
       "output_type": "stream",
       "stream": "stdout",
       "text": [
        " done\r\n",
        "Processing lenders file 1563/1614 ..."
       ]
      },
      {
       "output_type": "stream",
       "stream": "stdout",
       "text": [
        " done\r\n",
        "Processing lenders file 1564/1614 ..."
       ]
      },
      {
       "output_type": "stream",
       "stream": "stdout",
       "text": [
        " done\r\n",
        "Processing lenders file 1565/1614 ..."
       ]
      },
      {
       "output_type": "stream",
       "stream": "stdout",
       "text": [
        " done\r\n",
        "Processing lenders file 1566/1614 ..."
       ]
      },
      {
       "output_type": "stream",
       "stream": "stdout",
       "text": [
        " done\r\n",
        "Processing lenders file 1567/1614 ..."
       ]
      },
      {
       "output_type": "stream",
       "stream": "stdout",
       "text": [
        " done\r\n",
        "Processing lenders file 1568/1614 ..."
       ]
      },
      {
       "output_type": "stream",
       "stream": "stdout",
       "text": [
        " done\r\n",
        "Processing lenders file 1569/1614 ..."
       ]
      },
      {
       "output_type": "stream",
       "stream": "stdout",
       "text": [
        " done\r\n",
        "Processing lenders file 1570/1614 ..."
       ]
      },
      {
       "output_type": "stream",
       "stream": "stdout",
       "text": [
        " done\r\n",
        "Processing lenders file 1571/1614 ..."
       ]
      },
      {
       "output_type": "stream",
       "stream": "stdout",
       "text": [
        " done\r\n",
        "Processing lenders file 1572/1614 ..."
       ]
      },
      {
       "output_type": "stream",
       "stream": "stdout",
       "text": [
        " done\r\n",
        "Processing lenders file 1573/1614 ..."
       ]
      },
      {
       "output_type": "stream",
       "stream": "stdout",
       "text": [
        " done\r\n",
        "Processing lenders file 1574/1614 ..."
       ]
      },
      {
       "output_type": "stream",
       "stream": "stdout",
       "text": [
        " done\r\n",
        "Processing lenders file 1575/1614 ..."
       ]
      },
      {
       "output_type": "stream",
       "stream": "stdout",
       "text": [
        " done\r\n",
        "Processing lenders file 1576/1614 ..."
       ]
      },
      {
       "output_type": "stream",
       "stream": "stdout",
       "text": [
        " done\r\n",
        "Processing lenders file 1577/1614 ..."
       ]
      },
      {
       "output_type": "stream",
       "stream": "stdout",
       "text": [
        " done\r\n",
        "Processing lenders file 1578/1614 ..."
       ]
      },
      {
       "output_type": "stream",
       "stream": "stdout",
       "text": [
        " done\r\n",
        "Processing lenders file 1579/1614 ..."
       ]
      },
      {
       "output_type": "stream",
       "stream": "stdout",
       "text": [
        " done\r\n",
        "Processing lenders file 1580/1614 ..."
       ]
      },
      {
       "output_type": "stream",
       "stream": "stdout",
       "text": [
        " done\r\n",
        "Processing lenders file 1581/1614 ..."
       ]
      },
      {
       "output_type": "stream",
       "stream": "stdout",
       "text": [
        " done\r\n",
        "Processing lenders file 1582/1614 ..."
       ]
      },
      {
       "output_type": "stream",
       "stream": "stdout",
       "text": [
        " done\r\n",
        "Processing lenders file 1583/1614 ..."
       ]
      },
      {
       "output_type": "stream",
       "stream": "stdout",
       "text": [
        " done\r\n",
        "Processing lenders file 1584/1614 ..."
       ]
      },
      {
       "output_type": "stream",
       "stream": "stdout",
       "text": [
        " done\r\n",
        "Processing lenders file 1585/1614 ..."
       ]
      },
      {
       "output_type": "stream",
       "stream": "stdout",
       "text": [
        " done\r\n",
        "Processing lenders file 1586/1614 ..."
       ]
      },
      {
       "output_type": "stream",
       "stream": "stdout",
       "text": [
        " done\r\n",
        "Processing lenders file 1587/1614 ..."
       ]
      },
      {
       "output_type": "stream",
       "stream": "stdout",
       "text": [
        " done\r\n",
        "Processing lenders file 1588/1614 ..."
       ]
      },
      {
       "output_type": "stream",
       "stream": "stdout",
       "text": [
        " done\r\n",
        "Processing lenders file 1589/1614 ..."
       ]
      },
      {
       "output_type": "stream",
       "stream": "stdout",
       "text": [
        " done\r\n",
        "Processing lenders file 1590/1614 ..."
       ]
      },
      {
       "output_type": "stream",
       "stream": "stdout",
       "text": [
        " done\r\n",
        "Processing lenders file 1591/1614 ..."
       ]
      },
      {
       "output_type": "stream",
       "stream": "stdout",
       "text": [
        " done\r\n",
        "Processing lenders file 1592/1614 ..."
       ]
      },
      {
       "output_type": "stream",
       "stream": "stdout",
       "text": [
        " done\r\n",
        "Processing lenders file 1593/1614 ..."
       ]
      },
      {
       "output_type": "stream",
       "stream": "stdout",
       "text": [
        " done\r\n",
        "Processing lenders file 1594/1614 ..."
       ]
      },
      {
       "output_type": "stream",
       "stream": "stdout",
       "text": [
        " done\r\n",
        "Processing lenders file 1595/1614 ..."
       ]
      },
      {
       "output_type": "stream",
       "stream": "stdout",
       "text": [
        " done\r\n",
        "Processing lenders file 1596/1614 ..."
       ]
      },
      {
       "output_type": "stream",
       "stream": "stdout",
       "text": [
        " done\r\n",
        "Processing lenders file 1597/1614 ..."
       ]
      },
      {
       "output_type": "stream",
       "stream": "stdout",
       "text": [
        " done\r\n",
        "Processing lenders file 1598/1614 ..."
       ]
      },
      {
       "output_type": "stream",
       "stream": "stdout",
       "text": [
        " done\r\n",
        "Processing lenders file 1599/1614 ..."
       ]
      },
      {
       "output_type": "stream",
       "stream": "stdout",
       "text": [
        " done\r\n",
        "Processing lenders file 1600/1614 ..."
       ]
      },
      {
       "output_type": "stream",
       "stream": "stdout",
       "text": [
        " done\r\n",
        "Processing lenders file 1601/1614 ..."
       ]
      },
      {
       "output_type": "stream",
       "stream": "stdout",
       "text": [
        " done\r\n",
        "Processing lenders file 1602/1614 ..."
       ]
      },
      {
       "output_type": "stream",
       "stream": "stdout",
       "text": [
        " done\r\n",
        "Processing lenders file 1603/1614 ..."
       ]
      },
      {
       "output_type": "stream",
       "stream": "stdout",
       "text": [
        " done\r\n",
        "Processing lenders file 1604/1614 ..."
       ]
      },
      {
       "output_type": "stream",
       "stream": "stdout",
       "text": [
        " done\r\n",
        "Processing lenders file 1605/1614 ..."
       ]
      },
      {
       "output_type": "stream",
       "stream": "stdout",
       "text": [
        " done\r\n",
        "Processing lenders file 1606/1614 ..."
       ]
      },
      {
       "output_type": "stream",
       "stream": "stdout",
       "text": [
        " done\r\n",
        "Processing lenders file 1607/1614 ..."
       ]
      },
      {
       "output_type": "stream",
       "stream": "stdout",
       "text": [
        " done\r\n",
        "Processing lenders file 1608/1614 ..."
       ]
      },
      {
       "output_type": "stream",
       "stream": "stdout",
       "text": [
        " done\r\n",
        "Processing lenders file 1609/1614 ..."
       ]
      },
      {
       "output_type": "stream",
       "stream": "stdout",
       "text": [
        " done\r\n",
        "Processing lenders file 1610/1614 ..."
       ]
      },
      {
       "output_type": "stream",
       "stream": "stdout",
       "text": [
        " done\r\n",
        "Processing lenders file 1611/1614 ..."
       ]
      },
      {
       "output_type": "stream",
       "stream": "stdout",
       "text": [
        " done\r\n",
        "Processing lenders file 1612/1614 ..."
       ]
      },
      {
       "output_type": "stream",
       "stream": "stdout",
       "text": [
        " done\r\n",
        "Processing lenders file 1613/1614 ..."
       ]
      },
      {
       "output_type": "stream",
       "stream": "stdout",
       "text": [
        " done\r\n",
        "Processing lenders file 1614/1614 ..."
       ]
      },
      {
       "output_type": "stream",
       "stream": "stdout",
       "text": [
        " done\r\n"
       ]
      }
     ],
     "prompt_number": 14
    },
    {
     "cell_type": "code",
     "collapsed": false,
     "input": [
      "# Next line commented out because we only want to run this once\n",
      "#!python src/load_kiva_loans_lenders_to_mongodb.py"
     ],
     "language": "python",
     "metadata": {},
     "outputs": [
      {
       "output_type": "stream",
       "stream": "stdout",
       "text": [
        "Processing loans/lenders file 1/528 ..."
       ]
      },
      {
       "output_type": "stream",
       "stream": "stdout",
       "text": [
        " done\r\n",
        "Processing loans/lenders file 2/528 ..."
       ]
      },
      {
       "output_type": "stream",
       "stream": "stdout",
       "text": [
        " done\r\n",
        "Processing loans/lenders file 3/528 ..."
       ]
      },
      {
       "output_type": "stream",
       "stream": "stdout",
       "text": [
        " done\r\n",
        "Processing loans/lenders file 4/528 ..."
       ]
      },
      {
       "output_type": "stream",
       "stream": "stdout",
       "text": [
        " done\r\n",
        "Processing loans/lenders file 5/528 ..."
       ]
      },
      {
       "output_type": "stream",
       "stream": "stdout",
       "text": [
        " done\r\n",
        "Processing loans/lenders file 6/528 ..."
       ]
      },
      {
       "output_type": "stream",
       "stream": "stdout",
       "text": [
        " done\r\n",
        "Processing loans/lenders file 7/528 ..."
       ]
      },
      {
       "output_type": "stream",
       "stream": "stdout",
       "text": [
        " done\r\n",
        "Processing loans/lenders file 8/528 ..."
       ]
      },
      {
       "output_type": "stream",
       "stream": "stdout",
       "text": [
        " done\r\n",
        "Processing loans/lenders file 9/528 ..."
       ]
      },
      {
       "output_type": "stream",
       "stream": "stdout",
       "text": [
        " done\r\n",
        "Processing loans/lenders file 10/528 ..."
       ]
      },
      {
       "output_type": "stream",
       "stream": "stdout",
       "text": [
        " done\r\n",
        "Processing loans/lenders file 11/528 ..."
       ]
      },
      {
       "output_type": "stream",
       "stream": "stdout",
       "text": [
        " done\r\n",
        "Processing loans/lenders file 12/528 ..."
       ]
      },
      {
       "output_type": "stream",
       "stream": "stdout",
       "text": [
        " done\r\n",
        "Processing loans/lenders file 13/528 ..."
       ]
      },
      {
       "output_type": "stream",
       "stream": "stdout",
       "text": [
        " done\r\n",
        "Processing loans/lenders file 14/528 ..."
       ]
      },
      {
       "output_type": "stream",
       "stream": "stdout",
       "text": [
        " done\r\n",
        "Processing loans/lenders file 15/528 ..."
       ]
      },
      {
       "output_type": "stream",
       "stream": "stdout",
       "text": [
        " done\r\n",
        "Processing loans/lenders file 16/528 ..."
       ]
      },
      {
       "output_type": "stream",
       "stream": "stdout",
       "text": [
        " done\r\n",
        "Processing loans/lenders file 17/528 ..."
       ]
      },
      {
       "output_type": "stream",
       "stream": "stdout",
       "text": [
        " done\r\n",
        "Processing loans/lenders file 18/528 ..."
       ]
      },
      {
       "output_type": "stream",
       "stream": "stdout",
       "text": [
        " done\r\n",
        "Processing loans/lenders file 19/528 ..."
       ]
      },
      {
       "output_type": "stream",
       "stream": "stdout",
       "text": [
        " done\r\n",
        "Processing loans/lenders file 20/528 ..."
       ]
      },
      {
       "output_type": "stream",
       "stream": "stdout",
       "text": [
        " done\r\n",
        "Processing loans/lenders file 21/528 ..."
       ]
      },
      {
       "output_type": "stream",
       "stream": "stdout",
       "text": [
        " done\r\n",
        "Processing loans/lenders file 22/528 ..."
       ]
      },
      {
       "output_type": "stream",
       "stream": "stdout",
       "text": [
        " done\r\n",
        "Processing loans/lenders file 23/528 ..."
       ]
      },
      {
       "output_type": "stream",
       "stream": "stdout",
       "text": [
        " done\r\n",
        "Processing loans/lenders file 24/528 ..."
       ]
      },
      {
       "output_type": "stream",
       "stream": "stdout",
       "text": [
        " done\r\n",
        "Processing loans/lenders file 25/528 ..."
       ]
      },
      {
       "output_type": "stream",
       "stream": "stdout",
       "text": [
        " done\r\n",
        "Processing loans/lenders file 26/528 ..."
       ]
      },
      {
       "output_type": "stream",
       "stream": "stdout",
       "text": [
        " done\r\n",
        "Processing loans/lenders file 27/528 ..."
       ]
      },
      {
       "output_type": "stream",
       "stream": "stdout",
       "text": [
        " done\r\n",
        "Processing loans/lenders file 28/528 ..."
       ]
      },
      {
       "output_type": "stream",
       "stream": "stdout",
       "text": [
        " done\r\n",
        "Processing loans/lenders file 29/528 ..."
       ]
      },
      {
       "output_type": "stream",
       "stream": "stdout",
       "text": [
        " done\r\n",
        "Processing loans/lenders file 30/528 ..."
       ]
      },
      {
       "output_type": "stream",
       "stream": "stdout",
       "text": [
        " done\r\n",
        "Processing loans/lenders file 31/528 ..."
       ]
      },
      {
       "output_type": "stream",
       "stream": "stdout",
       "text": [
        " done\r\n",
        "Processing loans/lenders file 32/528 ..."
       ]
      },
      {
       "output_type": "stream",
       "stream": "stdout",
       "text": [
        " done\r\n",
        "Processing loans/lenders file 33/528 ..."
       ]
      },
      {
       "output_type": "stream",
       "stream": "stdout",
       "text": [
        " done\r\n",
        "Processing loans/lenders file 34/528 ..."
       ]
      },
      {
       "output_type": "stream",
       "stream": "stdout",
       "text": [
        " done\r\n",
        "Processing loans/lenders file 35/528 ..."
       ]
      },
      {
       "output_type": "stream",
       "stream": "stdout",
       "text": [
        " done\r\n",
        "Processing loans/lenders file 36/528 ..."
       ]
      },
      {
       "output_type": "stream",
       "stream": "stdout",
       "text": [
        " done\r\n",
        "Processing loans/lenders file 37/528 ..."
       ]
      },
      {
       "output_type": "stream",
       "stream": "stdout",
       "text": [
        " done\r\n",
        "Processing loans/lenders file 38/528 ..."
       ]
      },
      {
       "output_type": "stream",
       "stream": "stdout",
       "text": [
        " done\r\n",
        "Processing loans/lenders file 39/528 ..."
       ]
      },
      {
       "output_type": "stream",
       "stream": "stdout",
       "text": [
        " done\r\n",
        "Processing loans/lenders file 40/528 ..."
       ]
      },
      {
       "output_type": "stream",
       "stream": "stdout",
       "text": [
        " done\r\n",
        "Processing loans/lenders file 41/528 ..."
       ]
      },
      {
       "output_type": "stream",
       "stream": "stdout",
       "text": [
        " done\r\n",
        "Processing loans/lenders file 42/528 ..."
       ]
      },
      {
       "output_type": "stream",
       "stream": "stdout",
       "text": [
        " done\r\n",
        "Processing loans/lenders file 43/528 ..."
       ]
      },
      {
       "output_type": "stream",
       "stream": "stdout",
       "text": [
        " done\r\n",
        "Processing loans/lenders file 44/528 ..."
       ]
      },
      {
       "output_type": "stream",
       "stream": "stdout",
       "text": [
        " done\r\n",
        "Processing loans/lenders file 45/528 ..."
       ]
      },
      {
       "output_type": "stream",
       "stream": "stdout",
       "text": [
        " done\r\n",
        "Processing loans/lenders file 46/528 ..."
       ]
      },
      {
       "output_type": "stream",
       "stream": "stdout",
       "text": [
        " done\r\n",
        "Processing loans/lenders file 47/528 ..."
       ]
      },
      {
       "output_type": "stream",
       "stream": "stdout",
       "text": [
        " done\r\n",
        "Processing loans/lenders file 48/528 ..."
       ]
      },
      {
       "output_type": "stream",
       "stream": "stdout",
       "text": [
        " done\r\n",
        "Processing loans/lenders file 49/528 ..."
       ]
      },
      {
       "output_type": "stream",
       "stream": "stdout",
       "text": [
        " done\r\n",
        "Processing loans/lenders file 50/528 ..."
       ]
      },
      {
       "output_type": "stream",
       "stream": "stdout",
       "text": [
        " done\r\n",
        "Processing loans/lenders file 51/528 ..."
       ]
      },
      {
       "output_type": "stream",
       "stream": "stdout",
       "text": [
        " done\r\n",
        "Processing loans/lenders file 52/528 ..."
       ]
      },
      {
       "output_type": "stream",
       "stream": "stdout",
       "text": [
        " done\r\n",
        "Processing loans/lenders file 53/528 ..."
       ]
      },
      {
       "output_type": "stream",
       "stream": "stdout",
       "text": [
        " done\r\n",
        "Processing loans/lenders file 54/528 ..."
       ]
      },
      {
       "output_type": "stream",
       "stream": "stdout",
       "text": [
        " done\r\n",
        "Processing loans/lenders file 55/528 ..."
       ]
      },
      {
       "output_type": "stream",
       "stream": "stdout",
       "text": [
        " done\r\n",
        "Processing loans/lenders file 56/528 ..."
       ]
      },
      {
       "output_type": "stream",
       "stream": "stdout",
       "text": [
        " done\r\n",
        "Processing loans/lenders file 57/528 ..."
       ]
      },
      {
       "output_type": "stream",
       "stream": "stdout",
       "text": [
        " done\r\n",
        "Processing loans/lenders file 58/528 ..."
       ]
      },
      {
       "output_type": "stream",
       "stream": "stdout",
       "text": [
        " done\r\n",
        "Processing loans/lenders file 59/528 ..."
       ]
      },
      {
       "output_type": "stream",
       "stream": "stdout",
       "text": [
        " done\r\n",
        "Processing loans/lenders file 60/528 ..."
       ]
      },
      {
       "output_type": "stream",
       "stream": "stdout",
       "text": [
        " done\r\n",
        "Processing loans/lenders file 61/528 ..."
       ]
      },
      {
       "output_type": "stream",
       "stream": "stdout",
       "text": [
        " done\r\n",
        "Processing loans/lenders file 62/528 ..."
       ]
      },
      {
       "output_type": "stream",
       "stream": "stdout",
       "text": [
        " done\r\n",
        "Processing loans/lenders file 63/528 ..."
       ]
      },
      {
       "output_type": "stream",
       "stream": "stdout",
       "text": [
        " done\r\n",
        "Processing loans/lenders file 64/528 ..."
       ]
      },
      {
       "output_type": "stream",
       "stream": "stdout",
       "text": [
        " done\r\n",
        "Processing loans/lenders file 65/528 ..."
       ]
      },
      {
       "output_type": "stream",
       "stream": "stdout",
       "text": [
        " done\r\n",
        "Processing loans/lenders file 66/528 ..."
       ]
      },
      {
       "output_type": "stream",
       "stream": "stdout",
       "text": [
        " done\r\n",
        "Processing loans/lenders file 67/528 ..."
       ]
      },
      {
       "output_type": "stream",
       "stream": "stdout",
       "text": [
        " done\r\n",
        "Processing loans/lenders file 68/528 ..."
       ]
      },
      {
       "output_type": "stream",
       "stream": "stdout",
       "text": [
        " done\r\n",
        "Processing loans/lenders file 69/528 ..."
       ]
      },
      {
       "output_type": "stream",
       "stream": "stdout",
       "text": [
        " done\r\n",
        "Processing loans/lenders file 70/528 ..."
       ]
      },
      {
       "output_type": "stream",
       "stream": "stdout",
       "text": [
        " done\r\n",
        "Processing loans/lenders file 71/528 ..."
       ]
      },
      {
       "output_type": "stream",
       "stream": "stdout",
       "text": [
        " done\r\n",
        "Processing loans/lenders file 72/528 ..."
       ]
      },
      {
       "output_type": "stream",
       "stream": "stdout",
       "text": [
        " done\r\n",
        "Processing loans/lenders file 73/528 ..."
       ]
      },
      {
       "output_type": "stream",
       "stream": "stdout",
       "text": [
        " done\r\n",
        "Processing loans/lenders file 74/528 ..."
       ]
      },
      {
       "output_type": "stream",
       "stream": "stdout",
       "text": [
        " done\r\n",
        "Processing loans/lenders file 75/528 ..."
       ]
      },
      {
       "output_type": "stream",
       "stream": "stdout",
       "text": [
        " done\r\n",
        "Processing loans/lenders file 76/528 ..."
       ]
      },
      {
       "output_type": "stream",
       "stream": "stdout",
       "text": [
        " done\r\n",
        "Processing loans/lenders file 77/528 ..."
       ]
      },
      {
       "output_type": "stream",
       "stream": "stdout",
       "text": [
        " done\r\n",
        "Processing loans/lenders file 78/528 ..."
       ]
      },
      {
       "output_type": "stream",
       "stream": "stdout",
       "text": [
        " done\r\n",
        "Processing loans/lenders file 79/528 ..."
       ]
      },
      {
       "output_type": "stream",
       "stream": "stdout",
       "text": [
        " done\r\n",
        "Processing loans/lenders file 80/528 ..."
       ]
      },
      {
       "output_type": "stream",
       "stream": "stdout",
       "text": [
        " done\r\n",
        "Processing loans/lenders file 81/528 ..."
       ]
      },
      {
       "output_type": "stream",
       "stream": "stdout",
       "text": [
        " done\r\n",
        "Processing loans/lenders file 82/528 ..."
       ]
      },
      {
       "output_type": "stream",
       "stream": "stdout",
       "text": [
        " done\r\n",
        "Processing loans/lenders file 83/528 ..."
       ]
      },
      {
       "output_type": "stream",
       "stream": "stdout",
       "text": [
        " done\r\n",
        "Processing loans/lenders file 84/528 ..."
       ]
      },
      {
       "output_type": "stream",
       "stream": "stdout",
       "text": [
        " done\r\n",
        "Processing loans/lenders file 85/528 ..."
       ]
      },
      {
       "output_type": "stream",
       "stream": "stdout",
       "text": [
        " done\r\n",
        "Processing loans/lenders file 86/528 ..."
       ]
      },
      {
       "output_type": "stream",
       "stream": "stdout",
       "text": [
        " done\r\n",
        "Processing loans/lenders file 87/528 ..."
       ]
      },
      {
       "output_type": "stream",
       "stream": "stdout",
       "text": [
        " done\r\n",
        "Processing loans/lenders file 88/528 ..."
       ]
      },
      {
       "output_type": "stream",
       "stream": "stdout",
       "text": [
        " done\r\n",
        "Processing loans/lenders file 89/528 ..."
       ]
      },
      {
       "output_type": "stream",
       "stream": "stdout",
       "text": [
        " done\r\n",
        "Processing loans/lenders file 90/528 ..."
       ]
      },
      {
       "output_type": "stream",
       "stream": "stdout",
       "text": [
        " done\r\n",
        "Processing loans/lenders file 91/528 ..."
       ]
      },
      {
       "output_type": "stream",
       "stream": "stdout",
       "text": [
        " done\r\n",
        "Processing loans/lenders file 92/528 ..."
       ]
      },
      {
       "output_type": "stream",
       "stream": "stdout",
       "text": [
        " done\r\n",
        "Processing loans/lenders file 93/528 ..."
       ]
      },
      {
       "output_type": "stream",
       "stream": "stdout",
       "text": [
        " done\r\n",
        "Processing loans/lenders file 94/528 ..."
       ]
      },
      {
       "output_type": "stream",
       "stream": "stdout",
       "text": [
        " done\r\n",
        "Processing loans/lenders file 95/528 ..."
       ]
      },
      {
       "output_type": "stream",
       "stream": "stdout",
       "text": [
        " done\r\n",
        "Processing loans/lenders file 96/528 ..."
       ]
      },
      {
       "output_type": "stream",
       "stream": "stdout",
       "text": [
        " done\r\n",
        "Processing loans/lenders file 97/528 ..."
       ]
      },
      {
       "output_type": "stream",
       "stream": "stdout",
       "text": [
        " done\r\n",
        "Processing loans/lenders file 98/528 ..."
       ]
      },
      {
       "output_type": "stream",
       "stream": "stdout",
       "text": [
        " done\r\n",
        "Processing loans/lenders file 99/528 ..."
       ]
      },
      {
       "output_type": "stream",
       "stream": "stdout",
       "text": [
        " done\r\n",
        "Processing loans/lenders file 100/528 ..."
       ]
      },
      {
       "output_type": "stream",
       "stream": "stdout",
       "text": [
        " done\r\n",
        "Processing loans/lenders file 101/528 ..."
       ]
      },
      {
       "output_type": "stream",
       "stream": "stdout",
       "text": [
        " done\r\n",
        "Processing loans/lenders file 102/528 ..."
       ]
      },
      {
       "output_type": "stream",
       "stream": "stdout",
       "text": [
        " done\r\n",
        "Processing loans/lenders file 103/528 ..."
       ]
      },
      {
       "output_type": "stream",
       "stream": "stdout",
       "text": [
        " done\r\n",
        "Processing loans/lenders file 104/528 ..."
       ]
      },
      {
       "output_type": "stream",
       "stream": "stdout",
       "text": [
        " done\r\n",
        "Processing loans/lenders file 105/528 ..."
       ]
      },
      {
       "output_type": "stream",
       "stream": "stdout",
       "text": [
        " done\r\n",
        "Processing loans/lenders file 106/528 ..."
       ]
      },
      {
       "output_type": "stream",
       "stream": "stdout",
       "text": [
        " done\r\n",
        "Processing loans/lenders file 107/528 ..."
       ]
      },
      {
       "output_type": "stream",
       "stream": "stdout",
       "text": [
        " done\r\n",
        "Processing loans/lenders file 108/528 ..."
       ]
      },
      {
       "output_type": "stream",
       "stream": "stdout",
       "text": [
        " done\r\n",
        "Processing loans/lenders file 109/528 ..."
       ]
      },
      {
       "output_type": "stream",
       "stream": "stdout",
       "text": [
        " done\r\n",
        "Processing loans/lenders file 110/528 ..."
       ]
      },
      {
       "output_type": "stream",
       "stream": "stdout",
       "text": [
        " done\r\n",
        "Processing loans/lenders file 111/528 ..."
       ]
      },
      {
       "output_type": "stream",
       "stream": "stdout",
       "text": [
        " done\r\n",
        "Processing loans/lenders file 112/528 ..."
       ]
      },
      {
       "output_type": "stream",
       "stream": "stdout",
       "text": [
        " done\r\n",
        "Processing loans/lenders file 113/528 ..."
       ]
      },
      {
       "output_type": "stream",
       "stream": "stdout",
       "text": [
        " done\r\n",
        "Processing loans/lenders file 114/528 ..."
       ]
      },
      {
       "output_type": "stream",
       "stream": "stdout",
       "text": [
        " done\r\n",
        "Processing loans/lenders file 115/528 ..."
       ]
      },
      {
       "output_type": "stream",
       "stream": "stdout",
       "text": [
        " done\r\n",
        "Processing loans/lenders file 116/528 ..."
       ]
      },
      {
       "output_type": "stream",
       "stream": "stdout",
       "text": [
        " done\r\n",
        "Processing loans/lenders file 117/528 ..."
       ]
      },
      {
       "output_type": "stream",
       "stream": "stdout",
       "text": [
        " done\r\n",
        "Processing loans/lenders file 118/528 ..."
       ]
      },
      {
       "output_type": "stream",
       "stream": "stdout",
       "text": [
        " done\r\n",
        "Processing loans/lenders file 119/528 ..."
       ]
      },
      {
       "output_type": "stream",
       "stream": "stdout",
       "text": [
        " done\r\n",
        "Processing loans/lenders file 120/528 ..."
       ]
      },
      {
       "output_type": "stream",
       "stream": "stdout",
       "text": [
        " done\r\n",
        "Processing loans/lenders file 121/528 ..."
       ]
      },
      {
       "output_type": "stream",
       "stream": "stdout",
       "text": [
        " done\r\n",
        "Processing loans/lenders file 122/528 ..."
       ]
      },
      {
       "output_type": "stream",
       "stream": "stdout",
       "text": [
        " done\r\n",
        "Processing loans/lenders file 123/528 ..."
       ]
      },
      {
       "output_type": "stream",
       "stream": "stdout",
       "text": [
        " done\r\n",
        "Processing loans/lenders file 124/528 ..."
       ]
      },
      {
       "output_type": "stream",
       "stream": "stdout",
       "text": [
        " done\r\n",
        "Processing loans/lenders file 125/528 ..."
       ]
      },
      {
       "output_type": "stream",
       "stream": "stdout",
       "text": [
        " done\r\n",
        "Processing loans/lenders file 126/528 ..."
       ]
      },
      {
       "output_type": "stream",
       "stream": "stdout",
       "text": [
        " done\r\n",
        "Processing loans/lenders file 127/528 ..."
       ]
      },
      {
       "output_type": "stream",
       "stream": "stdout",
       "text": [
        " done\r\n",
        "Processing loans/lenders file 128/528 ..."
       ]
      },
      {
       "output_type": "stream",
       "stream": "stdout",
       "text": [
        " done\r\n",
        "Processing loans/lenders file 129/528 ..."
       ]
      },
      {
       "output_type": "stream",
       "stream": "stdout",
       "text": [
        " done\r\n",
        "Processing loans/lenders file 130/528 ..."
       ]
      },
      {
       "output_type": "stream",
       "stream": "stdout",
       "text": [
        " done\r\n",
        "Processing loans/lenders file 131/528 ..."
       ]
      },
      {
       "output_type": "stream",
       "stream": "stdout",
       "text": [
        " done\r\n",
        "Processing loans/lenders file 132/528 ..."
       ]
      },
      {
       "output_type": "stream",
       "stream": "stdout",
       "text": [
        " done\r\n",
        "Processing loans/lenders file 133/528 ..."
       ]
      },
      {
       "output_type": "stream",
       "stream": "stdout",
       "text": [
        " done\r\n",
        "Processing loans/lenders file 134/528 ..."
       ]
      },
      {
       "output_type": "stream",
       "stream": "stdout",
       "text": [
        " done\r\n",
        "Processing loans/lenders file 135/528 ..."
       ]
      },
      {
       "output_type": "stream",
       "stream": "stdout",
       "text": [
        " done\r\n",
        "Processing loans/lenders file 136/528 ..."
       ]
      },
      {
       "output_type": "stream",
       "stream": "stdout",
       "text": [
        " done\r\n",
        "Processing loans/lenders file 137/528 ..."
       ]
      },
      {
       "output_type": "stream",
       "stream": "stdout",
       "text": [
        " done\r\n",
        "Processing loans/lenders file 138/528 ..."
       ]
      },
      {
       "output_type": "stream",
       "stream": "stdout",
       "text": [
        " done\r\n",
        "Processing loans/lenders file 139/528 ..."
       ]
      },
      {
       "output_type": "stream",
       "stream": "stdout",
       "text": [
        " done\r\n",
        "Processing loans/lenders file 140/528 ..."
       ]
      },
      {
       "output_type": "stream",
       "stream": "stdout",
       "text": [
        " done\r\n",
        "Processing loans/lenders file 141/528 ..."
       ]
      },
      {
       "output_type": "stream",
       "stream": "stdout",
       "text": [
        " done\r\n",
        "Processing loans/lenders file 142/528 ..."
       ]
      },
      {
       "output_type": "stream",
       "stream": "stdout",
       "text": [
        " done\r\n",
        "Processing loans/lenders file 143/528 ..."
       ]
      },
      {
       "output_type": "stream",
       "stream": "stdout",
       "text": [
        " done\r\n",
        "Processing loans/lenders file 144/528 ..."
       ]
      },
      {
       "output_type": "stream",
       "stream": "stdout",
       "text": [
        " done\r\n",
        "Processing loans/lenders file 145/528 ..."
       ]
      },
      {
       "output_type": "stream",
       "stream": "stdout",
       "text": [
        " done\r\n",
        "Processing loans/lenders file 146/528 ..."
       ]
      },
      {
       "output_type": "stream",
       "stream": "stdout",
       "text": [
        " done\r\n",
        "Processing loans/lenders file 147/528 ..."
       ]
      },
      {
       "output_type": "stream",
       "stream": "stdout",
       "text": [
        " done\r\n",
        "Processing loans/lenders file 148/528 ..."
       ]
      },
      {
       "output_type": "stream",
       "stream": "stdout",
       "text": [
        " done\r\n",
        "Processing loans/lenders file 149/528 ..."
       ]
      },
      {
       "output_type": "stream",
       "stream": "stdout",
       "text": [
        " done\r\n",
        "Processing loans/lenders file 150/528 ..."
       ]
      },
      {
       "output_type": "stream",
       "stream": "stdout",
       "text": [
        " done\r\n",
        "Processing loans/lenders file 151/528 ..."
       ]
      },
      {
       "output_type": "stream",
       "stream": "stdout",
       "text": [
        " done\r\n",
        "Processing loans/lenders file 152/528 ..."
       ]
      },
      {
       "output_type": "stream",
       "stream": "stdout",
       "text": [
        " done\r\n",
        "Processing loans/lenders file 153/528 ..."
       ]
      },
      {
       "output_type": "stream",
       "stream": "stdout",
       "text": [
        " done\r\n",
        "Processing loans/lenders file 154/528 ..."
       ]
      },
      {
       "output_type": "stream",
       "stream": "stdout",
       "text": [
        " done\r\n",
        "Processing loans/lenders file 155/528 ..."
       ]
      },
      {
       "output_type": "stream",
       "stream": "stdout",
       "text": [
        " done\r\n",
        "Processing loans/lenders file 156/528 ..."
       ]
      },
      {
       "output_type": "stream",
       "stream": "stdout",
       "text": [
        " done\r\n",
        "Processing loans/lenders file 157/528 ..."
       ]
      },
      {
       "output_type": "stream",
       "stream": "stdout",
       "text": [
        " done\r\n",
        "Processing loans/lenders file 158/528 ..."
       ]
      },
      {
       "output_type": "stream",
       "stream": "stdout",
       "text": [
        " done\r\n",
        "Processing loans/lenders file 159/528 ..."
       ]
      },
      {
       "output_type": "stream",
       "stream": "stdout",
       "text": [
        " done\r\n",
        "Processing loans/lenders file 160/528 ..."
       ]
      },
      {
       "output_type": "stream",
       "stream": "stdout",
       "text": [
        " done\r\n",
        "Processing loans/lenders file 161/528 ..."
       ]
      },
      {
       "output_type": "stream",
       "stream": "stdout",
       "text": [
        " done\r\n",
        "Processing loans/lenders file 162/528 ..."
       ]
      },
      {
       "output_type": "stream",
       "stream": "stdout",
       "text": [
        " done\r\n",
        "Processing loans/lenders file 163/528 ..."
       ]
      },
      {
       "output_type": "stream",
       "stream": "stdout",
       "text": [
        " done\r\n",
        "Processing loans/lenders file 164/528 ..."
       ]
      },
      {
       "output_type": "stream",
       "stream": "stdout",
       "text": [
        " done\r\n",
        "Processing loans/lenders file 165/528 ..."
       ]
      },
      {
       "output_type": "stream",
       "stream": "stdout",
       "text": [
        " done\r\n",
        "Processing loans/lenders file 166/528 ..."
       ]
      },
      {
       "output_type": "stream",
       "stream": "stdout",
       "text": [
        " done\r\n",
        "Processing loans/lenders file 167/528 ..."
       ]
      },
      {
       "output_type": "stream",
       "stream": "stdout",
       "text": [
        " done\r\n",
        "Processing loans/lenders file 168/528 ..."
       ]
      },
      {
       "output_type": "stream",
       "stream": "stdout",
       "text": [
        " done\r\n",
        "Processing loans/lenders file 169/528 ..."
       ]
      },
      {
       "output_type": "stream",
       "stream": "stdout",
       "text": [
        " done\r\n",
        "Processing loans/lenders file 170/528 ..."
       ]
      },
      {
       "output_type": "stream",
       "stream": "stdout",
       "text": [
        " done\r\n",
        "Processing loans/lenders file 171/528 ..."
       ]
      },
      {
       "output_type": "stream",
       "stream": "stdout",
       "text": [
        " done\r\n",
        "Processing loans/lenders file 172/528 ..."
       ]
      },
      {
       "output_type": "stream",
       "stream": "stdout",
       "text": [
        " done\r\n",
        "Processing loans/lenders file 173/528 ..."
       ]
      },
      {
       "output_type": "stream",
       "stream": "stdout",
       "text": [
        " done\r\n",
        "Processing loans/lenders file 174/528 ..."
       ]
      },
      {
       "output_type": "stream",
       "stream": "stdout",
       "text": [
        " done\r\n",
        "Processing loans/lenders file 175/528 ..."
       ]
      },
      {
       "output_type": "stream",
       "stream": "stdout",
       "text": [
        " done\r\n",
        "Processing loans/lenders file 176/528 ..."
       ]
      },
      {
       "output_type": "stream",
       "stream": "stdout",
       "text": [
        " done\r\n",
        "Processing loans/lenders file 177/528 ..."
       ]
      },
      {
       "output_type": "stream",
       "stream": "stdout",
       "text": [
        " done\r\n",
        "Processing loans/lenders file 178/528 ..."
       ]
      },
      {
       "output_type": "stream",
       "stream": "stdout",
       "text": [
        " done\r\n",
        "Processing loans/lenders file 179/528 ..."
       ]
      },
      {
       "output_type": "stream",
       "stream": "stdout",
       "text": [
        " done\r\n",
        "Processing loans/lenders file 180/528 ..."
       ]
      },
      {
       "output_type": "stream",
       "stream": "stdout",
       "text": [
        " done\r\n",
        "Processing loans/lenders file 181/528 ..."
       ]
      },
      {
       "output_type": "stream",
       "stream": "stdout",
       "text": [
        " done\r\n",
        "Processing loans/lenders file 182/528 ..."
       ]
      },
      {
       "output_type": "stream",
       "stream": "stdout",
       "text": [
        " done\r\n",
        "Processing loans/lenders file 183/528 ..."
       ]
      },
      {
       "output_type": "stream",
       "stream": "stdout",
       "text": [
        " done\r\n",
        "Processing loans/lenders file 184/528 ..."
       ]
      },
      {
       "output_type": "stream",
       "stream": "stdout",
       "text": [
        " done\r\n",
        "Processing loans/lenders file 185/528 ..."
       ]
      },
      {
       "output_type": "stream",
       "stream": "stdout",
       "text": [
        " done\r\n",
        "Processing loans/lenders file 186/528 ..."
       ]
      },
      {
       "output_type": "stream",
       "stream": "stdout",
       "text": [
        " done\r\n",
        "Processing loans/lenders file 187/528 ..."
       ]
      },
      {
       "output_type": "stream",
       "stream": "stdout",
       "text": [
        " done\r\n",
        "Processing loans/lenders file 188/528 ..."
       ]
      },
      {
       "output_type": "stream",
       "stream": "stdout",
       "text": [
        " done\r\n",
        "Processing loans/lenders file 189/528 ..."
       ]
      },
      {
       "output_type": "stream",
       "stream": "stdout",
       "text": [
        " done\r\n",
        "Processing loans/lenders file 190/528 ..."
       ]
      },
      {
       "output_type": "stream",
       "stream": "stdout",
       "text": [
        " done\r\n",
        "Processing loans/lenders file 191/528 ..."
       ]
      },
      {
       "output_type": "stream",
       "stream": "stdout",
       "text": [
        " done\r\n",
        "Processing loans/lenders file 192/528 ..."
       ]
      },
      {
       "output_type": "stream",
       "stream": "stdout",
       "text": [
        " done\r\n",
        "Processing loans/lenders file 193/528 ..."
       ]
      },
      {
       "output_type": "stream",
       "stream": "stdout",
       "text": [
        " done\r\n",
        "Processing loans/lenders file 194/528 ..."
       ]
      },
      {
       "output_type": "stream",
       "stream": "stdout",
       "text": [
        " done\r\n",
        "Processing loans/lenders file 195/528 ..."
       ]
      },
      {
       "output_type": "stream",
       "stream": "stdout",
       "text": [
        " done\r\n",
        "Processing loans/lenders file 196/528 ..."
       ]
      },
      {
       "output_type": "stream",
       "stream": "stdout",
       "text": [
        " done\r\n",
        "Processing loans/lenders file 197/528 ..."
       ]
      },
      {
       "output_type": "stream",
       "stream": "stdout",
       "text": [
        " done\r\n",
        "Processing loans/lenders file 198/528 ..."
       ]
      },
      {
       "output_type": "stream",
       "stream": "stdout",
       "text": [
        " done\r\n",
        "Processing loans/lenders file 199/528 ..."
       ]
      },
      {
       "output_type": "stream",
       "stream": "stdout",
       "text": [
        " done\r\n",
        "Processing loans/lenders file 200/528 ..."
       ]
      },
      {
       "output_type": "stream",
       "stream": "stdout",
       "text": [
        " done\r\n",
        "Processing loans/lenders file 201/528 ..."
       ]
      },
      {
       "output_type": "stream",
       "stream": "stdout",
       "text": [
        " done\r\n",
        "Processing loans/lenders file 202/528 ..."
       ]
      },
      {
       "output_type": "stream",
       "stream": "stdout",
       "text": [
        " done\r\n",
        "Processing loans/lenders file 203/528 ..."
       ]
      },
      {
       "output_type": "stream",
       "stream": "stdout",
       "text": [
        " done\r\n",
        "Processing loans/lenders file 204/528 ..."
       ]
      },
      {
       "output_type": "stream",
       "stream": "stdout",
       "text": [
        " done\r\n",
        "Processing loans/lenders file 205/528 ..."
       ]
      },
      {
       "output_type": "stream",
       "stream": "stdout",
       "text": [
        " done\r\n",
        "Processing loans/lenders file 206/528 ..."
       ]
      },
      {
       "output_type": "stream",
       "stream": "stdout",
       "text": [
        " done\r\n",
        "Processing loans/lenders file 207/528 ..."
       ]
      },
      {
       "output_type": "stream",
       "stream": "stdout",
       "text": [
        " done\r\n",
        "Processing loans/lenders file 208/528 ..."
       ]
      },
      {
       "output_type": "stream",
       "stream": "stdout",
       "text": [
        " done\r\n",
        "Processing loans/lenders file 209/528 ..."
       ]
      },
      {
       "output_type": "stream",
       "stream": "stdout",
       "text": [
        " done\r\n",
        "Processing loans/lenders file 210/528 ..."
       ]
      },
      {
       "output_type": "stream",
       "stream": "stdout",
       "text": [
        " done\r\n",
        "Processing loans/lenders file 211/528 ..."
       ]
      },
      {
       "output_type": "stream",
       "stream": "stdout",
       "text": [
        " done\r\n",
        "Processing loans/lenders file 212/528 ..."
       ]
      },
      {
       "output_type": "stream",
       "stream": "stdout",
       "text": [
        " done\r\n",
        "Processing loans/lenders file 213/528 ..."
       ]
      },
      {
       "output_type": "stream",
       "stream": "stdout",
       "text": [
        " done\r\n",
        "Processing loans/lenders file 214/528 ..."
       ]
      },
      {
       "output_type": "stream",
       "stream": "stdout",
       "text": [
        " done\r\n",
        "Processing loans/lenders file 215/528 ..."
       ]
      },
      {
       "output_type": "stream",
       "stream": "stdout",
       "text": [
        " done\r\n",
        "Processing loans/lenders file 216/528 ..."
       ]
      },
      {
       "output_type": "stream",
       "stream": "stdout",
       "text": [
        " done\r\n",
        "Processing loans/lenders file 217/528 ..."
       ]
      },
      {
       "output_type": "stream",
       "stream": "stdout",
       "text": [
        " done\r\n",
        "Processing loans/lenders file 218/528 ..."
       ]
      },
      {
       "output_type": "stream",
       "stream": "stdout",
       "text": [
        " done\r\n",
        "Processing loans/lenders file 219/528 ..."
       ]
      },
      {
       "output_type": "stream",
       "stream": "stdout",
       "text": [
        " done\r\n",
        "Processing loans/lenders file 220/528 ..."
       ]
      },
      {
       "output_type": "stream",
       "stream": "stdout",
       "text": [
        " done\r\n",
        "Processing loans/lenders file 221/528 ..."
       ]
      },
      {
       "output_type": "stream",
       "stream": "stdout",
       "text": [
        " done\r\n",
        "Processing loans/lenders file 222/528 ..."
       ]
      },
      {
       "output_type": "stream",
       "stream": "stdout",
       "text": [
        " done\r\n",
        "Processing loans/lenders file 223/528 ..."
       ]
      },
      {
       "output_type": "stream",
       "stream": "stdout",
       "text": [
        " done\r\n",
        "Processing loans/lenders file 224/528 ..."
       ]
      },
      {
       "output_type": "stream",
       "stream": "stdout",
       "text": [
        " done\r\n",
        "Processing loans/lenders file 225/528 ..."
       ]
      },
      {
       "output_type": "stream",
       "stream": "stdout",
       "text": [
        " done\r\n",
        "Processing loans/lenders file 226/528 ..."
       ]
      },
      {
       "output_type": "stream",
       "stream": "stdout",
       "text": [
        " done\r\n",
        "Processing loans/lenders file 227/528 ..."
       ]
      },
      {
       "output_type": "stream",
       "stream": "stdout",
       "text": [
        " done\r\n",
        "Processing loans/lenders file 228/528 ..."
       ]
      },
      {
       "output_type": "stream",
       "stream": "stdout",
       "text": [
        " done\r\n",
        "Processing loans/lenders file 229/528 ..."
       ]
      },
      {
       "output_type": "stream",
       "stream": "stdout",
       "text": [
        " done\r\n",
        "Processing loans/lenders file 230/528 ..."
       ]
      },
      {
       "output_type": "stream",
       "stream": "stdout",
       "text": [
        " done\r\n",
        "Processing loans/lenders file 231/528 ..."
       ]
      },
      {
       "output_type": "stream",
       "stream": "stdout",
       "text": [
        " done\r\n",
        "Processing loans/lenders file 232/528 ..."
       ]
      },
      {
       "output_type": "stream",
       "stream": "stdout",
       "text": [
        " done\r\n",
        "Processing loans/lenders file 233/528 ..."
       ]
      },
      {
       "output_type": "stream",
       "stream": "stdout",
       "text": [
        " done\r\n",
        "Processing loans/lenders file 234/528 ..."
       ]
      },
      {
       "output_type": "stream",
       "stream": "stdout",
       "text": [
        " done\r\n",
        "Processing loans/lenders file 235/528 ..."
       ]
      },
      {
       "output_type": "stream",
       "stream": "stdout",
       "text": [
        " done\r\n",
        "Processing loans/lenders file 236/528 ..."
       ]
      },
      {
       "output_type": "stream",
       "stream": "stdout",
       "text": [
        " done\r\n",
        "Processing loans/lenders file 237/528 ..."
       ]
      },
      {
       "output_type": "stream",
       "stream": "stdout",
       "text": [
        " done\r\n",
        "Processing loans/lenders file 238/528 ..."
       ]
      },
      {
       "output_type": "stream",
       "stream": "stdout",
       "text": [
        " done\r\n",
        "Processing loans/lenders file 239/528 ..."
       ]
      },
      {
       "output_type": "stream",
       "stream": "stdout",
       "text": [
        " done\r\n",
        "Processing loans/lenders file 240/528 ..."
       ]
      },
      {
       "output_type": "stream",
       "stream": "stdout",
       "text": [
        " done\r\n",
        "Processing loans/lenders file 241/528 ..."
       ]
      },
      {
       "output_type": "stream",
       "stream": "stdout",
       "text": [
        " done\r\n",
        "Processing loans/lenders file 242/528 ..."
       ]
      },
      {
       "output_type": "stream",
       "stream": "stdout",
       "text": [
        " done\r\n",
        "Processing loans/lenders file 243/528 ..."
       ]
      },
      {
       "output_type": "stream",
       "stream": "stdout",
       "text": [
        " done\r\n",
        "Processing loans/lenders file 244/528 ..."
       ]
      },
      {
       "output_type": "stream",
       "stream": "stdout",
       "text": [
        " done\r\n",
        "Processing loans/lenders file 245/528 ..."
       ]
      },
      {
       "output_type": "stream",
       "stream": "stdout",
       "text": [
        " done\r\n",
        "Processing loans/lenders file 246/528 ..."
       ]
      },
      {
       "output_type": "stream",
       "stream": "stdout",
       "text": [
        " done\r\n",
        "Processing loans/lenders file 247/528 ..."
       ]
      },
      {
       "output_type": "stream",
       "stream": "stdout",
       "text": [
        " done\r\n",
        "Processing loans/lenders file 248/528 ..."
       ]
      },
      {
       "output_type": "stream",
       "stream": "stdout",
       "text": [
        " done\r\n",
        "Processing loans/lenders file 249/528 ..."
       ]
      },
      {
       "output_type": "stream",
       "stream": "stdout",
       "text": [
        " done\r\n",
        "Processing loans/lenders file 250/528 ..."
       ]
      },
      {
       "output_type": "stream",
       "stream": "stdout",
       "text": [
        " done\r\n",
        "Processing loans/lenders file 251/528 ..."
       ]
      },
      {
       "output_type": "stream",
       "stream": "stdout",
       "text": [
        " done\r\n",
        "Processing loans/lenders file 252/528 ..."
       ]
      },
      {
       "output_type": "stream",
       "stream": "stdout",
       "text": [
        " done\r\n",
        "Processing loans/lenders file 253/528 ..."
       ]
      },
      {
       "output_type": "stream",
       "stream": "stdout",
       "text": [
        " done\r\n",
        "Processing loans/lenders file 254/528 ..."
       ]
      },
      {
       "output_type": "stream",
       "stream": "stdout",
       "text": [
        " done\r\n",
        "Processing loans/lenders file 255/528 ..."
       ]
      },
      {
       "output_type": "stream",
       "stream": "stdout",
       "text": [
        " done\r\n",
        "Processing loans/lenders file 256/528 ..."
       ]
      },
      {
       "output_type": "stream",
       "stream": "stdout",
       "text": [
        " done\r\n",
        "Processing loans/lenders file 257/528 ..."
       ]
      },
      {
       "output_type": "stream",
       "stream": "stdout",
       "text": [
        " done\r\n",
        "Processing loans/lenders file 258/528 ..."
       ]
      },
      {
       "output_type": "stream",
       "stream": "stdout",
       "text": [
        " done\r\n",
        "Processing loans/lenders file 259/528 ..."
       ]
      },
      {
       "output_type": "stream",
       "stream": "stdout",
       "text": [
        " done\r\n",
        "Processing loans/lenders file 260/528 ..."
       ]
      },
      {
       "output_type": "stream",
       "stream": "stdout",
       "text": [
        " done\r\n",
        "Processing loans/lenders file 261/528 ..."
       ]
      },
      {
       "output_type": "stream",
       "stream": "stdout",
       "text": [
        " done\r\n",
        "Processing loans/lenders file 262/528 ..."
       ]
      },
      {
       "output_type": "stream",
       "stream": "stdout",
       "text": [
        " done\r\n",
        "Processing loans/lenders file 263/528 ..."
       ]
      },
      {
       "output_type": "stream",
       "stream": "stdout",
       "text": [
        " done\r\n",
        "Processing loans/lenders file 264/528 ..."
       ]
      },
      {
       "output_type": "stream",
       "stream": "stdout",
       "text": [
        " done\r\n",
        "Processing loans/lenders file 265/528 ..."
       ]
      },
      {
       "output_type": "stream",
       "stream": "stdout",
       "text": [
        " done\r\n",
        "Processing loans/lenders file 266/528 ..."
       ]
      },
      {
       "output_type": "stream",
       "stream": "stdout",
       "text": [
        " done\r\n",
        "Processing loans/lenders file 267/528 ..."
       ]
      },
      {
       "output_type": "stream",
       "stream": "stdout",
       "text": [
        " done\r\n",
        "Processing loans/lenders file 268/528 ..."
       ]
      },
      {
       "output_type": "stream",
       "stream": "stdout",
       "text": [
        " done\r\n",
        "Processing loans/lenders file 269/528 ..."
       ]
      },
      {
       "output_type": "stream",
       "stream": "stdout",
       "text": [
        " done\r\n",
        "Processing loans/lenders file 270/528 ..."
       ]
      },
      {
       "output_type": "stream",
       "stream": "stdout",
       "text": [
        " done\r\n",
        "Processing loans/lenders file 271/528 ..."
       ]
      },
      {
       "output_type": "stream",
       "stream": "stdout",
       "text": [
        " done\r\n",
        "Processing loans/lenders file 272/528 ..."
       ]
      },
      {
       "output_type": "stream",
       "stream": "stdout",
       "text": [
        " done\r\n",
        "Processing loans/lenders file 273/528 ..."
       ]
      },
      {
       "output_type": "stream",
       "stream": "stdout",
       "text": [
        " done\r\n",
        "Processing loans/lenders file 274/528 ..."
       ]
      },
      {
       "output_type": "stream",
       "stream": "stdout",
       "text": [
        " done\r\n",
        "Processing loans/lenders file 275/528 ..."
       ]
      },
      {
       "output_type": "stream",
       "stream": "stdout",
       "text": [
        " done\r\n",
        "Processing loans/lenders file 276/528 ..."
       ]
      },
      {
       "output_type": "stream",
       "stream": "stdout",
       "text": [
        " done\r\n",
        "Processing loans/lenders file 277/528 ..."
       ]
      },
      {
       "output_type": "stream",
       "stream": "stdout",
       "text": [
        " done\r\n",
        "Processing loans/lenders file 278/528 ..."
       ]
      },
      {
       "output_type": "stream",
       "stream": "stdout",
       "text": [
        " done\r\n",
        "Processing loans/lenders file 279/528 ..."
       ]
      },
      {
       "output_type": "stream",
       "stream": "stdout",
       "text": [
        " done\r\n",
        "Processing loans/lenders file 280/528 ..."
       ]
      },
      {
       "output_type": "stream",
       "stream": "stdout",
       "text": [
        " done\r\n",
        "Processing loans/lenders file 281/528 ..."
       ]
      },
      {
       "output_type": "stream",
       "stream": "stdout",
       "text": [
        " done\r\n",
        "Processing loans/lenders file 282/528 ..."
       ]
      },
      {
       "output_type": "stream",
       "stream": "stdout",
       "text": [
        " done\r\n",
        "Processing loans/lenders file 283/528 ..."
       ]
      },
      {
       "output_type": "stream",
       "stream": "stdout",
       "text": [
        " done\r\n",
        "Processing loans/lenders file 284/528 ..."
       ]
      },
      {
       "output_type": "stream",
       "stream": "stdout",
       "text": [
        " done\r\n",
        "Processing loans/lenders file 285/528 ..."
       ]
      },
      {
       "output_type": "stream",
       "stream": "stdout",
       "text": [
        " done\r\n",
        "Processing loans/lenders file 286/528 ..."
       ]
      },
      {
       "output_type": "stream",
       "stream": "stdout",
       "text": [
        " done\r\n",
        "Processing loans/lenders file 287/528 ..."
       ]
      },
      {
       "output_type": "stream",
       "stream": "stdout",
       "text": [
        " done\r\n",
        "Processing loans/lenders file 288/528 ..."
       ]
      },
      {
       "output_type": "stream",
       "stream": "stdout",
       "text": [
        " done\r\n",
        "Processing loans/lenders file 289/528 ..."
       ]
      },
      {
       "output_type": "stream",
       "stream": "stdout",
       "text": [
        " done\r\n",
        "Processing loans/lenders file 290/528 ..."
       ]
      },
      {
       "output_type": "stream",
       "stream": "stdout",
       "text": [
        " done\r\n",
        "Processing loans/lenders file 291/528 ..."
       ]
      },
      {
       "output_type": "stream",
       "stream": "stdout",
       "text": [
        " done\r\n",
        "Processing loans/lenders file 292/528 ..."
       ]
      },
      {
       "output_type": "stream",
       "stream": "stdout",
       "text": [
        " done\r\n",
        "Processing loans/lenders file 293/528 ..."
       ]
      },
      {
       "output_type": "stream",
       "stream": "stdout",
       "text": [
        " done\r\n",
        "Processing loans/lenders file 294/528 ..."
       ]
      },
      {
       "output_type": "stream",
       "stream": "stdout",
       "text": [
        " done\r\n",
        "Processing loans/lenders file 295/528 ..."
       ]
      },
      {
       "output_type": "stream",
       "stream": "stdout",
       "text": [
        " done\r\n",
        "Processing loans/lenders file 296/528 ..."
       ]
      },
      {
       "output_type": "stream",
       "stream": "stdout",
       "text": [
        " done\r\n",
        "Processing loans/lenders file 297/528 ..."
       ]
      },
      {
       "output_type": "stream",
       "stream": "stdout",
       "text": [
        " done\r\n",
        "Processing loans/lenders file 298/528 ..."
       ]
      },
      {
       "output_type": "stream",
       "stream": "stdout",
       "text": [
        " done\r\n",
        "Processing loans/lenders file 299/528 ..."
       ]
      },
      {
       "output_type": "stream",
       "stream": "stdout",
       "text": [
        " done\r\n",
        "Processing loans/lenders file 300/528 ..."
       ]
      },
      {
       "output_type": "stream",
       "stream": "stdout",
       "text": [
        " done\r\n",
        "Processing loans/lenders file 301/528 ..."
       ]
      },
      {
       "output_type": "stream",
       "stream": "stdout",
       "text": [
        " done\r\n",
        "Processing loans/lenders file 302/528 ..."
       ]
      },
      {
       "output_type": "stream",
       "stream": "stdout",
       "text": [
        " done\r\n",
        "Processing loans/lenders file 303/528 ..."
       ]
      },
      {
       "output_type": "stream",
       "stream": "stdout",
       "text": [
        " done\r\n",
        "Processing loans/lenders file 304/528 ..."
       ]
      },
      {
       "output_type": "stream",
       "stream": "stdout",
       "text": [
        " done\r\n",
        "Processing loans/lenders file 305/528 ..."
       ]
      },
      {
       "output_type": "stream",
       "stream": "stdout",
       "text": [
        " done\r\n",
        "Processing loans/lenders file 306/528 ..."
       ]
      },
      {
       "output_type": "stream",
       "stream": "stdout",
       "text": [
        " done\r\n",
        "Processing loans/lenders file 307/528 ..."
       ]
      },
      {
       "output_type": "stream",
       "stream": "stdout",
       "text": [
        " done\r\n",
        "Processing loans/lenders file 308/528 ..."
       ]
      },
      {
       "output_type": "stream",
       "stream": "stdout",
       "text": [
        " done\r\n",
        "Processing loans/lenders file 309/528 ..."
       ]
      },
      {
       "output_type": "stream",
       "stream": "stdout",
       "text": [
        " done\r\n",
        "Processing loans/lenders file 310/528 ..."
       ]
      },
      {
       "output_type": "stream",
       "stream": "stdout",
       "text": [
        " done\r\n",
        "Processing loans/lenders file 311/528 ..."
       ]
      },
      {
       "output_type": "stream",
       "stream": "stdout",
       "text": [
        " done\r\n",
        "Processing loans/lenders file 312/528 ..."
       ]
      },
      {
       "output_type": "stream",
       "stream": "stdout",
       "text": [
        " done\r\n",
        "Processing loans/lenders file 313/528 ..."
       ]
      },
      {
       "output_type": "stream",
       "stream": "stdout",
       "text": [
        " done\r\n",
        "Processing loans/lenders file 314/528 ..."
       ]
      },
      {
       "output_type": "stream",
       "stream": "stdout",
       "text": [
        " done\r\n",
        "Processing loans/lenders file 315/528 ..."
       ]
      },
      {
       "output_type": "stream",
       "stream": "stdout",
       "text": [
        " done\r\n",
        "Processing loans/lenders file 316/528 ..."
       ]
      },
      {
       "output_type": "stream",
       "stream": "stdout",
       "text": [
        " done\r\n",
        "Processing loans/lenders file 317/528 ..."
       ]
      },
      {
       "output_type": "stream",
       "stream": "stdout",
       "text": [
        " done\r\n",
        "Processing loans/lenders file 318/528 ..."
       ]
      },
      {
       "output_type": "stream",
       "stream": "stdout",
       "text": [
        " done\r\n",
        "Processing loans/lenders file 319/528 ..."
       ]
      },
      {
       "output_type": "stream",
       "stream": "stdout",
       "text": [
        " done\r\n",
        "Processing loans/lenders file 320/528 ..."
       ]
      },
      {
       "output_type": "stream",
       "stream": "stdout",
       "text": [
        " done\r\n",
        "Processing loans/lenders file 321/528 ..."
       ]
      },
      {
       "output_type": "stream",
       "stream": "stdout",
       "text": [
        " done\r\n",
        "Processing loans/lenders file 322/528 ..."
       ]
      },
      {
       "output_type": "stream",
       "stream": "stdout",
       "text": [
        " done\r\n",
        "Processing loans/lenders file 323/528 ..."
       ]
      },
      {
       "output_type": "stream",
       "stream": "stdout",
       "text": [
        " done\r\n",
        "Processing loans/lenders file 324/528 ..."
       ]
      },
      {
       "output_type": "stream",
       "stream": "stdout",
       "text": [
        " done\r\n",
        "Processing loans/lenders file 325/528 ..."
       ]
      },
      {
       "output_type": "stream",
       "stream": "stdout",
       "text": [
        " done\r\n",
        "Processing loans/lenders file 326/528 ..."
       ]
      },
      {
       "output_type": "stream",
       "stream": "stdout",
       "text": [
        " done\r\n",
        "Processing loans/lenders file 327/528 ..."
       ]
      },
      {
       "output_type": "stream",
       "stream": "stdout",
       "text": [
        " done\r\n",
        "Processing loans/lenders file 328/528 ..."
       ]
      },
      {
       "output_type": "stream",
       "stream": "stdout",
       "text": [
        " done\r\n",
        "Processing loans/lenders file 329/528 ..."
       ]
      },
      {
       "output_type": "stream",
       "stream": "stdout",
       "text": [
        " done\r\n",
        "Processing loans/lenders file 330/528 ..."
       ]
      },
      {
       "output_type": "stream",
       "stream": "stdout",
       "text": [
        " done\r\n",
        "Processing loans/lenders file 331/528 ..."
       ]
      },
      {
       "output_type": "stream",
       "stream": "stdout",
       "text": [
        " done\r\n",
        "Processing loans/lenders file 332/528 ..."
       ]
      },
      {
       "output_type": "stream",
       "stream": "stdout",
       "text": [
        " done\r\n",
        "Processing loans/lenders file 333/528 ..."
       ]
      },
      {
       "output_type": "stream",
       "stream": "stdout",
       "text": [
        " done\r\n",
        "Processing loans/lenders file 334/528 ..."
       ]
      },
      {
       "output_type": "stream",
       "stream": "stdout",
       "text": [
        " done\r\n",
        "Processing loans/lenders file 335/528 ..."
       ]
      },
      {
       "output_type": "stream",
       "stream": "stdout",
       "text": [
        " done\r\n",
        "Processing loans/lenders file 336/528 ..."
       ]
      },
      {
       "output_type": "stream",
       "stream": "stdout",
       "text": [
        " done\r\n",
        "Processing loans/lenders file 337/528 ..."
       ]
      },
      {
       "output_type": "stream",
       "stream": "stdout",
       "text": [
        " done\r\n",
        "Processing loans/lenders file 338/528 ..."
       ]
      },
      {
       "output_type": "stream",
       "stream": "stdout",
       "text": [
        " done\r\n",
        "Processing loans/lenders file 339/528 ..."
       ]
      },
      {
       "output_type": "stream",
       "stream": "stdout",
       "text": [
        " done\r\n",
        "Processing loans/lenders file 340/528 ..."
       ]
      },
      {
       "output_type": "stream",
       "stream": "stdout",
       "text": [
        " done\r\n",
        "Processing loans/lenders file 341/528 ..."
       ]
      },
      {
       "output_type": "stream",
       "stream": "stdout",
       "text": [
        " done\r\n",
        "Processing loans/lenders file 342/528 ..."
       ]
      },
      {
       "output_type": "stream",
       "stream": "stdout",
       "text": [
        " done\r\n",
        "Processing loans/lenders file 343/528 ..."
       ]
      },
      {
       "output_type": "stream",
       "stream": "stdout",
       "text": [
        " done\r\n",
        "Processing loans/lenders file 344/528 ..."
       ]
      },
      {
       "output_type": "stream",
       "stream": "stdout",
       "text": [
        " done\r\n",
        "Processing loans/lenders file 345/528 ..."
       ]
      },
      {
       "output_type": "stream",
       "stream": "stdout",
       "text": [
        " done\r\n",
        "Processing loans/lenders file 346/528 ..."
       ]
      },
      {
       "output_type": "stream",
       "stream": "stdout",
       "text": [
        " done\r\n",
        "Processing loans/lenders file 347/528 ..."
       ]
      },
      {
       "output_type": "stream",
       "stream": "stdout",
       "text": [
        " done\r\n",
        "Processing loans/lenders file 348/528 ..."
       ]
      },
      {
       "output_type": "stream",
       "stream": "stdout",
       "text": [
        " done\r\n",
        "Processing loans/lenders file 349/528 ..."
       ]
      },
      {
       "output_type": "stream",
       "stream": "stdout",
       "text": [
        " done\r\n",
        "Processing loans/lenders file 350/528 ..."
       ]
      },
      {
       "output_type": "stream",
       "stream": "stdout",
       "text": [
        " done\r\n",
        "Processing loans/lenders file 351/528 ..."
       ]
      },
      {
       "output_type": "stream",
       "stream": "stdout",
       "text": [
        " done\r\n",
        "Processing loans/lenders file 352/528 ..."
       ]
      },
      {
       "output_type": "stream",
       "stream": "stdout",
       "text": [
        " done\r\n",
        "Processing loans/lenders file 353/528 ..."
       ]
      },
      {
       "output_type": "stream",
       "stream": "stdout",
       "text": [
        " done\r\n",
        "Processing loans/lenders file 354/528 ..."
       ]
      },
      {
       "output_type": "stream",
       "stream": "stdout",
       "text": [
        " done\r\n",
        "Processing loans/lenders file 355/528 ..."
       ]
      },
      {
       "output_type": "stream",
       "stream": "stdout",
       "text": [
        " done\r\n",
        "Processing loans/lenders file 356/528 ..."
       ]
      },
      {
       "output_type": "stream",
       "stream": "stdout",
       "text": [
        " done\r\n",
        "Processing loans/lenders file 357/528 ..."
       ]
      },
      {
       "output_type": "stream",
       "stream": "stdout",
       "text": [
        " done\r\n",
        "Processing loans/lenders file 358/528 ..."
       ]
      },
      {
       "output_type": "stream",
       "stream": "stdout",
       "text": [
        " done\r\n",
        "Processing loans/lenders file 359/528 ..."
       ]
      },
      {
       "output_type": "stream",
       "stream": "stdout",
       "text": [
        " done\r\n",
        "Processing loans/lenders file 360/528 ..."
       ]
      },
      {
       "output_type": "stream",
       "stream": "stdout",
       "text": [
        " done\r\n",
        "Processing loans/lenders file 361/528 ..."
       ]
      },
      {
       "output_type": "stream",
       "stream": "stdout",
       "text": [
        " done\r\n",
        "Processing loans/lenders file 362/528 ..."
       ]
      },
      {
       "output_type": "stream",
       "stream": "stdout",
       "text": [
        " done\r\n",
        "Processing loans/lenders file 363/528 ..."
       ]
      },
      {
       "output_type": "stream",
       "stream": "stdout",
       "text": [
        " done\r\n",
        "Processing loans/lenders file 364/528 ..."
       ]
      },
      {
       "output_type": "stream",
       "stream": "stdout",
       "text": [
        " done\r\n",
        "Processing loans/lenders file 365/528 ..."
       ]
      },
      {
       "output_type": "stream",
       "stream": "stdout",
       "text": [
        " done\r\n",
        "Processing loans/lenders file 366/528 ..."
       ]
      },
      {
       "output_type": "stream",
       "stream": "stdout",
       "text": [
        " done\r\n",
        "Processing loans/lenders file 367/528 ..."
       ]
      },
      {
       "output_type": "stream",
       "stream": "stdout",
       "text": [
        " done\r\n",
        "Processing loans/lenders file 368/528 ..."
       ]
      },
      {
       "output_type": "stream",
       "stream": "stdout",
       "text": [
        " done\r\n",
        "Processing loans/lenders file 369/528 ..."
       ]
      },
      {
       "output_type": "stream",
       "stream": "stdout",
       "text": [
        " done\r\n",
        "Processing loans/lenders file 370/528 ..."
       ]
      },
      {
       "output_type": "stream",
       "stream": "stdout",
       "text": [
        " done\r\n",
        "Processing loans/lenders file 371/528 ..."
       ]
      },
      {
       "output_type": "stream",
       "stream": "stdout",
       "text": [
        " done\r\n",
        "Processing loans/lenders file 372/528 ..."
       ]
      },
      {
       "output_type": "stream",
       "stream": "stdout",
       "text": [
        " done\r\n",
        "Processing loans/lenders file 373/528 ..."
       ]
      },
      {
       "output_type": "stream",
       "stream": "stdout",
       "text": [
        " done\r\n",
        "Processing loans/lenders file 374/528 ..."
       ]
      },
      {
       "output_type": "stream",
       "stream": "stdout",
       "text": [
        " done\r\n",
        "Processing loans/lenders file 375/528 ..."
       ]
      },
      {
       "output_type": "stream",
       "stream": "stdout",
       "text": [
        " done\r\n",
        "Processing loans/lenders file 376/528 ..."
       ]
      },
      {
       "output_type": "stream",
       "stream": "stdout",
       "text": [
        " done\r\n",
        "Processing loans/lenders file 377/528 ..."
       ]
      },
      {
       "output_type": "stream",
       "stream": "stdout",
       "text": [
        " done\r\n",
        "Processing loans/lenders file 378/528 ..."
       ]
      },
      {
       "output_type": "stream",
       "stream": "stdout",
       "text": [
        " done\r\n",
        "Processing loans/lenders file 379/528 ..."
       ]
      },
      {
       "output_type": "stream",
       "stream": "stdout",
       "text": [
        " done\r\n",
        "Processing loans/lenders file 380/528 ..."
       ]
      },
      {
       "output_type": "stream",
       "stream": "stdout",
       "text": [
        " done\r\n",
        "Processing loans/lenders file 381/528 ..."
       ]
      },
      {
       "output_type": "stream",
       "stream": "stdout",
       "text": [
        " done\r\n",
        "Processing loans/lenders file 382/528 ..."
       ]
      },
      {
       "output_type": "stream",
       "stream": "stdout",
       "text": [
        " done\r\n",
        "Processing loans/lenders file 383/528 ..."
       ]
      },
      {
       "output_type": "stream",
       "stream": "stdout",
       "text": [
        " done\r\n",
        "Processing loans/lenders file 384/528 ..."
       ]
      },
      {
       "output_type": "stream",
       "stream": "stdout",
       "text": [
        " done\r\n",
        "Processing loans/lenders file 385/528 ..."
       ]
      },
      {
       "output_type": "stream",
       "stream": "stdout",
       "text": [
        " done\r\n",
        "Processing loans/lenders file 386/528 ..."
       ]
      },
      {
       "output_type": "stream",
       "stream": "stdout",
       "text": [
        " done\r\n",
        "Processing loans/lenders file 387/528 ..."
       ]
      },
      {
       "output_type": "stream",
       "stream": "stdout",
       "text": [
        " done\r\n",
        "Processing loans/lenders file 388/528 ..."
       ]
      },
      {
       "output_type": "stream",
       "stream": "stdout",
       "text": [
        " done\r\n",
        "Processing loans/lenders file 389/528 ..."
       ]
      },
      {
       "output_type": "stream",
       "stream": "stdout",
       "text": [
        " done\r\n",
        "Processing loans/lenders file 390/528 ..."
       ]
      },
      {
       "output_type": "stream",
       "stream": "stdout",
       "text": [
        " done\r\n",
        "Processing loans/lenders file 391/528 ..."
       ]
      },
      {
       "output_type": "stream",
       "stream": "stdout",
       "text": [
        " done\r\n",
        "Processing loans/lenders file 392/528 ..."
       ]
      },
      {
       "output_type": "stream",
       "stream": "stdout",
       "text": [
        " done\r\n",
        "Processing loans/lenders file 393/528 ..."
       ]
      },
      {
       "output_type": "stream",
       "stream": "stdout",
       "text": [
        " done\r\n",
        "Processing loans/lenders file 394/528 ..."
       ]
      },
      {
       "output_type": "stream",
       "stream": "stdout",
       "text": [
        " done\r\n",
        "Processing loans/lenders file 395/528 ..."
       ]
      },
      {
       "output_type": "stream",
       "stream": "stdout",
       "text": [
        " done\r\n",
        "Processing loans/lenders file 396/528 ..."
       ]
      },
      {
       "output_type": "stream",
       "stream": "stdout",
       "text": [
        " done\r\n",
        "Processing loans/lenders file 397/528 ..."
       ]
      },
      {
       "output_type": "stream",
       "stream": "stdout",
       "text": [
        " done\r\n",
        "Processing loans/lenders file 398/528 ..."
       ]
      },
      {
       "output_type": "stream",
       "stream": "stdout",
       "text": [
        " done\r\n",
        "Processing loans/lenders file 399/528 ..."
       ]
      },
      {
       "output_type": "stream",
       "stream": "stdout",
       "text": [
        " done\r\n",
        "Processing loans/lenders file 400/528 ..."
       ]
      },
      {
       "output_type": "stream",
       "stream": "stdout",
       "text": [
        " done\r\n",
        "Processing loans/lenders file 401/528 ..."
       ]
      },
      {
       "output_type": "stream",
       "stream": "stdout",
       "text": [
        " done\r\n",
        "Processing loans/lenders file 402/528 ..."
       ]
      },
      {
       "output_type": "stream",
       "stream": "stdout",
       "text": [
        " done\r\n",
        "Processing loans/lenders file 403/528 ..."
       ]
      },
      {
       "output_type": "stream",
       "stream": "stdout",
       "text": [
        " done\r\n",
        "Processing loans/lenders file 404/528 ..."
       ]
      },
      {
       "output_type": "stream",
       "stream": "stdout",
       "text": [
        " done\r\n",
        "Processing loans/lenders file 405/528 ..."
       ]
      },
      {
       "output_type": "stream",
       "stream": "stdout",
       "text": [
        " done\r\n",
        "Processing loans/lenders file 406/528 ..."
       ]
      },
      {
       "output_type": "stream",
       "stream": "stdout",
       "text": [
        " done\r\n",
        "Processing loans/lenders file 407/528 ..."
       ]
      },
      {
       "output_type": "stream",
       "stream": "stdout",
       "text": [
        " done\r\n",
        "Processing loans/lenders file 408/528 ..."
       ]
      },
      {
       "output_type": "stream",
       "stream": "stdout",
       "text": [
        " done\r\n",
        "Processing loans/lenders file 409/528 ..."
       ]
      },
      {
       "output_type": "stream",
       "stream": "stdout",
       "text": [
        " done\r\n",
        "Processing loans/lenders file 410/528 ..."
       ]
      },
      {
       "output_type": "stream",
       "stream": "stdout",
       "text": [
        " done\r\n",
        "Processing loans/lenders file 411/528 ..."
       ]
      },
      {
       "output_type": "stream",
       "stream": "stdout",
       "text": [
        " done\r\n",
        "Processing loans/lenders file 412/528 ..."
       ]
      },
      {
       "output_type": "stream",
       "stream": "stdout",
       "text": [
        " done\r\n",
        "Processing loans/lenders file 413/528 ..."
       ]
      },
      {
       "output_type": "stream",
       "stream": "stdout",
       "text": [
        " done\r\n",
        "Processing loans/lenders file 414/528 ..."
       ]
      },
      {
       "output_type": "stream",
       "stream": "stdout",
       "text": [
        " done\r\n",
        "Processing loans/lenders file 415/528 ..."
       ]
      },
      {
       "output_type": "stream",
       "stream": "stdout",
       "text": [
        " done\r\n",
        "Processing loans/lenders file 416/528 ..."
       ]
      },
      {
       "output_type": "stream",
       "stream": "stdout",
       "text": [
        " done\r\n",
        "Processing loans/lenders file 417/528 ..."
       ]
      },
      {
       "output_type": "stream",
       "stream": "stdout",
       "text": [
        " done\r\n",
        "Processing loans/lenders file 418/528 ..."
       ]
      },
      {
       "output_type": "stream",
       "stream": "stdout",
       "text": [
        " done\r\n",
        "Processing loans/lenders file 419/528 ..."
       ]
      },
      {
       "output_type": "stream",
       "stream": "stdout",
       "text": [
        " done\r\n",
        "Processing loans/lenders file 420/528 ..."
       ]
      },
      {
       "output_type": "stream",
       "stream": "stdout",
       "text": [
        " done\r\n",
        "Processing loans/lenders file 421/528 ..."
       ]
      },
      {
       "output_type": "stream",
       "stream": "stdout",
       "text": [
        " done\r\n",
        "Processing loans/lenders file 422/528 ..."
       ]
      },
      {
       "output_type": "stream",
       "stream": "stdout",
       "text": [
        " done\r\n",
        "Processing loans/lenders file 423/528 ..."
       ]
      },
      {
       "output_type": "stream",
       "stream": "stdout",
       "text": [
        " done\r\n",
        "Processing loans/lenders file 424/528 ..."
       ]
      },
      {
       "output_type": "stream",
       "stream": "stdout",
       "text": [
        " done\r\n",
        "Processing loans/lenders file 425/528 ..."
       ]
      },
      {
       "output_type": "stream",
       "stream": "stdout",
       "text": [
        " done\r\n",
        "Processing loans/lenders file 426/528 ..."
       ]
      },
      {
       "output_type": "stream",
       "stream": "stdout",
       "text": [
        " done\r\n",
        "Processing loans/lenders file 427/528 ..."
       ]
      },
      {
       "output_type": "stream",
       "stream": "stdout",
       "text": [
        " done\r\n",
        "Processing loans/lenders file 428/528 ..."
       ]
      },
      {
       "output_type": "stream",
       "stream": "stdout",
       "text": [
        " done\r\n",
        "Processing loans/lenders file 429/528 ..."
       ]
      },
      {
       "output_type": "stream",
       "stream": "stdout",
       "text": [
        " done\r\n",
        "Processing loans/lenders file 430/528 ..."
       ]
      },
      {
       "output_type": "stream",
       "stream": "stdout",
       "text": [
        " done\r\n",
        "Processing loans/lenders file 431/528 ..."
       ]
      },
      {
       "output_type": "stream",
       "stream": "stdout",
       "text": [
        " done\r\n",
        "Processing loans/lenders file 432/528 ..."
       ]
      },
      {
       "output_type": "stream",
       "stream": "stdout",
       "text": [
        " done\r\n",
        "Processing loans/lenders file 433/528 ..."
       ]
      },
      {
       "output_type": "stream",
       "stream": "stdout",
       "text": [
        " done\r\n",
        "Processing loans/lenders file 434/528 ..."
       ]
      },
      {
       "output_type": "stream",
       "stream": "stdout",
       "text": [
        " done\r\n",
        "Processing loans/lenders file 435/528 ..."
       ]
      },
      {
       "output_type": "stream",
       "stream": "stdout",
       "text": [
        " done\r\n",
        "Processing loans/lenders file 436/528 ..."
       ]
      },
      {
       "output_type": "stream",
       "stream": "stdout",
       "text": [
        " done\r\n",
        "Processing loans/lenders file 437/528 ..."
       ]
      },
      {
       "output_type": "stream",
       "stream": "stdout",
       "text": [
        " done\r\n",
        "Processing loans/lenders file 438/528 ..."
       ]
      },
      {
       "output_type": "stream",
       "stream": "stdout",
       "text": [
        " done\r\n",
        "Processing loans/lenders file 439/528 ..."
       ]
      },
      {
       "output_type": "stream",
       "stream": "stdout",
       "text": [
        " done\r\n",
        "Processing loans/lenders file 440/528 ..."
       ]
      },
      {
       "output_type": "stream",
       "stream": "stdout",
       "text": [
        " done\r\n",
        "Processing loans/lenders file 441/528 ..."
       ]
      },
      {
       "output_type": "stream",
       "stream": "stdout",
       "text": [
        " done\r\n",
        "Processing loans/lenders file 442/528 ..."
       ]
      },
      {
       "output_type": "stream",
       "stream": "stdout",
       "text": [
        " done\r\n",
        "Processing loans/lenders file 443/528 ..."
       ]
      },
      {
       "output_type": "stream",
       "stream": "stdout",
       "text": [
        " done\r\n",
        "Processing loans/lenders file 444/528 ..."
       ]
      },
      {
       "output_type": "stream",
       "stream": "stdout",
       "text": [
        " done\r\n",
        "Processing loans/lenders file 445/528 ..."
       ]
      },
      {
       "output_type": "stream",
       "stream": "stdout",
       "text": [
        " done\r\n",
        "Processing loans/lenders file 446/528 ..."
       ]
      },
      {
       "output_type": "stream",
       "stream": "stdout",
       "text": [
        " done\r\n",
        "Processing loans/lenders file 447/528 ..."
       ]
      },
      {
       "output_type": "stream",
       "stream": "stdout",
       "text": [
        " done\r\n",
        "Processing loans/lenders file 448/528 ..."
       ]
      },
      {
       "output_type": "stream",
       "stream": "stdout",
       "text": [
        " done\r\n",
        "Processing loans/lenders file 449/528 ..."
       ]
      },
      {
       "output_type": "stream",
       "stream": "stdout",
       "text": [
        " done\r\n",
        "Processing loans/lenders file 450/528 ..."
       ]
      },
      {
       "output_type": "stream",
       "stream": "stdout",
       "text": [
        " done\r\n",
        "Processing loans/lenders file 451/528 ..."
       ]
      },
      {
       "output_type": "stream",
       "stream": "stdout",
       "text": [
        " done\r\n",
        "Processing loans/lenders file 452/528 ..."
       ]
      },
      {
       "output_type": "stream",
       "stream": "stdout",
       "text": [
        " done\r\n",
        "Processing loans/lenders file 453/528 ..."
       ]
      },
      {
       "output_type": "stream",
       "stream": "stdout",
       "text": [
        " done\r\n",
        "Processing loans/lenders file 454/528 ..."
       ]
      },
      {
       "output_type": "stream",
       "stream": "stdout",
       "text": [
        " done\r\n",
        "Processing loans/lenders file 455/528 ..."
       ]
      },
      {
       "output_type": "stream",
       "stream": "stdout",
       "text": [
        " done\r\n",
        "Processing loans/lenders file 456/528 ..."
       ]
      },
      {
       "output_type": "stream",
       "stream": "stdout",
       "text": [
        " done\r\n",
        "Processing loans/lenders file 457/528 ..."
       ]
      },
      {
       "output_type": "stream",
       "stream": "stdout",
       "text": [
        " done\r\n",
        "Processing loans/lenders file 458/528 ..."
       ]
      },
      {
       "output_type": "stream",
       "stream": "stdout",
       "text": [
        " done\r\n",
        "Processing loans/lenders file 459/528 ..."
       ]
      },
      {
       "output_type": "stream",
       "stream": "stdout",
       "text": [
        " done\r\n",
        "Processing loans/lenders file 460/528 ..."
       ]
      },
      {
       "output_type": "stream",
       "stream": "stdout",
       "text": [
        " done\r\n",
        "Processing loans/lenders file 461/528 ..."
       ]
      },
      {
       "output_type": "stream",
       "stream": "stdout",
       "text": [
        " done\r\n",
        "Processing loans/lenders file 462/528 ..."
       ]
      },
      {
       "output_type": "stream",
       "stream": "stdout",
       "text": [
        " done\r\n",
        "Processing loans/lenders file 463/528 ..."
       ]
      },
      {
       "output_type": "stream",
       "stream": "stdout",
       "text": [
        " done\r\n",
        "Processing loans/lenders file 464/528 ..."
       ]
      },
      {
       "output_type": "stream",
       "stream": "stdout",
       "text": [
        " done\r\n",
        "Processing loans/lenders file 465/528 ..."
       ]
      },
      {
       "output_type": "stream",
       "stream": "stdout",
       "text": [
        " done\r\n",
        "Processing loans/lenders file 466/528 ..."
       ]
      },
      {
       "output_type": "stream",
       "stream": "stdout",
       "text": [
        " done\r\n",
        "Processing loans/lenders file 467/528 ..."
       ]
      },
      {
       "output_type": "stream",
       "stream": "stdout",
       "text": [
        " done\r\n",
        "Processing loans/lenders file 468/528 ..."
       ]
      },
      {
       "output_type": "stream",
       "stream": "stdout",
       "text": [
        " done\r\n",
        "Processing loans/lenders file 469/528 ..."
       ]
      },
      {
       "output_type": "stream",
       "stream": "stdout",
       "text": [
        " done\r\n",
        "Processing loans/lenders file 470/528 ..."
       ]
      },
      {
       "output_type": "stream",
       "stream": "stdout",
       "text": [
        " done\r\n",
        "Processing loans/lenders file 471/528 ..."
       ]
      },
      {
       "output_type": "stream",
       "stream": "stdout",
       "text": [
        " done\r\n",
        "Processing loans/lenders file 472/528 ..."
       ]
      },
      {
       "output_type": "stream",
       "stream": "stdout",
       "text": [
        " done\r\n",
        "Processing loans/lenders file 473/528 ..."
       ]
      },
      {
       "output_type": "stream",
       "stream": "stdout",
       "text": [
        " done\r\n",
        "Processing loans/lenders file 474/528 ..."
       ]
      },
      {
       "output_type": "stream",
       "stream": "stdout",
       "text": [
        " done\r\n",
        "Processing loans/lenders file 475/528 ..."
       ]
      },
      {
       "output_type": "stream",
       "stream": "stdout",
       "text": [
        " done\r\n",
        "Processing loans/lenders file 476/528 ..."
       ]
      },
      {
       "output_type": "stream",
       "stream": "stdout",
       "text": [
        " done\r\n",
        "Processing loans/lenders file 477/528 ..."
       ]
      },
      {
       "output_type": "stream",
       "stream": "stdout",
       "text": [
        " done\r\n",
        "Processing loans/lenders file 478/528 ..."
       ]
      },
      {
       "output_type": "stream",
       "stream": "stdout",
       "text": [
        " done\r\n",
        "Processing loans/lenders file 479/528 ..."
       ]
      },
      {
       "output_type": "stream",
       "stream": "stdout",
       "text": [
        " done\r\n",
        "Processing loans/lenders file 480/528 ..."
       ]
      },
      {
       "output_type": "stream",
       "stream": "stdout",
       "text": [
        " done\r\n",
        "Processing loans/lenders file 481/528 ..."
       ]
      },
      {
       "output_type": "stream",
       "stream": "stdout",
       "text": [
        " done\r\n",
        "Processing loans/lenders file 482/528 ..."
       ]
      },
      {
       "output_type": "stream",
       "stream": "stdout",
       "text": [
        " done\r\n",
        "Processing loans/lenders file 483/528 ..."
       ]
      },
      {
       "output_type": "stream",
       "stream": "stdout",
       "text": [
        " done\r\n",
        "Processing loans/lenders file 484/528 ..."
       ]
      },
      {
       "output_type": "stream",
       "stream": "stdout",
       "text": [
        " done\r\n",
        "Processing loans/lenders file 485/528 ..."
       ]
      },
      {
       "output_type": "stream",
       "stream": "stdout",
       "text": [
        " done\r\n",
        "Processing loans/lenders file 486/528 ..."
       ]
      },
      {
       "output_type": "stream",
       "stream": "stdout",
       "text": [
        " done\r\n",
        "Processing loans/lenders file 487/528 ..."
       ]
      },
      {
       "output_type": "stream",
       "stream": "stdout",
       "text": [
        " done\r\n",
        "Processing loans/lenders file 488/528 ..."
       ]
      },
      {
       "output_type": "stream",
       "stream": "stdout",
       "text": [
        " done\r\n",
        "Processing loans/lenders file 489/528 ..."
       ]
      },
      {
       "output_type": "stream",
       "stream": "stdout",
       "text": [
        " done\r\n",
        "Processing loans/lenders file 490/528 ..."
       ]
      },
      {
       "output_type": "stream",
       "stream": "stdout",
       "text": [
        " done\r\n",
        "Processing loans/lenders file 491/528 ..."
       ]
      },
      {
       "output_type": "stream",
       "stream": "stdout",
       "text": [
        " done\r\n",
        "Processing loans/lenders file 492/528 ..."
       ]
      },
      {
       "output_type": "stream",
       "stream": "stdout",
       "text": [
        " done\r\n",
        "Processing loans/lenders file 493/528 ..."
       ]
      },
      {
       "output_type": "stream",
       "stream": "stdout",
       "text": [
        " done\r\n",
        "Processing loans/lenders file 494/528 ..."
       ]
      },
      {
       "output_type": "stream",
       "stream": "stdout",
       "text": [
        " done\r\n",
        "Processing loans/lenders file 495/528 ..."
       ]
      },
      {
       "output_type": "stream",
       "stream": "stdout",
       "text": [
        " done\r\n",
        "Processing loans/lenders file 496/528 ..."
       ]
      },
      {
       "output_type": "stream",
       "stream": "stdout",
       "text": [
        " done\r\n",
        "Processing loans/lenders file 497/528 ..."
       ]
      },
      {
       "output_type": "stream",
       "stream": "stdout",
       "text": [
        " done\r\n",
        "Processing loans/lenders file 498/528 ..."
       ]
      },
      {
       "output_type": "stream",
       "stream": "stdout",
       "text": [
        " done\r\n",
        "Processing loans/lenders file 499/528 ..."
       ]
      },
      {
       "output_type": "stream",
       "stream": "stdout",
       "text": [
        " done\r\n",
        "Processing loans/lenders file 500/528 ..."
       ]
      },
      {
       "output_type": "stream",
       "stream": "stdout",
       "text": [
        " done\r\n",
        "Processing loans/lenders file 501/528 ..."
       ]
      },
      {
       "output_type": "stream",
       "stream": "stdout",
       "text": [
        " done\r\n",
        "Processing loans/lenders file 502/528 ..."
       ]
      },
      {
       "output_type": "stream",
       "stream": "stdout",
       "text": [
        " done\r\n",
        "Processing loans/lenders file 503/528 ..."
       ]
      },
      {
       "output_type": "stream",
       "stream": "stdout",
       "text": [
        " done\r\n",
        "Processing loans/lenders file 504/528 ..."
       ]
      },
      {
       "output_type": "stream",
       "stream": "stdout",
       "text": [
        " done\r\n",
        "Processing loans/lenders file 505/528 ..."
       ]
      },
      {
       "output_type": "stream",
       "stream": "stdout",
       "text": [
        " done\r\n",
        "Processing loans/lenders file 506/528 ..."
       ]
      },
      {
       "output_type": "stream",
       "stream": "stdout",
       "text": [
        " done\r\n",
        "Processing loans/lenders file 507/528 ..."
       ]
      },
      {
       "output_type": "stream",
       "stream": "stdout",
       "text": [
        " done\r\n",
        "Processing loans/lenders file 508/528 ..."
       ]
      },
      {
       "output_type": "stream",
       "stream": "stdout",
       "text": [
        " done\r\n",
        "Processing loans/lenders file 509/528 ..."
       ]
      },
      {
       "output_type": "stream",
       "stream": "stdout",
       "text": [
        " done\r\n",
        "Processing loans/lenders file 510/528 ..."
       ]
      },
      {
       "output_type": "stream",
       "stream": "stdout",
       "text": [
        " done\r\n",
        "Processing loans/lenders file 511/528 ..."
       ]
      },
      {
       "output_type": "stream",
       "stream": "stdout",
       "text": [
        " done\r\n",
        "Processing loans/lenders file 512/528 ..."
       ]
      },
      {
       "output_type": "stream",
       "stream": "stdout",
       "text": [
        " done\r\n",
        "Processing loans/lenders file 513/528 ..."
       ]
      },
      {
       "output_type": "stream",
       "stream": "stdout",
       "text": [
        " done\r\n",
        "Processing loans/lenders file 514/528 ..."
       ]
      },
      {
       "output_type": "stream",
       "stream": "stdout",
       "text": [
        " done\r\n",
        "Processing loans/lenders file 515/528 ..."
       ]
      },
      {
       "output_type": "stream",
       "stream": "stdout",
       "text": [
        " done\r\n",
        "Processing loans/lenders file 516/528 ..."
       ]
      },
      {
       "output_type": "stream",
       "stream": "stdout",
       "text": [
        " done\r\n",
        "Processing loans/lenders file 517/528 ..."
       ]
      },
      {
       "output_type": "stream",
       "stream": "stdout",
       "text": [
        " done\r\n",
        "Processing loans/lenders file 518/528 ..."
       ]
      },
      {
       "output_type": "stream",
       "stream": "stdout",
       "text": [
        " done\r\n",
        "Processing loans/lenders file 519/528 ..."
       ]
      },
      {
       "output_type": "stream",
       "stream": "stdout",
       "text": [
        " done\r\n",
        "Processing loans/lenders file 520/528 ..."
       ]
      },
      {
       "output_type": "stream",
       "stream": "stdout",
       "text": [
        " done\r\n",
        "Processing loans/lenders file 521/528 ..."
       ]
      },
      {
       "output_type": "stream",
       "stream": "stdout",
       "text": [
        " done\r\n",
        "Processing loans/lenders file 522/528 ..."
       ]
      },
      {
       "output_type": "stream",
       "stream": "stdout",
       "text": [
        " done\r\n",
        "Processing loans/lenders file 523/528 ..."
       ]
      },
      {
       "output_type": "stream",
       "stream": "stdout",
       "text": [
        " done\r\n",
        "Processing loans/lenders file 524/528 ..."
       ]
      },
      {
       "output_type": "stream",
       "stream": "stdout",
       "text": [
        " done\r\n",
        "Processing loans/lenders file 525/528 ..."
       ]
      },
      {
       "output_type": "stream",
       "stream": "stdout",
       "text": [
        " done\r\n",
        "Processing loans/lenders file 526/528 ..."
       ]
      },
      {
       "output_type": "stream",
       "stream": "stdout",
       "text": [
        " done\r\n",
        "Processing loans/lenders file 527/528 ..."
       ]
      },
      {
       "output_type": "stream",
       "stream": "stdout",
       "text": [
        " done\r\n",
        "Processing loans/lenders file 528/528 ..."
       ]
      },
      {
       "output_type": "stream",
       "stream": "stdout",
       "text": [
        " done\r\n"
       ]
      }
     ],
     "prompt_number": 18
    },
    {
     "cell_type": "heading",
     "level": 1,
     "metadata": {},
     "source": [
      "Descriptive statistics"
     ]
    },
    {
     "cell_type": "heading",
     "level": 2,
     "metadata": {},
     "source": [
      "Number of loans, split per borrower gender and funding status, over time"
     ]
    },
    {
     "cell_type": "code",
     "collapsed": false,
     "input": [
      "!python src/convert_mongodb_loans_to_dataframe.py --dataDir data/predicting_funding \\\n",
      "                                                  --baseName loans \\\n",
      "                                                  --startYear 1990"
     ],
     "language": "python",
     "metadata": {},
     "outputs": [
      {
       "output_type": "stream",
       "stream": "stdout",
       "text": [
        "Creating MongoDB cursor ... done\r\n"
       ]
      },
      {
       "output_type": "stream",
       "stream": "stdout",
       "text": [
        "read 50000 documents ...\r\n"
       ]
      },
      {
       "output_type": "stream",
       "stream": "stdout",
       "text": [
        "read 100000 documents ...\r\n"
       ]
      },
      {
       "output_type": "stream",
       "stream": "stdout",
       "text": [
        "read 150000 documents ...\r\n"
       ]
      },
      {
       "output_type": "stream",
       "stream": "stdout",
       "text": [
        "read 200000 documents ...\r\n"
       ]
      },
      {
       "output_type": "stream",
       "stream": "stdout",
       "text": [
        "read 250000 documents ...\r\n"
       ]
      },
      {
       "output_type": "stream",
       "stream": "stdout",
       "text": [
        "read 300000 documents ...\r\n"
       ]
      },
      {
       "output_type": "stream",
       "stream": "stdout",
       "text": [
        "read 350000 documents ...\r\n"
       ]
      },
      {
       "output_type": "stream",
       "stream": "stdout",
       "text": [
        "read 400000 documents ...\r\n"
       ]
      },
      {
       "output_type": "stream",
       "stream": "stdout",
       "text": [
        "read 450000 documents ...\r\n"
       ]
      },
      {
       "output_type": "stream",
       "stream": "stdout",
       "text": [
        "read 500000 documents ...\r\n"
       ]
      },
      {
       "output_type": "stream",
       "stream": "stdout",
       "text": [
        "read 550000 documents ...\r\n"
       ]
      },
      {
       "output_type": "stream",
       "stream": "stdout",
       "text": [
        "read 600000 documents ...\r\n"
       ]
      },
      {
       "output_type": "stream",
       "stream": "stdout",
       "text": [
        "read 650000 documents ...\r\n"
       ]
      },
      {
       "output_type": "stream",
       "stream": "stdout",
       "text": [
        "read 700000 documents ...\r\n"
       ]
      },
      {
       "output_type": "stream",
       "stream": "stdout",
       "text": [
        "read 750000 documents ...\r\n"
       ]
      },
      {
       "output_type": "stream",
       "stream": "stdout",
       "text": [
        "Setting and sorting the dataframe index ...\r\n"
       ]
      },
      {
       "output_type": "stream",
       "stream": "stdout",
       "text": [
        "done\r\n",
        "Shape of dataframe:  (774952, 6)\r\n",
        "Writing loans dataframe file data/predicting_funding/loans_dataframe.h5 ..."
       ]
      },
      {
       "output_type": "stream",
       "stream": "stdout",
       "text": [
        "/usr/local/lib/python2.7/site-packages/pandas/io/pytables.py:2486: PerformanceWarning: \r\n",
        "your performance may suffer as PyTables will pickle object types that it cannot\r\n",
        "map directly to c-types [inferred_type->mixed,key->block2_values] [items->['borrower_majority_gender', 'planned_expiration_date', 'location_country_code']]\r\n",
        "\r\n",
        "  warnings.warn(ws, PerformanceWarning)\r\n"
       ]
      },
      {
       "output_type": "stream",
       "stream": "stdout",
       "text": [
        "done\r\n"
       ]
      }
     ],
     "prompt_number": 20
    },
    {
     "cell_type": "code",
     "collapsed": false,
     "input": [
      "%matplotlib inline\n",
      "import pandas as pd\n",
      "import numpy as np\n",
      "import sys\n",
      "import matplotlib.pyplot as plt\n",
      "from matplotlib.dates import date2num\n",
      "from pandas.io.pytables import read_hdf\n",
      "\n",
      "loansDataFrameFile = 'data/predicting_funding/loans_dataframe.h5'\n",
      "print >> sys.stderr, \"Reading loans dataframe file %s ...\" % loansDataFrameFile,\n",
      "loansDF = read_hdf(loansDataFrameFile, 'table')\n",
      "print >> sys.stderr, \"done\"\n",
      "\n",
      "#print \"loansDF.shape = \", loansDF.shape\n",
      "\n",
      "# Map date to the first day of the quarter\n",
      "loansDF['posted_quarter'] = loansDF['posted_date'].apply( lambda x: x.replace(hour=0, minute=0, second=0, day=1, month=((x.month / 4)*3)+1 ))\n",
      "\n",
      "loansDF['fully_funded'] = loansDF['funded_amount'] >= loansDF['loan_amount']\n",
      "\n",
      "#loansDF.head(3)\n",
      "\n",
      "\n",
      "loansDFGroupedByMonthAndGender = loansDF.groupby(['posted_quarter','borrower_majority_gender','fully_funded'])\n",
      "\n",
      "XSeries = []\n",
      "YSeries = {'M': {True: {},\n",
      "                 False: {}},\n",
      "           'F': {True: {},\n",
      "                 False: {}},\n",
      "           'N': {True: {},\n",
      "                 False: {}}}\n",
      "\n",
      "for k,v in sorted(loansDFGroupedByMonthAndGender.groups.items(), key=lambda x : x[0][0]):\n",
      "    period, gender, isFullyFunded = k\n",
      "    count = len(v)\n",
      "    XSeries.append(period)\n",
      "    YSeries[gender][isFullyFunded][period] = count\n",
      "    \n",
      "for p in XSeries:\n",
      "    for gender in ['M', 'F', 'N']:\n",
      "        for isFullyFunded in [True, False]:\n",
      "            if not YSeries[gender][isFullyFunded].has_key(p):\n",
      "                YSeries[gender][isFullyFunded][p] = 0\n",
      "\n",
      "YSeriesMaleNotFullyFunded = [YSeries['M'][False][p] for p in XSeries]\n",
      "YSeriesMaleFullyFunded = [YSeries['M'][True][p] for p in XSeries]\n",
      "\n",
      "YSeriesFemaleNotFullyFunded = [YSeries['F'][False][p] for p in XSeries]\n",
      "YSeriesFemaleFullyFunded = [YSeries['F'][True][p] for p in XSeries]\n",
      "\n",
      "# Negligeable\n",
      "#YSeriesNeutralNotFullyFunded = [YSeries['N'][False][p] for p in XSeries]\n",
      "#YSeriesNeutralFullyFunded = [YSeries['N'][True][p] for p in XSeries]\n",
      "\n",
      "width = 20\n",
      "\n",
      "fig = plt.figure(40, figsize=(12,12))\n",
      "ax = fig.add_subplot(111)\n",
      "ax.bar(date2num(XSeries), YSeriesMaleNotFullyFunded,label=\"male, not fully funded\",width=width,color='lightblue',align='center')\n",
      "ax.bar(date2num(XSeries), YSeriesMaleFullyFunded,bottom=YSeriesMaleNotFullyFunded,label=\"male, fully funded\",width=width,color='blue',align='center')\n",
      "\n",
      "ax.bar(date2num(XSeries)+30, YSeriesFemaleNotFullyFunded,label=\"female, not fully funded\", width=width,color='lightgreen',align='center')\n",
      "ax.bar(date2num(XSeries)+30, YSeriesFemaleFullyFunded, bottom=YSeriesFemaleNotFullyFunded ,label=\"female, fully funded\", width=width,color='green',align='center')\n",
      "\n",
      "ax.xaxis_date()\n",
      "ax.autoscale(tight=True)\n",
      "plt.legend(loc=\"best\")\n",
      "plt.title('Number of loans per quarter, split by gender and funding status')\n",
      "plt.ylabel('Number of loans')\n",
      "plt.show()"
     ],
     "language": "python",
     "metadata": {},
     "outputs": [
      {
       "output_type": "stream",
       "stream": "stderr",
       "text": [
        "Reading loans dataframe file data/predicting_funding/loans_dataframe.h5 ... "
       ]
      },
      {
       "output_type": "stream",
       "stream": "stderr",
       "text": [
        "done\n"
       ]
      },
      {
       "metadata": {},
       "output_type": "display_data",
       "png": "[encoded data removed]",
       "text": [
        "<matplotlib.figure.Figure at 0x1147fc410>"
       ]
      }
     ],
     "prompt_number": 23
    },
    {
     "cell_type": "markdown",
     "metadata": {},
     "source": [
      "Learnings:\n",
      "\n",
      "* The number of loans (funded or not) has increased year after year.\n",
      "* There is seasonality in the number of loans: Q3 > Q2 > Q1 > Q4.\n",
      "* From 2005 through 2011, all loans got fully funded. As of 2012, this is no longer the case. It is as yet unclear why. One obvious hypothesis has to do with the number of available lenders and/or their budgets not keeping up pace with the growth in offered loans. Another reason might be that the average loan amount has increased.\n",
      "* Loans requests by women outnumber those by men (by 3 to 1, roughly). What's more: when there is not enough supply of money in the loan market, they also get funded more easily."
     ]
    },
    {
     "cell_type": "heading",
     "level": 2,
     "metadata": {},
     "source": [
      "Loan amount requested, split per borrower gender and funding status, over time"
     ]
    },
    {
     "cell_type": "code",
     "collapsed": false,
     "input": [
      "#print loansDF.head()\n",
      "\n",
      "amountXSeries = []\n",
      "amountYSeries = {'M': {True: {},\n",
      "                       False: {}},\n",
      "                 'F': {True: {},\n",
      "                       False: {}},\n",
      "                 'N': {True: {},\n",
      "                       False: {}}}\n",
      "\n",
      "for k,v in sorted(loansDFGroupedByMonthAndGender.groups.items(), key=lambda x : x[0][0]):\n",
      "    period, gender, isFullyFunded = k\n",
      "    row = loansDF.loc[v]\n",
      "    loanAmountSum = sum(row['loan_amount'])\n",
      "#    print \"loanAmountSum = \", loanAmountSum\n",
      "    amountXSeries.append(period)\n",
      "    if amountYSeries[gender][isFullyFunded].has_key(period):\n",
      "#        print \"increasing %s,%s,%s from %d to\" % (gender, isFullyFunded, period, amountYSeries[gender][isFullyFunded][period]),\n",
      "        amountYSeries[gender][isFullyFunded][period] += loanAmountSum\n",
      "#        print \"%d\" % amountYSeries[gender][isFullyFunded][period]\n",
      "    else:\n",
      "        amountYSeries[gender][isFullyFunded][period] = loanAmountSum\n",
      "#        print \"setting %s,%s,%s to %d\" % (gender, isFullyFunded, period, amountYSeries[gender][isFullyFunded][period])\n",
      "    \n",
      "for p in amountXSeries:\n",
      "    for gender in ['M', 'F', 'N']:\n",
      "        for isFullyFunded in [True, False]:\n",
      "            if not amountYSeries[gender][isFullyFunded].has_key(p):\n",
      "                amountYSeries[gender][isFullyFunded][p] = 0\n",
      "                \n",
      "#print amountYSeries\n",
      "\n",
      "amountYSeriesMaleNotFullyFunded = [amountYSeries['M'][False][p] for p in amountXSeries]\n",
      "amountYSeriesMaleFullyFunded = [amountYSeries['M'][True][p] for p in amountXSeries]\n",
      "\n",
      "amountYSeriesFemaleNotFullyFunded = [amountYSeries['F'][False][p] for p in amountXSeries]\n",
      "amountYSeriesFemaleFullyFunded = [amountYSeries['F'][True][p] for p in amountXSeries]\n",
      "\n",
      "# Negligeable\n",
      "#amountYSeriesNeutralNotFullyFunded = [amountYSeries['N'][False][p] for p in amountXSeries]\n",
      "#amountYSeriesNeutralFullyFunded = [amountYSeries['N'][True][p] for p in amountXSeries]\n",
      "\n",
      "width = 20\n",
      "\n",
      "fig = plt.figure(40, figsize=(12,12))\n",
      "ax1 = fig.add_subplot(111)\n",
      "ax1.bar(date2num(amountXSeries), amountYSeriesMaleNotFullyFunded,label=\"male, not fully funded\",width=width,color='lightblue',align='center')\n",
      "ax1.bar(date2num(amountXSeries), amountYSeriesMaleFullyFunded,bottom=amountYSeriesMaleNotFullyFunded,label=\"male, fully funded\",width=width,color='blue',align='center')\n",
      "\n",
      "ax1.bar(date2num(amountXSeries)+30, amountYSeriesFemaleNotFullyFunded,label=\"female, not fully funded\", width=width,color='lightgreen',align='center')\n",
      "ax1.bar(date2num(amountXSeries)+30, amountYSeriesFemaleFullyFunded, bottom=amountYSeriesFemaleNotFullyFunded ,label=\"female, fully funded\", width=width,color='green',align='center')\n",
      "\n",
      "ax1.xaxis_date()\n",
      "ax1.autoscale(tight=True)\n",
      "plt.legend(loc=\"best\")\n",
      "plt.title('Total requested loan amounts per quarter, split by gender and funding status')\n",
      "plt.ylabel('USD')\n",
      "plt.show()"
     ],
     "language": "python",
     "metadata": {},
     "outputs": [
      {
       "metadata": {},
       "output_type": "display_data",
       "png": "[encoded data removed]",
       "text": [
        "<matplotlib.figure.Figure at 0x11bf67a90>"
       ]
      }
     ],
     "prompt_number": 27
    },
    {
     "cell_type": "markdown",
     "metadata": {},
     "source": [
      "The most notable difference between this graph (loan amounts) and the previous one (number of loans) is a downfall in 2012-2013. This suggests that the average loan amount in these years must have dropped - which is to be confirmed separately."
     ]
    },
    {
     "cell_type": "heading",
     "level": 2,
     "metadata": {},
     "source": [
      "Evolution of loan characteristics over time"
     ]
    },
    {
     "cell_type": "code",
     "collapsed": false,
     "input": [
      "loanXSeries = {'M': {True: [],\n",
      "                     False: []},\n",
      "                 'F': {True: [],\n",
      "                       False: []},\n",
      "                 'N': {True: [],\n",
      "                       False: []}}\n",
      "loanYSeries = {'M': {True: {},\n",
      "                     False: {}},\n",
      "                 'F': {True: {},\n",
      "                       False: {}},\n",
      "                 'N': {True: {},\n",
      "                       False: {}}}\n",
      "\n",
      "for k,v in sorted(loansDFGroupedByMonthAndGender.groups.items(), key=lambda x : x[0][0]):\n",
      "    period, gender, isFullyFunded = k\n",
      "    row = loansDF.loc[v]\n",
      "    loanAmountAverage = sum(row['loan_amount']) / float(len(row['loan_amount']))\n",
      "    fundedAmountAverage = sum(row['funded_amount']) / float(len(row['funded_amount']))\n",
      "    loanXSeries[gender][isFullyFunded].append(period)\n",
      "    loanYSeries[gender][isFullyFunded][period] = {'loanAmountAvg': loanAmountAverage,\n",
      "                                                  'fundedAmountAvg': fundedAmountAverage}\n",
      "                    \n",
      "loanYSeriesMaleNotFullyFunded = [loanYSeries['M'][False][p]['loanAmountAvg'] for p in loanXSeries['M'][False]]\n",
      "loanYSeriesMaleFullyFunded = [loanYSeries['M'][True][p]['loanAmountAvg'] for p in loanXSeries['M'][True]]\n",
      "fundedYSeriesMaleNotFullyFunded = [loanYSeries['M'][False][p]['fundedAmountAvg'] for p in loanXSeries['M'][False]]\n",
      "\n",
      "loanYSeriesFemaleNotFullyFunded = [loanYSeries['F'][False][p]['loanAmountAvg'] for p in loanXSeries['F'][False]]\n",
      "loanYSeriesFemaleFullyFunded = [loanYSeries['F'][True][p]['loanAmountAvg'] for p in loanXSeries['F'][True]]\n",
      "fundedYSeriesFemaleNotFullyFunded = [loanYSeries['F'][False][p]['fundedAmountAvg'] for p in loanXSeries['F'][False]]\n",
      "\n",
      "width = 20\n",
      "\n",
      "fig = plt.figure(40, figsize=(12,8))\n",
      "ax2 = fig.add_subplot(111)\n",
      "ax2.plot(date2num(loanXSeries['M'][False]), loanYSeriesMaleNotFullyFunded, '+-', label=\"avg. loan amount, male, not fully funded\", color='blue')\n",
      "ax2.plot(date2num(loanXSeries['M'][False]), fundedYSeriesMaleNotFullyFunded, '*-', label=\"avg. funded amount, male, not fully funded\", color='blue')\n",
      "ax2.plot(date2num(loanXSeries['M'][True]), loanYSeriesMaleFullyFunded, 'o-', label=\"avg. loan=funded amount, male, fully funded\", color='blue')\n",
      "\n",
      "ax2.plot(date2num(loanXSeries['F'][False]), loanYSeriesFemaleNotFullyFunded, '+-', label=\"avg. loan amount, female, not fully funded\", color='green')\n",
      "ax2.plot(date2num(loanXSeries['F'][False]), fundedYSeriesFemaleNotFullyFunded, '*-', label=\"avg. funded amount, female, not fully funded\", color='green')\n",
      "ax2.plot(date2num(loanXSeries['F'][True]), loanYSeriesFemaleFullyFunded, 'o-', label=\"avg. loan=funded amount, female, fully funded\", color='green')\n",
      "\n",
      "ax2.xaxis_date()\n",
      "ax2.autoscale(tight=True)\n",
      "plt.legend(loc=\"best\")\n",
      "plt.title('Loan characteristics per quarter, split by gender and funding status')\n",
      "plt.ylabel('USD')\n",
      "plt.show()"
     ],
     "language": "python",
     "metadata": {},
     "outputs": [
      {
       "metadata": {},
       "output_type": "display_data",
       "png": "[encoded data removed]",
       "text": [
        "<matplotlib.figure.Figure at 0x119164ad0>"
       ]
      }
     ],
     "prompt_number": 28
    },
    {
     "cell_type": "markdown",
     "metadata": {},
     "source": [
      "Learnings:\n",
      "\n",
      "* Male borrowers consistently request larger loans that females borrowers.\n",
      "* The average fully funded amounts for female borrowers have stayed quite flat over the years, including 2012-2013.\n",
      "* Successful male borrowers, on the contrary, have started asking for more money on average since 2013.\n",
      "* Non surprisingly, the average amount of non-funded loans is usually a multiple (up to 4x) of the average fully funded loan amount. This being said, there are a few exceptionam quarters in which it is actually *lower*.\n",
      "* Non-funded loans reach about half of the requested amount, on average."
     ]
    }
   ],
   "metadata": {}
  }
 ]
}