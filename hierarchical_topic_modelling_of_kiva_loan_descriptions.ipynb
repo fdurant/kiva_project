{
 "metadata": {
  "name": "",
  "signature": "sha256:1c191e787281db63257f0cd10a00b2a6d1a05cc6cda3633c9d1b4b5b7e247d5c"
 },
 "nbformat": 3,
 "nbformat_minor": 0,
 "worksheets": [
  {
   "cells": [
    {
     "cell_type": "heading",
     "level": 1,
     "metadata": {},
     "source": [
      "Hierarchical topic modelling of Kiva loan descriptions"
     ]
    },
    {
     "cell_type": "heading",
     "level": 2,
     "metadata": {},
     "source": [
      "Goals"
     ]
    },
    {
     "cell_type": "markdown",
     "metadata": {},
     "source": [
      "*  Create a visual explorer for a static set of 800K+ English loan descriptions from Kiva.org\n",
      "*  Use (hierarchical) topic modelling\n",
      "*  Publish the explorer to the world"
     ]
    },
    {
     "cell_type": "heading",
     "level": 2,
     "metadata": {},
     "source": [
      "References"
     ]
    },
    {
     "cell_type": "markdown",
     "metadata": {},
     "source": [
      "* David Mimno and Andrew MacCallum: [Organizing the OCA: Learning Faceted Subjects from a Library of Digital Books](http://mimno.infosci.cornell.edu/papers/f129-mimno.pdf) => bottom-up approach\n",
      "* Jay Pujara and Peter Skomoroch: [Large-Scale Hierarchical Topic Models](http://linqs.cs.umd.edu/basilic/web/Publications/2012/pujara:nips12/pujara_biglearn12.pdf) => top-down approach\n",
      "* Alison Smith, Timothy Hawes, and Meredith Myers: [Hi&eacute;rarchie: Interactive Visualization for Hierarchical Topic Models](http://nlp.stanford.edu/events/illvi2014/papers/smith-illvi2014b.pdf)\n",
      "* Hierarchie [Readme page at GitHub](http://mlvl.github.io/Hierarchie/#/about)\n",
      "* [Gensim - topic modelling for humans](https://radimrehurek.com/gensim/index.html)\n",
      "* Nikolaos Aletras and Mark Stevenson: [Measuring the Similarity between Automatically Generated Topics](http://staffwww.dcs.shef.ac.uk/people/N.Aletras/resources/2014_eacl_topicSim_short.pdf)"
     ]
    },
    {
     "cell_type": "heading",
     "level": 2,
     "metadata": {},
     "source": [
      "Approach"
     ]
    },
    {
     "cell_type": "markdown",
     "metadata": {},
     "source": [
      "* Use gensim to derive flat topic models over (part of) the Kiva corpus, taking the [tutorial](https://radimrehurek.com/gensim/tutorial.html) as guideline\n",
      "* Organize the found topic models into a hierarchy - no precise idea yet on how to do this (maybe some form of hierarchical clustering may apply)\n",
      "* Convert that hierarchy into a [JSON data file](https://github.com/mlvl/Hierarchie/tree/gh-pages/app/data) compliant with Hierarchie\n",
      "* Visualize everything with Hierarchie\n",
      "\n",
      "IMPORTANT: store python code in scripts, and call these from ipython notebook"
     ]
    },
    {
     "cell_type": "heading",
     "level": 2,
     "metadata": {},
     "source": [
      "Data preprocessing"
     ]
    },
    {
     "cell_type": "markdown",
     "metadata": {},
     "source": [
      "Step 1: download [Kiva data dump (JSON format)](http://s3.kiva.org/snapshots/kiva_ds_json.zip), and extract into data/static"
     ]
    },
    {
     "cell_type": "markdown",
     "metadata": {},
     "source": [
      "Step 2: since the 'description' fields in the Kiva data dump often mix multiple languages (due to manual translations), the language codes are not reliable. Therefore, we:\n",
      "\n",
      "* split the descriptions in paragraps\n",
      "* do language detection on the paragraphs\n",
      "* store the recombined paragraphs and their language code in new processed_description field\n",
      "\n",
      "The data are written to a locally installed MongoDB 'kiva', collection 'loans'"
     ]
    },
    {
     "cell_type": "code",
     "collapsed": false,
     "input": [
      "# Next line commented out because we only want to run this once\n",
      "# nohup python src/load_kiva_to_mongodb.py"
     ],
     "language": "python",
     "metadata": {},
     "outputs": [],
     "prompt_number": 10
    },
    {
     "cell_type": "markdown",
     "metadata": {},
     "source": [
      "Step 3: load (a subset) of the English data from MongoDB, and convert it to the [Blei LDA-C format](http://www.cs.princeton.edu/~blei/lda-c/), using a [gensim utility function](https://radimrehurek.com/gensim/tut1.html#corpus-formats)"
     ]
    },
    {
     "cell_type": "code",
     "collapsed": false,
     "input": [
      "!python src/convert_mongodb_to_blei_ldac.py --dataDir data/topicmodelling\\\n",
      "                                            --corpusBaseName kiva \\\n",
      "                                            --stopwordFile=data/topicmodelling/kiva_stopwords.tsv \\\n",
      "                                            --maxNrDocs 100000 \\\n",
      "                                            --filterBelow 10 \\\n",
      "                                            --filterAbove 99.0 \\\n",
      "                                            --filterKeepN 1000"
     ],
     "language": "python",
     "metadata": {},
     "outputs": [
      {
       "output_type": "stream",
       "stream": "stdout",
       "text": [
        "Creating MongoDB cursor ... done\r\n"
       ]
      },
      {
       "output_type": "stream",
       "stream": "stdout",
       "text": [
        "Number of loans in 'en' since 2010: 624364\r\n",
        "First pass: streaming from MongoDB ...\r\n",
        "creating the dictionary ...\r\n"
       ]
      },
      {
       "output_type": "stream",
       "stream": "stdout",
       "text": [
        "read 5000 documents ...\r\n"
       ]
      },
      {
       "output_type": "stream",
       "stream": "stdout",
       "text": [
        "read 10000 documents ...\r\n"
       ]
      },
      {
       "output_type": "stream",
       "stream": "stdout",
       "text": [
        "read 15000 documents ...\r\n"
       ]
      },
      {
       "output_type": "stream",
       "stream": "stdout",
       "text": [
        "read 20000 documents ...\r\n"
       ]
      },
      {
       "output_type": "stream",
       "stream": "stdout",
       "text": [
        "read 25000 documents ...\r\n"
       ]
      }
     ]
    },
    {
     "cell_type": "code",
     "collapsed": false,
     "input": [
      "!python src/model_topics.py --dataDir data/topicmodelling \\\n",
      "                            --modelDir data/topicmodelling \\\n",
      "                            --corpusBaseName kiva \\\n",
      "                            --nrTopics 64 \\\n",
      "                            --nrWords 10"
     ],
     "language": "python",
     "metadata": {},
     "outputs": [
      {
       "output_type": "stream",
       "stream": "stdout",
       "text": [
        "Loading Blei corpus file data/topicmodelling/kiva.lda-c ... done\r\n",
        "<gensim.corpora.bleicorpus.BleiCorpus object at 0x10c16fad0>\r\n",
        "Dictionary(1000 unique tokens: [u'neighbors', u'shop', u'managed', u'alleviation', u'lack']...)\r\n",
        "Making topic model ..."
       ]
      },
      {
       "output_type": "stream",
       "stream": "stdout",
       "text": [
        " done\r\n",
        "0.046*michael + 0.042*bujazan + 0.041*cattle + 0.032*children + 0.032*buy + 0.024*volunteer + 0.022*years + 0.018*spanish + 0.018*funds + 0.015*increase\r\n",
        "0.035*business + 0.029*buy + 0.028*today + 0.024*borrow + 0.024*shop + 0.021*like + 0.021*would + 0.021*car + 0.020*man + 0.018*income\r\n",
        "0.025*since + 0.022*improved + 0.020*raised + 0.018*business + 0.017*children + 0.016*work + 0.015*already + 0.015*little + 0.015*nearly + 0.015*family\r\n",
        "0.035*bank + 0.033*volunteer + 0.032*spanish + 0.028*years + 0.027*communal + 0.027*member + 0.025*old + 0.025*children + 0.022*sells + 0.021*translated\r\n",
        "0.080*school + 0.049*children + 0.043*family + 0.040*years + 0.026*fees + 0.026*gets + 0.024*sells + 0.022*business + 0.019*go + 0.019*retail\r\n",
        "0.054*crops + 0.052*land + 0.049*farming + 0.027*corn + 0.024*seeds + 0.024*buy + 0.024*farm + 0.023*farmer + 0.021*fertilizer + 0.021*grows\r\n",
        "0.060*business + 0.054*kenya + 0.049*kes + 0.037*faulu + 0.029*requested + 0.027*years + 0.026*hopes + 0.025*cooking + 0.022*previously + 0.020*future\r\n",
        "0.291*snacks + 0.033*request + 0.032*business + 0.024*retail + 0.022*improving + 0.018*woman + 0.016*years + 0.015*30 + 0.014*married + 0.014*requesting\r\n",
        "0.150*fishing + 0.132*meat + 0.108*bananas + 0.053*fifteen + 0.020*island + 0.019*children + 0.019*primarily + 0.019*fish + 0.018*business + 0.015*years\r\n",
        "0.027*clothing + 0.027*sales + 0.022*spanish + 0.021*volunteer + 0.016*translated + 0.016*work + 0.015*merchandise + 0.015*selling + 0.014*products + 0.014*mar\u00eda\r\n",
        "0.047*charcoal + 0.040*years + 0.033*business + 0.029*children + 0.028*grade + 0.019*aged + 0.018*old + 0.018*people + 0.017*day + 0.017*buy\r\n",
        "0.041*business + 0.027*hspfi + 0.021*php + 0.017*translation + 0.017*template + 0.016*living + 0.015*years + 0.014*additional + 0.014*activities + 0.012*improve\r\n",
        "0.073*store + 0.035*grocery + 0.034*items + 0.033*oil + 0.028*sugar + 0.025*rice + 0.024*like + 0.020*products + 0.020*small + 0.016*sells\r\n",
        "0.054*business + 0.035*years + 0.026*also + 0.025*kadet + 0.021*married + 0.021*able + 0.021*children + 0.020*hopes + 0.019*buy + 0.018*plans\r\n",
        "0.151*drinks + 0.131*\u2013 + 0.117*soft + 0.023*business + 0.023*years + 0.013*children + 0.012*store + 0.010*ago + 0.010*grocery + 0.010*old\r\n",
        "0.058*business + 0.028*work + 0.023*clients + 0.022*time + 0.020*furniture + 0.018*special + 0.018*customers + 0.017*like + 0.017*first + 0.016*neighbors\r\n",
        "0.067*supports + 0.052*sheep + 0.043*member + 0.039*activity + 0.030*years + 0.029*children + 0.025*new + 0.022*mother + 0.022*`` + 0.022*support\r\n",
        "0.072*years + 0.046*married + 0.045*old + 0.039*number + 0.034*clothes + 0.031*children + 0.029*purchase + 0.028*along + 0.025*requesting + 0.024*lives\r\n",
        "0.039*work + 0.024*business + 0.024*wife + 0.023*repair + 0.022*motorcycle + 0.022*taxi + 0.019*house + 0.019*building + 0.015*children + 0.014*requested\r\n",
        "0.247*college + 0.053*several + 0.039*business + 0.028*children + 0.017*supply + 0.014*variety + 0.014*sacks + 0.013*one + 0.013*years + 0.012*requesting\r\n",
        "0.029*weekly + 0.028*community + 0.027*business + 0.022*loans + 0.021*family + 0.019*capital + 0.018*sure + 0.017*groups + 0.016*used + 0.016*partners\r\n",
        "0.036*mr. + 0.033*two + 0.031*penh + 0.030*phnom + 0.028*one + 0.027*married + 0.025*daughters + 0.024*sons + 0.023*husband + 0.023*wife\r\n",
        "0.035*years + 0.032*dairy + 0.031*organization + 0.027*customers + 0.026*benin + 0.026*children + 0.025*old + 0.024*school + 0.021*business + 0.020*learn\r\n",
        "0.060*business + 0.034*years + 0.025*old + 0.021*purchase + 0.021*wife + 0.020*usd + 0.019*lives + 0.018*requesting + 0.018*mongolia + 0.017*son\r\n",
        "0.028*children + 0.027*french + 0.025*loans + 0.021*women + 0.020*volunteer + 0.018*market + 0.018*years + 0.016*married + 0.016*family + 0.015*supplies\r\n",
        "0.050*pmpc + 0.032*business + 0.021*php + 0.020*using + 0.018*translation + 0.017*living + 0.017*template + 0.015*years + 0.015*additional + 0.013*improve\r\n",
        "0.230*d. + 0.167*fruit + 0.057*personal + 0.054*rent + 0.027*allow + 0.026*business + 0.012*years + 0.012*revenue + 0.012*old + 0.010*n.\r\n",
        "0.053*business + 0.044*hopes + 0.036*children + 0.034*years + 0.034*sells + 0.034*purchase + 0.033*sell + 0.033*lenders + 0.029*old + 0.029*says\r\n",
        "0.041*bank + 0.034*communal + 0.026*city + 0.023*spanish + 0.021*volunteer + 0.020*translated + 0.017*years + 0.017*member + 0.016*sells + 0.015*animals\r\n",
        "0.110*beauty + 0.109*hair + 0.103*salon + 0.061*h. + 0.035*learned + 0.031*equipment + 0.029*products + 0.022*cosmetics + 0.022*picture + 0.019*business\r\n",
        "0.053*business + 0.040*t. + 0.036*group + 0.028*requesting + 0.023*livestock + 0.023*raising + 0.020*support + 0.017*living + 0.015*l. + 0.015*services\r\n",
        "0.062*maria + 0.052*home + 0.040*volunteer + 0.035*spanish + 0.030*works + 0.029*lives + 0.029*cement + 0.026*translated + 0.020*city + 0.020*several\r\n",
        "0.032*products + 0.026*spanish + 0.025*volunteer + 0.023*buy + 0.022*customers + 0.020*business + 0.019*sells + 0.016*fruits + 0.013*years + 0.013*income\r\n",
        "0.115*group + 0.054*members + 0.026*women + 0.022*businesses + 0.021*one + 0.021*leader + 0.018*photo + 0.016*loans + 0.015*selling + 0.015*children\r\n",
        "0.049*gdmpc + 0.029*business + 0.022*del + 0.021*php + 0.018*living + 0.014*translation + 0.014*years + 0.014*template + 0.014*improve + 0.014*occidental\r\n",
        "0.056*years + 0.050*business + 0.043*chickens + 0.043*promises + 0.039*old + 0.025*began + 0.025*chicken + 0.019*sometimes + 0.017*grateful + 0.016*repay\r\n",
        "0.032*men + 0.027*manages + 0.026*goal + 0.023*children + 0.023*300 + 0.023*business + 0.022*received + 0.022*woman + 0.020*financial + 0.018*first\r\n",
        "0.135*fish + 0.041*children\u2019s + 0.040*education + 0.027*children + 0.027*selling + 0.026*husband + 0.025*sells + 0.024*improved + 0.024*business + 0.021*s.\r\n",
        "0.074*years + 0.073*born + 0.072*business + 0.049*past + 0.027*needs + 0.027*married + 0.026*never + 0.024*family + 0.023*lives + 0.022*children\r\n",
        "0.100*wants + 0.053*sewing + 0.053*business + 0.047*buy + 0.038*machine + 0.035*like + 0.033*tailoring + 0.030*would + 0.027*take + 0.025*children\r\n",
        "0.041*care + 0.028*works + 0.026*son + 0.021*milk + 0.021*house + 0.020*taking + 0.020*get + 0.019*years + 0.019*husband + 0.019*buy\r\n",
        "0.055*farm + 0.026*business + 0.025*rice + 0.025*children + 0.025*family + 0.020*years + 0.020*income + 0.019*inc. + 0.019*needs + 0.018*php\r\n",
        "0.051*vehicle + 0.044*service + 0.027*transportation + 0.021*years + 0.019*n't + 0.016*children + 0.016*income + 0.015*buy + 0.015*money + 0.014*work\r\n",
        "0.048*years + 0.040*children + 0.038*develop + 0.038*produce + 0.033*enable + 0.023*53 + 0.022*old + 0.019*member + 0.019*eight + 0.019*sells\r\n",
        "0.026*family + 0.022*years + 0.020*volunteer + 0.019*spanish + 0.019*lives + 0.018*father + 0.017*since + 0.017*help + 0.015*expenses + 0.015*house\r\n",
        "0.038*country + 0.038*international + 0.027*great + 0.025*thousands + 0.021*clients + 0.019*still + 0.018*visit + 0.017*seek + 0.017*work + 0.017*business\r\n",
        "0.030*years + 0.023*work + 0.019*mfp + 0.017*money + 0.016*old + 0.015*business + 0.015*children + 0.015*future + 0.014*products + 0.014*time\r\n",
        "0.027*brac + 0.021*program + 0.019*women + 0.018*war + 0.018*children + 0.018*organizations + 0.017*village + 0.015*business + 0.013*world + 0.011*able\r\n",
        "0.090*store + 0.067*general + 0.034*jane + 0.034*business + 0.030*eggs + 0.028*income + 0.025*e. + 0.019*10,000 + 0.018*php + 0.018*earns\r\n",
        "0.057*group + 0.045*aski + 0.024*business + 0.017*loans + 0.015*member + 0.014*individual + 0.014*receives + 0.014*someone + 0.014*fellow + 0.014*responsible\r\n",
        "0.053*agricultural + 0.045*history + 0.028*need + 0.026*mainly + 0.025*business + 0.025*population + 0.023*end + 0.022*7 + 0.022*rich + 0.020*also\r\n",
        "0.089*shop + 0.037*business + 0.034*restaurant + 0.025*accessories + 0.021*purchase + 0.020*parts + 0.020*two + 0.017*years + 0.017*sells + 0.016*first\r\n",
        "0.037*day + 0.036*per + 0.035*husband + 0.035*income + 0.030*family + 0.028*earning + 0.026*living + 0.026*children + 0.024*business + 0.023*usd\r\n",
        "0.040*city + 0.030*opportunity + 0.025*cusco + 0.024*children + 0.018*years + 0.016*lives + 0.015*work + 0.015*member + 0.015*corn + 0.013*located\r\n",
        "0.057*mrs. + 0.035*village + 0.027*family + 0.027*support + 0.026*husband + 0.022*mr. + 0.021*children + 0.021*province + 0.021*rice + 0.021*buy\r\n",
        "0.045*business + 0.044*children + 0.042*maize + 0.038*years + 0.037*flour + 0.029*bags + 0.020*husband + 0.018*nearby + 0.017*three + 0.017*school\r\n",
        "0.047*business + 0.047*water + 0.047*group + 0.043*use + 0.038*invest + 0.036*home + 0.035*running + 0.030*electricity + 0.025*purchasing + 0.023*plans\r\n",
        "0.052*f. + 0.034*needs + 0.033*daily + 0.029*managing + 0.028*markets + 0.024*meet + 0.020*basis + 0.017*week + 0.016*years + 0.016*increasing\r\n",
        "0.063*business + 0.046*years + 0.033*children + 0.031*shop + 0.027*married + 0.023*businesswoman + 0.022*old + 0.019*profits + 0.017*retail + 0.016*goods\r\n",
        "0.075*right + 0.073*permanent + 0.052*photo + 0.044*shown + 0.036*high + 0.032*civil + 0.031*oil + 0.031*supporting + 0.028*soon + 0.026*rice\r\n",
        "0.056*3 + 0.034*? + 0.033*lending + 0.032*http + 0.031*please + 0.028*business + 0.028*team + 0.025*join + 0.024*education + 0.022*level\r\n",
        "0.032*translated + 0.030*volunteer + 0.029*kalish + 0.029*ginny + 0.028*house + 0.027*spanish + 0.024*fabric + 0.022*r. + 0.020*sells + 0.020*buy\r\n",
        "0.038*conditions + 0.032*living + 0.032*better + 0.031*improve + 0.031*children + 0.031*loans + 0.023*years + 0.023*materials + 0.023*volunteer + 0.021*spanish\r\n",
        "0.108*business + 0.036*years + 0.029*started + 0.021*market + 0.020*ago + 0.017*clothes + 0.017*old + 0.017*children + 0.016*one + 0.016*capital\r\n",
        "Writing model file data/topicmodelling/kiva.lda_model ... done\r\n",
        "Creating complete topic/word matrix in memory:\r\n"
       ]
      },
      {
       "output_type": "stream",
       "stream": "stdout",
       "text": [
        "topic 1/64 ...\r\n"
       ]
      },
      {
       "output_type": "stream",
       "stream": "stdout",
       "text": [
        "topic 2/64 ...\r\n"
       ]
      },
      {
       "output_type": "stream",
       "stream": "stdout",
       "text": [
        "topic 3/64 ...\r\n"
       ]
      },
      {
       "output_type": "stream",
       "stream": "stdout",
       "text": [
        "topic 4/64 ...\r\n"
       ]
      },
      {
       "output_type": "stream",
       "stream": "stdout",
       "text": [
        "topic 5/64 ...\r\n"
       ]
      },
      {
       "output_type": "stream",
       "stream": "stdout",
       "text": [
        "topic 6/64 ...\r\n",
        "topic 7/64 ...\r\n"
       ]
      },
      {
       "output_type": "stream",
       "stream": "stdout",
       "text": [
        "topic 8/64 ...\r\n"
       ]
      },
      {
       "output_type": "stream",
       "stream": "stdout",
       "text": [
        "topic 9/64 ...\r\n",
        "topic 10/64 ...\r\n"
       ]
      },
      {
       "output_type": "stream",
       "stream": "stdout",
       "text": [
        "topic 11/64 ...\r\n",
        "topic 12/64 ...\r\n"
       ]
      },
      {
       "output_type": "stream",
       "stream": "stdout",
       "text": [
        "topic 13/64 ...\r\n"
       ]
      },
      {
       "output_type": "stream",
       "stream": "stdout",
       "text": [
        "topic 14/64 ...\r\n"
       ]
      },
      {
       "output_type": "stream",
       "stream": "stdout",
       "text": [
        "topic 15/64 ...\r\n",
        "topic 16/64 ...\r\n"
       ]
      },
      {
       "output_type": "stream",
       "stream": "stdout",
       "text": [
        "topic 17/64 ...\r\n",
        "topic 18/64 ...\r\n"
       ]
      },
      {
       "output_type": "stream",
       "stream": "stdout",
       "text": [
        "topic 19/64 ...\r\n",
        "topic 20/64 ...\r\n"
       ]
      },
      {
       "output_type": "stream",
       "stream": "stdout",
       "text": [
        "topic 21/64 ...\r\n"
       ]
      },
      {
       "output_type": "stream",
       "stream": "stdout",
       "text": [
        "topic 22/64 ...\r\n",
        "topic 23/64 ...\r\n"
       ]
      },
      {
       "output_type": "stream",
       "stream": "stdout",
       "text": [
        "topic 24/64 ...\r\n"
       ]
      },
      {
       "output_type": "stream",
       "stream": "stdout",
       "text": [
        "topic 25/64 ...\r\n"
       ]
      },
      {
       "output_type": "stream",
       "stream": "stdout",
       "text": [
        "topic 26/64 ...\r\n"
       ]
      },
      {
       "output_type": "stream",
       "stream": "stdout",
       "text": [
        "topic 27/64 ...\r\n"
       ]
      },
      {
       "output_type": "stream",
       "stream": "stdout",
       "text": [
        "topic 28/64 ...\r\n"
       ]
      },
      {
       "output_type": "stream",
       "stream": "stdout",
       "text": [
        "topic 29/64 ...\r\n"
       ]
      },
      {
       "output_type": "stream",
       "stream": "stdout",
       "text": [
        "topic 30/64 ...\r\n"
       ]
      },
      {
       "output_type": "stream",
       "stream": "stdout",
       "text": [
        "topic 31/64 ...\r\n"
       ]
      },
      {
       "output_type": "stream",
       "stream": "stdout",
       "text": [
        "topic 32/64 ...\r\n"
       ]
      },
      {
       "output_type": "stream",
       "stream": "stdout",
       "text": [
        "topic 33/64 ...\r\n"
       ]
      },
      {
       "output_type": "stream",
       "stream": "stdout",
       "text": [
        "topic 34/64 ...\r\n"
       ]
      },
      {
       "output_type": "stream",
       "stream": "stdout",
       "text": [
        "topic 35/64 ...\r\n"
       ]
      },
      {
       "output_type": "stream",
       "stream": "stdout",
       "text": [
        "topic 36/64 ...\r\n"
       ]
      },
      {
       "output_type": "stream",
       "stream": "stdout",
       "text": [
        "topic 37/64 ...\r\n"
       ]
      },
      {
       "output_type": "stream",
       "stream": "stdout",
       "text": [
        "topic 38/64 ...\r\n"
       ]
      },
      {
       "output_type": "stream",
       "stream": "stdout",
       "text": [
        "topic 39/64 ...\r\n"
       ]
      },
      {
       "output_type": "stream",
       "stream": "stdout",
       "text": [
        "topic 40/64 ...\r\n"
       ]
      },
      {
       "output_type": "stream",
       "stream": "stdout",
       "text": [
        "topic 41/64 ...\r\n"
       ]
      },
      {
       "output_type": "stream",
       "stream": "stdout",
       "text": [
        "topic 42/64 ...\r\n"
       ]
      },
      {
       "output_type": "stream",
       "stream": "stdout",
       "text": [
        "topic 43/64 ...\r\n"
       ]
      },
      {
       "output_type": "stream",
       "stream": "stdout",
       "text": [
        "topic 44/64 ...\r\n"
       ]
      },
      {
       "output_type": "stream",
       "stream": "stdout",
       "text": [
        "topic 45/64 ...\r\n"
       ]
      },
      {
       "output_type": "stream",
       "stream": "stdout",
       "text": [
        "topic 46/64 ...\r\n"
       ]
      },
      {
       "output_type": "stream",
       "stream": "stdout",
       "text": [
        "topic 47/64 ...\r\n"
       ]
      },
      {
       "output_type": "stream",
       "stream": "stdout",
       "text": [
        "topic 48/64 ...\r\n"
       ]
      },
      {
       "output_type": "stream",
       "stream": "stdout",
       "text": [
        "topic 49/64 ...\r\n"
       ]
      },
      {
       "output_type": "stream",
       "stream": "stdout",
       "text": [
        "topic 50/64 ...\r\n"
       ]
      },
      {
       "output_type": "stream",
       "stream": "stdout",
       "text": [
        "topic 51/64 ...\r\n"
       ]
      },
      {
       "output_type": "stream",
       "stream": "stdout",
       "text": [
        "topic 52/64 ...\r\n"
       ]
      },
      {
       "output_type": "stream",
       "stream": "stdout",
       "text": [
        "topic 53/64 ...\r\n"
       ]
      },
      {
       "output_type": "stream",
       "stream": "stdout",
       "text": [
        "topic 54/64 ...\r\n"
       ]
      },
      {
       "output_type": "stream",
       "stream": "stdout",
       "text": [
        "topic 55/64 ...\r\n"
       ]
      },
      {
       "output_type": "stream",
       "stream": "stdout",
       "text": [
        "topic 56/64 ...\r\n"
       ]
      },
      {
       "output_type": "stream",
       "stream": "stdout",
       "text": [
        "topic 57/64 ...\r\n"
       ]
      },
      {
       "output_type": "stream",
       "stream": "stdout",
       "text": [
        "topic 58/64 ...\r\n"
       ]
      },
      {
       "output_type": "stream",
       "stream": "stdout",
       "text": [
        "topic 59/64 ...\r\n"
       ]
      },
      {
       "output_type": "stream",
       "stream": "stdout",
       "text": [
        "topic 60/64 ...\r\n"
       ]
      },
      {
       "output_type": "stream",
       "stream": "stdout",
       "text": [
        "topic 61/64 ...\r\n"
       ]
      },
      {
       "output_type": "stream",
       "stream": "stdout",
       "text": [
        "topic 62/64 ...\r\n"
       ]
      },
      {
       "output_type": "stream",
       "stream": "stdout",
       "text": [
        "topic 63/64 ...\r\n"
       ]
      },
      {
       "output_type": "stream",
       "stream": "stdout",
       "text": [
        "topic 64/64 ...\r\n"
       ]
      },
      {
       "output_type": "stream",
       "stream": "stdout",
       "text": [
        "done\r\n",
        "Writing topic/word matrix file data/topicmodelling/kiva_topic_words_matrix.h5 .../usr/local/lib/python2.7/site-packages/pandas/io/pytables.py:2486: PerformanceWarning: \r\n",
        "your performance may suffer as PyTables will pickle object types that it cannot\r\n",
        "map directly to c-types [inferred_type->unicode,key->axis0] [items->None]\r\n",
        "\r\n",
        "  warnings.warn(ws, PerformanceWarning)\r\n",
        "/usr/local/lib/python2.7/site-packages/pandas/io/pytables.py:2486: PerformanceWarning: \r\n",
        "your performance may suffer as PyTables will pickle object types that it cannot\r\n",
        "map directly to c-types [inferred_type->unicode,key->block0_items] [items->None]\r\n",
        "\r\n",
        "  warnings.warn(ws, PerformanceWarning)\r\n"
       ]
      },
      {
       "output_type": "stream",
       "stream": "stdout",
       "text": [
        "done\r\n"
       ]
      }
     ],
     "prompt_number": 85
    },
    {
     "cell_type": "code",
     "collapsed": false,
     "input": [
      "!python src/build_topic_hierarchy.py --modelDir data/topicmodelling \\\n",
      "                                     --modelBaseName kiva \\\n",
      "                                     --nrClusters 16 \\\n",
      "                                     --nrWords 5"
     ],
     "language": "python",
     "metadata": {},
     "outputs": [
      {
       "output_type": "stream",
       "stream": "stdout",
       "text": [
        "Reading topic/word matrix file data/topicmodelling/kiva_topic_words_matrix.h5 ... done\r\n",
        "Hierarchically clustering topics ..."
       ]
      },
      {
       "output_type": "stream",
       "stream": "stdout",
       "text": [
        "recursive hierarchy:\r\n",
        "[[[2, 18, 40, 42, 44, 47],\r\n",
        "  [1, 15, 41],\r\n",
        "  [10, 55],\r\n",
        "  [45],\r\n",
        "  [17],\r\n",
        "  [5],\r\n",
        "  [4],\r\n",
        "  [21],\r\n",
        "  [36],\r\n",
        "  [20],\r\n",
        "  [22],\r\n",
        "  [50],\r\n",
        "  [16],\r\n",
        "  [52],\r\n",
        "  [54],\r\n",
        "  [62]],\r\n",
        " [0, 3, 9, 12, 24, 28, 31, 32, 35, 39, 43, 46, 51, 53, 57, 61],\r\n",
        " [6, 13, 23, 27, 38, 58, 63],\r\n",
        " [11, 25, 30, 34, 49],\r\n",
        " [26],\r\n",
        " [8],\r\n",
        " [14],\r\n",
        " [7],\r\n",
        " [56],\r\n",
        " [60],\r\n",
        " [19],\r\n",
        " [48],\r\n",
        " [37],\r\n",
        " [29],\r\n",
        " [33],\r\n",
        " [59]]\r\n",
        " done\r\n",
        "Loading model file data/topicmodelling/kiva.lda_model ... done\r\n"
       ]
      },
      {
       "output_type": "stream",
       "stream": "stdout",
       "text": [
        "Building nested hierarchy in memory ... done\r\n",
        " Dumping object hierarchy into JSON file data/topicmodelling/kivadata.json ... done\r\n"
       ]
      }
     ],
     "prompt_number": 87
    },
    {
     "cell_type": "markdown",
     "metadata": {},
     "source": [
      "\n",
      "Finally:\n",
      "* calculate for each document its distribution over topics (original goal of this script!)\n",
      "* link the IDs of the documents (i.e. their Kiva IDS) as subleaves to the bottom topics, (majority vote)"
     ]
    }
   ],
   "metadata": {}
  }
 ]
}