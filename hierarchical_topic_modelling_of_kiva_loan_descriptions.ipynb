{
 "metadata": {
  "name": "",
  "signature": "sha256:a3da19873f2311c6e5230106a4fcfc48f6ce73c2a3fbd4fac09ae2481b609c4e"
 },
 "nbformat": 3,
 "nbformat_minor": 0,
 "worksheets": [
  {
   "cells": [
    {
     "cell_type": "heading",
     "level": 1,
     "metadata": {},
     "source": [
      "Hierarchical topic modelling of Kiva loan descriptions"
     ]
    },
    {
     "cell_type": "heading",
     "level": 2,
     "metadata": {},
     "source": [
      "Goals"
     ]
    },
    {
     "cell_type": "markdown",
     "metadata": {},
     "source": [
      "*  Create a visual explorer for a static set of 800K+ English loan descriptions from Kiva.org\n",
      "*  Use (hierarchical) topic modelling\n",
      "*  Publish the explorer to the world"
     ]
    },
    {
     "cell_type": "heading",
     "level": 2,
     "metadata": {},
     "source": [
      "References"
     ]
    },
    {
     "cell_type": "markdown",
     "metadata": {},
     "source": [
      "* David Mimno and Andrew MacCallum: [Organizing the OCA: Learning Faceted Subjects from a Library of Digital Books](http://mimno.infosci.cornell.edu/papers/f129-mimno.pdf) => bottom-up approach\n",
      "* Jay Pujara and Peter Skomoroch: [Large-Scale Hierarchical Topic Models](http://linqs.cs.umd.edu/basilic/web/Publications/2012/pujara:nips12/pujara_biglearn12.pdf) => top-down approach\n",
      "* Alison Smith, Timothy Hawes, and Meredith Myers: [Hi&eacute;rarchie: Interactive Visualization for Hierarchical Topic Models](http://nlp.stanford.edu/events/illvi2014/papers/smith-illvi2014b.pdf)\n",
      "* Hierarchie [Readme page at GitHub](http://mlvl.github.io/Hierarchie/#/about)\n",
      "* [Gensim - topic modelling for humans](https://radimrehurek.com/gensim/index.html)\n",
      "* Nikolaos Aletras and Mark Stevenson: [Measuring the Similarity between Automatically Generated Topics](http://staffwww.dcs.shef.ac.uk/people/N.Aletras/resources/2014_eacl_topicSim_short.pdf)"
     ]
    },
    {
     "cell_type": "heading",
     "level": 2,
     "metadata": {},
     "source": [
      "Approach"
     ]
    },
    {
     "cell_type": "markdown",
     "metadata": {},
     "source": [
      "* Use gensim to derive flat topic models over (part of) the Kiva corpus, taking the [tutorial](https://radimrehurek.com/gensim/tutorial.html) as guideline\n",
      "* Organize the found topic models into a hierarchy - no precise idea yet on how to do this (maybe some form of hierarchical clustering may apply)\n",
      "* Convert that hierarchy into a [JSON data file](https://github.com/mlvl/Hierarchie/tree/gh-pages/app/data) compliant with Hierarchie\n",
      "* Visualize everything with Hierarchie\n",
      "\n",
      "IMPORTANT: store python code in scripts, and call these from ipython notebook"
     ]
    },
    {
     "cell_type": "heading",
     "level": 2,
     "metadata": {},
     "source": [
      "Data preprocessing"
     ]
    },
    {
     "cell_type": "markdown",
     "metadata": {},
     "source": [
      "Step 1: download [Kiva data dump (JSON format)](http://s3.kiva.org/snapshots/kiva_ds_json.zip), and extract into data/static"
     ]
    },
    {
     "cell_type": "markdown",
     "metadata": {},
     "source": [
      "Step 2: since the 'description' fields in the Kiva data dump often mix multiple languages (due to manual translations), the language codes are not reliable. Therefore, we:\n",
      "\n",
      "* split the descriptions in paragraps\n",
      "* do language detection on the paragraphs\n",
      "* store the recombined paragraphs and their language code in new processed_description field\n",
      "\n",
      "The data are written to a locally installed MongoDB 'kiva', collection 'loans'"
     ]
    },
    {
     "cell_type": "code",
     "collapsed": false,
     "input": [
      "# Next line commented out because we only want to run this once\n",
      "# nohup python src/load_kiva_to_mongodb.py"
     ],
     "language": "python",
     "metadata": {},
     "outputs": [],
     "prompt_number": 3
    },
    {
     "cell_type": "markdown",
     "metadata": {},
     "source": [
      "Step 3: load (a subset) of the English data from MongoDB, and convert it to the [Blei LDA-C format](http://www.cs.princeton.edu/~blei/lda-c/), using a [gensim utility function](https://radimrehurek.com/gensim/tut1.html#corpus-formats)"
     ]
    },
    {
     "cell_type": "code",
     "collapsed": false,
     "input": [
      "!python src/convert_mongodb_to_blei_ldac.py --dataDir data/topicmodelling\\\n",
      "                                            --corpusBaseName kiva \\\n",
      "                                            --stopwordFile=data/topicmodelling/kiva_stopwords.tsv \\\n",
      "                                            --maxNrDocs=20000"
     ],
     "language": "python",
     "metadata": {},
     "outputs": [
      {
       "output_type": "stream",
       "stream": "stdout",
       "text": [
        "Creating MongoDB cursor ... done\r\n"
       ]
      },
      {
       "output_type": "stream",
       "stream": "stdout",
       "text": [
        "Number of loans in 'en' since 2010: 624364\r\n",
        "First pass: streaming from MongoDB ...\r\n"
       ]
      },
      {
       "output_type": "stream",
       "stream": "stdout",
       "text": [
        "read 5000 documents ...\r\n"
       ]
      },
      {
       "output_type": "stream",
       "stream": "stdout",
       "text": [
        "read 10000 documents ...\r\n"
       ]
      },
      {
       "output_type": "stream",
       "stream": "stdout",
       "text": [
        "read 15000 documents ...\r\n"
       ]
      },
      {
       "output_type": "stream",
       "stream": "stdout",
       "text": [
        "wrote data/topicmodelling/kiva_dict.bin ..."
       ]
      },
      {
       "output_type": "stream",
       "stream": "stdout",
       "text": [
        " and data/topicmodelling/kiva_dict.txt ..."
       ]
      },
      {
       "output_type": "stream",
       "stream": "stdout",
       "text": [
        " done\r\n",
        "Second pass: streaming from MongoDB ... saving into data/topicmodelling/kiva.lda-c (Blei corpus format) ..."
       ]
      },
      {
       "output_type": "stream",
       "stream": "stdout",
       "text": [
        " done\r\n",
        "Number of documents converted: 20000\r\n",
        "Vocabulary size: 36499\r\n"
       ]
      }
     ],
     "prompt_number": 92
    },
    {
     "cell_type": "code",
     "collapsed": false,
     "input": [
      "!python src/model_topics.py --dataDir data/topicmodelling \\\n",
      "                            --modelDir data/topicmodelling \\\n",
      "                            --corpusBaseName kiva \\\n",
      "                            --nrTopics 5 \\\n",
      "                            --nrWords 10"
     ],
     "language": "python",
     "metadata": {},
     "outputs": [
      {
       "output_type": "stream",
       "stream": "stdout",
       "text": [
        "Loading Blei corpus file data/topicmodelling/kiva.lda-c ..."
       ]
      },
      {
       "output_type": "stream",
       "stream": "stdout",
       "text": [
        " done\r\n",
        "<gensim.corpora.bleicorpus.BleiCorpus object at 0x104389710>\r\n"
       ]
      },
      {
       "output_type": "stream",
       "stream": "stdout",
       "text": [
        "Dictionary(36499 unique tokens: [u'vang', u'1,800', u'wrought-iron', u'sonje', u'physician.translated']...)\r\n",
        "Making topic model ..."
       ]
      },
      {
       "output_type": "stream",
       "stream": "stdout",
       "text": [
        " done\r\n",
        "0.027*business + 0.020*years + 0.017*children + 0.010*old + 0.010*married + 0.009*sells + 0.009*school + 0.007*hopes + 0.007*group + 0.007*customers\r\n",
        "0.031*business + 0.017*php + 0.014*living + 0.013*translation + 0.013*template + 0.012*years + 0.011*additional + 0.011*hspfi + 0.011*activities + 0.010*improve\r\n",
        "0.023*business + 0.009*family + 0.008*clients + 0.008*children + 0.007*years + 0.007*also + 0.006*international + 0.006*imon + 0.006*work + 0.005*ashi\r\n",
        "0.012*children + 0.012*years + 0.010*business + 0.009*buy + 0.009*volunteer + 0.008*spanish + 0.008*family + 0.007*lives + 0.007*husband + 0.007*old\r\n",
        "0.018*business + 0.012*$ + 0.012*husband + 0.011*income + 0.011*children + 0.011*family + 0.009*married + 0.009*- + 0.009*per + 0.008*3\r\n",
        "Writing model file data/topicmodelling/kiva.lda_model ..."
       ]
      },
      {
       "output_type": "stream",
       "stream": "stdout",
       "text": [
        " done\r\n"
       ]
      }
     ],
     "prompt_number": 105
    },
    {
     "cell_type": "markdown",
     "metadata": {},
     "source": [
      "Next steps:\n",
      "\n",
      "* dump the Topic + Word matrix\n",
      "* calculate similarities between topics, and/or\n",
      "* build a hierarchy of topics, keeping 10 most prominent words at each step"
     ]
    }
   ],
   "metadata": {}
  }
 ]
}