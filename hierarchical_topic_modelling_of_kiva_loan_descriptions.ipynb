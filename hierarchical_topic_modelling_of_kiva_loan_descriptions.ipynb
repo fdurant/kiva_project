{
 "metadata": {
  "name": "",
  "signature": "sha256:afbd34a07fb985fab3afac41df3cfe28876334d24546109a9c104b004584c839"
 },
 "nbformat": 3,
 "nbformat_minor": 0,
 "worksheets": [
  {
   "cells": [
    {
     "cell_type": "heading",
     "level": 1,
     "metadata": {},
     "source": [
      "Hierarchical topic modelling of Kiva loan descriptions"
     ]
    },
    {
     "cell_type": "heading",
     "level": 2,
     "metadata": {},
     "source": [
      "Goals"
     ]
    },
    {
     "cell_type": "markdown",
     "metadata": {},
     "source": [
      "*  Create a visual explorer for a static set of 800K+ English loan descriptions from Kiva.org\n",
      "*  Use (hierarchical) topic modelling\n",
      "*  Publish the explorer to the world"
     ]
    },
    {
     "cell_type": "heading",
     "level": 2,
     "metadata": {},
     "source": [
      "References"
     ]
    },
    {
     "cell_type": "markdown",
     "metadata": {},
     "source": [
      "* David Mimno and Andrew MacCallum: [Organizing the OCA: Learning Faceted Subjects from a Library of Digital Books](http://mimno.infosci.cornell.edu/papers/f129-mimno.pdf) => bottom-up approach\n",
      "* Jay Pujara and Peter Skomoroch: [Large-Scale Hierarchical Topic Models](http://linqs.cs.umd.edu/basilic/web/Publications/2012/pujara:nips12/pujara_biglearn12.pdf) => top-down approach\n",
      "* Alison Smith, Timothy Hawes, and Meredith Myers: [Hi&eacute;rarchie: Interactive Visualization for Hierarchical Topic Models](http://nlp.stanford.edu/events/illvi2014/papers/smith-illvi2014b.pdf)\n",
      "* Hierarchie [Readme page at GitHub](http://mlvl.github.io/Hierarchie/#/about)\n",
      "* [Gensim - topic modelling for humans](https://radimrehurek.com/gensim/index.html)\n",
      "* Nikolaos Aletras and Mark Stevenson: [Measuring the Similarity between Automatically Generated Topics](http://staffwww.dcs.shef.ac.uk/people/N.Aletras/resources/2014_eacl_topicSim_short.pdf)"
     ]
    },
    {
     "cell_type": "heading",
     "level": 2,
     "metadata": {},
     "source": [
      "Approach"
     ]
    },
    {
     "cell_type": "markdown",
     "metadata": {},
     "source": [
      "* Use gensim to derive flat topic models over (part of) the Kiva corpus, taking the [tutorial](https://radimrehurek.com/gensim/tutorial.html) as guideline\n",
      "* Organize the found topic models into a hierarchy - no precise idea yet on how to do this (maybe some form of hierarchical clustering may apply)\n",
      "* Convert that hierarchy into a [JSON data file](https://github.com/mlvl/Hierarchie/tree/gh-pages/app/data) compliant with Hierarchie\n",
      "* Visualize everything with Hierarchie\n",
      "\n",
      "IMPORTANT: store python code in scripts, and call these from ipython notebook"
     ]
    },
    {
     "cell_type": "heading",
     "level": 2,
     "metadata": {},
     "source": [
      "Data preprocessing"
     ]
    },
    {
     "cell_type": "markdown",
     "metadata": {},
     "source": [
      "Step 1: download [Kiva data dump (JSON format)](http://s3.kiva.org/snapshots/kiva_ds_json.zip), and extract into data/static"
     ]
    },
    {
     "cell_type": "markdown",
     "metadata": {},
     "source": [
      "Step 2: since the 'description' fields in the Kiva data dump often mix multiple languages (due to manual translations), the language codes are not reliable. Therefore, we:\n",
      "\n",
      "* split the descriptions in paragraps\n",
      "* do language detection on the paragraphs\n",
      "* store the recombined paragraphs and their language code in new processed_description field\n",
      "\n",
      "The data are written to a locally installed MongoDB 'kiva', collection 'loans'"
     ]
    },
    {
     "cell_type": "code",
     "collapsed": false,
     "input": [
      "# Next line commented out because we only want to run this once\n",
      "# nohup python src/load_kiva_to_mongodb.py"
     ],
     "language": "python",
     "metadata": {},
     "outputs": [],
     "prompt_number": 10
    },
    {
     "cell_type": "markdown",
     "metadata": {},
     "source": [
      "Step 3: load (a subset) of the English data from MongoDB, and convert it to the [Blei LDA-C format](http://www.cs.princeton.edu/~blei/lda-c/), using a [gensim utility function](https://radimrehurek.com/gensim/tut1.html#corpus-formats)"
     ]
    },
    {
     "cell_type": "code",
     "collapsed": false,
     "input": [
      "!python src/convert_mongodb_to_blei_ldac.py --dataDir data/topicmodelling\\\n",
      "                                            --corpusBaseName kiva \\\n",
      "                                            --stopwordFile=data/topicmodelling/kiva_stopwords.tsv \\\n",
      "                                            --maxNrDocs 250000 \\\n",
      "                                            --filterBelow 10 \\\n",
      "                                            --filterAbove 0.5 \\\n",
      "                                            --filterKeepN 1000"
     ],
     "language": "python",
     "metadata": {},
     "outputs": [
      {
       "output_type": "stream",
       "stream": "stdout",
       "text": [
        "Creating MongoDB cursor ... done\r\n"
       ]
      },
      {
       "output_type": "stream",
       "stream": "stdout",
       "text": [
        "Number of loans in 'en' since 2014: 170676\r\n",
        "First pass: streaming from MongoDB ...\r\n",
        "creating the dictionary ...\r\n"
       ]
      },
      {
       "output_type": "stream",
       "stream": "stdout",
       "text": [
        "read 5000 documents ...\r\n"
       ]
      },
      {
       "output_type": "stream",
       "stream": "stdout",
       "text": [
        "read 10000 documents ...\r\n"
       ]
      },
      {
       "output_type": "stream",
       "stream": "stdout",
       "text": [
        "read 15000 documents ...\r\n"
       ]
      },
      {
       "output_type": "stream",
       "stream": "stdout",
       "text": [
        "read 20000 documents ...\r\n"
       ]
      },
      {
       "output_type": "stream",
       "stream": "stdout",
       "text": [
        "read 25000 documents ...\r\n"
       ]
      },
      {
       "output_type": "stream",
       "stream": "stdout",
       "text": [
        "read 30000 documents ...\r\n"
       ]
      },
      {
       "output_type": "stream",
       "stream": "stdout",
       "text": [
        "read 35000 documents ...\r\n"
       ]
      },
      {
       "output_type": "stream",
       "stream": "stdout",
       "text": [
        "read 40000 documents ...\r\n"
       ]
      },
      {
       "output_type": "stream",
       "stream": "stdout",
       "text": [
        "read 45000 documents ...\r\n"
       ]
      },
      {
       "output_type": "stream",
       "stream": "stdout",
       "text": [
        "read 50000 documents ...\r\n"
       ]
      },
      {
       "output_type": "stream",
       "stream": "stdout",
       "text": [
        "read 55000 documents ...\r\n"
       ]
      },
      {
       "output_type": "stream",
       "stream": "stdout",
       "text": [
        "read 60000 documents ...\r\n"
       ]
      },
      {
       "output_type": "stream",
       "stream": "stdout",
       "text": [
        "read 65000 documents ...\r\n"
       ]
      },
      {
       "output_type": "stream",
       "stream": "stdout",
       "text": [
        "read 70000 documents ...\r\n"
       ]
      },
      {
       "output_type": "stream",
       "stream": "stdout",
       "text": [
        "read 75000 documents ...\r\n"
       ]
      },
      {
       "output_type": "stream",
       "stream": "stdout",
       "text": [
        "read 80000 documents ...\r\n"
       ]
      },
      {
       "output_type": "stream",
       "stream": "stdout",
       "text": [
        "read 85000 documents ...\r\n"
       ]
      },
      {
       "output_type": "stream",
       "stream": "stdout",
       "text": [
        "read 90000 documents ...\r\n"
       ]
      },
      {
       "output_type": "stream",
       "stream": "stdout",
       "text": [
        "read 95000 documents ...\r\n"
       ]
      },
      {
       "output_type": "stream",
       "stream": "stdout",
       "text": [
        "read 100000 documents ...\r\n"
       ]
      },
      {
       "output_type": "stream",
       "stream": "stdout",
       "text": [
        "read 105000 documents ...\r\n"
       ]
      },
      {
       "output_type": "stream",
       "stream": "stdout",
       "text": [
        "read 110000 documents ...\r\n"
       ]
      },
      {
       "output_type": "stream",
       "stream": "stdout",
       "text": [
        "read 115000 documents ...\r\n"
       ]
      },
      {
       "output_type": "stream",
       "stream": "stdout",
       "text": [
        "read 120000 documents ...\r\n"
       ]
      },
      {
       "output_type": "stream",
       "stream": "stdout",
       "text": [
        "read 125000 documents ...\r\n"
       ]
      },
      {
       "output_type": "stream",
       "stream": "stdout",
       "text": [
        "read 130000 documents ...\r\n"
       ]
      },
      {
       "output_type": "stream",
       "stream": "stdout",
       "text": [
        "read 135000 documents ...\r\n"
       ]
      },
      {
       "output_type": "stream",
       "stream": "stdout",
       "text": [
        "read 140000 documents ...\r\n"
       ]
      },
      {
       "output_type": "stream",
       "stream": "stdout",
       "text": [
        "read 145000 documents ...\r\n"
       ]
      },
      {
       "output_type": "stream",
       "stream": "stdout",
       "text": [
        "read 150000 documents ...\r\n"
       ]
      },
      {
       "output_type": "stream",
       "stream": "stdout",
       "text": [
        "read 155000 documents ...\r\n"
       ]
      },
      {
       "output_type": "stream",
       "stream": "stdout",
       "text": [
        "read 160000 documents ...\r\n"
       ]
      },
      {
       "output_type": "stream",
       "stream": "stdout",
       "text": [
        "read 165000 documents ...\r\n"
       ]
      },
      {
       "output_type": "stream",
       "stream": "stdout",
       "text": [
        "read 170000 documents ...\r\n"
       ]
      },
      {
       "output_type": "stream",
       "stream": "stdout",
       "text": [
        "filtering the dictionary ..."
       ]
      },
      {
       "output_type": "stream",
       "stream": "stdout",
       "text": [
        " done\r\n",
        "wrote data/topicmodelling/kiva_dict.bin ... and data/topicmodelling/kiva_dict.txt ..."
       ]
      },
      {
       "output_type": "stream",
       "stream": "stdout",
       "text": [
        " done\r\n",
        "Second pass: streaming from MongoDB ... saving into data/topicmodelling/kiva.lda-c (Blei corpus format) ..."
       ]
      },
      {
       "output_type": "stream",
       "stream": "stdout",
       "text": [
        " done\r\n",
        "Number of documents converted: 170676\r\n"
       ]
      },
      {
       "output_type": "stream",
       "stream": "stdout",
       "text": [
        "Vocabulary size: 1000\r\n"
       ]
      }
     ],
     "prompt_number": 114
    },
    {
     "cell_type": "code",
     "collapsed": false,
     "input": [
      "!python src/model_topics.py --dataDir data/topicmodelling \\\n",
      "                            --modelDir data/topicmodelling \\\n",
      "                            --corpusBaseName kiva \\\n",
      "                            --nrTopics 64 \\\n",
      "                            --nrWords 8"
     ],
     "language": "python",
     "metadata": {},
     "outputs": [
      {
       "output_type": "stream",
       "stream": "stdout",
       "text": [
        "Loading Blei corpus file data/topicmodelling/kiva.lda-c ..."
       ]
      },
      {
       "output_type": "stream",
       "stream": "stdout",
       "text": [
        " done\r\n",
        "<gensim.corpora.bleicorpus.BleiCorpus object at 0x10def7ad0>\r\n",
        "Dictionary(1000 unique tokens: [u'neighbors', u'limited', u'managed', u'lack', u'livelihood']...)\r\n",
        "Making topic model ..."
       ]
      },
      {
       "output_type": "stream",
       "stream": "stdout",
       "text": [
        " done\r\n",
        "0.084*last + 0.075*materials + 0.060*using + 0.056*taken + 0.053*supports + 0.046*together + 0.045*2013 + 0.042*spouse\r\n",
        "0.052*hoa + 0.047*thanh + 0.036*healthy + 0.035*poor + 0.032*women + 0.030*fund + 0.025*mrs. + 0.025*well\r\n",
        "0.123*food + 0.074*meat + 0.048*chicken + 0.047*selling + 0.039*restaurant + 0.035*ingredients + 0.032*making + 0.028*dream\r\n",
        "0.030*education + 0.022*help + 0.021*professional + 0.019*able + 0.018*become + 0.017*wants + 0.017*life + 0.013*future\r\n",
        "0.127*months + 0.081*mobile + 0.073*excited + 0.053*tea + 0.051*wanted + 0.041*piece + 0.035*stall + 0.034*hope\r\n",
        "0.051*describes + 0.044*operates + 0.041*use + 0.035*biggest + 0.033*involved + 0.032*primary + 0.032*customers + 0.031*goal\r\n",
        "0.167*total + 0.119*believes + 0.105*training + 0.067*joined + 0.066*one + 0.062*profits + 0.048*improved + 0.046*year\r\n",
        "0.048*sales + 0.043*selling + 0.036*institution + 0.025*says + 0.024*benefit + 0.023*wholesale + 0.023*capital + 0.021*bulk\r\n",
        "0.040*work + 0.032*parents + 0.028*works + 0.027*father + 0.023*old + 0.020*school + 0.019*young + 0.018*learned\r\n",
        "0.119*general + 0.103*store + 0.046*running + 0.045*nwtf + 0.045*earns + 0.044*income + 0.040*loans + 0.038*also\r\n",
        "0.210*group + 0.090*members + 0.045*one + 0.038*women + 0.025*families + 0.021*first + 0.020*part + 0.020*also\r\n",
        "0.106*fish + 0.062*income + 0.038*sell + 0.037*engaged + 0.036*asking + 0.033*hoping + 0.033*improve + 0.025*married\r\n",
        "0.054*like + 0.032*future + 0.032*provide + 0.032*items + 0.032*requested + 0.030*would + 0.029*philippines + 0.029*general\r\n",
        "0.047*nwtf + 0.037*philippines + 0.036*php + 0.034*save + 0.033*hard + 0.030*future + 0.028*married + 0.028*money\r\n",
        "0.058*pigs + 0.043*nwtf + 0.042*raising + 0.030*old + 0.029*married + 0.029*philippines + 0.029*php + 0.027*feed\r\n",
        "0.048*bread + 0.047*flour + 0.044*bananas + 0.036*small + 0.035*community + 0.032*use + 0.029*plantation + 0.027*profits\r\n",
        "0.046*income + 0.040*local + 0.029*usd + 0.028*able + 0.025*lives + 0.024*help + 0.022*village + 0.020*small\r\n",
        "0.118*firewood + 0.118*uses + 0.115*create + 0.113*bags + 0.102*schooling + 0.081*commercial + 0.066*shown + 0.047*demands\r\n",
        "0.118*husband + 0.064*son + 0.053*daughter + 0.031*two + 0.030*daughters + 0.027*help + 0.026*one + 0.026*wants\r\n",
        "0.078*field + 0.074*partner + 0.063*pakistan + 0.058*husband + 0.043*brac + 0.025*easily + 0.019*requested + 0.019*wants\r\n",
        "0.054*rice + 0.039*living + 0.036*province + 0.031*day + 0.029*income + 0.027*cambodia + 0.026*support + 0.025*visionfund\r\n",
        "0.083*back + 0.045*paid + 0.035*salon + 0.033*promises + 0.033*paying + 0.031*profit + 0.029*loans + 0.028*beauty\r\n",
        "0.042*cash + 0.041*women + 0.037*average + 0.035*group + 0.027*clothing + 0.020*members + 0.019*live + 0.017*profit\r\n",
        "0.074*month + 0.058*requested + 0.051*old + 0.050*earns + 0.045*lives + 0.040*pmpc + 0.039*member + 0.038*future\r\n",
        "0.030*woman + 0.029*support + 0.026*asking + 0.026*born + 0.026*lives + 0.024*working + 0.023*married + 0.021*local\r\n",
        "0.107*clothing + 0.084*clothes + 0.057*selling + 0.031*merchandise + 0.028*sells + 0.028*cosmetics + 0.027*women + 0.023*sell\r",
        "\r\n",
        "0.052*income + 0.048*man + 0.037*extra + 0.033*married + 0.032*living + 0.029*uganda + 0.026*sell + 0.025*however\r\n",
        "0.078*services + 0.075*therefore + 0.063*soon + 0.052*fuel + 0.040*needs + 0.036*help + 0.031*provides + 0.027*husband\r\n",
        "0.054*like + 0.053*would + 0.052*school + 0.049*old + 0.044*married + 0.028*profits + 0.028*two + 0.028*!\r\n",
        "0.313*water + 0.080*access + 0.059*drinking + 0.048*electricity + 0.027*expenses + 0.022*using + 0.021*lives + 0.021*2012\r\n",
        "0.055*able + 0.036*continue + 0.031*support + 0.031*grateful + 0.031*maria + 0.026*get + 0.026*work + 0.025*opportunity\r\n",
        "0.072*land + 0.057*fertilizer + 0.054*crops + 0.051*seeds + 0.047*coffee + 0.036*harvest + 0.035*fertilizers + 0.033*plant\r\n",
        "0.075*region + 0.044*northern + 0.041*personal + 0.041*businesses + 0.038*peru + 0.037*commerce + 0.034*lives + 0.031*manage\r\n",
        "0.132*wife + 0.058*tools + 0.056*car + 0.053*immediate + 0.050*workshop + 0.048*equipment + 0.046*repair + 0.037*repairs\r\n",
        "0.081*new + 0.071*clean + 0.051*support + 0.046*helped + 0.039*previous + 0.036*save + 0.033*advance + 0.032*positive\r\n",
        "0.070*house + 0.042*enough + 0.037*money + 0.035*applied + 0.030*purchase + 0.028*yer + 0.027*small + 0.027*order\r\n",
        "0.236*school + 0.069*fees + 0.050*pay + 0.043*students + 0.043*include + 0.042*teacher + 0.024*state + 0.024*married\r\n",
        "0.148*rice + 0.117*oil + 0.085*cooking + 0.079*sugar + 0.057*grains + 0.036*beans + 0.030*soap + 0.028*basic\r\n",
        "0.063*good + 0.054*assistance + 0.049*recently + 0.049*cooperative + 0.049*financial + 0.044*wishes + 0.040*capital + 0.040*paglaum\r\n",
        "0.178*farmers + 0.094*fund + 0.088*farming + 0.084*sheep + 0.054*district + 0.051*kenya + 0.044*activities + 0.041*financial\r\n",
        "0.074*university + 0.065*pay + 0.050*studies + 0.039*job + 0.037*fees + 0.036*tuition + 0.036*year + 0.031*help\r\n",
        "0.087*solar + 0.056*later + 0.048*became + 0.046*light + 0.033*[ + 0.033*] + 0.033*time + 0.030*asked\r\n",
        "0.135*harvest + 0.118*babban + 0.085*gona + 0.070*farmer + 0.055*acre + 0.050*member + 0.043*sell + 0.038*season\r\n",
        "0.091*farming + 0.085*farm + 0.046*poultry + 0.034*income + 0.030*farmer + 0.027*produce + 0.025*also + 0.022*area\r\n",
        "0.083*bank + 0.063*agriculture + 0.041*district + 0.037*province + 0.035*located + 0.032*work + 0.029*reduce + 0.029*communal\r\n",
        "0.119*living + 0.091*improve + 0.061*conditions + 0.045*income + 0.039*hopes + 0.031*increase + 0.025*better + 0.024*needs\r\n",
        "0.287*vegetables + 0.125*fruits + 0.107*fruit + 0.059*cater + 0.033*onions + 0.033*selling + 0.032*fresh + 0.031*seasonal\r\n",
        "0.054*sewing + 0.040*machine + 0.028*woman + 0.026*pkr + 0.025*married + 0.024*purchase + 0.023*husband + 0.022*good\r\n",
        "0.097*community + 0.067*village + 0.054*animals + 0.051*safe + 0.049*chickens + 0.036*pigs + 0.033*raising + 0.031*rural\r\n",
        "0.299*shop + 0.114*shoes + 0.058*open + 0.047*finance + 0.040*center + 0.038*customer + 0.037*bigger + 0.033*regular\r\n",
        "0.137*maize + 0.091*use + 0.057*kenya + 0.051*income + 0.042*future + 0.036*sell + 0.035*hopes + 0.032*blessed\r\n",
        "0.033*school + 0.030*join + 0.028*selling + 0.027*operated + 0.027*house + 0.025*purchase + 0.025*electricity + 0.025*boost\r\n",
        "0.113*used + 0.093*previous + 0.079*repaid + 0.064*sources + 0.061*successfully + 0.054*another + 0.049*sale + 0.046*new\r\n",
        "0.097*transport + 0.091*motorcycle + 0.086*parts + 0.072*medical + 0.068*maintenance + 0.068*vehicle + 0.065*taxi + 0.064*spare\r\n",
        "0.088*products + 0.027*customers + 0.026*area + 0.024*day + 0.023*selling + 0.023*woman + 0.020*demand + 0.019*responsible\r\n",
        "0.175*store + 0.050*grocery + 0.047*goods + 0.036*drinks + 0.030*items + 0.024*soft + 0.024*small + 0.023*beverages\r\n",
        "0.088*expenses + 0.088*prices + 0.073*low + 0.070*higher + 0.064*price + 0.060*household + 0.060*needs + 0.050*cover\r\n",
        "0.040*every + 0.028*husband + 0.027*sells + 0.026*day + 0.026*known + 0.024*city + 0.022*lives + 0.021*likes\r\n",
        "0.067*quality + 0.059*life + 0.049*better + 0.042*customers + 0.041*income + 0.037*improve + 0.031*good + 0.030*products\r\n",
        "0.038*work + 0.029*care + 0.026*take + 0.023*little + 0.017*since + 0.017*time + 0.016*one + 0.015*home\r\n",
        "0.053*milk + 0.049*cows + 0.039*cattle + 0.038*livestock + 0.031*dairy + 0.030*income + 0.029*cow + 0.022*kgs\r\n",
        "0.038*fellowship + 0.037*community + 0.036*god + 0.028*groups + 0.027*week + 0.026*word + 0.022*partners + 0.021*php\r\n",
        "0.143*hand + 0.103*member + 0.084*savings + 0.073*photo + 0.063*pictured + 0.052*raised + 0.048*lady + 0.038*development\r\n",
        "0.068*house + 0.060*home + 0.045*lives + 0.037*old + 0.024*cement + 0.022*construction + 0.021*living + 0.020*requesting\r\n",
        "Writing model file data/topicmodelling/kiva.lda_model ... done\r\n",
        "Creating complete topic/word matrix in memory:\r\n"
       ]
      },
      {
       "output_type": "stream",
       "stream": "stdout",
       "text": [
        "topic 1/64 ...\r\n"
       ]
      },
      {
       "output_type": "stream",
       "stream": "stdout",
       "text": [
        "topic 2/64 ...\r\n"
       ]
      },
      {
       "output_type": "stream",
       "stream": "stdout",
       "text": [
        "topic 3/64 ...\r\n"
       ]
      },
      {
       "output_type": "stream",
       "stream": "stdout",
       "text": [
        "topic 4/64 ...\r\n"
       ]
      },
      {
       "output_type": "stream",
       "stream": "stdout",
       "text": [
        "topic 5/64 ...\r\n"
       ]
      },
      {
       "output_type": "stream",
       "stream": "stdout",
       "text": [
        "topic 6/64 ...\r\n"
       ]
      },
      {
       "output_type": "stream",
       "stream": "stdout",
       "text": [
        "topic 7/64 ...\r\n"
       ]
      },
      {
       "output_type": "stream",
       "stream": "stdout",
       "text": [
        "topic 8/64 ...\r\n"
       ]
      },
      {
       "output_type": "stream",
       "stream": "stdout",
       "text": [
        "topic 9/64 ...\r\n"
       ]
      },
      {
       "output_type": "stream",
       "stream": "stdout",
       "text": [
        "topic 10/64 ...\r\n"
       ]
      },
      {
       "output_type": "stream",
       "stream": "stdout",
       "text": [
        "topic 11/64 ...\r\n"
       ]
      },
      {
       "output_type": "stream",
       "stream": "stdout",
       "text": [
        "topic 12/64 ...\r\n"
       ]
      },
      {
       "output_type": "stream",
       "stream": "stdout",
       "text": [
        "topic 13/64 ...\r\n"
       ]
      },
      {
       "output_type": "stream",
       "stream": "stdout",
       "text": [
        "topic 14/64 ...\r\n"
       ]
      },
      {
       "output_type": "stream",
       "stream": "stdout",
       "text": [
        "topic 15/64 ...\r\n"
       ]
      },
      {
       "output_type": "stream",
       "stream": "stdout",
       "text": [
        "topic 16/64 ...\r\n"
       ]
      },
      {
       "output_type": "stream",
       "stream": "stdout",
       "text": [
        "topic 17/64 ...\r\n"
       ]
      },
      {
       "output_type": "stream",
       "stream": "stdout",
       "text": [
        "topic 18/64 ...\r\n"
       ]
      },
      {
       "output_type": "stream",
       "stream": "stdout",
       "text": [
        "topic 19/64 ...\r\n"
       ]
      },
      {
       "output_type": "stream",
       "stream": "stdout",
       "text": [
        "topic 20/64 ...\r\n"
       ]
      },
      {
       "output_type": "stream",
       "stream": "stdout",
       "text": [
        "topic 21/64 ...\r\n"
       ]
      },
      {
       "output_type": "stream",
       "stream": "stdout",
       "text": [
        "topic 22/64 ...\r\n"
       ]
      },
      {
       "output_type": "stream",
       "stream": "stdout",
       "text": [
        "topic 23/64 ...\r\n"
       ]
      },
      {
       "output_type": "stream",
       "stream": "stdout",
       "text": [
        "topic 24/64 ...\r\n"
       ]
      },
      {
       "output_type": "stream",
       "stream": "stdout",
       "text": [
        "topic 25/64 ...\r\n"
       ]
      },
      {
       "output_type": "stream",
       "stream": "stdout",
       "text": [
        "topic 26/64 ...\r\n"
       ]
      },
      {
       "output_type": "stream",
       "stream": "stdout",
       "text": [
        "topic 27/64 ...\r\n"
       ]
      },
      {
       "output_type": "stream",
       "stream": "stdout",
       "text": [
        "topic 28/64 ...\r\n"
       ]
      },
      {
       "output_type": "stream",
       "stream": "stdout",
       "text": [
        "topic 29/64 ...\r\n"
       ]
      },
      {
       "output_type": "stream",
       "stream": "stdout",
       "text": [
        "topic 30/64 ...\r\n"
       ]
      },
      {
       "output_type": "stream",
       "stream": "stdout",
       "text": [
        "topic 31/64 ...\r\n"
       ]
      },
      {
       "output_type": "stream",
       "stream": "stdout",
       "text": [
        "topic 32/64 ...\r\n"
       ]
      },
      {
       "output_type": "stream",
       "stream": "stdout",
       "text": [
        "topic 33/64 ...\r\n"
       ]
      },
      {
       "output_type": "stream",
       "stream": "stdout",
       "text": [
        "topic 34/64 ...\r\n"
       ]
      },
      {
       "output_type": "stream",
       "stream": "stdout",
       "text": [
        "topic 35/64 ...\r\n"
       ]
      },
      {
       "output_type": "stream",
       "stream": "stdout",
       "text": [
        "topic 36/64 ...\r\n"
       ]
      },
      {
       "output_type": "stream",
       "stream": "stdout",
       "text": [
        "topic 37/64 ...\r\n"
       ]
      },
      {
       "output_type": "stream",
       "stream": "stdout",
       "text": [
        "topic 38/64 ...\r\n"
       ]
      },
      {
       "output_type": "stream",
       "stream": "stdout",
       "text": [
        "topic 39/64 ...\r\n"
       ]
      },
      {
       "output_type": "stream",
       "stream": "stdout",
       "text": [
        "topic 40/64 ...\r\n"
       ]
      },
      {
       "output_type": "stream",
       "stream": "stdout",
       "text": [
        "topic 41/64 ...\r\n"
       ]
      },
      {
       "output_type": "stream",
       "stream": "stdout",
       "text": [
        "topic 42/64 ...\r\n"
       ]
      },
      {
       "output_type": "stream",
       "stream": "stdout",
       "text": [
        "topic 43/64 ...\r\n"
       ]
      },
      {
       "output_type": "stream",
       "stream": "stdout",
       "text": [
        "topic 44/64 ...\r\n"
       ]
      },
      {
       "output_type": "stream",
       "stream": "stdout",
       "text": [
        "topic 45/64 ...\r\n"
       ]
      },
      {
       "output_type": "stream",
       "stream": "stdout",
       "text": [
        "topic 46/64 ...\r\n"
       ]
      },
      {
       "output_type": "stream",
       "stream": "stdout",
       "text": [
        "topic 47/64 ...\r\n"
       ]
      },
      {
       "output_type": "stream",
       "stream": "stdout",
       "text": [
        "topic 48/64 ...\r\n"
       ]
      },
      {
       "output_type": "stream",
       "stream": "stdout",
       "text": [
        "topic 49/64 ...\r\n"
       ]
      },
      {
       "output_type": "stream",
       "stream": "stdout",
       "text": [
        "topic 50/64 ...\r\n"
       ]
      },
      {
       "output_type": "stream",
       "stream": "stdout",
       "text": [
        "topic 51/64 ...\r\n"
       ]
      },
      {
       "output_type": "stream",
       "stream": "stdout",
       "text": [
        "topic 52/64 ...\r\n"
       ]
      },
      {
       "output_type": "stream",
       "stream": "stdout",
       "text": [
        "topic 53/64 ...\r\n"
       ]
      },
      {
       "output_type": "stream",
       "stream": "stdout",
       "text": [
        "topic 54/64 ...\r\n"
       ]
      },
      {
       "output_type": "stream",
       "stream": "stdout",
       "text": [
        "topic 55/64 ...\r\n"
       ]
      },
      {
       "output_type": "stream",
       "stream": "stdout",
       "text": [
        "topic 56/64 ...\r\n"
       ]
      },
      {
       "output_type": "stream",
       "stream": "stdout",
       "text": [
        "topic 57/64 ...\r\n"
       ]
      },
      {
       "output_type": "stream",
       "stream": "stdout",
       "text": [
        "topic 58/64 ...\r\n"
       ]
      },
      {
       "output_type": "stream",
       "stream": "stdout",
       "text": [
        "topic 59/64 ...\r\n"
       ]
      },
      {
       "output_type": "stream",
       "stream": "stdout",
       "text": [
        "topic 60/64 ...\r\n"
       ]
      },
      {
       "output_type": "stream",
       "stream": "stdout",
       "text": [
        "topic 61/64 ...\r\n"
       ]
      },
      {
       "output_type": "stream",
       "stream": "stdout",
       "text": [
        "topic 62/64 ...\r\n"
       ]
      },
      {
       "output_type": "stream",
       "stream": "stdout",
       "text": [
        "topic 63/64 ...\r\n"
       ]
      },
      {
       "output_type": "stream",
       "stream": "stdout",
       "text": [
        "topic 64/64 ...\r\n"
       ]
      },
      {
       "output_type": "stream",
       "stream": "stdout",
       "text": [
        "done\r\n",
        "Writing topic/word matrix file data/topicmodelling/kiva_topic_words_matrix.h5 ..."
       ]
      },
      {
       "output_type": "stream",
       "stream": "stdout",
       "text": [
        "/usr/local/lib/python2.7/site-packages/pandas/io/pytables.py:2486: PerformanceWarning: \r\n",
        "your performance may suffer as PyTables will pickle object types that it cannot\r\n",
        "map directly to c-types [inferred_type->unicode,key->axis0] [items->None]\r\n",
        "\r\n",
        "  warnings.warn(ws, PerformanceWarning)\r\n",
        "/usr/local/lib/python2.7/site-packages/pandas/io/pytables.py:2486: PerformanceWarning: \r\n",
        "your performance may suffer as PyTables will pickle object types that it cannot\r\n",
        "map directly to c-types [inferred_type->unicode,key->block0_items] [items->None]\r\n",
        "\r\n",
        "  warnings.warn(ws, PerformanceWarning)\r\n",
        "done\r\n"
       ]
      }
     ],
     "prompt_number": 35
    },
    {
     "cell_type": "code",
     "collapsed": false,
     "input": [
      "!python src/infer_document_topic_distributions.py --modelDir data/topicmodelling \\\n",
      "                                                  --modelBaseName kiva \\\n",
      "                                                  --maxNrDocs 250000"
     ],
     "language": "python",
     "metadata": {},
     "outputs": [
      {
       "output_type": "stream",
       "stream": "stdout",
       "text": [
        "Reading topic/word matrix file data/topicmodelling/kiva_topic_words_matrix.h5 ..."
       ]
      },
      {
       "output_type": "stream",
       "stream": "stdout",
       "text": [
        " done\r\n",
        "Loading model file data/topicmodelling/kiva.lda_model ... done\r\n",
        "Loading Blei corpus file data/topicmodelling/kiva.lda-c ..."
       ]
      },
      {
       "output_type": "stream",
       "stream": "stdout",
       "text": [
        " done\r\n",
        "<gensim.corpora.bleicorpus.BleiCorpus object at 0x10bbf37d0>\r\n"
       ]
      },
      {
       "output_type": "stream",
       "stream": "stdout",
       "text": [
        "Processed 5000 documents ...\r\n"
       ]
      },
      {
       "output_type": "stream",
       "stream": "stdout",
       "text": [
        "Processed 10000 documents ...\r\n"
       ]
      },
      {
       "output_type": "stream",
       "stream": "stdout",
       "text": [
        "Processed 15000 documents ...\r\n"
       ]
      },
      {
       "output_type": "stream",
       "stream": "stdout",
       "text": [
        "Processed 20000 documents ...\r\n"
       ]
      },
      {
       "output_type": "stream",
       "stream": "stdout",
       "text": [
        "Processed 25000 documents ...\r\n"
       ]
      },
      {
       "output_type": "stream",
       "stream": "stdout",
       "text": [
        "Processed 30000 documents ...\r\n"
       ]
      },
      {
       "output_type": "stream",
       "stream": "stdout",
       "text": [
        "Processed 35000 documents ...\r\n"
       ]
      },
      {
       "output_type": "stream",
       "stream": "stdout",
       "text": [
        "Processed 40000 documents ...\r\n"
       ]
      },
      {
       "output_type": "stream",
       "stream": "stdout",
       "text": [
        "Processed 45000 documents ...\r\n"
       ]
      },
      {
       "output_type": "stream",
       "stream": "stdout",
       "text": [
        "Processed 50000 documents ...\r\n"
       ]
      },
      {
       "output_type": "stream",
       "stream": "stdout",
       "text": [
        "Processed 55000 documents ...\r\n"
       ]
      },
      {
       "output_type": "stream",
       "stream": "stdout",
       "text": [
        "Processed 60000 documents ...\r\n"
       ]
      },
      {
       "output_type": "stream",
       "stream": "stdout",
       "text": [
        "Processed 65000 documents ...\r\n"
       ]
      },
      {
       "output_type": "stream",
       "stream": "stdout",
       "text": [
        "Processed 70000 documents ...\r\n"
       ]
      },
      {
       "output_type": "stream",
       "stream": "stdout",
       "text": [
        "Processed 75000 documents ...\r\n"
       ]
      },
      {
       "output_type": "stream",
       "stream": "stdout",
       "text": [
        "Processed 80000 documents ...\r\n"
       ]
      },
      {
       "output_type": "stream",
       "stream": "stdout",
       "text": [
        "Processed 85000 documents ...\r\n"
       ]
      },
      {
       "output_type": "stream",
       "stream": "stdout",
       "text": [
        "Processed 90000 documents ...\r\n"
       ]
      },
      {
       "output_type": "stream",
       "stream": "stdout",
       "text": [
        "Processed 95000 documents ...\r\n"
       ]
      },
      {
       "output_type": "stream",
       "stream": "stdout",
       "text": [
        "Processed 100000 documents ...\r\n"
       ]
      },
      {
       "output_type": "stream",
       "stream": "stdout",
       "text": [
        "Processed 105000 documents ...\r\n"
       ]
      },
      {
       "output_type": "stream",
       "stream": "stdout",
       "text": [
        "Processed 110000 documents ...\r\n"
       ]
      },
      {
       "output_type": "stream",
       "stream": "stdout",
       "text": [
        "Processed 115000 documents ...\r\n"
       ]
      },
      {
       "output_type": "stream",
       "stream": "stdout",
       "text": [
        "Processed 120000 documents ...\r\n"
       ]
      },
      {
       "output_type": "stream",
       "stream": "stdout",
       "text": [
        "Processed 125000 documents ...\r\n"
       ]
      },
      {
       "output_type": "stream",
       "stream": "stdout",
       "text": [
        "Processed 130000 documents ...\r\n"
       ]
      },
      {
       "output_type": "stream",
       "stream": "stdout",
       "text": [
        "Processed 135000 documents ...\r\n"
       ]
      },
      {
       "output_type": "stream",
       "stream": "stdout",
       "text": [
        "Processed 140000 documents ...\r\n"
       ]
      },
      {
       "output_type": "stream",
       "stream": "stdout",
       "text": [
        "Processed 145000 documents ...\r\n"
       ]
      },
      {
       "output_type": "stream",
       "stream": "stdout",
       "text": [
        "Processed 150000 documents ...\r\n"
       ]
      },
      {
       "output_type": "stream",
       "stream": "stdout",
       "text": [
        "Processed 155000 documents ...\r\n"
       ]
      },
      {
       "output_type": "stream",
       "stream": "stdout",
       "text": [
        "Processed 160000 documents ...\r\n"
       ]
      },
      {
       "output_type": "stream",
       "stream": "stdout",
       "text": [
        "Processed 165000 documents ...\r\n"
       ]
      },
      {
       "output_type": "stream",
       "stream": "stdout",
       "text": [
        "Processed 170000 documents ...\r\n"
       ]
      },
      {
       "output_type": "stream",
       "stream": "stdout",
       "text": [
        "1220 winning (0.71%); 0.88% weight in [last materials using taken supports together 2013 spouse]\r\n",
        "1788 winning (1.05%); 1.28% weight in [hoa thanh healthy poor women fund mrs. well]\r\n",
        "1144 winning (0.67%); 1.09% weight in [food meat chicken selling restaurant ingredients making dream]\r\n",
        "5314 winning (3.11%); 2.81% weight in [education help professional able become wants life future]\r\n",
        "751 winning (0.44%); 0.71% weight in [months mobile excited tea wanted piece stall hope]\r\n",
        "3178 winning (1.86%); 1.51% weight in [describes operates use biggest involved primary customers goal]\r\n",
        "217 winning (0.13%); 0.54% weight in [total believes training joined one profits improved year]\r\n",
        "1188 winning (0.70%); 1.32% weight in [sales selling institution says benefit wholesale capital bulk]\r\n",
        "8639 winning (5.06%); 3.53% weight in [work parents works father old school young learned]\r\n",
        "2356 winning (1.38%); 1.43% weight in [general store running nwtf earns income loans also]\r\n",
        "2822 winning (1.65%); 2.06% weight in [group members one women families first part also]\r\n",
        "2440 winning (1.43%); 1.09% weight in [fish income sell engaged asking hoping improve married]\r\n",
        "5581 winning (3.27%); 2.96% weight in [like future provide items requested would philippines general]\r\n",
        "12655 winning (7.41%); 4.82% weight in [nwtf philippines php save hard future married money]\r\n",
        "4689 winning (2.75%); 2.21% weight in [pigs nwtf raising old married philippines php feed]\r\n",
        "2418 winning (1.42%); 1.16% weight in [bread flour bananas small community use plantation profits]\r\n",
        "3517 winning (2.06%); 1.67% weight in [income local usd able lives help village small]\r\n",
        "47 winning (0.03%); 0.37% weight in [firewood uses create bags schooling commercial shown demands]\r\n",
        "4633 winning (2.71%); 2.47% weight in [husband son daughter two daughters help one wants]\r\n",
        "2426 winning (1.42%); 1.35% weight in [field partner pakistan husband brac easily requested wants]\r\n",
        "5236 winning (3.07%); 2.25% weight in [rice living province day income cambodia support visionfund]\r\n",
        "1309 winning (0.77%); 1.15% weight in [back paid salon promises paying profit loans beauty]\r\n",
        "3794 winning (2.22%); 2.65% weight in [cash women average group clothing members live profit]\r\n",
        "1541 winning (0.90%); 0.75% weight in [month requested old earns lives pmpc member future]\r\n",
        "3189 winning (1.87%); 1.68% weight in [woman support asking born lives working married local]\r\n",
        "3017 winning (1.77%); 1.65% weight in [clothing clothes selling merchandise sells cosmetics women sell]\r\n",
        "3690 winning (2.16%); 1.27% weight in [income man extra married living uganda sell however]\r\n",
        "613 winning (0.36%); 0.93% weight in [services therefore soon fuel needs help provides husband]\r\n",
        "3910 winning (2.29%); 1.84% weight in [like would school old married profits two !]\r\n",
        "1254 winning (0.73%); 0.91% weight in [water access drinking electricity expenses using lives 2012]\r\n",
        "5411 winning (3.17%); 2.72% weight in [able continue support grateful maria get work opportunity]\r\n",
        "2362 winning (1.38%); 2.00% weight in [land fertilizer crops seeds coffee harvest fertilizers plant]\r\n",
        "2218 winning (1.30%); 1.26% weight in [region northern personal businesses peru commerce lives manage]\r\n",
        "589 winning (0.35%); 0.71% weight in [wife tools car immediate workshop equipment repair repairs]\r\n",
        "770 winning (0.45%); 0.87% weight in [new clean support helped previous save advance positive]\r\n",
        "2060 winning (1.21%); 1.25% weight in [house enough money applied purchase yer small order]\r\n",
        "452 winning (0.26%); 1.13% weight in [school fees pay students include teacher state married]\r\n",
        "314 winning (0.18%); 0.92% weight in [rice oil cooking sugar grains beans soap basic]\r\n",
        "1094 winning (0.64%); 0.65% weight in [good assistance recently cooperative financial wishes capital paglaum]\r\n",
        "755 winning (0.44%); 0.68% weight in [farmers fund farming sheep district kenya activities financial]\r\n",
        "2799 winning (1.64%); 1.34% weight in [university pay studies job fees tuition year help]\r\n",
        "348 winning (0.20%); 0.91% weight in [solar later became light [ ] time asked]\r\n",
        "3012 winning (1.76%); 1.25% weight in [harvest babban gona farmer acre member sell season]\r\n",
        "3018 winning (1.77%); 1.66% weight in [farming farm poultry income farmer produce also area]\r\n",
        "1808 winning (1.06%); 1.16% weight in [bank agriculture district province located work reduce communal]\r\n",
        "3386 winning (1.98%); 2.05% weight in [living improve conditions income hopes increase better needs]\r\n",
        "232 winning (0.14%); 0.63% weight in [vegetables fruits fruit cater onions selling fresh seasonal]\r\n",
        "3675 winning (2.15%); 1.79% weight in [sewing machine woman pkr married purchase husband good]\r\n",
        "2038 winning (1.19%); 1.24% weight in [community village animals safe chickens pigs raising rural]\r\n",
        "52 winning (0.03%); 0.65% weight in [shop shoes open finance center customer bigger regular]\r\n",
        "2973 winning (1.74%); 1.46% weight in [maize use kenya income future sell hopes blessed]\r\n",
        "3221 winning (1.89%); 1.68% weight in [school join selling operated house purchase electricity boost]\r\n",
        "1656 winning (0.97%); 0.91% weight in [used previous repaid sources successfully another sale new]\r\n",
        "88 winning (0.05%); 0.60% weight in [transport motorcycle parts medical maintenance vehicle taxi spare]\r\n",
        "2516 winning (1.47%); 1.95% weight in [products customers area day selling woman demand responsible]\r\n",
        "2995 winning (1.75%); 1.83% weight in [store grocery goods drinks items soft small beverages]\r\n",
        "224 winning (0.13%); 0.85% weight in [expenses prices low higher price household needs cover]\r\n",
        "2530 winning (1.48%); 1.82% weight in [every husband sells day known city lives likes]\r\n",
        "4590 winning (2.69%); 2.53% weight in [quality life better customers income improve good products]\r\n",
        "3897 winning (2.28%); 2.60% weight in [work care take little since time one home]\r\n",
        "3974 winning (2.33%); 2.34% weight in [milk cows cattle livestock dairy income cow kgs]\r\n",
        "2686 winning (1.57%); 2.71% weight in [fellowship community god groups week word partners php]\r\n",
        "253 winning (0.15%); 0.55% weight in [hand member savings photo pictured raised lady development]\r\n",
        "8104 winning (4.75%); 2.96% weight in [house home lives old cement construction living requesting]\r\n"
       ]
      }
     ],
     "prompt_number": 36
    },
    {
     "cell_type": "code",
     "collapsed": false,
     "input": [
      "!python src/build_topic_hierarchy.py --modelDir data/topicmodelling \\\n",
      "                                     --modelBaseName kiva \\\n",
      "                                     --nrClusters 16 \\\n",
      "                                     --nrWords 6"
     ],
     "language": "python",
     "metadata": {},
     "outputs": [
      {
       "output_type": "stream",
       "stream": "stdout",
       "text": [
        "Reading topic/word matrix file data/topicmodelling/kiva_topic_words_matrix.h5 ..."
       ]
      },
      {
       "output_type": "stream",
       "stream": "stdout",
       "text": [
        " done\r\n",
        "Hierarchically clustering topics ..."
       ]
      },
      {
       "output_type": "stream",
       "stream": "stdout",
       "text": [
        "recursive hierarchy:\r\n",
        "[[[[3, 7, 8, 16, 20, 24, 47, 51, 57, 59, 60, 61],\r\n",
        "   [35, 63],\r\n",
        "   26,\r\n",
        "   48,\r\n",
        "   41,\r\n",
        "   19,\r\n",
        "   40,\r\n",
        "   11,\r\n",
        "   21,\r\n",
        "   18,\r\n",
        "   58,\r\n",
        "   15,\r\n",
        "   5,\r\n",
        "   28,\r\n",
        "   32,\r\n",
        "   1],\r\n",
        "  43,\r\n",
        "  54,\r\n",
        "  0,\r\n",
        "  2,\r\n",
        "  4,\r\n",
        "  34,\r\n",
        "  53,\r\n",
        "  45,\r\n",
        "  31,\r\n",
        "  38,\r\n",
        "  52,\r\n",
        "  55,\r\n",
        "  44,\r\n",
        "  27,\r\n",
        "  33],\r\n",
        " [9, 12, 13, 14, 23],\r\n",
        " [10, 22, 25],\r\n",
        " 30,\r\n",
        " 36,\r\n",
        " 49,\r\n",
        " 42,\r\n",
        " 29,\r\n",
        " 39,\r\n",
        " 56,\r\n",
        " 17,\r\n",
        " 6,\r\n",
        " 46,\r\n",
        " 62,\r\n",
        " 37,\r\n",
        " 50]\r\n",
        " done\r\n",
        "Loading model file data/topicmodelling/kiva.lda_model ... done\r\n",
        "Building nested hierarchy in memory ... done\r\n",
        "{u'topic_data': [{u'a_words': [u'income',\r\n",
        "                               u'husband',\r\n",
        "                               u'store',\r\n",
        "                               u'house',\r\n",
        "                               u'work',\r\n",
        "                               u'living'],\r\n",
        "                  u'b_name': u'topic_3_7_8_16_20_24_47_51_57_59_60_61_35_63_26_48_41_19_40_11_21_18_58_15_5_28_32_1_43_54_0_2_4_34_53_45_31_38_52_55_44_27_33',\r\n",
        "                  u'b_size': 117427,\r\n",
        "                  u'children': [{u'a_words': [u'income',\r\n",
        "                                              u'husband',\r\n",
        "                                              u'house',\r\n",
        "                                              u'work',\r\n",
        "                                              u'school',\r\n",
        "                                              u'old'],\r\n",
        "                                 u'b_name': u'topic_3_7_8_16_20_24_47_51_57_59_60_61_35_63_26_48_41_19_40_11_21_18_58_15_5_28_32_1',\r\n",
        "                                 u'b_size': 86718,\r\n",
        "                                 u'children': [{u'a_words': [u'work',\r\n",
        "                                                             u'income',\r\n",
        "                                                             u'school',\r\n",
        "                                                             u'milk',\r\n",
        "                                                             u'rice',\r\n",
        "                                                             u'day'],\r\n",
        "                                                u'b_name': u'topic_3_7_8_16_20_24_47_51_57_59_60_61',\r\n",
        "                                                u'b_size': 44724,\r\n",
        "                                                u'children': [{u'a_words': [u'education',\r\n",
        "                                                                            u'help',\r\n",
        "                                                                            u'professional',\r\n",
        "                                                                            u'able',\r\n",
        "                                                                            u'become',\r\n",
        "                                                                            u'wants'],\r\n",
        "                                                               u'b_name': u'topic_3',\r\n",
        "                                                               u'b_size': 4789},\r\n",
        "                                                              {u'a_words': [u'sales',\r\n",
        "                                                                            u'selling',\r\n",
        "                                                                            u'institution',\r\n",
        "                                                                            u'says',\r\n",
        "                                                                            u'benefit',\r\n",
        "                                                                            u'wholesale'],\r\n",
        "                                                               u'b_name': u'topic_7',\r\n",
        "                                                               u'b_size': 2249},\r\n",
        "                                                              {u'a_words': [u'work',\r\n",
        "                                                                            u'parents',\r\n",
        "                                                                            u'works',\r\n",
        "                                                                            u'father',\r\n",
        "                                                                            u'old',\r\n",
        "                                                                            u'school'],\r\n",
        "                                                               u'b_name': u'topic_8',\r\n",
        "                                                               u'b_size': 6027},\r\n",
        "                                                              {u'a_words': [u'income',\r\n",
        "                                                                            u'local',\r\n",
        "                                                                            u'usd',\r\n",
        "                                                                            u'able',\r\n",
        "                                                                            u'lives',\r\n",
        "                                                                            u'help'],\r\n",
        "                                                               u'b_name': u'topic_16',\r\n",
        "                                                               u'b_size': 2858},\r\n",
        "                                                              {u'a_words': [u'rice',\r\n",
        "                                                                            u'living',\r\n",
        "                                                                            u'province',\r\n",
        "                                                                            u'day',\r\n",
        "                                                                            u'income',\r\n",
        "                                                                            u'cambodia'],\r\n",
        "                                                               u'b_name': u'topic_20',\r\n",
        "                                                               u'b_size': 3842},\r\n",
        "                                                              {u'a_words': [u'woman',\r\n",
        "                                                                            u'support',\r\n",
        "                                                                            u'asking',\r\n",
        "                                                                            u'born',\r\n",
        "                                                                            u'lives',\r\n",
        "                                                                            u'working'],\r\n",
        "                                                               u'b_name': u'topic_24',\r\n",
        "                                                               u'b_size': 2866},\r\n",
        "                                                              {u'a_words': [u'sewing',\r\n",
        "                                                                            u'machine',\r\n",
        "                                                                            u'woman',\r\n",
        "                                                                            u'pkr',\r\n",
        "                                                                            u'married',\r\n",
        "                                                                            u'purchase'],\r\n",
        "                                                               u'b_name': u'topic_47',\r\n",
        "                                                               u'b_size': 3052},\r\n",
        "                                                              {u'a_words': [u'school',\r\n",
        "                                                                            u'join',\r\n",
        "                                                                            u'selling',\r\n",
        "                                                                            u'operated',\r\n",
        "                                                                            u'house',\r\n",
        "                                                                            u'purchase'],\r\n",
        "                                                               u'b_name': u'topic_51',\r\n",
        "                                                               u'b_size': 2873},\r\n",
        "                                                              {u'a_words': [u'every',\r\n",
        "                                                                            u'husband',\r\n",
        "                                                                            u'sells',\r\n",
        "                                                                            u'day',\r\n",
        "                                                                            u'known',\r\n",
        "                                                                            u'city'],\r\n",
        "                                                               u'b_name': u'topic_57',\r\n",
        "                                                               u'b_size': 3106},\r\n",
        "                                                              {u'a_words': [u'work',\r\n",
        "                                                                            u'care',\r\n",
        "                                                                            u'take',\r\n",
        "                                                                            u'little',\r\n",
        "                                                                            u'since',\r\n",
        "                                                                            u'time'],\r\n",
        "                                                               u'b_name': u'topic_59',\r\n",
        "                                                               u'b_size': 4444},\r\n",
        "                                                              {u'a_words': [u'milk',\r\n",
        "                                                                            u'cows',\r\n",
        "                                                                            u'cattle',\r\n",
        "                                                                            u'livestock',\r\n",
        "                                                                            u'dairy',\r\n",
        "                                                                            u'income'],\r\n",
        "                                                               u'b_name': u'topic_60',\r\n",
        "                                                               u'b_size': 3992},\r\n",
        "                                                              {u'a_words': [u'fellowship',\r\n",
        "                                                                            u'community',\r\n",
        "                                                                            u'god',\r\n",
        "                                                                            u'groups',\r\n",
        "                                                                            u'week',\r\n",
        "                                                                            u'word'],\r\n",
        "                                                               u'b_name': u'topic_61',\r\n",
        "                                                               u'b_size': 4626}]},\r\n",
        "                                               {u'a_words': [u'house',\r\n",
        "                                                             u'home',\r\n",
        "                                                             u'lives',\r\n",
        "                                                             u'old',\r\n",
        "                                                             u'cement',\r\n",
        "                                                             u'construction'],\r\n",
        "                                                u'b_name': u'topic_35_63',\r\n",
        "                                                u'b_size': 7185,\r\n",
        "                                                u'children': [{u'a_words': [u'house',\r\n",
        "                                                                            u'enough',\r\n",
        "                                                                            u'money',\r\n",
        "                                                                            u'applied',\r\n",
        "                                                                            u'purchase',\r\n",
        "                                                                            u'yer'],\r\n",
        "                                                               u'b_name': u'topic_35',\r\n",
        "                                                               u'b_size': 2134},\r\n",
        "                                                              {u'a_words': [u'house',\r\n",
        "                                                                            u'home',\r\n",
        "                                                                            u'lives',\r\n",
        "                                                                            u'old',\r\n",
        "                                                                            u'cement',\r\n",
        "                                                                            u'construction'],\r\n",
        "                                                               u'b_name': u'topic_63',\r\n",
        "                                                               u'b_size': 5051}]},\r\n",
        "                                               {u'a_words': [u'income',\r\n",
        "                                                             u'man',\r\n",
        "                                                             u'extra',\r\n",
        "                                                             u'married',\r\n",
        "                                                             u'living',\r\n",
        "                                                             u'uganda'],\r\n",
        "                                                u'b_name': u'topic_26',\r\n",
        "                                                u'b_size': 2162},\r\n",
        "                                               {u'a_words': [u'community',\r\n",
        "                                                             u'village',\r\n",
        "                                                             u'animals',\r\n",
        "                                                             u'safe',\r\n",
        "                                                             u'chickens',\r\n",
        "                                                             u'pigs'],\r\n",
        "                                                u'b_name': u'topic_48',\r\n",
        "                                                u'b_size': 2118},\r\n",
        "                                               {u'a_words': [u'solar',\r\n",
        "                                                             u'later',\r\n",
        "                                                             u'became',\r\n",
        "                                                             u'light',\r\n",
        "                                                             u'[',\r\n",
        "                                                             u']'],\r\n",
        "                                                u'b_name': u'topic_41',\r\n",
        "                                                u'b_size': 1551},\r\n",
        "                                               {u'a_words': [u'field',\r\n",
        "                                                             u'partner',\r\n",
        "                                                             u'pakistan',\r\n",
        "                                                             u'husband',\r\n",
        "                                                             u'brac',\r\n",
        "                                                             u'easily'],\r\n",
        "                                                u'b_name': u'topic_19',\r\n",
        "                                                u'b_size': 2307},\r\n",
        "                                               {u'a_words': [u'university',\r\n",
        "                                                             u'pay',\r\n",
        "                                                             u'studies',\r\n",
        "                                                             u'job',\r\n",
        "                                                             u'fees',\r\n",
        "                                                             u'tuition'],\r\n",
        "                                                u'b_name': u'topic_40',\r\n",
        "                                                u'b_size': 2281},\r\n",
        "                                               {u'a_words': [u'fish',\r\n",
        "                                                             u'income',\r\n",
        "                                                             u'sell',\r\n",
        "                                                             u'engaged',\r\n",
        "                                                             u'asking',\r\n",
        "                                                             u'hoping'],\r\n",
        "                                                u'b_name': u'topic_11',\r\n",
        "                                                u'b_size': 1864},\r\n",
        "                                               {u'a_words': [u'back',\r\n",
        "                                                             u'paid',\r\n",
        "                                                             u'salon',\r\n",
        "                                                             u'promises',\r\n",
        "                                                             u'paying',\r\n",
        "                                                             u'profit'],\r\n",
        "                                                u'b_name': u'topic_21',\r\n",
        "                                                u'b_size': 1958},\r\n",
        "                                               {u'a_words': [u'husband',\r\n",
        "                                                             u'son',\r\n",
        "                                                             u'daughter',\r\n",
        "                                                             u'two',\r\n",
        "                                                             u'daughters',\r\n",
        "                                                             u'help'],\r\n",
        "                                                u'b_name': u'topic_18',\r\n",
        "                                                u'b_size': 4212},\r\n",
        "                                               {u'a_words': [u'quality',\r\n",
        "                                                             u'life',\r\n",
        "                                                             u'better',\r\n",
        "                                                             u'customers',\r\n",
        "                                                             u'income',\r\n",
        "                                                             u'improve'],\r\n",
        "                                                u'b_name': u'topic_58',\r\n",
        "                                                u'b_size': 4313},\r\n",
        "                                               {u'a_words': [u'bread',\r\n",
        "                                                             u'flour',\r\n",
        "                                                             u'bananas',\r\n",
        "                                                             u'small',\r\n",
        "                                                             u'community',\r\n",
        "                                                             u'use'],\r\n",
        "                                                u'b_name': u'topic_15',\r\n",
        "                                                u'b_size': 1971},\r\n",
        "                                               {u'a_words': [u'describes',\r\n",
        "                                                             u'operates',\r\n",
        "                                                             u'use',\r\n",
        "                                                             u'biggest',\r\n",
        "                                                             u'involved',\r\n",
        "                                                             u'primary'],\r\n",
        "                                                u'b_name': u'topic_5',\r\n",
        "                                                u'b_size': 2581},\r\n",
        "                                               {u'a_words': [u'like',\r\n",
        "                                                             u'would',\r\n",
        "                                                             u'school',\r\n",
        "                                                             u'old',\r\n",
        "                                                             u'married',\r\n",
        "                                                             u'profits'],\r\n",
        "                                                u'b_name': u'topic_28',\r\n",
        "                                                u'b_size': 3146},\r\n",
        "                                               {u'a_words': [u'region',\r\n",
        "                                                             u'northern',\r\n",
        "                                                             u'personal',\r\n",
        "                                                             u'businesses',\r\n",
        "                                                             u'peru',\r\n",
        "                                                             u'commerce'],\r\n",
        "                                                u'b_name': u'topic_32',\r\n",
        "                                                u'b_size': 2155},\r\n",
        "                                               {u'a_words': [u'hoa',\r\n",
        "                                                             u'thanh',\r\n",
        "                                                             u'healthy',\r\n",
        "                                                             u'poor',\r\n",
        "                                                             u'women',\r\n",
        "                                                             u'fund'],\r\n",
        "                                                u'b_name': u'topic_1',\r\n",
        "                                                u'b_size': 2190}]},\r\n",
        "                                {u'a_words': [u'farming',\r\n",
        "                                              u'farm',\r\n",
        "                                              u'poultry',\r\n",
        "                                              u'income',\r\n",
        "                                              u'farmer',\r\n",
        "                                              u'produce'],\r\n",
        "                                 u'b_name': u'topic_43',\r\n",
        "                                 u'b_size': 2834},\r\n",
        "                                {u'a_words': [u'products',\r\n",
        "                                              u'customers',\r\n",
        "                                              u'area',\r\n",
        "                                              u'day',\r\n",
        "                                              u'selling',\r\n",
        "                                              u'woman'],\r\n",
        "                                 u'b_name': u'topic_54',\r\n",
        "                                 u'b_size': 3335},\r\n",
        "                                {u'a_words': [u'last',\r\n",
        "                                              u'materials',\r\n",
        "                                              u'using',\r\n",
        "                                              u'taken',\r\n",
        "                                              u'supports',\r\n",
        "                                              u'together'],\r\n",
        "                                 u'b_name': u'topic_0',\r\n",
        "                                 u'b_size': 1504},\r\n",
        "                                {u'a_words': [u'food',\r\n",
        "                                              u'meat',\r\n",
        "                                              u'chicken',\r\n",
        "                                              u'selling',\r\n",
        "                                              u'restaurant',\r\n",
        "                                              u'ingredients'],\r\n",
        "                                 u'b_name': u'topic_2',\r\n",
        "                                 u'b_size': 1853},\r\n",
        "                                {u'a_words': [u'months',\r\n",
        "                                              u'mobile',\r\n",
        "                                              u'excited',\r\n",
        "                                              u'tea',\r\n",
        "                                              u'wanted',\r\n",
        "                                              u'piece'],\r\n",
        "                                 u'b_name': u'topic_4',\r\n",
        "                                 u'b_size': 1207},\r\n",
        "                                {u'a_words': [u'new',\r\n",
        "                                              u'clean',\r\n",
        "                                              u'support',\r\n",
        "                                              u'helped',\r\n",
        "                                              u'previous',\r\n",
        "                                              u'save'],\r\n",
        "                                 u'b_name': u'topic_34',\r\n",
        "                                 u'b_size': 1490},\r\n",
        "                                {u'a_words': [u'transport',\r\n",
        "                                              u'motorcycle',\r\n",
        "                                              u'parts',\r\n",
        "                                              u'medical',\r\n",
        "                                              u'maintenance',\r\n",
        "                                              u'vehicle'],\r\n",
        "                                 u'b_name': u'topic_53',\r\n",
        "                                 u'b_size': 1026},\r\n",
        "                                {u'a_words': [u'living',\r\n",
        "                                              u'improve',\r\n",
        "                                              u'conditions',\r\n",
        "                                              u'income',\r\n",
        "                                              u'hopes',\r\n",
        "                                              u'increase'],\r\n",
        "                                 u'b_name': u'topic_45',\r\n",
        "                                 u'b_size': 3491},\r\n",
        "                                {u'a_words': [u'land',\r\n",
        "                                              u'fertilizer',\r\n",
        "                                              u'crops',\r\n",
        "                                              u'seeds',\r\n",
        "                                              u'coffee',\r\n",
        "                                              u'harvest'],\r\n",
        "                                 u'b_name': u'topic_31',\r\n",
        "                                 u'b_size': 3407},\r\n",
        "                                {u'a_words': [u'good',\r\n",
        "                                              u'assistance',\r\n",
        "                                              u'recently',\r\n",
        "                                              u'cooperative',\r\n",
        "                                              u'financial',\r\n",
        "                                              u'wishes'],\r\n",
        "                                 u'b_name': u'topic_38',\r\n",
        "                                 u'b_size': 1106},\r\n",
        "                                {u'a_words': [u'used',\r\n",
        "                                              u'previous',\r\n",
        "                                              u'repaid',\r\n",
        "                                              u'sources',\r\n",
        "                                              u'successfully',\r\n",
        "                                              u'another'],\r\n",
        "                                 u'b_name': u'topic_52',\r\n",
        "                                 u'b_size': 1557},\r\n",
        "                                {u'a_words': [u'store',\r\n",
        "                                              u'grocery',\r\n",
        "                                              u'goods',\r\n",
        "                                              u'drinks',\r\n",
        "                                              u'items',\r\n",
        "                                              u'soft'],\r\n",
        "                                 u'b_name': u'topic_55',\r\n",
        "                                 u'b_size': 3130},\r\n",
        "                                {u'a_words': [u'bank',\r\n",
        "                                              u'agriculture',\r\n",
        "                                              u'district',\r\n",
        "                                              u'province',\r\n",
        "                                              u'located',\r\n",
        "                                              u'work'],\r\n",
        "                                 u'b_name': u'topic_44',\r\n",
        "                                 u'b_size': 1985},\r\n",
        "                                {u'a_words': [u'services',\r\n",
        "                                              u'therefore',\r\n",
        "                                              u'soon',\r\n",
        "                                              u'fuel',\r\n",
        "                                              u'needs',\r\n",
        "                                              u'help'],\r\n",
        "                                 u'b_name': u'topic_27',\r\n",
        "                                 u'b_size': 1579},\r\n",
        "                                {u'a_words': [u'wife',\r\n",
        "                                              u'tools',\r\n",
        "                                              u'car',\r\n",
        "                                              u'immediate',\r\n",
        "                                              u'workshop',\r\n",
        "                                              u'equipment'],\r\n",
        "                                 u'b_name': u'topic_33',\r\n",
        "                                 u'b_size': 1205}]},\r\n",
        "                 {u'a_words': [u'nwtf',\r\n",
        "                               u'philippines',\r\n",
        "                               u'future',\r\n",
        "                               u'php',\r\n",
        "                               u'general',\r\n",
        "                               u'save'],\r\n",
        "                  u'b_name': u'topic_9_12_13_14_23',\r\n",
        "                  u'b_size': 20749,\r\n",
        "                  u'children': [{u'a_words': [u'general',\r\n",
        "                                              u'store',\r\n",
        "                                              u'running',\r\n",
        "                                              u'nwtf',\r\n",
        "                                              u'earns',\r\n",
        "                                              u'income'],\r\n",
        "                                 u'b_name': u'topic_9',\r\n",
        "                                 u'b_size': 2445},\r\n",
        "                                {u'a_words': [u'like',\r\n",
        "                                              u'future',\r\n",
        "                                              u'provide',\r\n",
        "                                              u'items',\r\n",
        "                                              u'requested',\r\n",
        "                                              u'would'],\r\n",
        "                                 u'b_name': u'topic_12',\r\n",
        "                                 u'b_size': 5050},\r\n",
        "                                {u'a_words': [u'nwtf',\r\n",
        "                                              u'philippines',\r\n",
        "                                              u'php',\r\n",
        "                                              u'save',\r\n",
        "                                              u'hard',\r\n",
        "                                              u'future'],\r\n",
        "                                 u'b_name': u'topic_13',\r\n",
        "                                 u'b_size': 8219},\r\n",
        "                                {u'a_words': [u'pigs',\r\n",
        "                                              u'nwtf',\r\n",
        "                                              u'raising',\r\n",
        "                                              u'old',\r\n",
        "                                              u'married',\r\n",
        "                                              u'philippines'],\r\n",
        "                                 u'b_name': u'topic_14',\r\n",
        "                                 u'b_size': 3764},\r\n",
        "                                {u'a_words': [u'month',\r\n",
        "                                              u'requested',\r\n",
        "                                              u'old',\r\n",
        "                                              u'earns',\r\n",
        "                                              u'lives',\r\n",
        "                                              u'pmpc'],\r\n",
        "                                 u'b_name': u'topic_23',\r\n",
        "                                 u'b_size': 1271}]},\r\n",
        "                 {u'a_words': [u'group',\r\n",
        "                               u'clothing',\r\n",
        "                               u'members',\r\n",
        "                               u'women',\r\n",
        "                               u'clothes',\r\n",
        "                               u'cash'],\r\n",
        "                  u'b_name': u'topic_10_22_25',\r\n",
        "                  u'b_size': 10852,\r\n",
        "                  u'children': [{u'a_words': [u'group',\r\n",
        "                                              u'members',\r\n",
        "                                              u'one',\r\n",
        "                                              u'women',\r\n",
        "                                              u'families',\r\n",
        "                                              u'first'],\r\n",
        "                                 u'b_name': u'topic_10',\r\n",
        "                                 u'b_size': 3517},\r\n",
        "                                {u'a_words': [u'cash',\r\n",
        "                                              u'women',\r\n",
        "                                              u'average',\r\n",
        "                                              u'group',\r\n",
        "                                              u'clothing',\r\n",
        "                                              u'members'],\r\n",
        "                                 u'b_name': u'topic_22',\r\n",
        "                                 u'b_size': 4521},\r\n",
        "                                {u'a_words': [u'clothing',\r\n",
        "                                              u'clothes',\r\n",
        "                                              u'selling',\r\n",
        "                                              u'merchandise',\r\n",
        "                                              u'sells',\r\n",
        "                                              u'cosmetics'],\r\n",
        "                                 u'b_name': u'topic_25',\r\n",
        "                                 u'b_size': 2814}]},\r\n",
        "                 {u'a_words': [u'able',\r\n",
        "                               u'continue',\r\n",
        "                               u'support',\r\n",
        "                               u'grateful',\r\n",
        "                               u'maria',\r\n",
        "                               u'get'],\r\n",
        "                  u'b_name': u'topic_30',\r\n",
        "                  u'b_size': 4644},\r\n",
        "                 {u'a_words': [u'school',\r\n",
        "                               u'fees',\r\n",
        "                               u'pay',\r\n",
        "                               u'students',\r\n",
        "                               u'include',\r\n",
        "                               u'teacher'],\r\n",
        "                  u'b_name': u'topic_36',\r\n",
        "                  u'b_size': 1933},\r\n",
        "                 {u'a_words': [u'shop',\r\n",
        "                               u'shoes',\r\n",
        "                               u'open',\r\n",
        "                               u'finance',\r\n",
        "                               u'center',\r\n",
        "                               u'customer'],\r\n",
        "                  u'b_name': u'topic_49',\r\n",
        "                  u'b_size': 1103},\r\n",
        "                 {u'a_words': [u'harvest',\r\n",
        "                               u'babban',\r\n",
        "                               u'gona',\r\n",
        "                               u'farmer',\r\n",
        "                               u'acre',\r\n",
        "                               u'member'],\r\n",
        "                  u'b_name': u'topic_42',\r\n",
        "                  u'b_size': 2137},\r\n",
        "                 {u'a_words': [u'water',\r\n",
        "                               u'access',\r\n",
        "                               u'drinking',\r\n",
        "                               u'electricity',\r\n",
        "                               u'expenses',\r\n",
        "                               u'using'],\r\n",
        "                  u'b_name': u'topic_29',\r\n",
        "                  u'b_size': 1547},\r\n",
        "                 {u'a_words': [u'farmers',\r\n",
        "                               u'fund',\r\n",
        "                               u'farming',\r\n",
        "                               u'sheep',\r\n",
        "                               u'district',\r\n",
        "                               u'kenya'],\r\n",
        "                  u'b_name': u'topic_39',\r\n",
        "                  u'b_size': 1168},\r\n",
        "                 {u'a_words': [u'expenses',\r\n",
        "                               u'prices',\r\n",
        "                               u'low',\r\n",
        "                               u'higher',\r\n",
        "                               u'price',\r\n",
        "                               u'household'],\r\n",
        "                  u'b_name': u'topic_56',\r\n",
        "                  u'b_size': 1456},\r\n",
        "                 {u'a_words': [u'firewood',\r\n",
        "                               u'uses',\r\n",
        "                               u'create',\r\n",
        "                               u'bags',\r\n",
        "                               u'schooling',\r\n"
       ]
      },
      {
       "output_type": "stream",
       "stream": "stdout",
       "text": [
        "                               u'commercial'],\r\n",
        "                  u'b_name': u'topic_17',\r\n",
        "                  u'b_size': 631},\r\n",
        "                 {u'a_words': [u'total',\r\n",
        "                               u'believes',\r\n",
        "                               u'training',\r\n",
        "                               u'joined',\r\n",
        "                               u'one',\r\n",
        "                               u'profits'],\r\n",
        "                  u'b_name': u'topic_6',\r\n",
        "                  u'b_size': 924},\r\n",
        "                 {u'a_words': [u'vegetables',\r\n",
        "                               u'fruits',\r\n",
        "                               u'fruit',\r\n",
        "                               u'cater',\r\n",
        "                               u'onions',\r\n",
        "                               u'selling'],\r\n",
        "                  u'b_name': u'topic_46',\r\n",
        "                  u'b_size': 1073},\r\n",
        "                 {u'a_words': [u'hand',\r\n",
        "                               u'member',\r\n",
        "                               u'savings',\r\n",
        "                               u'photo',\r\n",
        "                               u'pictured',\r\n",
        "                               u'raised'],\r\n",
        "                  u'b_name': u'topic_62',\r\n",
        "                  u'b_size': 942},\r\n",
        "                 {u'a_words': [u'rice',\r\n",
        "                               u'oil',\r\n",
        "                               u'cooking',\r\n",
        "                               u'sugar',\r\n",
        "                               u'grains',\r\n",
        "                               u'beans'],\r\n",
        "                  u'b_name': u'topic_37',\r\n",
        "                  u'b_size': 1563},\r\n",
        "                 {u'a_words': [u'maize',\r\n",
        "                               u'use',\r\n",
        "                               u'kenya',\r\n",
        "                               u'income',\r\n",
        "                               u'future',\r\n",
        "                               u'sell'],\r\n",
        "                  u'b_name': u'topic_50',\r\n",
        "                  u'b_size': 2496}]}\r\n",
        " Dumping object hierarchy into JSON file data/topicmodelling/kivadata.json ... done\r\n"
       ]
      }
     ],
     "prompt_number": 50
    },
    {
     "cell_type": "markdown",
     "metadata": {},
     "source": [
      "TODO\n",
      "\n",
      "* Visualize with [Zoomable Sunburst](http://bl.ocks.org/mbostock/4348373), provided it does something useful with the 'size' attribute. May ditch Hierarchie altogether\n",
      "* Example [data](http://bl.ocks.org/mbostock/raw/4063550/flare.json) (without words)"
     ]
    }
   ],
   "metadata": {}
  }
 ]
}