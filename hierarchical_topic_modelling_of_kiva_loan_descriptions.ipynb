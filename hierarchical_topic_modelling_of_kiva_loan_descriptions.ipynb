{
 "metadata": {
  "name": "",
  "signature": "sha256:c91feae60f25eda2b2acfa77af22ad323e10547d9a7aff5a6301341bddb5eb5e"
 },
 "nbformat": 3,
 "nbformat_minor": 0,
 "worksheets": [
  {
   "cells": [
    {
     "cell_type": "heading",
     "level": 1,
     "metadata": {},
     "source": [
      "Hierarchical topic modelling of Kiva loan descriptions"
     ]
    },
    {
     "cell_type": "heading",
     "level": 2,
     "metadata": {},
     "source": [
      "Goals"
     ]
    },
    {
     "cell_type": "markdown",
     "metadata": {},
     "source": [
      "*  Create a visual explorer for a static set of 800K+ English loan descriptions from Kiva.org\n",
      "*  Use (hierarchical) topic modelling\n",
      "*  Publish the explorer to the world"
     ]
    },
    {
     "cell_type": "heading",
     "level": 2,
     "metadata": {},
     "source": [
      "References"
     ]
    },
    {
     "cell_type": "markdown",
     "metadata": {},
     "source": [
      "* David Mimno and Andrew MacCallum: [Organizing the OCA: Learning Faceted Subjects from a Library of Digital Books](http://mimno.infosci.cornell.edu/papers/f129-mimno.pdf) => bottom-up approach\n",
      "* Jay Pujara and Peter Skomoroch: [Large-Scale Hierarchical Topic Models](http://linqs.cs.umd.edu/basilic/web/Publications/2012/pujara:nips12/pujara_biglearn12.pdf) => top-down approach\n",
      "* Alison Smith, Timothy Hawes, and Meredith Myers: [Hi&eacute;rarchie: Interactive Visualization for Hierarchical Topic Models](http://nlp.stanford.edu/events/illvi2014/papers/smith-illvi2014b.pdf)\n",
      "* Hierarchie [Readme page at GitHub](http://mlvl.github.io/Hierarchie/#/about)\n",
      "* [Gensim - topic modelling for humans](https://radimrehurek.com/gensim/index.html)\n",
      "* Nikolaos Aletras and Mark Stevenson: [Measuring the Similarity between Automatically Generated Topics](http://staffwww.dcs.shef.ac.uk/people/N.Aletras/resources/2014_eacl_topicSim_short.pdf)"
     ]
    },
    {
     "cell_type": "heading",
     "level": 2,
     "metadata": {},
     "source": [
      "Approach"
     ]
    },
    {
     "cell_type": "markdown",
     "metadata": {},
     "source": [
      "* Use gensim to derive flat topic models over (part of) the Kiva corpus, taking the [tutorial](https://radimrehurek.com/gensim/tutorial.html) as guideline\n",
      "* Organize the found topic models into a hierarchy - no precise idea yet on how to do this (maybe some form of hierarchical clustering may apply)\n",
      "* Convert that hierarchy into a [JSON data file](https://github.com/mlvl/Hierarchie/tree/gh-pages/app/data) compliant with Hierarchie\n",
      "* Visualize everything with Hierarchie\n",
      "\n",
      "IMPORTANT: store python code in scripts, and call these from ipython notebook"
     ]
    },
    {
     "cell_type": "heading",
     "level": 2,
     "metadata": {},
     "source": [
      "Data preprocessing"
     ]
    },
    {
     "cell_type": "markdown",
     "metadata": {},
     "source": [
      "Step 1: download [Kiva data dump (JSON format)](http://s3.kiva.org/snapshots/kiva_ds_json.zip), and extract into data/static"
     ]
    },
    {
     "cell_type": "markdown",
     "metadata": {},
     "source": [
      "Step 2: since the 'description' fields in the Kiva data dump often mix multiple languages (due to manual translations), the language codes are not reliable. Therefore, we:\n",
      "\n",
      "* split the descriptions in paragraps\n",
      "* do language detection on the paragraphs\n",
      "* store the recombined paragraphs and their language code in new processed_description field\n",
      "\n",
      "The data are written to a locally installed MongoDB 'kiva', collection 'loans'"
     ]
    },
    {
     "cell_type": "code",
     "collapsed": false,
     "input": [
      "# Next line commented out because we only want to run this once\n",
      "# nohup python src/load_kiva_to_mongodb.py"
     ],
     "language": "python",
     "metadata": {},
     "outputs": [],
     "prompt_number": 4
    },
    {
     "cell_type": "markdown",
     "metadata": {},
     "source": [
      "Step 3: load (a subset) of the English data from MongoDB, and convert it to the [Blei LDA-C format](http://www.cs.princeton.edu/~blei/lda-c/), using a [gensim utility function](https://radimrehurek.com/gensim/tut1.html#corpus-formats)"
     ]
    },
    {
     "cell_type": "code",
     "collapsed": false,
     "input": [
      "!python src/convert_mongodb_to_blei_ldac.py --dataDir data/topicmodelling\\\n",
      "                                            --corpusBaseName kiva \\\n",
      "                                            --stopwordFile=data/topicmodelling/kiva_stopwords.tsv \\\n",
      "                                            --maxNrDocs 20000 \\\n",
      "                                            --filterBelow 10 \\\n",
      "                                            --filterAbove 99.0 \\\n",
      "                                            --filterKeepN 1000"
     ],
     "language": "python",
     "metadata": {},
     "outputs": [
      {
       "output_type": "stream",
       "stream": "stdout",
       "text": [
        "Creating MongoDB cursor ... done\r\n"
       ]
      },
      {
       "output_type": "stream",
       "stream": "stdout",
       "text": [
        "Number of loans in 'en' since 2010: 624364\r\n",
        "First pass: streaming from MongoDB ...\r\n",
        "creating the dictionary ...\r\n"
       ]
      },
      {
       "output_type": "stream",
       "stream": "stdout",
       "text": [
        "read 5000 documents ...\r\n"
       ]
      },
      {
       "output_type": "stream",
       "stream": "stdout",
       "text": [
        "read 10000 documents ...\r\n"
       ]
      },
      {
       "output_type": "stream",
       "stream": "stdout",
       "text": [
        "read 15000 documents ...\r\n"
       ]
      },
      {
       "output_type": "stream",
       "stream": "stdout",
       "text": [
        "filtering the dictionary ..."
       ]
      },
      {
       "output_type": "stream",
       "stream": "stdout",
       "text": [
        " done\r\n",
        "wrote data/topicmodelling/kiva_dict.bin ... and data/topicmodelling/kiva_dict.txt ... done\r\n",
        "Second pass: streaming from MongoDB ... saving into data/topicmodelling/kiva.lda-c (Blei corpus format) ..."
       ]
      },
      {
       "output_type": "stream",
       "stream": "stdout",
       "text": [
        " done\r\n",
        "Number of documents converted: 20000\r\n",
        "Vocabulary size: 1000\r\n"
       ]
      }
     ],
     "prompt_number": 77
    },
    {
     "cell_type": "code",
     "collapsed": false,
     "input": [
      "!python src/model_topics.py --dataDir data/topicmodelling \\\n",
      "                            --modelDir data/topicmodelling \\\n",
      "                            --corpusBaseName kiva \\\n",
      "                            --nrTopics 26 \\\n",
      "                            --nrWords 3"
     ],
     "language": "python",
     "metadata": {},
     "outputs": [
      {
       "output_type": "stream",
       "stream": "stdout",
       "text": [
        "Loading Blei corpus file data/topicmodelling/kiva.lda-c ... done\r\n",
        "<gensim.corpora.bleicorpus.BleiCorpus object at 0x104f1ead0>\r\n",
        "Dictionary(1000 unique tokens: [u'neighbors', u'shop', u'managed', u'alleviation', u'lack']...)\r\n",
        "Making topic model ..."
       ]
      },
      {
       "output_type": "stream",
       "stream": "stdout",
       "text": [
        " done\r\n"
       ]
      },
      {
       "output_type": "stream",
       "stream": "stdout",
       "text": [
        "0.057*'' + 0.040*3 + 0.033*lending\r\n",
        "0.079*group + 0.037*business + 0.020*members\r\n",
        "0.046*years + 0.037*children + 0.031*business\r\n",
        "0.038*business + 0.034*work + 0.022*purchase\r\n",
        "0.040*aski + 0.033*business + 0.019*php\r\n",
        "0.035*brac + 0.023*organizations + 0.022*village\r\n",
        "0.032*loans + 0.029*volunteer + 0.029*children\r\n",
        "0.043*pmpc + 0.032*business + 0.021*php\r\n",
        "0.040*business + 0.037*hspfi + 0.021*php\r\n",
        "0.029*business + 0.028*community + 0.021*family\r\n",
        "0.026*family + 0.025*business + 0.019*income\r\n",
        "0.026*years + 0.025*volunteer + 0.022*spanish\r\n",
        "0.041*gdmpc + 0.031*business + 0.021*php\r\n",
        "0.023*children + 0.021*$ + 0.021*family\r\n",
        "0.044*business + 0.040*years + 0.029*children\r\n",
        "0.030*children + 0.027*years + 0.027*buy\r\n",
        "0.035*rice + 0.033*farm + 0.031*farming\r\n",
        "0.020*business + 0.018*products + 0.018*volunteer\r\n",
        "0.020*members + 0.017*work + 0.016*bank\r\n",
        "0.027*clothing + 0.025*volunteer + 0.020*loans\r\n",
        "0.065*business + 0.033*years + 0.027*kenya\r\n",
        "0.087*business + 0.041*group + 0.013*years\r\n",
        "0.027*years + 0.020*spanish + 0.019*volunteer\r\n",
        "0.040*province + 0.036*increase + 0.028*bank\r\n",
        "0.050*international + 0.029*already + 0.025*country\r\n",
        "0.031*mrs. + 0.024*husband + 0.020*children\r\n",
        "Writing model file data/topicmodelling/kiva.lda_model ... done\r\n",
        "Creating complete topic/word matrix in memory:\r\n"
       ]
      },
      {
       "output_type": "stream",
       "stream": "stdout",
       "text": [
        "topic 1/26 ...\r\n"
       ]
      },
      {
       "output_type": "stream",
       "stream": "stdout",
       "text": [
        "topic 2/26 ...\r\n",
        "topic 3/26 ...\r\n"
       ]
      },
      {
       "output_type": "stream",
       "stream": "stdout",
       "text": [
        "topic 4/26 ...\r\n"
       ]
      },
      {
       "output_type": "stream",
       "stream": "stdout",
       "text": [
        "topic 5/26 ...\r\n"
       ]
      },
      {
       "output_type": "stream",
       "stream": "stdout",
       "text": [
        "topic 6/26 ...\r\n",
        "topic 7/26 ...\r\n"
       ]
      },
      {
       "output_type": "stream",
       "stream": "stdout",
       "text": [
        "topic 8/26 ...\r\n"
       ]
      },
      {
       "output_type": "stream",
       "stream": "stdout",
       "text": [
        "topic 9/26 ...\r\n",
        "topic 10/26 ...\r\n"
       ]
      },
      {
       "output_type": "stream",
       "stream": "stdout",
       "text": [
        "topic 11/26 ...\r\n"
       ]
      },
      {
       "output_type": "stream",
       "stream": "stdout",
       "text": [
        "topic 12/26 ...\r\n"
       ]
      },
      {
       "output_type": "stream",
       "stream": "stdout",
       "text": [
        "topic 13/26 ...\r\n"
       ]
      },
      {
       "output_type": "stream",
       "stream": "stdout",
       "text": [
        "topic 14/26 ...\r\n"
       ]
      },
      {
       "output_type": "stream",
       "stream": "stdout",
       "text": [
        "topic 15/26 ...\r\n"
       ]
      },
      {
       "output_type": "stream",
       "stream": "stdout",
       "text": [
        "topic 16/26 ...\r\n"
       ]
      },
      {
       "output_type": "stream",
       "stream": "stdout",
       "text": [
        "topic 17/26 ...\r\n"
       ]
      },
      {
       "output_type": "stream",
       "stream": "stdout",
       "text": [
        "topic 18/26 ...\r\n"
       ]
      },
      {
       "output_type": "stream",
       "stream": "stdout",
       "text": [
        "topic 19/26 ...\r\n"
       ]
      },
      {
       "output_type": "stream",
       "stream": "stdout",
       "text": [
        "topic 20/26 ...\r\n"
       ]
      },
      {
       "output_type": "stream",
       "stream": "stdout",
       "text": [
        "topic 21/26 ...\r\n"
       ]
      },
      {
       "output_type": "stream",
       "stream": "stdout",
       "text": [
        "topic 22/26 ...\r\n"
       ]
      },
      {
       "output_type": "stream",
       "stream": "stdout",
       "text": [
        "topic 23/26 ...\r\n"
       ]
      },
      {
       "output_type": "stream",
       "stream": "stdout",
       "text": [
        "topic 24/26 ...\r\n"
       ]
      },
      {
       "output_type": "stream",
       "stream": "stdout",
       "text": [
        "topic 25/26 ...\r\n"
       ]
      },
      {
       "output_type": "stream",
       "stream": "stdout",
       "text": [
        "topic 26/26 ...\r\n"
       ]
      },
      {
       "output_type": "stream",
       "stream": "stdout",
       "text": [
        "done\r\n",
        "Writing topic/word matrix file data/topicmodelling/kiva_topic_words_matrix.h5 ..."
       ]
      },
      {
       "output_type": "stream",
       "stream": "stdout",
       "text": [
        "/usr/local/lib/python2.7/site-packages/pandas/io/pytables.py:2486: PerformanceWarning: \r\n",
        "your performance may suffer as PyTables will pickle object types that it cannot\r\n",
        "map directly to c-types [inferred_type->unicode,key->axis0] [items->None]\r\n",
        "\r\n",
        "  warnings.warn(ws, PerformanceWarning)\r\n"
       ]
      },
      {
       "output_type": "stream",
       "stream": "stdout",
       "text": [
        "/usr/local/lib/python2.7/site-packages/pandas/io/pytables.py:2486: PerformanceWarning: \r\n",
        "your performance may suffer as PyTables will pickle object types that it cannot\r\n",
        "map directly to c-types [inferred_type->unicode,key->block0_items] [items->None]\r\n",
        "\r\n",
        "  warnings.warn(ws, PerformanceWarning)\r\n",
        "done\r\n"
       ]
      }
     ],
     "prompt_number": 118
    },
    {
     "cell_type": "code",
     "collapsed": false,
     "input": [
      "!python src/build_topic_hierarchy.py --modelDir data/topicmodelling \\\n",
      "                                     --modelBaseName kiva \\\n",
      "                                     --nrClusters 10 \\\n",
      "                                     --nrWords 10"
     ],
     "language": "python",
     "metadata": {},
     "outputs": [
      {
       "output_type": "stream",
       "stream": "stdout",
       "text": [
        "Reading topic/word matrix file data/topicmodelling/kiva_topic_words_matrix.h5 ... done\r\n",
        "Hierarchically clustering topics ... done\r\n",
        "hierarchy (26 leaves, 10 clusters): [5 8 0 0 2 6 3 2 2 1 1 3 2 1 0 0 9 3 3 3 0 0 3 7 4 1]\r\n",
        "Loading model file data/topicmodelling/kiva.lda_model ... done\r\n",
        "Building nested hierarchy in memory ...\r\n",
        "Entering processHierarchyLevel with clusterID 9 and topicIndex 16\r\n",
        "Entering processHierarchyLevel with clusterID 8 and topicIndex 1\r\n",
        "Entering processHierarchyLevel with clusterID 7 and topicIndex 23\r\n",
        "Entering processHierarchyLevel with clusterID 6 and topicIndex 5\r\n",
        "Entering processHierarchyLevel with clusterID 5 and topicIndex 0\r\n",
        "Entering processHierarchyLevel with clusterID 4 and topicIndex 24\r\n",
        "Entering processHierarchyLevel with clusterID 3 and topicIndex 6\r\n",
        "Entering processHierarchyLevel with clusterID 2 and topicIndex 4\r\n",
        "Entering processHierarchyLevel with clusterID 1 and topicIndex 9\r\n",
        "Entering processHierarchyLevel with clusterID 0 and topicIndex 2\r\n",
        "topWeightedWords =  [(0.046148580689870482, u'years'), (0.037117289824891549, u'children'), (0.031253107641957677, u'business'), (0.028269923237641697, u'old'), (0.026223414224043059, u'sells'), (0.024294174871868999, u'married'), (0.021456923074706136, u'customers'), (0.020708271627508653, u'school'), (0.019996853051791674, u'hopes'), (0.014780257101602728, u'purchase')]\r\n",
        "Entering processHierarchyLevel with clusterID 0 and topicIndex 2\r\n",
        "topWeightedWords =  [(0.046148580689870482, u'years'), (0.037117289824891549, u'children'), (0.031253107641957677, u'business'), (0.028269923237641697, u'old'), (0.026223414224043059, u'sells'), (0.024294174871868999, u'married'), (0.021456923074706136, u'customers'), (0.020708271627508653, u'school'), (0.019996853051791674, u'hopes'), (0.014780257101602728, u'purchase')]\r\n",
        "Entering processHierarchyLevel with clusterID 0 and topicIndex 2\r\n",
        "topWeightedWords =  [(0.046148580689870482, u'years'), (0.037117289824891549, u'children'), (0.031253107641957677, u'business'), (0.028269923237641697, u'old'), (0.026223414224043059, u'sells'), (0.024294174871868999, u'married'), (0.021456923074706136, u'customers'), (0.020708271627508653, u'school'), (0.019996853051791674, u'hopes'), (0.014780257101602728, u'purchase')]\r\n",
        "Entering processHierarchyLevel with clusterID 0 and topicIndex 2\r\n",
        "topWeightedWords =  [(0.046148580689870482, u'years'), (0.037117289824891549, u'children'), (0.031253107641957677, u'business'), (0.028269923237641697, u'old'), (0.026223414224043059, u'sells'), (0.024294174871868999, u'married'), (0.021456923074706136, u'customers'), (0.020708271627508653, u'school'), (0.019996853051791674, u'hopes'), (0.014780257101602728, u'purchase')]\r\n",
        "listsOfWeightedWordTupleLists =  [[(0.046148580689870482, u'years'), (0.037117289824891549, u'children'), (0.031253107641957677, u'business'), (0.028269923237641697, u'old'), (0.026223414224043059, u'sells'), (0.024294174871868999, u'married'), (0.021456923074706136, u'customers'), (0.020708271627508653, u'school'), (0.019996853051791674, u'hopes'), (0.014780257101602728, u'purchase')], [(0.046148580689870482, u'years'), (0.037117289824891549, u'children'), (0.031253107641957677, u'business'), (0.028269923237641697, u'old'), (0.026223414224043059, u'sells'), (0.024294174871868999, u'married'), (0.021456923074706136, u'customers'), (0.020708271627508653, u'school'), (0.019996853051791674, u'hopes'), (0.014780257101602728, u'purchase')], [(0.046148580689870482, u'years'), (0.037117289824891549, u'children'), (0.031253107641957677, u'business'), (0.028269923237641697, u'old'), (0.026223414224043059, u'sells'), (0.024294174871868999, u'married'), (0.021456923074706136, u'customers'), (0.020708271627508653, u'school'), (0.019996853051791674, u'hopes'), (0.014780257101602728, u'purchase')], [(0.046148580689870482, u'years'), (0.037117289824891549, u'children'), (0.031253107641957677, u'business'), (0.028269923237641697, u'old'), (0.026223414224043059, u'sells'), (0.024294174871868999, u'married'), (0.021456923074706136, u'customers'), (0.020708271627508653, u'school'), (0.019996853051791674, u'hopes'), (0.014780257101602728, u'purchase')]]\r\n",
        "\r\n",
        "Entering processHierarchyLevel with clusterID 1 and topicIndex 9\r\n",
        "Entering processHierarchyLevel with clusterID 0 and topicIndex 2\r\n",
        "topWeightedWords =  [(0.046148580689870482, u'years'), (0.037117289824891549, u'children'), (0.031253107641957677, u'business'), (0.028269923237641697, u'old'), (0.026223414224043059, u'sells'), (0.024294174871868999, u'married'), (0.021456923074706136, u'customers'), (0.020708271627508653, u'school'), (0.019996853051791674, u'hopes'), (0.014780257101602728, u'purchase')]\r\n",
        "Entering processHierarchyLevel with clusterID 0 and topicIndex 2\r\n",
        "topWeightedWords =  [(0.046148580689870482, u'years'), (0.037117289824891549, u'children'), (0.031253107641957677, u'business'), (0.028269923237641697, u'old'), (0.026223414224043059, u'sells'), (0.024294174871868999, u'married'), (0.021456923074706136, u'customers'), (0.020708271627508653, u'school'), (0.019996853051791674, u'hopes'), (0.014780257101602728, u'purchase')]\r\n",
        "Entering processHierarchyLevel with clusterID 0 and topicIndex 2\r\n",
        "topWeightedWords =  [(0.046148580689870482, u'years'), (0.037117289824891549, u'children'), (0.031253107641957677, u'business'), (0.028269923237641697, u'old'), (0.026223414224043059, u'sells'), (0.024294174871868999, u'married'), (0.021456923074706136, u'customers'), (0.020708271627508653, u'school'), (0.019996853051791674, u'hopes'), (0.014780257101602728, u'purchase')]\r\n",
        "Entering processHierarchyLevel with clusterID 0 and topicIndex 2\r\n",
        "topWeightedWords =  [(0.046148580689870482, u'years'), (0.037117289824891549, u'children'), (0.031253107641957677, u'business'), (0.028269923237641697, u'old'), (0.026223414224043059, u'sells'), (0.024294174871868999, u'married'), (0.021456923074706136, u'customers'), (0.020708271627508653, u'school'), (0.019996853051791674, u'hopes'), (0.014780257101602728, u'purchase')]\r\n",
        "listsOfWeightedWordTupleLists =  [[(0.046148580689870482, u'years'), (0.037117289824891549, u'children'), (0.031253107641957677, u'business'), (0.028269923237641697, u'old'), (0.026223414224043059, u'sells'), (0.024294174871868999, u'married'), (0.021456923074706136, u'customers'), (0.020708271627508653, u'school'), (0.019996853051791674, u'hopes'), (0.014780257101602728, u'purchase')], [(0.046148580689870482, u'years'), (0.037117289824891549, u'children'), (0.031253107641957677, u'business'), (0.028269923237641697, u'old'), (0.026223414224043059, u'sells'), (0.024294174871868999, u'married'), (0.021456923074706136, u'customers'), (0.020708271627508653, u'school'), (0.019996853051791674, u'hopes'), (0.014780257101602728, u'purchase')], [(0.046148580689870482, u'years'), (0.037117289824891549, u'children'), (0.031253107641957677, u'business'), (0.028269923237641697, u'old'), (0.026223414224043059, u'sells'), (0.024294174871868999, u'married'), (0.021456923074706136, u'customers'), (0.020708271627508653, u'school'), (0.019996853051791674, u'hopes'), (0.014780257101602728, u'purchase')], [(0.046148580689870482, u'years'), (0.037117289824891549, u'children'), (0.031253107641957677, u'business'), (0.028269923237641697, u'old'), (0.026223414224043059, u'sells'), (0.024294174871868999, u'married'), (0.021456923074706136, u'customers'), (0.020708271627508653, u'school'), (0.019996853051791674, u'hopes'), (0.014780257101602728, u'purchase')]]\r\n",
        "\r\n",
        "Entering processHierarchyLevel with clusterID 1 and topicIndex 9\r\n",
        "Entering processHierarchyLevel with clusterID 0 and topicIndex 2\r\n",
        "topWeightedWords =  [(0.046148580689870482, u'years'), (0.037117289824891549, u'children'), (0.031253107641957677, u'business'), (0.028269923237641697, u'old'), (0.026223414224043059, u'sells'), (0.024294174871868999, u'married'), (0.021456923074706136, u'customers'), (0.020708271627508653, u'school'), (0.019996853051791674, u'hopes'), (0.014780257101602728, u'purchase')]\r\n",
        "Entering processHierarchyLevel with clusterID 0 and topicIndex 2\r\n",
        "topWeightedWords =  [(0.046148580689870482, u'years'), (0.037117289824891549, u'children'), (0.031253107641957677, u'business'), (0.028269923237641697, u'old'), (0.026223414224043059, u'sells'), (0.024294174871868999, u'married'), (0.021456923074706136, u'customers'), (0.020708271627508653, u'school'), (0.019996853051791674, u'hopes'), (0.014780257101602728, u'purchase')]\r\n",
        "Entering processHierarchyLevel with clusterID 0 and topicIndex 2\r\n",
        "topWeightedWords =  [(0.046148580689870482, u'years'), (0.037117289824891549, u'children'), (0.031253107641957677, u'business'), (0.028269923237641697, u'old'), (0.026223414224043059, u'sells'), (0.024294174871868999, u'married'), (0.021456923074706136, u'customers'), (0.020708271627508653, u'school'), (0.019996853051791674, u'hopes'), (0.014780257101602728, u'purchase')]\r\n",
        "Entering processHierarchyLevel with clusterID 0 and topicIndex 2\r\n",
        "topWeightedWords =  [(0.046148580689870482, u'years'), (0.037117289824891549, u'children'), (0.031253107641957677, u'business'), (0.028269923237641697, u'old'), (0.026223414224043059, u'sells'), (0.024294174871868999, u'married'), (0.021456923074706136, u'customers'), (0.020708271627508653, u'school'), (0.019996853051791674, u'hopes'), (0.014780257101602728, u'purchase')]\r\n",
        "listsOfWeightedWordTupleLists =  [[(0.046148580689870482, u'years'), (0.037117289824891549, u'children'), (0.031253107641957677, u'business'), (0.028269923237641697, u'old'), (0.026223414224043059, u'sells'), (0.024294174871868999, u'married'), (0.021456923074706136, u'customers'), (0.020708271627508653, u'school'), (0.019996853051791674, u'hopes'), (0.014780257101602728, u'purchase')], [(0.046148580689870482, u'years'), (0.037117289824891549, u'children'), (0.031253107641957677, u'business'), (0.028269923237641697, u'old'), (0.026223414224043059, u'sells'), (0.024294174871868999, u'married'), (0.021456923074706136, u'customers'), (0.020708271627508653, u'school'), (0.019996853051791674, u'hopes'), (0.014780257101602728, u'purchase')], [(0.046148580689870482, u'years'), (0.037117289824891549, u'children'), (0.031253107641957677, u'business'), (0.028269923237641697, u'old'), (0.026223414224043059, u'sells'), (0.024294174871868999, u'married'), (0.021456923074706136, u'customers'), (0.020708271627508653, u'school'), (0.019996853051791674, u'hopes'), (0.014780257101602728, u'purchase')], [(0.046148580689870482, u'years'), (0.037117289824891549, u'children'), (0.031253107641957677, u'business'), (0.028269923237641697, u'old'), (0.026223414224043059, u'sells'), (0.024294174871868999, u'married'), (0.021456923074706136, u'customers'), (0.020708271627508653, u'school'), (0.019996853051791674, u'hopes'), (0.014780257101602728, u'purchase')]]\r\n",
        "\r\n",
        "Entering processHierarchyLevel with clusterID 1 and topicIndex 9\r\n",
        "Entering processHierarchyLevel with clusterID 0 and topicIndex 2\r\n",
        "topWeightedWords =  [(0.046148580689870482, u'years'), (0.037117289824891549, u'children'), (0.031253107641957677, u'business'), (0.028269923237641697, u'old'), (0.026223414224043059, u'sells'), (0.024294174871868999, u'married'), (0.021456923074706136, u'customers'), (0.020708271627508653, u'school'), (0.019996853051791674, u'hopes'), (0.014780257101602728, u'purchase')]\r\n",
        "Entering processHierarchyLevel with clusterID 0 and topicIndex 2\r\n",
        "topWeightedWords =  [(0.046148580689870482, u'years'), (0.037117289824891549, u'children'), (0.031253107641957677, u'business'), (0.028269923237641697, u'old'), (0.026223414224043059, u'sells'), (0.024294174871868999, u'married'), (0.021456923074706136, u'customers'), (0.020708271627508653, u'school'), (0.019996853051791674, u'hopes'), (0.014780257101602728, u'purchase')]\r\n",
        "Entering processHierarchyLevel with clusterID 0 and topicIndex 2\r\n",
        "topWeightedWords =  [(0.046148580689870482, u'years'), (0.037117289824891549, u'children'), (0.031253107641957677, u'business'), (0.028269923237641697, u'old'), (0.026223414224043059, u'sells'), (0.024294174871868999, u'married'), (0.021456923074706136, u'customers'), (0.020708271627508653, u'school'), (0.019996853051791674, u'hopes'), (0.014780257101602728, u'purchase')]\r\n",
        "Entering processHierarchyLevel with clusterID 0 and topicIndex 2\r\n",
        "topWeightedWords =  [(0.046148580689870482, u'years'), (0.037117289824891549, u'children'), (0.031253107641957677, u'business'), (0.028269923237641697, u'old'), (0.026223414224043059, u'sells'), (0.024294174871868999, u'married'), (0.021456923074706136, u'customers'), (0.020708271627508653, u'school'), (0.019996853051791674, u'hopes'), (0.014780257101602728, u'purchase')]\r\n",
        "listsOfWeightedWordTupleLists =  [[(0.046148580689870482, u'years'), (0.037117289824891549, u'children'), (0.031253107641957677, u'business'), (0.028269923237641697, u'old'), (0.026223414224043059, u'sells'), (0.024294174871868999, u'married'), (0.021456923074706136, u'customers'), (0.020708271627508653, u'school'), (0.019996853051791674, u'hopes'), (0.014780257101602728, u'purchase')], [(0.046148580689870482, u'years'), (0.037117289824891549, u'children'), (0.031253107641957677, u'business'), (0.028269923237641697, u'old'), (0.026223414224043059, u'sells'), (0.024294174871868999, u'married'), (0.021456923074706136, u'customers'), (0.020708271627508653, u'school'), (0.019996853051791674, u'hopes'), (0.014780257101602728, u'purchase')], [(0.046148580689870482, u'years'), (0.037117289824891549, u'children'), (0.031253107641957677, u'business'), (0.028269923237641697, u'old'), (0.026223414224043059, u'sells'), (0.024294174871868999, u'married'), (0.021456923074706136, u'customers'), (0.020708271627508653, u'school'), (0.019996853051791674, u'hopes'), (0.014780257101602728, u'purchase')], [(0.046148580689870482, u'years'), (0.037117289824891549, u'children'), (0.031253107641957677, u'business'), (0.028269923237641697, u'old'), (0.026223414224043059, u'sells'), (0.024294174871868999, u'married'), (0.021456923074706136, u'customers'), (0.020708271627508653, u'school'), (0.019996853051791674, u'hopes'), (0.014780257101602728, u'purchase')]]\r\n",
        "\r\n",
        "listsOfWeightedWordTupleLists =  [[(u'purchase', 0.059121028406410911), (u'hopes', 0.079987412207166694), (u'school', 0.082833086510034612), (u'customers', 0.085827692298824546), (u'married', 0.097176699487475995), (u'sells', 0.10489365689617224), (u'old', 0.11307969295056679), (u'business', 0.12501243056783071), (u'children', 0.14846915929956619), (u'years', 0.18459432275948193)], [(u'purchase', 0.059121028406410911), (u'hopes', 0.079987412207166694), (u'school', 0.082833086510034612), (u'customers', 0.085827692298824546), (u'married', 0.097176699487475995), (u'sells', 0.10489365689617224), (u'old', 0.11307969295056679), (u'business', 0.12501243056783071), (u'children', 0.14846915929956619), (u'years', 0.18459432275948193)], [(u'purchase', 0.059121028406410911), (u'hopes', 0.079987412207166694), (u'school', 0.082833086510034612), (u'customers', 0.085827692298824546), (u'married', 0.097176699487475995), (u'sells', 0.10489365689617224), (u'old', 0.11307969295056679), (u'business', 0.12501243056783071), (u'children', 0.14846915929956619), (u'years', 0.18459432275948193)], [(u'purchase', 0.059121028406410911), (u'hopes', 0.079987412207166694), (u'school', 0.082833086510034612), (u'customers', 0.085827692298824546), (u'married', 0.097176699487475995), (u'sells', 0.10489365689617224), (u'old', 0.11307969295056679), (u'business', 0.12501243056783071), (u'children', 0.1484"
       ]
      },
      {
       "output_type": "stream",
       "stream": "stdout",
       "text": [
        "6915929956619), (u'years', 0.18459432275948193)]]\r\n",
        "\r\n",
        "Entering processHierarchyLevel with clusterID 2 and topicIndex 4\r\n",
        "Entering processHierarchyLevel with clusterID 1 and topicIndex 9\r\n",
        "Entering processHierarchyLevel with clusterID 0 and topicIndex 2\r\n",
        "topWeightedWords =  [(0.046148580689870482, u'years'), (0.037117289824891549, u'children'), (0.031253107641957677, u'business'), (0.028269923237641697, u'old'), (0.026223414224043059, u'sells'), (0.024294174871868999, u'married'), (0.021456923074706136, u'customers'), (0.020708271627508653, u'school'), (0.019996853051791674, u'hopes'), (0.014780257101602728, u'purchase')]\r\n",
        "Entering processHierarchyLevel with clusterID 0 and topicIndex 2\r\n",
        "topWeightedWords =  [(0.046148580689870482, u'years'), (0.037117289824891549, u'children'), (0.031253107641957677, u'business'), (0.028269923237641697, u'old'), (0.026223414224043059, u'sells'), (0.024294174871868999, u'married'), (0.021456923074706136, u'customers'), (0.020708271627508653, u'school'), (0.019996853051791674, u'hopes'), (0.014780257101602728, u'purchase')]\r\n",
        "Entering processHierarchyLevel with clusterID 0 and topicIndex 2\r\n",
        "topWeightedWords =  [(0.046148580689870482, u'years'), (0.037117289824891549, u'children'), (0.031253107641957677, u'business'), (0.028269923237641697, u'old'), (0.026223414224043059, u'sells'), (0.024294174871868999, u'married'), (0.021456923074706136, u'customers'), (0.020708271627508653, u'school'), (0.019996853051791674, u'hopes'), (0.014780257101602728, u'purchase')]\r\n",
        "Entering processHierarchyLevel with clusterID 0 and topicIndex 2\r\n",
        "topWeightedWords =  [(0.046148580689870482, u'years'), (0.037117289824891549, u'children'), (0.031253107641957677, u'business'), (0.028269923237641697, u'old'), (0.026223414224043059, u'sells'), (0.024294174871868999, u'married'), (0.021456923074706136, u'customers'), (0.020708271627508653, u'school'), (0.019996853051791674, u'hopes'), (0.014780257101602728, u'purchase')]\r\n",
        "listsOfWeightedWordTupleLists =  [[(0.046148580689870482, u'years'), (0.037117289824891549, u'children'), (0.031253107641957677, u'business'), (0.028269923237641697, u'old'), (0.026223414224043059, u'sells'), (0.024294174871868999, u'married'), (0.021456923074706136, u'customers'), (0.020708271627508653, u'school'), (0.019996853051791674, u'hopes'), (0.014780257101602728, u'purchase')], [(0.046148580689870482, u'years'), (0.037117289824891549, u'children'), (0.031253107641957677, u'business'), (0.028269923237641697, u'old'), (0.026223414224043059, u'sells'), (0.024294174871868999, u'married'), (0.021456923074706136, u'customers'), (0.020708271627508653, u'school'), (0.019996853051791674, u'hopes'), (0.014780257101602728, u'purchase')], [(0.046148580689870482, u'years'), (0.037117289824891549, u'children'), (0.031253107641957677, u'business'), (0.028269923237641697, u'old'), (0.026223414224043059, u'sells'), (0.024294174871868999, u'married'), (0.021456923074706136, u'customers'), (0.020708271627508653, u'school'), (0.019996853051791674, u'hopes'), (0.014780257101602728, u'purchase')], [(0.046148580689870482, u'years'), (0.037117289824891549, u'children'), (0.031253107641957677, u'business'), (0.028269923237641697, u'old'), (0.026223414224043059, u'sells'), (0.024294174871868999, u'married'), (0.021456923074706136, u'customers'), (0.020708271627508653, u'school'), (0.019996853051791674, u'hopes'), (0.014780257101602728, u'purchase')]]\r\n",
        "\r\n",
        "Entering processHierarchyLevel with clusterID 1 and topicIndex 9\r\n",
        "Entering processHierarchyLevel with clusterID 0 and topicIndex 2\r\n",
        "topWeightedWords =  [(0.046148580689870482, u'years'), (0.037117289824891549, u'children'), (0.031253107641957677, u'business'), (0.028269923237641697, u'old'), (0.026223414224043059, u'sells'), (0.024294174871868999, u'married'), (0.021456923074706136, u'customers'), (0.020708271627508653, u'school'), (0.019996853051791674, u'hopes'), (0.014780257101602728, u'purchase')]\r\n",
        "Entering processHierarchyLevel with clusterID 0 and topicIndex 2\r\n",
        "topWeightedWords =  [(0.046148580689870482, u'years'), (0.037117289824891549, u'children'), (0.031253107641957677, u'business'), (0.028269923237641697, u'old'), (0.026223414224043059, u'sells'), (0.024294174871868999, u'married'), (0.021456923074706136, u'customers'), (0.020708271627508653, u'school'), (0.019996853051791674, u'hopes'), (0.014780257101602728, u'purchase')]\r\n",
        "Entering processHierarchyLevel with clusterID 0 and topicIndex 2\r\n",
        "topWeightedWords =  [(0.046148580689870482, u'years'), (0.037117289824891549, u'children'), (0.031253107641957677, u'business'), (0.028269923237641697, u'old'), (0.026223414224043059, u'sells'), (0.024294174871868999, u'married'), (0.021456923074706136, u'customers'), (0.020708271627508653, u'school'), (0.019996853051791674, u'hopes'), (0.014780257101602728, u'purchase')]\r\n",
        "Entering processHierarchyLevel with clusterID 0 and topicIndex 2\r\n",
        "topWeightedWords =  [(0.046148580689870482, u'years'), (0.037117289824891549, u'children'), (0.031253107641957677, u'business'), (0.028269923237641697, u'old'), (0.026223414224043059, u'sells'), (0.024294174871868999, u'married'), (0.021456923074706136, u'customers'), (0.020708271627508653, u'school'), (0.019996853051791674, u'hopes'), (0.014780257101602728, u'purchase')]\r\n",
        "listsOfWeightedWordTupleLists =  [[(0.046148580689870482, u'years'), (0.037117289824891549, u'children'), (0.031253107641957677, u'business'), (0.028269923237641697, u'old'), (0.026223414224043059, u'sells'), (0.024294174871868999, u'married'), (0.021456923074706136, u'customers'), (0.020708271627508653, u'school'), (0.019996853051791674, u'hopes'), (0.014780257101602728, u'purchase')], [(0.046148580689870482, u'years'), (0.037117289824891549, u'children'), (0.031253107641957677, u'business'), (0.028269923237641697, u'old'), (0.026223414224043059, u'sells'), (0.024294174871868999, u'married'), (0.021456923074706136, u'customers'), (0.020708271627508653, u'school'), (0.019996853051791674, u'hopes'), (0.014780257101602728, u'purchase')], [(0.046148580689870482, u'years'), (0.037117289824891549, u'children'), (0.031253107641957677, u'business'), (0.028269923237641697, u'old'), (0.026223414224043059, u'sells'), (0.024294174871868999, u'married'), (0.021456923074706136, u'customers'), (0.020708271627508653, u'school'), (0.019996853051791674, u'hopes'), (0.014780257101602728, u'purchase')], [(0.046148580689870482, u'years'), (0.037117289824891549, u'children'), (0.031253107641957677, u'business'), (0.028269923237641697, u'old'), (0.026223414224043059, u'sells'), (0.024294174871868999, u'married'), (0.021456923074706136, u'customers'), (0.020708271627508653, u'school'), (0.019996853051791674, u'hopes'), (0.014780257101602728, u'purchase')]]\r\n",
        "\r\n",
        "Entering processHierarchyLevel with clusterID 1 and topicIndex 9\r\n",
        "Entering processHierarchyLevel with clusterID 0 and topicIndex 2\r\n",
        "topWeightedWords =  [(0.046148580689870482, u'years'), (0.037117289824891549, u'children'), (0.031253107641957677, u'business'), (0.028269923237641697, u'old'), (0.026223414224043059, u'sells'), (0.024294174871868999, u'married'), (0.021456923074706136, u'customers'), (0.020708271627508653, u'school'), (0.019996853051791674, u'hopes'), (0.014780257101602728, u'purchase')]\r\n",
        "Entering processHierarchyLevel with clusterID 0 and topicIndex 2\r\n",
        "topWeightedWords =  [(0.046148580689870482, u'years'), (0.037117289824891549, u'children'), (0.031253107641957677, u'business'), (0.028269923237641697, u'old'), (0.026223414224043059, u'sells'), (0.024294174871868999, u'married'), (0.021456923074706136, u'customers'), (0.020708271627508653, u'school'), (0.019996853051791674, u'hopes'), (0.014780257101602728, u'purchase')]\r\n",
        "Entering processHierarchyLevel with clusterID 0 and topicIndex 2\r\n",
        "topWeightedWords =  [(0.046148580689870482, u'years'), (0.037117289824891549, u'children'), (0.031253107641957677, u'business'), (0.028269923237641697, u'old'), (0.026223414224043059, u'sells'), (0.024294174871868999, u'married'), (0.021456923074706136, u'customers'), (0.020708271627508653, u'school'), (0.019996853051791674, u'hopes'), (0.014780257101602728, u'purchase')]\r\n",
        "Entering processHierarchyLevel with clusterID 0 and topicIndex 2\r\n",
        "topWeightedWords =  [(0.046148580689870482, u'years'), (0.037117289824891549, u'children'), (0.031253107641957677, u'business'), (0.028269923237641697, u'old'), (0.026223414224043059, u'sells'), (0.024294174871868999, u'married'), (0.021456923074706136, u'customers'), (0.020708271627508653, u'school'), (0.019996853051791674, u'hopes'), (0.014780257101602728, u'purchase')]\r\n",
        "listsOfWeightedWordTupleLists =  [[(0.046148580689870482, u'years'), (0.037117289824891549, u'children'), (0.031253107641957677, u'business'), (0.028269923237641697, u'old'), (0.026223414224043059, u'sells'), (0.024294174871868999, u'married'), (0.021456923074706136, u'customers'), (0.020708271627508653, u'school'), (0.019996853051791674, u'hopes'), (0.014780257101602728, u'purchase')], [(0.046148580689870482, u'years'), (0.037117289824891549, u'children'), (0.031253107641957677, u'business'), (0.028269923237641697, u'old'), (0.026223414224043059, u'sells'), (0.024294174871868999, u'married'), (0.021456923074706136, u'customers'), (0.020708271627508653, u'school'), (0.019996853051791674, u'hopes'), (0.014780257101602728, u'purchase')], [(0.046148580689870482, u'years'), (0.037117289824891549, u'children'), (0.031253107641957677, u'business'), (0.028269923237641697, u'old'), (0.026223414224043059, u'sells'), (0.024294174871868999, u'married'), (0.021456923074706136, u'customers'), (0.020708271627508653, u'school'), (0.019996853051791674, u'hopes'), (0.014780257101602728, u'purchase')], [(0.046148580689870482, u'years'), (0.037117289824891549, u'children'), (0.031253107641957677, u'business'), (0.028269923237641697, u'old'), (0.026223414224043059, u'sells'), (0.024294174871868999, u'married'), (0.021456923074706136, u'customers'), (0.020708271627508653, u'school'), (0.019996853051791674, u'hopes'), (0.014780257101602728, u'purchase')]]\r\n",
        "\r\n",
        "Entering processHierarchyLevel with clusterID 1 and topicIndex 9\r\n",
        "Entering processHierarchyLevel with clusterID 0 and topicIndex 2\r\n",
        "topWeightedWords =  [(0.046148580689870482, u'years'), (0.037117289824891549, u'children'), (0.031253107641957677, u'business'), (0.028269923237641697, u'old'), (0.026223414224043059, u'sells'), (0.024294174871868999, u'married'), (0.021456923074706136, u'customers'), (0.020708271627508653, u'school'), (0.019996853051791674, u'hopes'), (0.014780257101602728, u'purchase')]\r\n",
        "Entering processHierarchyLevel with clusterID 0 and topicIndex 2\r\n",
        "topWeightedWords =  [(0.046148580689870482, u'years'), (0.037117289824891549, u'children'), (0.031253107641957677, u'business'), (0.028269923237641697, u'old'), (0.026223414224043059, u'sells'), (0.024294174871868999, u'married'), (0.021456923074706136, u'customers'), (0.020708271627508653, u'school'), (0.019996853051791674, u'hopes'), (0.014780257101602728, u'purchase')]\r\n",
        "Entering processHierarchyLevel with clusterID 0 and topicIndex 2\r\n",
        "topWeightedWords =  [(0.046148580689870482, u'years'), (0.037117289824891549, u'children'), (0.031253107641957677, u'business'), (0.028269923237641697, u'old'), (0.026223414224043059, u'sells'), (0.024294174871868999, u'married'), (0.021456923074706136, u'customers'), (0.020708271627508653, u'school'), (0.019996853051791674, u'hopes'), (0.014780257101602728, u'purchase')]\r\n",
        "Entering processHierarchyLevel with clusterID 0 and topicIndex 2\r\n",
        "topWeightedWords =  [(0.046148580689870482, u'years'), (0.037117289824891549, u'children'), (0.031253107641957677, u'business'), (0.028269923237641697, u'old'), (0.026223414224043059, u'sells'), (0.024294174871868999, u'married'), (0.021456923074706136, u'customers'), (0.020708271627508653, u'school'), (0.019996853051791674, u'hopes'), (0.014780257101602728, u'purchase')]\r\n",
        "listsOfWeightedWordTupleLists =  [[(0.046148580689870482, u'years'), (0.037117289824891549, u'children'), (0.031253107641957677, u'business'), (0.028269923237641697, u'old'), (0.026223414224043059, u'sells'), (0.024294174871868999, u'married'), (0.021456923074706136, u'customers'), (0.020708271627508653, u'school'), (0.019996853051791674, u'hopes'), (0.014780257101602728, u'purchase')], [(0.046148580689870482, u'years'), (0.037117289824891549, u'children'), (0.031253107641957677, u'business'), (0.028269923237641697, u'old'), (0.026223414224043059, u'sells'), (0.024294174871868999, u'married'), (0.021456923074706136, u'customers'), (0.020708271627508653, u'school'), (0.019996853051791674, u'hopes'), (0.014780257101602728, u'purchase')], [(0.046148580689870482, u'years'), (0.037117289824891549, u'children'), (0.031253107641957677, u'business'), (0.028269923237641697, u'old'), (0.026223414224043059, u'sells'), (0.024294174871868999, u'married'), (0.021456923074706136, u'customers'), (0.020708271627508653, u'school'), (0.019996853051791674, u'hopes'), (0.014780257101602728, u'purchase')], [(0.046148580689870482, u'years'), (0.037117289824891549, u'children'), (0.031253107641957677, u'business'), (0.028269923237641697, u'old'), (0.026223414224043059, u'sells'), (0.024294174871868999, u'married'), (0.021456923074706136, u'customers'), (0.020708271627508653, u'school'), (0.019996853051791674, u'hopes'), (0.014780257101602728, u'purchase')]]\r\n",
        "\r\n",
        "listsOfWeightedWordTupleLists =  [[(u'purchase', 0.059121028406410911), (u'hopes', 0.079987412207166694), (u'school', 0.082833086510034612), (u'customers', 0.085827692298824546), (u'married', 0.097176699487475995), (u'sells', 0.10489365689617224), (u'old', 0.11307969295056679), (u'business', 0.12501243056783071), (u'children', 0.14846915929956619), (u'years', 0.18459432275948193)], [(u'purchase', 0.059121028406410911), (u'hopes', 0.079987412207166694), (u'school', 0.082833086510034612), (u'customers', 0.085827692298824546), (u'married', 0.097176699487475995), (u'sells', 0.10489365689617224), (u'old', 0.11307969295056679), (u'business', 0.12501243056783071), (u'children', 0.14846915929956619), (u'years', 0.18459432275948193)], [(u'purchase', 0.059121028406410911), (u'hopes', 0.079987412207166694), (u'school', 0.082833086510034612), (u'customers', 0.085827692298824546), (u'married', 0.097176699487475995), (u'sells', 0.10489365689617224), (u'old', 0.11307969295056679), (u'business', 0.12501243056783071), (u'children', 0.14846915929956619), (u'years', 0.18459432275948193)], [(u'purchase', 0.059121028406410911), (u'hopes', 0.079987412207166694), (u'school', 0.082833086510034612), (u'customers', 0.085827692298824546), (u'married', 0.097176699487475995), (u'sells', 0.10489365689617224), (u'old', 0.11307969295056679), (u'business', 0.12501243056783071), (u'children', 0.14846915929956619), (u'years', 0.18459432275948193)]]\r\n",
        "\r\n",
        "Entering processHierarchyLevel with clusterID 2 and topicIndex 4\r\n",
        "Entering processHierarchyLevel with clusterID 1 and topicIndex 9\r\n",
        "Entering processHierarchyLevel with clusterID 0 and topicIndex 2\r\n",
        "topWeightedWords =  [(0.046148580689870482, u'years'), (0.037117289824891549, u'children'), (0.031253107641957677, u'business'), (0.028269923237641697, u'old'), (0.026223414224043059, u'sells'), (0.024294174871868999, u'married'), (0.021456923074706136, u'customers'), (0.020708271627508653, u'school'), (0.019996853051791674, u'hopes'), (0.014780257101602728, u'purchase')]\r\n",
        "Entering processHierarchyLevel with clusterID 0 and topicIndex 2\r\n",
        "topWeightedWords =  [(0.046148580689870482, u'years'), (0.037117289824891549, u'children'), (0.031253107641957677, u'business'), (0.028269923237641697, u'old'), (0.026223414224043059, u'sells'), (0.024294174871868999, u'married'), (0.021456923074706136, u'customers'), (0.020708271627508653, u'school'), (0.019996853051791674, u'hopes'), (0.014780257101602728, u'purchase')]\r\n",
        "Entering processHierarchyLevel with clusterID 0 and topicIndex 2\r\n",
        "topWeightedWords =  [(0.046148580689870482, u'years'), (0.037117289824891549, u'children'), (0.031253107641957677, u'business'), (0.028269923237641697, u'old'), (0.026223414224043059, u'sells'), (0.024294174871868999, u'married'), (0.021456923074706136, u'customers'), (0.020708271627508653, u'school'), (0.019996853051791674, u'hopes'), (0.014780257101602728, u'purchase')]\r\n",
        "Entering processHierarchyLevel with clusterID 0 and topicIndex 2\r\n",
        "topWeightedWords =  [(0.046148580689870482, u'years'), (0.037117289824891549, u'children'), (0.031253107641957677, u'business'), (0.028269923237641697, u'old'), (0.026223414224043059, u'sells'), (0.024294174871868999, u'married'), (0.021456923074706136, u'customers'), (0.020708271627508653, u'school'), (0.019996853051791674, u'hopes'), (0.014780257101602728, u'purchase')]\r\n",
        "listsOfWeightedWordTupleLists =  [[(0.046148580689870482, u'years'), (0.037117289824891549, u'children'), (0.031253107641957677, u'business'), (0.028269923237641697, u'old'), (0.026223414224043059, u'sells'), (0.024294174871868999, u'married'), (0.021456923074706136, u'customers'), (0.020708271627508653, u'school'), (0.019996853051791674, u'hopes'), (0.014780257101602728, u'purchase')], [(0.046148580689870482, u'years'), (0.037117289824891549, u'children'), (0.031253107641957677, u'business'), (0.028269923237641697, u'old'), (0.026223414224043059, u'sells'), (0.024294174871868999, u'married'), (0.021456923074706136, u'customers'), (0.020708271627508653, u'school'), (0.019996853051791674, u'hopes'), (0.014780257101602728, u'purchase')], [(0.046148580689870482, u'years'), (0.037117289824891549, u'children'), (0.031253107641957677, u'business'), (0.028269923237641697, u'old'), (0.026223414224043059, u'sells'), (0.024294174871868999, u'married'), (0.021456923074706136, u'customers'), (0.020708271627508653, u'school'), (0.019996853051791674, u'hopes'), (0.014780257101602728, u'purchase')], [(0.046148580689870482, u'years'), (0.037117289824891549, u'children'), (0.031253107641957677, u'business'), (0.028269923237641697, u'old'), (0.026223414224043059, u'sells'), (0.024294174871868999, u'married'), (0.021456923074706136, u'customers'), (0.020708271627508653, u'school'), (0.019996853051791674, u'hopes'), (0.014780257101602728, u'purchase')]]\r\n",
        "\r\n",
        "Entering processHierarchyLevel with clusterID 1 and topicIndex 9\r\n",
        "Entering processHierarchyLevel with clusterID 0 and topicIndex 2\r\n",
        "topWeightedWords =  [(0.046148580689870482, u'years'), (0.037117289824891549, u'children'), (0.031253107641957677, u'business'), (0.028269923237641697, u'old'), (0.026223414224043059, u'sells'), (0.024294174871868999, u'married'), (0.021456923074706136, u'customers'), (0.020708271627508653, u'school'), (0.019996853051791674, u'hopes'), (0.014780257101602728, u'purchase')]\r\n",
        "Entering processHierarchyLevel with clusterID 0 and topicIndex 2\r\n",
        "topWeightedWords =  [(0.046148580689870482, u'years'), (0.037117289824891549, u'children'), (0.031253107641957677, u'business'), (0.028269923237641697, u'old'), (0.026223414224043059, u'sells'), (0.024294174871868999, u'married'), (0.021456923074706136, u'customers'), (0.020708271627508653, u'school'), (0.019996853051791674, u'hopes'), (0.014780257101602728, u'purchase')]\r\n",
        "Entering processHierarchyLevel with clusterID 0 and topicIndex 2\r\n",
        "topWeightedWords =  [(0.046148580689870482, u'years'), (0.037117289824891549, u'children'), (0.031253107641957677, u'business'), (0.028269923237641697, u'old'), (0.026223414224043059, u'sells'), (0.024294174871868999, u'married'), (0.021456923074706136, u'customers'), (0.020708271627508653, u'school'), (0.019996853051791674, u'hopes'), (0.014780257101602728, u'purchase')]\r\n",
        "Entering processHierarchyLevel with clusterID 0 and topicIndex 2\r\n",
        "topWeightedWords =  [(0.046148580689870482, u'years'), (0.037117289824891549, u'children'), (0.031253107641957677, u'business'), (0.028269923237641697, u'old'), (0.026223414224043059, u'sells'), (0.024294174871868999, u'married'), (0.021456923074706136, u'customers'), (0.020708271627508653, u'school'), (0.019996853051791674, u'hopes'), (0.014780257101602728, u'purchase')]\r\n",
        "listsOfWeightedWordTupleLists =  [[(0.046148580689870482, u'years'), (0.037117289824891549, u'children'), (0.031253107641957677, u'business'), (0.028269923237641697, u'old'), (0.026223414224043059, u'sells'), (0.024294174871868999, u'married'), (0.021456923074706136, u'customers'), (0.020708271627508653, u'school'), (0.019996853051791674, u'hopes'), (0.014780257101602728, u'purchase')], [(0.046148580689870482, u'years'), (0.037117289824891549, u'children'), (0.031253107641957677, u'business'), (0.028269923237641697, u'old'), (0.026223414224043059, u'sells'), (0.024294174871868999, u'married'), (0.021456923074706136, u'customers'), (0.020708271627508653, u'school'), (0.019996853051791674, u'hopes'), (0.014780257101602728, u'purchase')], [(0.046148580689870482, u'years'), (0.037117289824891549, u'children'), (0.031253107641957677, u'business'), (0.028269923237641697, u'old'), (0.026223414224043059, u'sells'), (0.024294174871868999, u'married'), (0.021456923074706136, u'customers'), (0.020708271627508653, u'school'), (0.019996853051791674, u'hopes'), (0.014780257101602728, u'purchase')], [(0.046148580689870482, u'years'), (0.037117289824891549, u'children'), (0.031253107641957677, u'business'), (0.028269923237641697, u'old'), (0.026223414224043059, u'sells'), (0.024294174871868999, u'married'), (0.021456923074706136, u'customers'), (0.020708271627508653, u'school'), (0.019996853051791674, u'hopes'), (0.014780257101602728, u'purchase')]]\r\n",
        "\r\n",
        "Entering processHierarchyLevel with clusterID 1 and topicIndex 9\r\n",
        "Entering processHierarchyLevel with clusterID 0 and topicIndex 2\r\n",
        "topWeightedWords =  [(0.046148580689870482, u'years'), (0.037117289824891549, u'children'), (0.031253107641957677, u'business'), (0.028269923237641697, u'old'), (0.026223414224043059, u'sells'), (0.024294174871868999, u'married'), (0.021456923074706136, u'customers'), (0.020708271627508653, u'school'), (0.019996853051791674, u'hopes'), (0.014780257101602728, u'purchase')]\r\n",
        "Entering processHierarchyLevel with clusterID 0 and topicIndex 2\r\n",
        "topWeightedWords =  [(0.046148580689870482, u'years'), (0.037117289824891549, u'children'), (0.031253107641957677, u'business'), (0.028269923237641697, u'old'), (0.026223414224043059, u'sells'), (0.024294174871868999, u'married'), (0.021456923074706136, u'customers'), (0.020708271627508653, u'school'), (0.019996853051791674, u'hopes'), (0.014780257101602728, u'purchase')]\r\n",
        "Entering processHierarchyLevel with clusterID 0 and topicIndex 2\r\n",
        "topWeightedWords =  [(0.046148580689870482, u'years'), (0.037117289824891549, u'children'), (0.031253107641957677, u'business'), (0.028269923237641697, u'old'), (0.026223414224043059, u'sells'), (0.024294174871868999, u'married'), (0.021456923074706136, u'customers'), (0.020708271627508653, u'school'), (0.019996853051791674, u'hopes'), (0.014780257101602728, u'purchase')]\r\n",
        "Entering processHierarchyLevel with clusterID 0 and topicIndex 2\r\n",
        "topWeightedWords =  [(0.046148580689870482, u'years'), (0.037117289824891549, u'children'), (0.031253107641957677, u'business'), (0.028269923237641697, u'old'), (0.026223414224043059, u'sells'), (0.024294174871868999, u'married'), (0.021456923074706136, u'customers'), (0.020708271627508653, u'school'), (0.019996853051791674, u'hopes'), (0.014780257101602728, u'purchase')]\r\n",
        "listsOfWeightedWordTupleLists =  [[(0.046148580689870482, u'years'), (0.037117289824891549, u'children'), (0.031253107641957677, u'business'), (0.028269923237641697, u'old'), (0.026223414224043059, u'sells'), (0.024294174871868999, u'married'), (0.021456923074706136, u'customers'), (0.020708271627508653, u'school'), (0.019996853051791674, u'hopes'), (0.014780257101602728, u'purchase')], [(0.046148580689870482, u'years'), (0.037117289824891549, u'children'), (0.031253107641957677, u'business'), (0.028269923237641697, u'old'), (0.026223414224043059, u'sells'), (0.024294174871868999, u'married'), (0.021456923074706136, u'customers'), (0.020708271627508653, u'school'), (0.019996853051791674, u'hopes'), (0.014780257101602728, u'purchase')], [(0.046148580689870482, u'years'), (0.037117289824891549, u'children'), (0.031253107641957677, u'business'), (0.028269923237641697, u'old'), (0.026223414224043059, u'sells'), (0.024294174871868999, u'married'), (0.021456923074706136, u'customers'), (0.020708271627508653, u'school'), (0.019996853051791674, u'hopes'), (0.014780257101602728, u'purchase')], [(0.046148580689870482, u'years'), (0.037117289824891549, u'children'), (0.031253107641957677, u'business'), (0.028269923237641697, u'old'), (0.026223414224043059, u'sells'), (0.024294174871868999, u'married'), (0.021456923074706136, u'customers'), (0.020708271627508653, u'school'), (0.019996853051791674, u'hopes'), (0.014780257101602728, u'purchase')]]\r\n",
        "\r\n",
        "Entering processHierarchyLevel with clusterID 1 and topicIndex 9\r\n",
        "Entering processHierarchyLevel with clusterID 0 and topicIndex 2\r\n",
        "topWeightedWords =  [(0.046148580689870482, u'years'), (0.037117289824891549, u'children'), (0.031253107641957677, u'business'), (0.028269923237641697, u'old'), (0.026223414224043059, u'sells'), (0.024294174871868999, u'married'), (0.021456923074706136, u'customers'), (0.020708271627508653, u'school'), (0.019996853051791674, u'hopes'), (0.014780257101602728, u'purchase')]\r\n",
        "Entering processHierarchyLevel with clusterID 0 and topicIndex 2\r\n",
        "topWeightedWords =  [(0.046148580689870482, u'years'), (0.037117289824891549, u'children'), (0.031253107641957677, u'business'), (0.028269923237641697, u'old'), (0.026223414224043059, u'sells'), (0.024294174871868999, u'married'), (0.021456923074706136, u'customers'), (0.020708271627508653, u'school'), (0.019996853051791674, u'hopes'), (0.014780257101602728, u'purchase')]\r\n",
        "Entering processHierarchyLevel with clusterID 0 and topicIndex 2\r\n",
        "topWeightedWords =  [(0.046148580689870482, u'years'), (0.037117289824891549, u'children'), (0.031253107641957677, u'business'), (0.028269923237641697, u'old'), (0.026223414224043059, u'sells'), (0.024294174871868999, u'married'), (0.021456923074706136, u'customers'), (0.020708271627508653, u'school'), (0.019996853051791674, u'hopes'), (0.014780257101602728, u'purchase')]\r\n",
        "Entering processHierarchyLevel with clusterID 0 and topicIndex 2\r\n",
        "topWeightedWords =  [(0.046148580689870482, u'years'), (0.037117289824891549, u'children'), (0.031253107641957677, u'business'), (0.028269923237641697, u'old'), (0.026223414224043059, u'sells'), (0.024294174871868999, u'married'), (0.021456923074706136, u'customers'), (0.020708271627508653, u'school'), (0.019996853051791674, u'hopes'), (0.014780257101602728, u'purchase')]\r\n",
        "listsOfWeightedWordTupleLists =  [[(0.046148580689870482, u'years'), (0.037117289824891549, u'children'), (0.031253107641957677, u'business'), (0.028269923237641697, u'old'), (0.026223414224043059, u'sells'), (0.024294174871868999, u'married'), (0.021456923074706136, u'customers'), (0.020708271627508653, u'school'), (0.019996853051791674, u'hopes'), (0.014780257101602728, u'purchase')], [(0.046148580689870482, u'years'), (0.037117289824891549, u'children'), (0.031253107641957677, u'business'), (0.028269923237641697, u'old'), (0.026223414224043059, u'sells'), (0.024294174871868999, u'married'), (0.021456923074706136, u'customers'), (0.020708271627508653, u'school'), (0.019996853051791674, u'hopes'), (0.014780257101602728, u'purchase')], [(0.046148580689870482, u'years'), (0.037117289824891549, u'children'), (0.031253107641957677, u'business'), (0.028269923237641697, u'old'), (0.026223414224043059, u'sells'), (0.024294174871868999, u'married'), (0.021456923074706136, u'customers'), (0.020708271627508653, u'school'), (0.019996853051791674, u'hopes'), (0.014780257101602728, u'purchase')], [(0.046148580689870482, u'years'), (0.037117289824891549, u'children'), (0.031253107641957677, u'business'), (0.028269923237641697, u'old'), (0.026223414224043059, u'sells'), (0.024294174871868999, u'married'), (0.021456923074706136, u'customers'), (0.020708271627508653, u'school'), (0.019996853051791674, u'hopes'), (0.014780257101602728, u'purchase')]]\r\n",
        "\r\n",
        "listsOfWeightedWordTupleLists =  [[(u'purchase', 0.059121028406410911), (u'hopes', 0.079987412207166694), (u'school', 0.082833086510034612), (u'customers', 0.085827692298824546), (u'married', 0.097176699487475995), (u'sells', 0.10489365689617224), (u'old', 0.11307969295056679), (u'business', 0.12501243056783071), (u'children', 0.14846915929956619), (u'years', 0.18459432275948193)], [(u'purchase', 0.059121028406410911), (u'hopes', 0.079987412207166694), (u'school', 0.082833086510034612), (u'customers', 0.085827692298824546), (u'married', 0.097176699487475995), (u'sells', 0.10489365689617224), (u'old', 0.11307969295056679), (u'business', 0.12501243056783071), (u'children', 0.14846915929956619), (u'years', 0.18459432275948193)], [(u'purchase', 0.059121028406410911), (u'hopes', 0.079987412207166694), (u'school', 0.082833086510034612), (u'customers', 0.085827692298824546), (u'married', 0.097176699487475995), (u'sells', 0.10489365689617224), (u'old', 0.11307969295056679), (u'business', 0.12501243056783071), (u'children', 0.14846915929956619), (u'years', 0.18459432275948193)], [(u'purchase', 0.059121028406410911), (u'hopes', 0.079987412207166694), (u'school', 0.082833086510034612), (u'customers', 0.085827692298824546), (u'married', 0.097176699487475995), (u'sells', 0.10489365689617224), (u'old', 0.11307969295056679), (u'business', 0.12501243056783071), (u'children', 0.14846915929956619), (u'years', 0.18459432275948193)]]\r\n",
        "\r\n",
        "Entering processHierarchyLevel with clusterID 2 and topicIndex 4\r\n",
        "Entering processHierarchyLevel with clusterID 1 and topicIndex 9\r\n",
        "Entering processHierarchyLevel with clusterID 0 and topicIndex 2\r\n",
        "topWeightedWords =  [(0.046148580689870482, u'years'), (0.037117289824891549, u'children'), (0.031253107641957677, u'business'), (0.028269923237641697, u'old'), (0.026223414224043059, u'sells'), (0.024294174871868999, u'married'), (0.021456923074706136, u'customers'), (0.020708271627508653, u'school'), (0.019996853051791674, u'hopes'), (0.014780257101602728, u'purchase')]\r\n",
        "Entering processHierarchyLevel with clusterID 0 and topicIndex 2\r\n",
        "topWeightedWords =  [(0.046148580689870482, u'years'), (0.037117289824891549, u'children'), (0.031253107641957677, u'business'), (0.028269923237641697, u'old'), (0.026223414224043059, u'sells'), (0.024294174871868999, u'married'), (0.021456923074706136, u'customers'), (0.020708271627508653, u'school'), (0.019996853051791674, u'hopes'), (0.014780257101602728, u'purchase')]\r\n",
        "Entering processHierarchyLevel with clusterID 0 and topicIndex 2\r\n",
        "topWeightedWords =  [(0.046148580689870482, u'years'), (0.037117289824891549, u'children'), (0.031253107641957677, u'business'), (0.028269923237641697, u'old'), (0.026223414224043059, u'sells'), (0.024294174871868999, u'married'), (0.021456923074706136, u'customers'), (0.020708271627508653, u'school'), (0.019996853051791674, u'hopes'), (0.014780257101602728, u'purchase')]\r\n",
        "Entering processHierarchyLevel with clusterID 0 and topicIndex 2\r\n",
        "topWeightedWords =  [(0.046148580689870482, u'years'), (0.037117289824891549, u'children'), (0.031253107641957677, u'business'), (0.028269923237641697, u'old'), (0.026223414224043059, u'sells'), (0.024294174871868999, u'married'), (0.021456923074706136, u'customers'), (0.020708271627508653, u'school'), (0.019996853051791674, u'hopes'), (0.014780257101602728, u'purchase')]\r\n",
        "listsOfWeightedWordTupleLists =  [[(0.046148580689870482, u'years'), (0.037117289824891549, u'children'), (0.031253107641957677, u'business'), (0.028269923237641697, u'old'), (0.026223414224043059, u'sells'), (0.024294174871868999, u'married'), (0.021456923074706136, u'customers'), (0.020708271627508653, u'school'), (0.019996853051791674, u'hopes'), (0.014780257101602728, u'purchase')], [(0.046148580689870482, u'years'), (0.037117289824891549, u'children'), (0.031253107641957677, u'business'), (0.028269923237641697, u'old'), (0.026223414224043059, u'sells'), (0.024294174871868999, u'married'), (0.021456923074706136, u'customers'), (0.020708271627508653, u'school'), (0.019996853051791674, u'hopes'), (0.014780257101602728, u'purchase')], [(0.046148580689870482, u'years'), (0.037117289824891549, u'children'), (0.031253107641957677, u'business'), (0.028269923237641697, u'old'), (0.026223414224043059, u'sells'), (0.024294174871868999, u'married'), (0.021456923074706136, u'customers'), (0.020708271627508653, u'school'), (0.019996853051791674, u'hopes'), (0.014780257101602728, u'purchase')], [(0.046148580689870482, u'years'), (0.037117289824891549, u'children'), (0.031253107641957677, u'business'), (0.028269923237641697, u'old'), (0.026223414224043059, u'sells'), (0.024294174871868999, u'married'), (0.021456923074706136, u'customers'), (0.020708271627508653, u'school'), (0.019996853051791674, u'hopes'), (0.014780257101602728, u'purchase')]]\r\n",
        "\r\n",
        "Entering processHierarchyLevel with clusterID 1 and topicIndex 9\r\n",
        "Entering processHierarchyLevel with clusterID 0 and topicIndex 2\r\n",
        "topWeightedWords =  [(0.046148580689870482, u'years'), (0.037117289824891549, u'children'), (0.031253107641957677, u'business'), (0.028269923237641697, u'old'), (0.026223414224043059, u'sells'), (0.024294174871868999, u'married'), (0.021456923074706136, u'customers'), (0.020708271627508653, u'school'), (0.019996853051791674, u'hopes'), (0.014780257101602728, u'purchase')]\r\n",
        "Entering processHierarchyLevel with clusterID 0 and topicIndex 2\r\n",
        "topWeightedWords =  [(0.046148580689870482, u'years'), (0.037117289824891549, u'children'), (0.031253107641957677, u'business'), (0.028269923237641697, u'old'), (0.026223414224043059, u'sells'), (0.024294174871868999, u'married'), (0.021456923074706136, u'customers'), (0.020708271627508653, u'school'), (0.019996853051791674, u'hopes'), (0.014780257101602728, u'purchase')]\r\n",
        "Entering processHierarchyLevel with clusterID 0 and topicIndex 2\r\n",
        "topWeightedWords =  [(0.046148580689870482, u'years'), (0.037117289824891549, u'children'), (0.031253107641957677, u'business'), (0.028269923237641697, u'old'), (0.026223414224043059, u'sells'), (0.024294174871868999, u'married'), (0.021456923074706136, u'customers'), (0.020708271627508653, u'school'), (0.019996853051791674, u'hopes'), (0.014780257101602728, u'purchase')]\r\n",
        "Entering processHierarchyLevel with clusterID 0 and topicIndex 2\r\n",
        "topWeightedWords =  [(0.046148580689870482, u'years'), (0.037117289824891549, u'children'), (0.031253107641957677, u'business'), (0.028269923237641697, u'old'), (0.026223414224043059, u'sells'), (0.024294174871868999, u'married'), (0.021456923074706136, u'customers'), (0.020708271627508653, u'school'), (0.019996853051791674, u'hopes'), (0.014780257101602728, u'purchase')]\r\n",
        "listsOfWeightedWordTupleLists =  [[(0.046148580689870482, u'years'), (0.037117289824891549, u'children'), (0.031253107641957677, u'business'), (0.028269923237641697, u'old'), (0.026223414224043059, u'sells'), (0.024294174871868999, u'married'), (0.021456923074706136, u'customers'), (0.020708271627508653, u'school'), (0.019996853051791674, u'hopes'), (0.014780257101602728, u'purchase')], [(0.046148580689870482, u'years'), (0.037117289824891549, u'children'), (0.031253107641957677, u'business'), (0.028269923237641697, u'old'), (0.026223414224043059, u'sells'), (0.024294174871868999, u'married'), (0.021456923074706136, u'customers'), (0.020708271627508653, u'school'), (0.019996853051791674, u'hopes'), (0.014780257101602728, u'purchase')], [(0.046148580689870482, u'years'), (0.037117289824891549, u'children'), (0.031253107641957677, u'business'), (0.028269923237641697, u'old'), (0.026223414224043059, u'sells'), (0.024294174871868999, u'married'), (0.021456923074706136, u'customers'), (0.020708271627508653, u'school'), (0.019996853051791674, u'hopes'), (0.014780257101602728, u'purchase')], [(0.046148580689870482, u'years'), (0.037117289824891549, u'children'), (0.031253107641957677, u'business'), (0.028269923237641697, u'old'), (0.026223414224043059, u'sells'), (0.024294174871868999, u'married'), (0.021456923074706136, u'customers'), (0.020708271627508653, u'school'), (0.019996853051791674, u'hopes'), (0.014780257101602728, u'purchase')]]\r\n",
        "\r\n",
        "Entering processHierarchyLevel with clusterID 1 and topicIndex 9\r\n",
        "Entering processHierarchyLevel with clusterID 0 and topicIndex 2\r\n",
        "topWeightedWords =  [(0.046148580689870482, u'years'), (0.037117289824891549, u'children'), (0.031253107641957677, u'business'), (0.028269923237641697, u'old'), (0.026223414224043059, u'sells'), (0.024294174871868999, u'married'), (0.021456923074706136, u'customers'), (0.020708271627508653, u'school'), (0.019996853051791674, u'hopes'), (0.014780257101602728, u'purchase')]\r\n",
        "Entering processHierarchyLevel with clusterID 0 and topicIndex 2\r\n",
        "topWeightedWords =  [(0.046148580689870482, u'years'), (0.037117289824891549, u'children'), (0.031253107641957677, u'business'), (0.028269923237641697, u'old'), (0.026223414224043059, u'sells'), (0.024294174871868999, u'married'), (0.021456923074706136, u'customers'), (0.020708271627508653, u'school'), (0.019996853051791674, u'hopes'), (0.014780257101602728, u'purchase')]\r\n",
        "Entering processHierarchyLevel with clusterID 0 and topicIndex 2\r\n",
        "topWeightedWords =  [(0.046148580689870482, u'years'), (0.037117289824891549, u'children'), (0.031253107641957677, u'business'), (0.028269923237641697, u'old'), (0.026223414224043059, u'sells'), (0.024294174871868999, u'married'), (0.021456923074706136, u'customers'), (0.020708271627508653, u'school'), (0.019996853051791674, u'hopes'), (0.014780257101602728, u'purchase')]\r\n",
        "Entering processHierarchyLevel with clusterID 0 and topicIndex 2\r\n",
        "topWeightedWords =  [(0.046148580689870482, u'years'), (0.037117289824891549, u'children'), (0.031253107641957677, u'business'), (0.028269923237641697, u'old'), (0.026223414224043059, u'sells'), (0.024294174871868999, u'married'), (0.021456923074706136, u'customers'), (0.020708271627508653, u'school'), (0.019996853051791674, u'hopes'), (0.014780257101602728, u'purchase')]\r\n",
        "listsOfWeightedWordTupleLists =  [[(0.046148580689870482, u'years'), (0.037117289824891549, u'children'), (0.031253107641957677, u'business'), (0.028269923237641697, u'old'), (0.026223414224043059, u'sells'), (0.024294174871868999, u'married'), (0.021456923074706136, u'customers'), (0.020708271627508653, u'school'), (0.019996853051791674, u'hopes'), (0.014780257101602728, u'purchase')], [(0.046148580689870482, u'years'), (0.037117289824891549, u'children'), (0.031253107641957677, u'business'), (0.028269923237641697, u'old'), (0.026223414224043059, u'sells'), (0.024294174871868999, u'married'), (0.021456923074706136, u'customers'), (0.020708271627508653, u'school'), (0.019996853051791674, u'hopes'), (0.014780257101602728, u'purchase')], [(0.046148580689870482, u'years'), (0.037117289824891549, u'children'), (0.031253107641957677, u'business'), (0.028269923237641697, u'old'), (0.026223414224043059, u'sells'), (0.024294174871868999, u'married'), (0.021456923074706136, u'customers'), (0.020708271627508653, u'school'), (0.019996853051791674, u'hopes'), (0.014780257101602728, u'purchase')], [(0.046148580689870482, u'years'), (0.037117289824891549, u'children'), (0.031253107641957677, u'business'), (0.028269923237641697, u'old'), (0.026223414224043059, u'sells'), (0.024294174871868999, u'married'), (0.021456923074706136, u'customers'), (0.020708271627508653, u'school'), (0.019996853051791674, u'hopes'), (0.014780257101602728, u'purchase')]]\r\n",
        "\r\n",
        "Entering processHierarchyLevel with clusterID 1 and topicIndex 9\r\n",
        "Entering processHierarchyLevel with clusterID 0 and topicIndex 2\r\n",
        "topWeightedWords =  [(0.046148580689870482, u'years'), (0.037117289824891549, u'children'), (0.031253107641957677, u'business'), (0.028269923237641697, u'old'), (0.026223414224043059, u'sells'), (0.024294174871868999, u'married'), (0.021456923074706136, u'customers'), (0.020708271627508653, u'school'), (0.019996853051791674, u'hopes'), (0.014780257101602728, u'purchase')]\r\n",
        "Entering processHierarchyLevel with clusterID 0 and topicIndex 2\r\n",
        "topWeightedWords =  [(0.046148580689870482, u'years'), (0.037117289824891549, u'children'), (0.031253107641957677, u'business'), (0.028269923237641697, u'old'), (0.026223414224043059, u'sells'), (0.024294174871868999, u'married'), (0.021456923074706136, u'customers'), (0.020708271627508653, u'school'), (0.019996853051791674, u'hopes'), (0.014780257101602728, u'purchase')]\r\n",
        "Entering processHierarchyLevel with clusterID 0 and topicIndex 2\r\n",
        "topWeightedWords =  [(0.046148580689870482, u'years'), (0.037117289824891549, u'children'), (0.031253107641957677, u'business'), (0.028269923237641697, u'old'), (0.026223414224043059, u'sells'), (0.024294174871868999, u'married'), (0.021456923074706136, u'customers'), (0.020708271627508653, u'school'), (0.019996853051791674, u'hopes'), (0.014780257101602728, u'purchase')]\r\n",
        "Entering processHierarchyLevel with clusterID 0 and topicIndex 2\r\n",
        "topWeightedWords =  [(0.046148580689870482, u'years'), (0.037117289824891549, u'children'), (0.031253107641957677, u'business'), (0.028269923237641697, u'old'), (0.026223414224043059, u'sells'), (0.024294174871868999, u'married'), (0.021456923074706136, u'customers'), (0.020708271627508653, u'school'), (0.019996853051791674, u'hopes'), (0.014780257101602728, u'purchase')]\r\n",
        "listsOfWeightedWordTupleLists =  [[(0.046148580689870482, u'years'), (0.037117289824891549, u'children'), (0.031253107641957677, u'business'), (0.028269923237641697, u'old'), (0.026223414224043059, u'sells'), (0.024294174871868999, u'married'), (0.021456923074706136, u'customers'), (0.020708271627508653, u'school'), (0.019996853051791674, u'hopes'), (0.014780257101602728, u'purchase')], [(0.046148580689870482, u'years'), (0.037117289824891549, u'children'), (0.031253107641957677, u'business'), (0.028269923237641697, u'old'), (0.026223414224043059, u'sells'), (0.024294174871868999, u'married'), (0.021456923074706136, u'customers'), (0.020708271627508653, u'school'), (0.019996853051791674, u'hopes'), (0.014780257101602728, u'purchase')], [(0.046148580689870482, u'years'), (0.037117289824891549, u'children'), (0.031253107641957677, u'business'), (0.028269923237641697, u'old'), (0.026223414224043059, u'sells'), (0.024294174871868999, u'married'), (0.021456923074706136, u'customers'), (0.020708271627508653, u'school'), (0.019996853051791674, u'hopes'), (0.014780257101602728, u'purchase')], [(0.046148580689870482, u'years'), (0.037117289824891549, u'children'), (0.031253107641957677, u'business'), (0.028269923237641697, u'old'), (0.026223414224043059, u'sells'), (0.024294174871868999, u'married'), (0.021456923074706136, u'customers'), (0.020708271627508653, u'school'), (0.019996853051791674, u'hopes'), (0.014780257101602728, u'purchase')]]\r\n",
        "\r\n",
        "listsOfWeightedWordTupleLists =  [[(u'purchase', 0.059121028406410911), (u'hopes', 0.079987412207166694), (u'school', 0.082833086510034612), (u'customers', 0.085827692298824546), (u'married', 0.097176699487475995), (u'sells', 0.10489365689617224), (u'old', 0.11307969295056679), (u'business', 0.12501243056783071), (u'children', 0.14846915929956619), (u'years', 0.18459432275948193)], [(u'purchase', 0.059121028406410911), (u'hopes', 0.079987412207166694), (u'school', 0.082833086510034612), (u'customers', 0.085827692298824546), (u'married', 0.097176699487475995), (u'sells', 0.10489365689617224), (u'old', 0.11307969295056679), (u'business', 0.12501243056783071), (u'children', 0.14846915929956619), (u'years', 0.18459432275948193)], [(u'purchase', 0.059121028406410911), (u'hopes', 0.079987412207166694), (u'school', 0.082833086510034612), (u'customers', 0.085827692298824546), (u'married', 0.097176699487475995), (u'sells', 0.10489365689617224), (u'old', 0.11307969295056679), (u'business', 0.12501243056783071), (u'children', 0.14846915929956619), (u'years', 0.18459432275948193)], [(u'purchase', 0.059121028406410911), (u'hopes', 0.079987412207166694), (u'school', 0.082833086510034612), (u'customers', 0.085827692298824546), (u'married', 0.097176699487475995), (u'sells', 0.10489365689617224), (u'old', 0.11307969295056679), (u'business', 0.12501243056783071), (u'children', 0.14846915929956619), (u'years', 0.18459432275948193)]]\r\n",
        "\r\n",
        "Entering processHierarchyLevel with clusterID 2 and topicIndex 4\r\n",
        "Entering processHierarchyLevel with clusterID 1 and topicIndex 9\r\n",
        "Entering processHierarchyLevel with clusterID 0 and topicIndex 2\r\n",
        "topWeightedWords =  [(0.046148580689870482, u'years'), (0.037117289824891549, u'children'), (0.031253107641957677, u'business'), (0.028269923237641697, u'old'), (0.026223414224043059, u'sells'), (0.024294174871868999, u'married'), (0.021456923074706136, u'customers'), (0.020708271627508653, u'school'), (0.019996853051791674, u'hopes'), (0.014780257101602728, u'purchase')]\r\n",
        "Entering processHierarchyLevel with clusterID 0 and topicIndex 2\r\n",
        "topWeightedWords =  [(0.046148580689870482, u'years'), (0.037117289824891549, u'children'), (0.031253107641957677, u'business'), (0.028269923237641697, u'old'), (0.026223414224043059, u'sells'), (0.024294174871868999, u'married'), (0.021456923074706136, u'customers'), (0.020708271627508653, u'school'), (0.019996853051791674, u'hopes'), (0.014780257101602728, u'purchase')]\r\n",
        "Entering processHierarchyLevel with clusterID 0 and topicIndex 2\r\n",
        "topWeightedWords =  [(0.046148580689870482, u'years'), (0.037117289824891549, u'children'), (0.031253107641957677, u'business'), (0.028269923237641697, u'old'), (0.026223414224043059, u'sells'), (0.024294174871868999, u'married'), (0.021456923074706136, u'customers'), (0.020708271627508653, u'school'), (0.019996853051791674, u'hopes'), (0.014780257101602728, u'purchase')]\r\n",
        "Entering processHierarchyLevel with clusterID 0 and topicIndex 2\r\n",
        "topWeightedWords =  [(0.046148580689870482, u'years'), (0.037117289824891549, u'children'), (0.031253107641957677, u'business'), (0.028269923237641697, u'old'), (0.026223414224043059, u'sells'), (0.024294174871868999, u'married'), (0.021456923074706136, u'customers'), (0.020708271627508653, u'school'), (0.019996853051791674, u'hopes'), (0.014780257101602728, u'purchase')]\r\n",
        "listsOfWeightedWordTupleLists =  [[(0.046148580689870482, u'years'), (0.037117289824891549, u'children'), (0.031253107641957677, u'business'), (0.028269923237641697, u'old'), (0.026223414224043059, u'sells'), (0.024294174871868999, u'married'), (0.021456923074706136, u'customers'), (0.020708271627508653, u'school'), (0.019996853051791674, u'hopes'), (0.014780257101602728, u'purchase')], [(0.046148580689870482, u'years'), (0.037117289824891549, u'children'), (0.031253107641957677, u'business'), (0.028269923237641697, u'old'), (0.026223414224043059, u'sells'), (0.024294174871868999, u'married'), (0.021456923074706136, u'customers'), (0.020708271627508653, u'school'), (0.019996853051791674, u'hopes'), (0.014780257101602728, u'purchase')], [(0.046148580689870482, u'years'), (0.037117289824891549, u'children'), (0.031253107641957677, u'business'), (0.028269923237641697, u'old'), (0.026223414224043059, u'sells'), (0.024294174871868999, u'married'), (0.021456923074706136, u'customers'), (0.020708271627508653, u'school'), (0.019996853051791674, u'hopes'), (0.014780257101602728, u'purchase')], [(0.046148580689870482, u'years'), (0.037117289824891549, u'children'), (0.031253107641957677, u'business'), (0.028269923237641697, u'old'), (0.026223414224043059, u'sells'), (0.024294174871868999, u'married'), (0.021456923074706136, u'customers'), (0.020708271627508653, u'school'), (0.019996853051791674, u'hopes'), (0.014780257101602728, u'purchase')]]\r\n",
        "\r\n",
        "Entering processHierarchyLevel with clusterID 1 and topicIndex 9\r\n",
        "Entering processHierarchyLevel with clusterID 0 and topicIndex 2\r\n",
        "topWeightedWords =  [(0.046148580689870482, u'years'), (0.037117289824891549, u'children'), (0.031253107641957677, u'business'), (0.028269923237641697, u'old'), (0.026223414224043059, u'sells'), (0.024294174871868999, u'married'), (0.021456923074706136, u'customers'), (0.020708271627508653, u'school'), (0.019996853051791674, u'hopes'), (0.014780257101602728, u'purchase')]\r\n",
        "Entering processHierarchyLevel with clusterID 0 and topicIndex 2\r\n",
        "topWeightedWords =  [(0.046148580689870482, u'years'), (0.037117289824891549, u'children'), (0.031253107641957677, u'business'), (0.028269923237641697, u'old'), (0.026223414224043059, u'sells'), (0.024294174871868999, u'married'), (0.021456923074706136, u'customers'), (0.020708271627508653, u'school'), (0.019996853051791674, u'hopes'), (0.014780257101602728, u'purchase')]\r\n",
        "Entering processHierarchyLevel with clusterID 0 and topicIndex 2\r\n",
        "topWeightedWords =  [(0.046148580689870482, u'years'), (0.037117289824891549, u'children'), (0.031253107641957677, u'business'), (0.028269923237641697, u'old'), (0.026223414224043059, u'sells'), (0.024294174871868999, u'married'), (0.021456923074706136, u'customers'), (0.020708271627508653, u'school'), (0.019996853051791674, u'hopes'), (0.014780257101602728, u'purchase')]\r\n",
        "Entering processHierarchyLevel with clusterID 0 and topicIndex 2\r\n",
        "topWeightedWords =  [(0.046148580689870482, u'years'), (0.037117289824891549, u'children'), (0.031253107641957677, u'business'), (0.028269923237641697, u'old'), (0.026223414224043059, u'sells'), (0.024294174871868999, u'married'), (0.021456923074706136, u'customers'), (0.020708271627508653, u'school'), (0.019996853051791674, u'hopes'), (0.014780257101602728, u'purchase')]\r\n",
        "listsOfWeightedWordTupleLists =  [[(0.046148580689870482, u'years'), (0.037117289824891549, u'children'), (0.031253107641957677, u'business'), (0.028269923237641697, u'old'), (0.026223414224043059, u'sells'), (0.024294174871868999, u'married'), (0.021456923074706136, u'customers'), (0.020708271627508653, u'school'), (0.019996853051791674, u'hopes'), (0.014780257101602728, u'purchase')], [(0.046148580689870482, u'years'), (0.037117289824891549, u'children'), (0.031253107641957677, u'business'), (0.028269923237641697, u'old'), (0.026223414224043059, u'sells'), (0.024294174871868999, u'married'), (0.021456923074706136, u'customers'), (0.020708271627508653, u'school'), (0.019996853051791674, u'hopes'), (0.014780257101602728, u'purchase')], [(0.046148580689870482, u'years'), (0.037117289824891549, u'children'), (0.031253107641957677, u'business'), (0.028269923237641697, u'old'), (0.026223414224043059, u'sells'), (0.024294174871868999, u'married'), (0.021456923074706136, u'customers'), (0.020708271627508653, u'school'), (0.019996853051791674, u'hopes'), (0.014780257101602728, u'purchase')], [(0.046148580689870482, u'years'), (0.037117289824891549, u'children'), (0.031253107641957677, u'business'), (0.028269923237641697, u'old'), (0.026223414224043059, u'sells'), (0.024294174871868999, u'married'), (0.021456923074706136, u'customers'), (0.020708271627508653, u'school'), (0.019996853051791674, u'hopes'), (0.014780257101602728, u'purchase')]]\r\n",
        "\r\n",
        "Entering processHierarchyLevel with clusterID 1 and topicIndex 9\r\n",
        "Entering processHierarchyLevel with clusterID 0 and topicIndex 2\r\n",
        "topWeightedWords =  [(0.046148580689870482, u'years'), (0.037117289824891549, u'children'), (0.031253107641957677, u'business'), (0.028269923237641697, u'old'), (0.026223414224043059, u'sells'), (0.024294174871868999, u'married'), (0.021456923074706136, u'customers'), (0.020708271627508653, u'school'), (0.019996853051791674, u'hopes'), (0.014780257101602728, u'purchase')]\r\n",
        "Entering processHierarchyLevel with clusterID 0 and topicIndex 2\r\n",
        "topWeightedWords =  [(0.046148580689870482, u'years'), (0.037117289824891549, u'children'), (0.031253107641957677, u'business'), (0.028269923237641697, u'old'), (0.026223414224043059, u'sells'), (0.024294174871868999, u'married'), (0.021456923074706136, u'customers'), (0.020708271627508653, u'school'), (0.019996853051791674, u'hopes'), (0.014780257101602728, u'purchase')]\r\n",
        "Entering processHierarchyLevel with clusterID 0 and topicIndex 2\r\n",
        "topWeightedWords =  [(0.046148580689870482, u'years'), (0.037117289824891549, u'children'), (0.031253107641957677, u'business'), (0.028269923237641697, u'old'), (0.026223414224043059, u'sells'), (0.024294174871868999, u'married'), (0.021456923074706136, u'customers'), (0.020708271627508653, u'school'), (0.019996853051791674, u'hopes'), (0.014780257101602728, u'purchase')]\r\n",
        "Entering processHierarchyLevel with clusterID 0 and topicIndex 2\r\n",
        "topWeightedWords =  [(0.046148580689870482, u'years'), (0.037117289824891549, u'children'), (0.031253107641957677, u'business'), (0.028269923237641697, u'old'), (0.026223414224043059, u'sells'), (0.024294174871868999, u'married'), (0.021456923074706136, u'customers'), (0.020708271627508653, u'school'), (0.019996853051791674, u'hopes'), (0.014780257101602728, u'purchase')]\r\n",
        "listsOfWeightedWordTupleLists =  [[(0.046148580689870482, u'years'), (0.037117289824891549, u'children'), (0.031253107641957677, u'business'), (0.028269923237641697, u'old'), (0.026223414224043059, u'sells'), (0.024294174871868999, u'married'), (0.021456923074706136, u'customers'), (0.020708271627508653, u'school'), (0.019996853051791674, u'hopes'), (0.014780257101602728, u'purchase')], [(0.046148580689870482, u'years'), (0.037117289824891549, u'children'), (0.031253107641957677, u'business'), (0.028269923237641697, u'old'), (0.026223414224043059, u'sells'), (0.024294174871868999, u'married'), (0.021456923074706136, u'customers'), (0.020708271627508653, u'school'), (0.019996853051791674, u'hopes'), (0.014780257101602728, u'purchase')], [(0.046148580689870482, u'years'), (0.037117289824891549, u'children'), (0.031253107641957677, u'business'), (0.028269923237641697, u'old'), (0.026223414224043059, u'sells'), (0.024294174871868999, u'married'), (0.021456923074706136, u'customers'), (0.020708271627508653, u'school'), (0.019996853051791674, u'hopes'), (0.014780257101602728, u'purchase')], [(0.046148580689870482, u'years'), (0.037117289824891549, u'children'), (0.031253107641957677, u'business'), (0.028269923237641697, u'old'), (0.026223414224043059, u'sells'), (0.024294174871868999, u'married'), (0.021456923074706136, u'customers'), (0.020708271627508653, u'school'), (0.019996853051791674, u'hopes'), (0.014780257101602728, u'purchase')]]\r\n",
        "\r\n",
        "Entering processHierarchyLevel with clusterID 1 and topicIndex 9\r\n",
        "Entering processHierarchyLevel with clusterID 0 and topicIndex 2\r\n",
        "topWeightedWords =  [(0.046148580689870482, u'years'), (0.037117289824891549, u'children'), (0.031253107641957677, u'business'), (0.028269923237641697, u'old'), (0.026223414224043059, u'sells'), (0.024294174871868999, u'married'), (0.021456923074706136, u'customers'), (0.020708271627508653, u'school'), (0.019996853051791674, u'hopes'), (0.014780257101602728, u'purchase')]\r\n",
        "Entering processHierarchyLevel with clusterID 0 and topicIndex 2\r\n",
        "topWeightedWords =  [(0.046148580689870482, u'years'), (0.037117289824891549, u'children'), (0.031253107641957677, u'business'), (0.028269923237641697, u'old'), (0.026223414224043059, u'sells'), (0.024294174871868999, u'married'), (0.021456923074706136, u'customers'), (0.020708271627508653, u'school'), (0.019996853051791674, u'hopes'), (0.014780257101602728, u'purchase')]\r\n",
        "Entering processHierarchyLevel with clusterID 0 and topicIndex 2\r\n",
        "topWeightedWords =  [(0.046148580689870482, u'years'), (0.037117289824891549, u'children'), (0.031253107641957677, u'business'), (0.028269923237641697, u'old'), (0.026223414224043059, u'sells'), (0.024294174871868999, u'married'), (0.021456923074706136, u'customers'), (0.020708271627508653, u'school'), (0.019996853051791674, u'hopes'), (0.014780257101602728, u'purchase')]\r\n",
        "Entering processHierarchyLevel with clusterID 0 and topicIndex 2\r\n",
        "topWeightedWords =  [(0.046148580689870482, u'years'), (0.037117289824891549, u'children'), (0.031253107641957677, u'business'), (0.028269923237641697, u'old'), (0.026223414224043059, u'sells'), (0.024294174871868999, u'married'), (0.021456923074706136, u'customers'), (0.020708271627508653, u'school'), (0.019996853051791674, u'hopes'), (0.014780257101602728, u'purchase')]\r\n",
        "listsOfWeightedWordTupleLists =  [[(0.046148580689870482, u'years'), (0.037117289824891549, u'children'), (0.031253107641957677, u'business'), (0.028269923237641697, u'old'), (0.026223414224043059, u'sells'), (0.024294174871868999, u'married'), (0.021456923074706136, u'customers'), (0.020708271627508653, u'school'), (0.019996853051791674, u'hopes'), (0.014780257101602728, u'purchase')], [(0.046148580689870482, u'years'), (0.037117289824891549, u'children'), (0.031253107641957677, u'business'), (0.028269923237641697, u'old'), (0.026223414224043059, u'sells'), (0.024294174871868999, u'married'), (0.021456923074706136, u'customers'), (0.020708271627508653, u'school'), (0.019996853051791674, u'hopes'), (0.014780257101602728, u'purchase')], [(0.046148580689870482, u'years'), (0.037117289824891549, u'children'), (0.031253107641957677, u'business'), (0.028269923237641697, u'old'), (0.026223414224043059, u'sells'), (0.024294174871868999, u'married'), (0.021456923074706136, u'customers'), (0.020708271627508653, u'school'), (0.019996853051791674, u'hopes'), (0.014780257101602728, u'purchase')], [(0.046148580689870482, u'years'), (0.037117289824891549, u'children'), (0.031253107641957677, u'business'), (0.028269923237641697, u'old'), (0.026223414224043059, u'sells'), (0.024294174871868999, u'married'), (0.021456923074706136, u'customers'), (0.020708271627508653, u'school'), (0.019996853051791674, u'hopes'), (0.014780257101602728, u'purchase')]]\r\n",
        "\r\n",
        "listsOfWeightedWordTupleLists =  [[(u'purchase', 0.059121028406410911), (u'hopes', 0.079987412207166694), (u'school', 0.082833086510034612), (u'customers', 0.085827692298824546), (u'married', 0.097176699487475995), (u'sells', 0.10489365689617224), (u'old', 0.11307969295056679), (u'business', 0.12501243056783071), (u'children', 0.14846915929956619), (u'years', 0.18459432275948193)], [(u'purchase', 0.059121028406410911), (u'hopes', 0.079987412207166694), (u'school', 0.082833086510034612), (u'customers', 0.085827692298824546), (u'married', 0.097176699487475995), (u'sells', 0.10489365689617224), (u'old', 0.11307969295056679), (u'business', 0.12501243056783071), (u'children', 0.14846915929956619), (u'years', 0.18459432275948193)], [(u'purchase', 0.059121028406410911), (u'hopes', 0.079987412207166694), (u'school', 0.082833086510034612), (u'customers', 0.085827692298824546), (u'married', 0.097176699487475995), (u'sells', 0.10489365689617224), (u'old', 0.11307969295056679), (u'business', 0.12501243056783071), (u'children', 0.14846915929956619), (u'years', 0.18459432275948193)], [(u'purchase', 0.059121028406410911), (u'hopes', 0.079987412207166694), (u'school', 0.082833086510034612), (u'customers', 0.085827692298824546), (u'married', 0.097176699487475995), (u'sells', 0.10489365689617224), (u'old', 0.11307969295056679), (u'business', 0.12501243056783071), (u'children', 0.14846915929956619), (u'years', 0.18459432275948193)]]\r\n",
        "\r\n",
        "Entering processHierarchyLevel with clusterID 2 and topicIndex 4\r\n",
        "Entering processHierarchyLevel with clusterID 1 and topicIndex 9\r\n",
        "Entering processHierarchyLevel with clusterID 0 and topicIndex 2\r\n",
        "topWeightedWords =  [(0.046148580689870482, u'years'), (0.037117289824891549, u'children'), (0.031253107641957677, u'business'), (0.028269923237641697, u'old'), (0.026223414224043059, u'sells'), (0.024294174871868999, u'married'), (0.021456923074706136, u'customers'), (0.020708271627508653, u'school'), (0.019996853051791674, u'hopes'), (0.014780257101602728, u'purchase')]\r\n",
        "Entering processHierarchyLevel with clusterID 0 and topicIndex 2\r\n",
        "topWeightedWords =  [(0.046148580689870482, u'years'), (0.037117289824891549, u'children'), (0.031253107641957677, u'business'), (0.028269923237641697, u'old'), (0.026223414224043059, u'sells'), (0.024294174871868999, u'married'), (0.021456923074706136, u'customers'), (0.020708271627508653, u'school'), (0.019996853051791674, u'hopes'), (0.014780257101602728, u'purchase')]\r\n",
        "Entering processHierarchyLevel with clusterID 0 and topicIndex 2\r\n",
        "topWeightedWords =  [(0.046148580689870482, u'years'), (0.037117289824891549, u'children'), (0.031253107641957677, u'business'), (0.028269923237641697, u'old'), (0.026223414224043059, u'sells'), (0.024294174871868999, u'married'), (0.021456923074706136, u'customers'), (0.020708271627508653, u'school'), (0.019996853051791674, u'hopes'), (0.014780257101602728, u'purchase')]\r\n",
        "Entering processHierarchyLevel with clusterID 0 and topicIndex 2\r\n",
        "topWeightedWords =  [(0.046148580689870482, u'years'), (0.037117289824891549, u'children'), (0.031253107641957677, u'business'), (0.028269923237641697, u'old'), (0.026223414224043059, u'sells'), (0.024294174871868999, u'married'), (0.021456923074706136, u'customers'), (0.020708271627508653, u'school'), (0.019996853051791674, u'hopes'), (0.014780257101602728, u'purchase')]\r\n",
        "listsOfWeightedWordTupleLists =  [[(0.046148580689870482, u'years'), (0.037117289824891549, u'children'), (0.031253107641957677, u'business'), (0.028269923237641697, u'old'), (0.026223414224043059, u'sells'), (0.024294174871868999, u'married'), (0.021456923074706136, u'customers'), (0.020708271627508653, u'school'), (0.019996853051791674, u'hopes'), (0.014780257101602728, u'purchase')], [(0.046148580689870482, u'years'), (0.037117289824891549, u'children'), (0.031253107641957677, u'business'), (0.028269923237641697, u'old'), (0.026223414224043059, u'sells'), (0.024294174871868999, u'married'), (0.021456923074706136, u'customers'), (0.020708271627508653, u'school'), (0.019996853051791674, u'hopes'), (0.014780257101602728, u'purchase')], [(0.046148580689870482, u'years'), (0.037117289824891549, u'children'), (0.031253107641957677, u'business'), (0.028269923237641697, u'old'), (0.026223414224043059, u'sells'), (0.024294174871868999, u'married'), (0.021456923074706136, u'customers'), (0.020708271627508653, u'school'), (0.019996853051791674, u'hopes'), (0.014780257101602728, u'purchase')], [(0.046148580689870482, u'years'), (0.037117289824891549, u'children'), (0.031253107641957677, u'business'), (0.028269923237641697, u'old'), (0.026223414224043059, u'sells'), (0.024294174871868999, u'married'), (0.021456923074706136, u'customers'), (0.020708271627508653, u'school'), (0.019996853051791674, u'hopes'), (0.014780257101602728, u'purchase')]]\r\n",
        "\r\n",
        "Entering processHierarchyLevel with clusterID 1 and topicIndex 9\r\n",
        "Entering processHierarchyLevel with clusterID 0 and topicIndex 2\r\n",
        "topWeightedWords =  [(0.046148580689870482, u'years'), (0.037117289824891549, u'children'), (0.031253107641957677, u'business'), (0.028269923237641697, u'old'), (0.026223414224043059, u'sells'), (0.024294174871868999, u'married'), (0.021456923074706136, u'customers'), (0.020708271627508653, u'school'), (0.019996853051791674, u'hopes'), (0.014780257101602728, u'purchase')]\r\n",
        "Entering processHierarchyLevel with clusterID 0 and topicIndex 2\r\n",
        "topWeightedWords =  [(0.046148580689870482, u'years'), (0.037117289824891549, u'children'), (0.031253107641957677, u'business'), (0.028269923237641697, u'old'), (0.026223414224043059, u'sells'), (0.024294174871868999, u'married'), (0.021456923074706136, u'customers'), (0.020708271627508653, u'school'), (0.019996853051791674, u'hopes'), (0.014780257101602728, u'purchase')]\r\n",
        "Entering processHierarchyLevel with clusterID 0 and topicIndex 2\r\n",
        "topWeightedWords =  [(0.046148580689870482, u'years'), (0.037117289824891549, u'children'), (0.031253107641957677, u'business'), (0.028269923237641697, u'old'), (0.026223414224043059, u'sells'), (0.024294174871868999, u'married'), (0.021456923074706136, u'customers'), (0.020708271627508653, u'school'), (0.019996853051791674, u'hopes'), (0.014780257101602728, u'purchase')]\r\n",
        "Entering processHierarchyLevel with clusterID 0 and topicIndex 2\r\n",
        "topWeightedWords =  [(0.046148580689870482, u'years'), (0.037117289824891549, u'children'), (0.031253107641957677, u'business'), (0.028269923237641697, u'old'), (0.026223414224043059, u'sells'), (0.024294174871868999, u'married'), (0.021456923074706136, u'customers'), (0.020708271627508653, u'school'), (0.019996853051791674, u'hopes'), (0.014780257101602728, u'purchase')]\r\n",
        "listsOfWeightedWordTupleLists =  [[(0.046148580689870482, u'years'), (0.037117289824891549, u'children'), (0.031253107641957677, u'business'), (0.028269923237641697, u'old'), (0.026223414224043059, u'sells'), (0.024294174871868999, u'married'), (0.021456923074706136, u'customers'), (0.020708271627508653, u'school'), (0.019996853051791674, u'hopes'), (0.014780257101602728, u'purchase')], [(0.046148580689870482, u'years'), (0.037117289824891549, u'children'), (0.031253107641957677, u'business'), (0.028269923237641697, u'old'), (0.026223414224043059, u'sells'), (0.024294174871868999, u'married'), (0.021456923074706136, u'customers'), (0.020708271627508653, u'school'), (0.019996853051791674, u'hopes'), (0.014780257101602728, u'purchase')], [(0.046148580689870482, u'years'), (0.037117289824891549, u'children'), (0.031253107641957677, u'business'), (0.028269923237641697, u'old'), (0.026223414224043059, u'sells'), (0.024294174871868999, u'married'), (0.021456923074706136, u'customers'), (0.020708271627508653, u'school'), (0.019996853051791674, u'hopes'), (0.014780257101602728, u'purchase')], [(0.046148580689870482, u'years'), (0.037117289824891549, u'children'), (0.031253107641957677, u'business'), (0.028269923237641697, u'old'), (0.026223414224043059, u'sells'), (0.024294174871868999, u'married'), (0.021456923074706136, u'customers'), (0.020708271627508653, u'school'), (0.019996853051791674, u'hopes'), (0.014780257101602728, u'purchase')]]\r\n",
        "\r\n",
        "Entering processHierarchyLevel with clusterID 1 and topicIndex 9\r\n",
        "Entering processHierarchyLevel with clusterID 0 and topicIndex 2\r\n",
        "topWeightedWords =  [(0.046148580689870482, u'years'), (0.037117289824891549, u'children'), (0.031253107641957677, u'business'), (0.028269923237641697, u'old'), (0.026223414224043059, u'sells'), (0.024294174871868999, u'married'), (0.021456923074706136, u'customers'), (0.020708271627508653, u'school'), (0.019996853051791674, u'hopes'), (0.014780257101602728, u'purchase')]\r\n",
        "Entering processHierarchyLevel with clusterID 0 and topicIndex 2\r\n",
        "topWeightedWords =  [(0.046148580689870482, u'years'), (0.037117289824891549, u'children'), (0.031253107641957677, u'business'), (0.028269923237641697, u'old'), (0.026223414224043059, u'sells'), (0.024294174871868999, u'married'), (0.021456923074706136, u'customers'), (0.020708271627508653, u'school'), (0.019996853051791674, u'hopes'), (0.014780257101602728, u'purchase')]\r\n",
        "Entering processHierarchyLevel with clusterID 0 and topicIndex 2\r\n",
        "topWeightedWords =  [(0.046148580689870482, u'years'), (0.037117289824891549, u'children'), (0.031253107641957677, u'business'), (0.028269923237641697, u'old'), (0.026223414224043059, u'sells'), (0.024294174871868999, u'married'), (0.021456923074706136, u'customers'), (0.020708271627508653, u'school'), (0.019996853051791674, u'hopes'), (0.014780257101602728, u'purchase')]\r\n",
        "Entering processHierarchyLevel with clusterID 0 and topicIndex 2\r\n",
        "topWeightedWords =  [(0.046148580689870482, u'years'), (0.037117289824891549, u'children'), (0.031253107641957677, u'business'), (0.028269923237641697, u'old'), (0.026223414224043059, u'sells'), (0.024294174871868999, u'married'), (0.021456923074706136, u'customers'), (0.020708271627508653, u'school'), (0.019996853051791674, u'hopes'), (0.014780257101602728, u'purchase')]\r\n",
        "listsOfWeightedWordTupleLists =  [[(0.046148580689870482, u'years'), (0.037117289824891549, u'children'), (0.031253107641957677, u'business'), (0.028269923237641697, u'old'), (0.026223414224043059, u'sells'), (0.024294174871868999, u'married'), (0.021456923074706136, u'customers'), (0.020708271627508653, u'school'), (0.019996853051791674, u'hopes'), (0.014780257101602728, u'purchase')], [(0.046148580689870482, u'years'), (0.037117289824891549, u'children'), (0.031253107641957677, u'business'), (0.028269923237641697, u'old'), (0.026223414224043059, u'sells'), (0.024294174871868999, u'married'), (0.021456923074706136, u'customers'), (0.020708271627508653, u'school'), (0.019996853051791674, u'hopes'), (0.014780257101602728, u'purchase')], [(0.046148580689870482, u'years'), (0.037117289824891549, u'children'), (0.031253107641957677, u'business'), (0.028269923237641697, u'old'), (0.026223414224043059, u'sells'), (0.024294174871868999, u'married'), (0.021456923074706136, u'customers'), (0.020708271627508653, u'school'), (0.019996853051791674, u'hopes'), (0.014780257101602728, u'purchase')], [(0.046148580689870482, u'years'), (0.037117289824891549, u'children'), (0.031253107641957677, u'business'), (0.028269923237641697, u'old'), (0.026223414224043059, u'sells'), (0.024294174871868999, u'married'), (0.021456923074706136, u'customers'), (0.020708271627508653, u'school'), (0.019996853051791674, u'hopes'), (0.014780257101602728, u'purchase')]]\r\n",
        "\r\n",
        "Entering processHierarchyLevel with clusterID 1 and topicIndex 9\r\n",
        "Entering processHierarchyLevel with clusterID 0 and topicIndex 2\r\n",
        "topWeightedWords =  [(0.046148580689870482, u'years'), (0.037117289824891549, u'children'), (0.031253107641957677, u'business'), (0.028269923237641697, u'old'), (0.026223414224043059, u'sells'), (0.024294174871868999, u'married'), (0.021456923074706136, u'customers'), (0.020708271627508653, u'school'), (0.019996853051791674, u'hopes'), (0.014780257101602728, u'purchase')]\r\n",
        "Entering processHierarchyLevel with clusterID 0 and topicIndex 2\r\n",
        "topWeightedWords =  [(0.046148580689870482, u'years'), (0.037117289824891549, u'children'), (0.031253107641957677, u'business'), (0.028269923237641697, u'old'), (0.026223414224043059, u'sells'), (0.024294174871868999, u'married'), (0.021456923074706136, u'customers'), (0.020708271627508653, u'school'), (0.019996853051791674, u'hopes'), (0.014780257101602728, u'purchase')]\r\n",
        "Entering processHierarchyLevel with clusterID 0 and topicIndex 2\r\n",
        "topWeightedWords =  [(0.046148580689870482, u'years'), (0.037117289824891549, u'children'), (0.031253107641957677, u'business'), (0.028269923237641697, u'old'), (0.026223414224043059, u'sells'), (0.024294174871868999, u'married'), (0.021456923074706136, u'customers'), (0.020708271627508653, u'school'), (0.019996853051791674, u'hopes'), (0.014780257101602728, u'purchase')]\r\n",
        "Entering processHierarchyLevel with clusterID 0 and topicIndex 2\r\n",
        "topWeightedWords =  [(0.046148580689870482, u'years'), (0.037117289824891549, u'children'), (0.031253107641957677, u'business'), (0.028269923237641697, u'old'), (0.026223414224043059, u'sells'), (0.024294174871868999, u'married'), (0.021456923074706136, u'customers'), (0.020708271627508653, u'school'), (0.019996853051791674, u'hopes'), (0.014780257101602728, u'purchase')]\r\n",
        "listsOfWeightedWordTupleLists =  [[(0.046148580689870482, u'years'), (0.037117289824891549, u'children'), (0.031253107641957677, u'business'), (0.028269923237641697, u'old'), (0.026223414224043059, u'sells'), (0.024294174871868999, u'married'), (0.021456923074706136, u'customers'), (0.020708271627508653, u'school'), (0.019996853051791674, u'hopes'), (0.014780257101602728, u'purchase')], [(0.046148580689870482, u'years'), (0.037117289824891549, u'children'), (0.031253107641957677, u'business'), (0.028269923237641697, u'old'), (0.026223414224043059, u'sells'), (0.024294174871868999, u'married'), (0.021456923074706136, u'customers'), (0.020708271627508653, u'school'), (0.019996853051791674, u'hopes'), (0.014780257101602728, u'purchase')], [(0.046148580689870482, u'years'), (0.037117289824891549, u'children'), (0.031253107641957677, u'business'), (0.028269923237641697, u'old'), (0.026223414224043059, u'sells'), (0.024294174871868999, u'married'), (0.021456923074706136, u'customers'), (0.020708271627508653, u'school'), (0.019996853051791674, u'hopes'), (0.014780257101602728, u'purchase')], [(0.046148580689870482, u'years'), (0.037117289824891549, u'children'), (0.031253107641957677, u'business'), (0.028269923237641697, u'old'), (0.026223414224043059, u'sells'), (0.024294174871868999, u'married'), (0.021456923074706136, u'customers'), (0.020708271627508653, u'school'), (0.019996853051791674, u'hopes'), (0.014780257101602728, u'purchase')]]\r\n",
        "\r\n",
        "listsOfWeightedWordTupleLists =  [[(u'purchase', 0.059121028406410911), (u'hopes', 0.079987412207166694), (u'school', 0.082833086510034612), (u'customers', 0.085827692298824546), (u'married', 0.097176699487475995), (u'sells', 0.10489365689617224), (u'old', 0.11307969295056679), (u'business', 0.12501243056783071), (u'children', 0.14846915929956619), (u'years', 0.18459432275948193)], [(u'purchase', 0.059121028406410911), (u'hopes', 0.079987412207166694), (u'school', 0.082833086510034612), (u'customers', 0.085827692298824546), (u'married', 0.097176699487475995), (u'sells', 0.10489365689617224), (u'old', 0.11307969295056679), (u'business', 0.12501243056783071), (u'children', 0.14846915929956619), (u'years', 0.18459432275948193)], [(u'purchase', 0.059121028406410911), (u'hopes', 0.079987412207166694), (u'school', 0.082833086510034612), (u'customers', 0.085827692298824546), (u'married', 0.097176699487475995), (u'sells', 0.10489365689617224), (u'old', 0.11307969295056679), (u'business', 0.12501243056783071), (u'children', 0.14846915929956619), (u'years', 0.18459432275948193)], [(u'purchase', 0.059121028406410911), (u'hopes', 0.079987412207166694), (u'school', 0.082833086510034612), (u'customers', 0.085827692298824546), (u'married', 0.097176699487475995), (u'sells', 0.10489365689617224), (u'old', 0.11307969295056679), (u'business', 0.12501243056783071), (u'children', 0.14846915929956619), (u'years', 0.18459432275948193)]]\r\n",
        "\r\n",
        "listsOfWeightedWordTupleLists =  [[(0.12501243056783071, u'businessbusinessbusinessbusiness'), (0.14846915929956619, u'childrenchildrenchildrenchildren'), (0.085827692298824546, u'customerscustomerscustomerscustomers'), (0.079987412207166694, u'hopeshopeshopeshopes'), (0.097176699487475995, u'marriedmarriedmarriedmarried'), (0.11307969295056679, u'oldoldoldold'), (0.059121028406410911, u'purchasepurchasepurchasepurchase'), (0.082833086510034612, u'schoolschoolschoolschool'), (0.10489365689617224, u'sellssellssellssells'), (0.18459432275948193, u'yearsyearsyearsyears')], [(0.12501243056783071, u'businessbusinessbusinessbusiness'), (0.14846915929956619, u'childrenchildrenchildrenchildren'), (0.085827692298824546, u'customerscustomerscustomerscustomers'), (0.079987412207166694, u'hopeshopeshopeshopes'), (0.097176699487475995, u'marriedmarriedmarriedmarried'), (0.11307969295056679, u'oldoldoldold'), (0.059121028406410911, u'purchasepurchasepurchasepurchase'), (0.082833086510034612, u'schoolschoolschoolschool'), (0.10489365689617224, u'sellssellssellssells'), (0.18459432275948193, u'yearsyearsyearsyears')], [(0.12501243056783071, u'businessbusinessbusinessbusiness'), (0.14846915929956619, u'childrenchildrenchildrenchildren'), (0.085827692298824546, u'customerscustomerscustomerscustomers'), (0.079987412207166694, u'hopeshopeshopeshopes'), (0.097176699487475995, u'marriedmarriedmarriedmarried'), (0.11307969295056679, u'oldoldoldold'), (0.059121028406410911, u'purchasepurchasepurchasepurchase'), (0.082833086510034612, u'schoolschoolschoolschool'), (0.10489365689617224, u'sellssellssellssells'), (0.18459432275948193, u'yearsyearsyearsyears')], [(0.12501243056783071, u'businessbusinessbusinessbusiness'), (0.14846915929956619, u'childrenchildrenchildrenchildren'), (0.085827692298824546, u'customerscustomerscustomerscustomers'), (0.079987412207166694, u'hopeshopeshopeshopes'), (0.097176699487475995, u'marriedmarriedmarriedmarried'), (0.11307969295056679, u'oldoldoldold'), (0.059121028406410911, u'purchasepurchasepurchasepurchase'), (0.082833086510034612, u'schoolschoolschoolschool'), (0.10489365689617224, u'sellssellssellssells'), (0.18459432275948193, u'yearsyearsyearsyears')], [(0.12501243056783071, u'businessbusinessbusinessbusiness'), (0.14846915929956619, u'childrenchildrenchildrenchildren'), (0.085827692298824546, u'customerscustomerscustomerscustomers'), (0.079987412207166694, u'hopeshopeshopeshopes'), (0.097176699487475995, u'marriedmarriedmarriedmarried'), (0.11307969295056679, u'oldoldoldold'), (0.059121028406410911, u'purchasepurchasepurchasepurchase'), (0.082833086510034612, u'schoolschoolschoolschool'), (0.10489365689617224, u'sellssellssellssells'), (0.18459432275948193, u'yearsyearsyearsyears')], [(0.12501243056783071, u'businessbusinessbusinessbusiness'), (0.14846915929956619, u'childrenchildrenchildrenchildren'), (0.085827692298824546, u'customerscustomerscustomerscustomers'), (0.079987412207166694, u'hopeshopeshopeshopes'), (0.097176699487475995, u'marriedmarriedmarriedmarried'), (0.11307969295056679, u'oldoldoldold'), (0.059121028406410911, u'purchasepurchasepurchasepurchase'), (0.082833086510034612, u'schoolschoolschoolschool'), (0.10489365689617224, u'sellssellssellssells'), (0.18459432275948193, u'yearsyearsyearsyears')]]\r\n",
        "\r\n",
        "listsOfWeightedWordTupleLists =  [[(u'purchasepurchasepurchasepurchase', 0.35472617043846549), (u'hopeshopeshopeshopes', 0.47992447324300019), (u'schoolschoolschoolschool', 0.4969985190602077), (u'customerscustomerscustomerscustomers', 0.5149661537929473), (u'marriedmarriedmarriedmarried', 0.583060196924856), (u'sellssellssellssells', 0.62936194137703338), (u'oldoldoldold', 0.6784781577034007), (u'businessbusinessbusinessbusiness', 0.7500745834069843), (u'childrenchildrenchildrenchildren', 0.89081495579739711), (u'yearsyearsyearsyears', 1.1075659365568915)]]\r\n",
        "\r\n",
        "listsOfWeightedWordTupleLists =  [[(0.7500745834069843, u'businessbusinessbusinessbusiness'), (0.89081495579739711, u'childrenchildrenchildrenchildren'), (0.5149661537929473, u'customerscustomerscustomerscustomers'), (0.47992447324300019, u'hopeshopeshopeshopes'), (0.583060196924856, u'marriedmarriedmarriedmarried'), (0.6784781577034007, u'oldoldoldold'), (0.35472617043846549, u'purchasepurchasepurchasepurchase'), (0.4969985190602077, u'schoolschoolschoolschool'), (0.62936194137703338, u'sellssellssellssells'), (1.1075659365568915, u'yearsyearsyearsyears')]]\r\n",
        "\r\n",
        "listsOfWeightedWordTupleLists =  [[(u'purchasepurchasepurchasepurchase', 0.35472617043846549), (u'hopeshopeshopeshopes', 0.47992447324300019), (u'schoolschoolschoolschool', 0.4969985190602077), (u'customerscustomerscustomerscustomers', 0.5149661537929473), (u'marriedmarriedmarriedmarried', 0.583060196924856), (u'sellssellssellssells', 0.62936194137703338), (u'oldoldoldold', 0.6784781577034007), (u'businessbusinessbusinessbusiness', 0.7500745834069843), (u'childrenchildrenchildrenchildren', 0.89081495579739711), (u'yearsyearsyearsyears', 1.1075659365568915)]]\r\n",
        "\r\n",
        "listsOfWeightedWordTupleLists =  [[(0.7500745834069843, u'businessbusinessbusinessbusiness'), (0.89081495579739711, u'childrenchildrenchildrenchildren'), (0.5149661537929473, u'customerscustomerscustomerscustomers'), (0.47992447324300019, u'hopeshopeshopeshopes'), (0.583060196924856, u'marriedmarriedmarriedmarried'), (0.6784781577034007, u'oldoldoldold'), (0.35472617043846549, u'purchasepurchasepurchasepurchase'), (0.4969985190602077, u'schoolschoolschoolschool'), (0.62936194137703338, u'sellssellssellssells'), (1.1075659365568915, u'yearsyearsyearsyears')]]\r\n",
        "\r\n",
        "listsOfWeightedWordTupleLists =  [[(u'purchasepurchasepurchasepurchase', 0.35472617043846549), (u'hopeshopeshopeshopes', 0.47992447324300019), (u'schoolschoolschoolschool', 0.4969985190602077), (u'customerscustomerscustomerscustomers', 0.5149661537929473), (u'marriedmarriedmarriedmarried', 0.583060196924856), (u'sellssellssellssells', 0.62936194137703338), (u'oldoldoldold', 0.6784781577034007), (u'businessbusinessbusinessbusiness', 0.7500745834069843), (u'childrenchildrenchildrenchildren', 0.89081495579739711), (u'yearsyearsyearsyears', 1.1075659365568915)]]\r\n",
        "\r\n",
        "listsOfWeightedWordTupleLists =  [[(0.7500745834069843, u'businessbusinessbusinessbusiness'), (0.89081495579739711, u'childrenchildrenchildrenchildren'), (0.5149661537929473, u'customerscustomerscustomerscustomers'), (0.47992447324300019, u'hopeshopeshopeshopes'), (0.583060196924856, u'marriedmarriedmarriedmarried'), (0.6784781577034007, u'oldoldoldold'), (0.35472617043846549, u'purchasepurchasepurchasepurchase'), (0.4969985190602077, u'schoolschoolschoolschool'), (0.62936194137703338, u'sellssellssellssells'), (1.1075659365568915, u'yearsyearsyearsyears')]]\r\n",
        "\r\n",
        "done\r\n",
        "Dumping object hierarchy into JSON file data/topicmodelling/kiva.lda_model ...done\r\n"
       ]
      }
     ],
     "prompt_number": 14
    },
    {
     "cell_type": "markdown",
     "metadata": {},
     "source": [
      "Next steps:\n",
      "\n",
      "* calculate the *depth* of this hierarchy\n",
      "* build the serializable JSON object as required by Hi\u00e9rarchie\n",
      "* The JSON object must be capable of storing, AT EACH LEVEL, the\n",
      "\n",
      "Finally:\n",
      "* calculate for each document its distribution over topics (original goal of this script!)\n",
      "* link the IDs of the documents (i.e. their Kiva IDS) as subleaves to the bottom topics, (majority vote)"
     ]
    }
   ],
   "metadata": {}
  }
 ]
}