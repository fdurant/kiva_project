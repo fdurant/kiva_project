{
 "metadata": {
  "name": "",
  "signature": "sha256:123f41f1ace66635a310b93a8f2b6d6cc09e8b92b6a8ef4ce00c3dd680aaae6c"
 },
 "nbformat": 3,
 "nbformat_minor": 0,
 "worksheets": [
  {
   "cells": [
    {
     "cell_type": "heading",
     "level": 1,
     "metadata": {},
     "source": [
      "Hierarchical topic modelling of Kiva loan descriptions"
     ]
    },
    {
     "cell_type": "heading",
     "level": 2,
     "metadata": {},
     "source": [
      "Goals"
     ]
    },
    {
     "cell_type": "markdown",
     "metadata": {},
     "source": [
      "*  Create a visual explorer for a static set of 800K+ English loan descriptions from Kiva.org\n",
      "*  Use (hierarchical) topic modelling\n",
      "*  Publish the explorer to the world"
     ]
    },
    {
     "cell_type": "heading",
     "level": 2,
     "metadata": {},
     "source": [
      "References"
     ]
    },
    {
     "cell_type": "markdown",
     "metadata": {},
     "source": [
      "* David Mimno and Andrew MacCallum: [Organizing the OCA: Learning Faceted Subjects from a Library of Digital Books](http://mimno.infosci.cornell.edu/papers/f129-mimno.pdf) => bottom-up approach\n",
      "* Jay Pujara and Peter Skomoroch: [Large-Scale Hierarchical Topic Models](http://linqs.cs.umd.edu/basilic/web/Publications/2012/pujara:nips12/pujara_biglearn12.pdf) => top-down approach\n",
      "* Alison Smith, Timothy Hawes, and Meredith Myers: [Hi&eacute;rarchie: Interactive Visualization for Hierarchical Topic Models](http://nlp.stanford.edu/events/illvi2014/papers/smith-illvi2014b.pdf)\n",
      "* Hierarchie [Readme page at GitHub](http://mlvl.github.io/Hierarchie/#/about)\n",
      "* [Gensim - topic modelling for humans](https://radimrehurek.com/gensim/index.html)"
     ]
    },
    {
     "cell_type": "heading",
     "level": 2,
     "metadata": {},
     "source": [
      "Approach"
     ]
    },
    {
     "cell_type": "markdown",
     "metadata": {},
     "source": [
      "* Use gensim to derive flat topic models over (part of) the Kiva corpus, taking the [tutorial](https://radimrehurek.com/gensim/tutorial.html) as guideline\n",
      "* Organize the found topic models into a hierarchy - no precise idea yet on how to do this (maybe some form of hierarchical clustering may apply)\n",
      "* Convert that hierarchy into a [JSON data file](https://github.com/mlvl/Hierarchie/tree/gh-pages/app/data) compliant with Hierarchie\n",
      "* Visualize everything with Hierarchie\n",
      "\n",
      "IMPORTANT: store python code in scripts, and call these from ipython notebook"
     ]
    },
    {
     "cell_type": "code",
     "collapsed": false,
     "input": [],
     "language": "python",
     "metadata": {},
     "outputs": []
    }
   ],
   "metadata": {}
  }
 ]
}