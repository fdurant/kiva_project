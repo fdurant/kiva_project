{
 "metadata": {
  "name": "",
  "signature": "sha256:2e99b8733b2e093862fb91837d3ef0853160b9330ed9881fb28c4d59efdd9e71"
 },
 "nbformat": 3,
 "nbformat_minor": 0,
 "worksheets": [
  {
   "cells": [
    {
     "cell_type": "heading",
     "level": 1,
     "metadata": {},
     "source": [
      "Hierarchical topic modelling of Kiva loan descriptions"
     ]
    },
    {
     "cell_type": "heading",
     "level": 2,
     "metadata": {},
     "source": [
      "Goals"
     ]
    },
    {
     "cell_type": "markdown",
     "metadata": {},
     "source": [
      "*  Create a visual explorer for a static set of 800K+ English loan descriptions from Kiva.org\n",
      "*  Use (hierarchical) topic modelling\n",
      "*  Publish the explorer to the world"
     ]
    },
    {
     "cell_type": "heading",
     "level": 2,
     "metadata": {},
     "source": [
      "References"
     ]
    },
    {
     "cell_type": "markdown",
     "metadata": {},
     "source": [
      "* David Mimno and Andrew MacCallum: [Organizing the OCA: Learning Faceted Subjects from a Library of Digital Books](http://mimno.infosci.cornell.edu/papers/f129-mimno.pdf) => bottom-up approach\n",
      "* Jay Pujara and Peter Skomoroch: [Large-Scale Hierarchical Topic Models](http://linqs.cs.umd.edu/basilic/web/Publications/2012/pujara:nips12/pujara_biglearn12.pdf) => top-down approach\n",
      "* Alison Smith, Timothy Hawes, and Meredith Myers: [Hi&eacute;rarchie: Interactive Visualization for Hierarchical Topic Models](http://nlp.stanford.edu/events/illvi2014/papers/smith-illvi2014b.pdf)\n",
      "* Hierarchie [Readme page at GitHub](http://mlvl.github.io/Hierarchie/#/about)\n",
      "* [Gensim - topic modelling for humans](https://radimrehurek.com/gensim/index.html)\n",
      "* Nikolaos Aletras and Mark Stevenson: [Measuring the Similarity between Automatically Generated Topics](http://staffwww.dcs.shef.ac.uk/people/N.Aletras/resources/2014_eacl_topicSim_short.pdf)"
     ]
    },
    {
     "cell_type": "heading",
     "level": 2,
     "metadata": {},
     "source": [
      "Approach"
     ]
    },
    {
     "cell_type": "markdown",
     "metadata": {},
     "source": [
      "* Use gensim to derive flat topic models over (part of) the Kiva corpus, taking the [tutorial](https://radimrehurek.com/gensim/tutorial.html) as guideline\n",
      "* Organize the found topic models into a hierarchy - no precise idea yet on how to do this (maybe some form of hierarchical clustering may apply)\n",
      "* Convert that hierarchy into a [JSON data file](https://github.com/mlvl/Hierarchie/tree/gh-pages/app/data) compliant with Hierarchie\n",
      "* Visualize everything with Hierarchie\n",
      "\n",
      "IMPORTANT: store python code in scripts, and call these from ipython notebook"
     ]
    },
    {
     "cell_type": "heading",
     "level": 2,
     "metadata": {},
     "source": [
      "Data preprocessing"
     ]
    },
    {
     "cell_type": "markdown",
     "metadata": {},
     "source": [
      "Step 1: download [Kiva data dump (JSON format)](http://s3.kiva.org/snapshots/kiva_ds_json.zip), and extract into data/static"
     ]
    },
    {
     "cell_type": "markdown",
     "metadata": {},
     "source": [
      "Step 2: since the 'description' fields in the Kiva data dump often mix multiple languages (due to manual translations), the language codes are not reliable. Therefore, we:\n",
      "\n",
      "* split the descriptions in paragraps\n",
      "* do language detection on the paragraphs\n",
      "* store the recombined paragraphs and their language code in new processed_description field\n",
      "\n",
      "The data are written to a locally installed MongoDB 'kiva', collection 'loans'"
     ]
    },
    {
     "cell_type": "code",
     "collapsed": false,
     "input": [
      "# Next line commented out because we only want to run this once\n",
      "# nohup python src/load_kiva_to_mongodb.py"
     ],
     "language": "python",
     "metadata": {},
     "outputs": [],
     "prompt_number": 4
    },
    {
     "cell_type": "markdown",
     "metadata": {},
     "source": [
      "Step 3: load (a subset) of the English data from MongoDB, and convert it to the [Blei LDA-C format](http://www.cs.princeton.edu/~blei/lda-c/), using a [gensim utility function](https://radimrehurek.com/gensim/tut1.html#corpus-formats)"
     ]
    },
    {
     "cell_type": "code",
     "collapsed": false,
     "input": [
      "!python src/convert_mongodb_to_blei_ldac.py --dataDir data/topicmodelling\\\n",
      "                                            --corpusBaseName kiva \\\n",
      "                                            --stopwordFile=data/topicmodelling/kiva_stopwords.tsv \\\n",
      "                                            --maxNrDocs 20000 \\\n",
      "                                            --filterBelow 10 \\\n",
      "                                            --filterAbove 99.0 \\\n",
      "                                            --filterKeepN 1000"
     ],
     "language": "python",
     "metadata": {},
     "outputs": [
      {
       "output_type": "stream",
       "stream": "stdout",
       "text": [
        "Creating MongoDB cursor ... done\r\n"
       ]
      },
      {
       "output_type": "stream",
       "stream": "stdout",
       "text": [
        "Number of loans in 'en' since 2010: 624364\r\n",
        "First pass: streaming from MongoDB ...\r\n",
        "creating the dictionary ...\r\n"
       ]
      },
      {
       "output_type": "stream",
       "stream": "stdout",
       "text": [
        "read 5000 documents ...\r\n"
       ]
      },
      {
       "output_type": "stream",
       "stream": "stdout",
       "text": [
        "read 10000 documents ...\r\n"
       ]
      },
      {
       "output_type": "stream",
       "stream": "stdout",
       "text": [
        "read 15000 documents ...\r\n"
       ]
      },
      {
       "output_type": "stream",
       "stream": "stdout",
       "text": [
        "filtering the dictionary ..."
       ]
      },
      {
       "output_type": "stream",
       "stream": "stdout",
       "text": [
        " done\r\n",
        "wrote data/topicmodelling/kiva_dict.bin ... and data/topicmodelling/kiva_dict.txt ... done\r\n",
        "Second pass: streaming from MongoDB ... saving into data/topicmodelling/kiva.lda-c (Blei corpus format) ..."
       ]
      },
      {
       "output_type": "stream",
       "stream": "stdout",
       "text": [
        " done\r\n",
        "Number of documents converted: 20000\r\n",
        "Vocabulary size: 1000\r\n"
       ]
      }
     ],
     "prompt_number": 77
    },
    {
     "cell_type": "code",
     "collapsed": false,
     "input": [
      "!python src/model_topics.py --dataDir data/topicmodelling \\\n",
      "                            --modelDir data/topicmodelling \\\n",
      "                            --corpusBaseName kiva \\\n",
      "                            --nrTopics 64 \\\n",
      "                            --nrWords 3"
     ],
     "language": "python",
     "metadata": {},
     "outputs": [
      {
       "output_type": "stream",
       "stream": "stdout",
       "text": [
        "Loading Blei corpus file data/topicmodelling/kiva.lda-c ... done\r\n",
        "<gensim.corpora.bleicorpus.BleiCorpus object at 0x109b2bad0>\r\n",
        "Dictionary(1000 unique tokens: [u'neighbors', u'shop', u'managed', u'alleviation', u'lack']...)\r\n",
        "Making topic model ..."
       ]
      },
      {
       "output_type": "stream",
       "stream": "stdout",
       "text": [
        " done\r\n",
        "0.080*v. + 0.067*furniture + 0.057*grocery\r\n",
        "0.034*b. + 0.031*business + 0.029*college\r\n",
        "0.080*dairy + 0.054*milk + 0.050*previous\r\n",
        "0.104*pmpc + 0.025*grameen + 0.023*model\r\n",
        "0.048*5000 + 0.043*business + 0.033*9\r\n",
        "0.040*benin + 0.035*children + 0.031*years\r\n",
        "0.028*parents + 0.024*volunteer + 0.023*years\r\n",
        "0.038*since + 0.037*business + 0.034*season\r\n",
        "0.134*maria + 0.056*across + 0.053*sells\r\n",
        "0.138*add + 0.108*29 + 0.094*picture\r\n",
        "0.176*allow + 0.148*fruit + 0.105*51\r\n",
        "0.046*work + 0.033*business + 0.020*time\r\n",
        "0.064*group + 0.044*aski + 0.024*business\r\n",
        "0.043*products + 0.027*volunteer + 0.019*sales\r\n",
        "0.026*two + 0.026*one + 0.025*taking\r\n",
        "0.044*children + 0.037*oil + 0.036*business\r\n",
        "0.037*- + 0.028*years + 0.025*children\r\n",
        "0.041*history + 0.026*permanent + 0.025*ensure\r\n",
        "0.037*clothes + 0.034*cement + 0.032*taxi\r\n",
        "0.072*business + 0.038*profits + 0.031*children\r\n",
        "0.116*fabric + 0.047*sewing + 0.043*customer\r\n",
        "0.068*business + 0.040*kadet + 0.032*plans\r\n",
        "0.042*mar\u00eda + 0.029*jane + 0.029*parts\r\n",
        "0.028*years + 0.025*family + 0.025*children\r\n",
        "0.045*gdmpc + 0.031*business + 0.020*php\r\n",
        "0.030*reodica + 0.030*ronan + 0.027*years\r\n",
        "0.052*crops + 0.042*land + 0.031*corn\r\n",
        "0.086*hspfi + 0.034*business + 0.025*city\r\n",
        "0.033*weekly + 0.031*community + 0.028*business\r\n",
        "0.050*business + 0.030*years + 0.018*lives\r\n",
        "0.045*bank + 0.031*years + 0.025*communal\r\n",
        "0.080*business + 0.044*years + 0.023*kenya\r\n",
        "0.056*years + 0.049*20,000 + 0.047*member\r\n",
        "0.052*daughter + 0.034*ginny + 0.034*kalish\r\n",
        "0.064*'' + 0.053*3 + 0.031*``\r\n",
        "0.118*current + 0.064*tomatoes + 0.064*involved\r\n",
        "0.047*chickens + 0.031*feed + 0.027*chicken\r\n",
        "0.044*business + 0.024*php + 0.022*translation\r\n",
        "0.026*bank + 0.023*communal + 0.021*members\r\n",
        "0.053*michael + 0.050*bujazan + 0.045*vehicle\r\n",
        "0.028*finance + 0.027*basis + 0.024*business\r\n",
        "0.027*business + 0.023*family + 0.023*women\r\n",
        "0.042*group + 0.037*members + 0.026*selling\r\n",
        "0.055*group + 0.032*years + 0.026*business\r\n",
        "0.033*house + 0.031*volunteer + 0.031*children\r\n",
        "0.062*mrs. + 0.040*village + 0.030*mr.\r\n",
        "0.085*farm + 0.045*rice + 0.035*farming\r\n",
        "0.053*international + 0.035*country + 0.030*thousands\r\n",
        "0.172*t. + 0.084*h. + 0.054*support\r\n",
        "0.082*group + 0.059*women + 0.058*members\r\n",
        "0.055*business + 0.046*hopes + 0.036*purchase\r\n",
        "0.058*business + 0.045*children + 0.036*years\r\n",
        "0.037*buy + 0.037*pigs + 0.033*michael\r\n",
        "0.057*additional + 0.049*business + 0.049*accessories\r\n",
        "0.037*brac + 0.025*organizations + 0.023*village\r\n",
        "0.076*low + 0.068*raised + 0.064*learn\r\n",
        "0.043*usd + 0.041*credit + 0.037*per\r\n",
        "0.046*born + 0.038*years + 0.037*school\r\n",
        "0.081*fish + 0.042*children + 0.035*years\r\n",
        "0.028*invest + 0.026*clothing + 0.025*home\r\n",
        "0.035*years + 0.035*mother + 0.033*family\r\n",
        "0.075*shop + 0.042*business + 0.041*wants\r\n",
        "0.067*d. + 0.037*m. + 0.035*years\r\n",
        "0.102*$ + 0.059*s. + 0.029*business\r\n",
        "Writing model file data/topicmodelling/kiva.lda_model ... done\r\n",
        "Creating complete topic/word matrix in memory:\r\n"
       ]
      },
      {
       "output_type": "stream",
       "stream": "stdout",
       "text": [
        "topic 1/64 ...\r\n"
       ]
      },
      {
       "output_type": "stream",
       "stream": "stdout",
       "text": [
        "topic 2/64 ...\r\n"
       ]
      },
      {
       "output_type": "stream",
       "stream": "stdout",
       "text": [
        "topic 3/64 ...\r\n"
       ]
      },
      {
       "output_type": "stream",
       "stream": "stdout",
       "text": [
        "topic 4/64 ...\r\n"
       ]
      },
      {
       "output_type": "stream",
       "stream": "stdout",
       "text": [
        "topic 5/64 ...\r\n"
       ]
      },
      {
       "output_type": "stream",
       "stream": "stdout",
       "text": [
        "topic 6/64 ...\r\n"
       ]
      },
      {
       "output_type": "stream",
       "stream": "stdout",
       "text": [
        "topic 7/64 ...\r\n"
       ]
      },
      {
       "output_type": "stream",
       "stream": "stdout",
       "text": [
        "topic 8/64 ...\r\n"
       ]
      },
      {
       "output_type": "stream",
       "stream": "stdout",
       "text": [
        "topic 9/64 ...\r\n"
       ]
      },
      {
       "output_type": "stream",
       "stream": "stdout",
       "text": [
        "topic 10/64 ...\r\n"
       ]
      },
      {
       "output_type": "stream",
       "stream": "stdout",
       "text": [
        "topic 11/64 ...\r\n"
       ]
      },
      {
       "output_type": "stream",
       "stream": "stdout",
       "text": [
        "topic 12/64 ...\r\n"
       ]
      },
      {
       "output_type": "stream",
       "stream": "stdout",
       "text": [
        "topic 13/64 ...\r\n"
       ]
      },
      {
       "output_type": "stream",
       "stream": "stdout",
       "text": [
        "topic 14/64 ...\r\n"
       ]
      },
      {
       "output_type": "stream",
       "stream": "stdout",
       "text": [
        "topic 15/64 ...\r\n"
       ]
      },
      {
       "output_type": "stream",
       "stream": "stdout",
       "text": [
        "topic 16/64 ...\r\n"
       ]
      },
      {
       "output_type": "stream",
       "stream": "stdout",
       "text": [
        "topic 17/64 ...\r\n"
       ]
      },
      {
       "output_type": "stream",
       "stream": "stdout",
       "text": [
        "topic 18/64 ...\r\n"
       ]
      },
      {
       "output_type": "stream",
       "stream": "stdout",
       "text": [
        "topic 19/64 ...\r\n"
       ]
      },
      {
       "output_type": "stream",
       "stream": "stdout",
       "text": [
        "topic 20/64 ...\r\n"
       ]
      },
      {
       "output_type": "stream",
       "stream": "stdout",
       "text": [
        "topic 21/64 ...\r\n"
       ]
      },
      {
       "output_type": "stream",
       "stream": "stdout",
       "text": [
        "topic 22/64 ...\r\n"
       ]
      },
      {
       "output_type": "stream",
       "stream": "stdout",
       "text": [
        "topic 23/64 ...\r\n"
       ]
      },
      {
       "output_type": "stream",
       "stream": "stdout",
       "text": [
        "topic 24/64 ...\r\n"
       ]
      },
      {
       "output_type": "stream",
       "stream": "stdout",
       "text": [
        "topic 25/64 ...\r\n"
       ]
      },
      {
       "output_type": "stream",
       "stream": "stdout",
       "text": [
        "topic 26/64 ...\r\n"
       ]
      },
      {
       "output_type": "stream",
       "stream": "stdout",
       "text": [
        "topic 27/64 ...\r\n"
       ]
      },
      {
       "output_type": "stream",
       "stream": "stdout",
       "text": [
        "topic 28/64 ...\r\n"
       ]
      },
      {
       "output_type": "stream",
       "stream": "stdout",
       "text": [
        "topic 29/64 ...\r\n"
       ]
      },
      {
       "output_type": "stream",
       "stream": "stdout",
       "text": [
        "topic 30/64 ...\r\n"
       ]
      },
      {
       "output_type": "stream",
       "stream": "stdout",
       "text": [
        "topic 31/64 ...\r\n"
       ]
      },
      {
       "output_type": "stream",
       "stream": "stdout",
       "text": [
        "topic 32/64 ...\r\n"
       ]
      },
      {
       "output_type": "stream",
       "stream": "stdout",
       "text": [
        "topic 33/64 ...\r\n"
       ]
      },
      {
       "output_type": "stream",
       "stream": "stdout",
       "text": [
        "topic 34/64 ...\r\n"
       ]
      },
      {
       "output_type": "stream",
       "stream": "stdout",
       "text": [
        "topic 35/64 ...\r\n"
       ]
      },
      {
       "output_type": "stream",
       "stream": "stdout",
       "text": [
        "topic 36/64 ...\r\n"
       ]
      },
      {
       "output_type": "stream",
       "stream": "stdout",
       "text": [
        "topic 37/64 ...\r\n"
       ]
      },
      {
       "output_type": "stream",
       "stream": "stdout",
       "text": [
        "topic 38/64 ...\r\n"
       ]
      },
      {
       "output_type": "stream",
       "stream": "stdout",
       "text": [
        "topic 39/64 ...\r\n"
       ]
      },
      {
       "output_type": "stream",
       "stream": "stdout",
       "text": [
        "topic 40/64 ...\r\n"
       ]
      },
      {
       "output_type": "stream",
       "stream": "stdout",
       "text": [
        "topic 41/64 ...\r\n"
       ]
      },
      {
       "output_type": "stream",
       "stream": "stdout",
       "text": [
        "topic 42/64 ...\r\n"
       ]
      },
      {
       "output_type": "stream",
       "stream": "stdout",
       "text": [
        "topic 43/64 ...\r\n"
       ]
      },
      {
       "output_type": "stream",
       "stream": "stdout",
       "text": [
        "topic 44/64 ...\r\n"
       ]
      },
      {
       "output_type": "stream",
       "stream": "stdout",
       "text": [
        "topic 45/64 ...\r\n"
       ]
      },
      {
       "output_type": "stream",
       "stream": "stdout",
       "text": [
        "topic 46/64 ...\r\n"
       ]
      },
      {
       "output_type": "stream",
       "stream": "stdout",
       "text": [
        "topic 47/64 ...\r\n"
       ]
      },
      {
       "output_type": "stream",
       "stream": "stdout",
       "text": [
        "topic 48/64 ...\r\n"
       ]
      },
      {
       "output_type": "stream",
       "stream": "stdout",
       "text": [
        "topic 49/64 ...\r\n"
       ]
      },
      {
       "output_type": "stream",
       "stream": "stdout",
       "text": [
        "topic 50/64 ...\r\n"
       ]
      },
      {
       "output_type": "stream",
       "stream": "stdout",
       "text": [
        "topic 51/64 ...\r\n"
       ]
      },
      {
       "output_type": "stream",
       "stream": "stdout",
       "text": [
        "topic 52/64 ...\r\n"
       ]
      },
      {
       "output_type": "stream",
       "stream": "stdout",
       "text": [
        "topic 53/64 ...\r\n"
       ]
      },
      {
       "output_type": "stream",
       "stream": "stdout",
       "text": [
        "topic 54/64 ...\r\n"
       ]
      },
      {
       "output_type": "stream",
       "stream": "stdout",
       "text": [
        "topic 55/64 ...\r\n"
       ]
      },
      {
       "output_type": "stream",
       "stream": "stdout",
       "text": [
        "topic 56/64 ...\r\n"
       ]
      },
      {
       "output_type": "stream",
       "stream": "stdout",
       "text": [
        "topic 57/64 ...\r\n"
       ]
      },
      {
       "output_type": "stream",
       "stream": "stdout",
       "text": [
        "topic 58/64 ...\r\n"
       ]
      },
      {
       "output_type": "stream",
       "stream": "stdout",
       "text": [
        "topic 59/64 ...\r\n"
       ]
      },
      {
       "output_type": "stream",
       "stream": "stdout",
       "text": [
        "topic 60/64 ...\r\n"
       ]
      },
      {
       "output_type": "stream",
       "stream": "stdout",
       "text": [
        "topic 61/64 ...\r\n"
       ]
      },
      {
       "output_type": "stream",
       "stream": "stdout",
       "text": [
        "topic 62/64 ...\r\n"
       ]
      },
      {
       "output_type": "stream",
       "stream": "stdout",
       "text": [
        "topic 63/64 ...\r\n"
       ]
      },
      {
       "output_type": "stream",
       "stream": "stdout",
       "text": [
        "topic 64/64 ...\r\n"
       ]
      },
      {
       "output_type": "stream",
       "stream": "stdout",
       "text": [
        "done\r\n",
        "Writing topic/word matrix file data/topicmodelling/kiva_topic_words_matrix.h5 .../usr/local/lib/python2.7/site-packages/pandas/io/pytables.py:2486: PerformanceWarning: \r\n",
        "your performance may suffer as PyTables will pickle object types that it cannot\r\n",
        "map directly to c-types [inferred_type->unicode,key->axis0] [items->None]\r\n",
        "\r\n",
        "  warnings.warn(ws, PerformanceWarning)\r\n",
        "/usr/local/lib/python2.7/site-packages/pandas/io/pytables.py:2486: PerformanceWarning: \r\n",
        "your performance may suffer as PyTables will pickle object types that it cannot\r\n",
        "map directly to c-types [inferred_type->unicode,key->block0_items] [items->None]\r\n",
        "\r\n",
        "  warnings.warn(ws, PerformanceWarning)\r\n"
       ]
      },
      {
       "output_type": "stream",
       "stream": "stdout",
       "text": [
        "done\r\n"
       ]
      }
     ],
     "prompt_number": 92
    },
    {
     "cell_type": "code",
     "collapsed": false,
     "input": [
      "!python src/build_topic_hierarchy.py --modelDir data/topicmodelling \\\n",
      "                                     --modelBaseName kiva \\\n",
      "                                     --nrClusters 10"
     ],
     "language": "python",
     "metadata": {},
     "outputs": [
      {
       "output_type": "stream",
       "stream": "stdout",
       "text": [
        "Reading topic/word matrix file data/topicmodelling/kiva_topic_words_matrix.h5 ..."
       ]
      },
      {
       "output_type": "stream",
       "stream": "stdout",
       "text": [
        " done\r\n",
        "Hierarchically clustering topics ... done\r\n",
        "hierarchy (64 leaves, 10 clusters): [7 1 0 0 0 4 4 4 6 5 8 4 1 4 4 3 4 1 4 3 0 3 4 1 0 4 4 0 1 4 4 3 4 4 1 2 4\r\n",
        " 0 4 4 1 1 1 1 4 4 4 1 9 1 3 3 4 0 1 1 1 4 3 4 4 3 4 1]\r\n"
       ]
      }
     ],
     "prompt_number": 106
    },
    {
     "cell_type": "markdown",
     "metadata": {},
     "source": [
      "Next steps:\n",
      "\n",
      "* calculate the *depth* of this hierarchy\n",
      "* build the serializable JSON object as required by Hi\u00e9rarchie\n",
      "* The JSON object must be capable of storing, AT EACH LEVEL, the\n",
      "\n",
      "Finally:\n",
      "* calculate for each document its distribution over topics (original goal of this script!)\n",
      "* link the IDs of the documents (i.e. their Kiva IDS) as subleaves to the bottom topics, (majority vote)"
     ]
    }
   ],
   "metadata": {}
  }
 ]
}