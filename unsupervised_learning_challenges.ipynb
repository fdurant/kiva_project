{
 "metadata": {
  "name": "",
  "signature": "sha256:23f13bf1b41d95d766bcdae28b0f3e7a432ff35a7df23a886e485091b4e26672"
 },
 "nbformat": 3,
 "nbformat_minor": 0,
 "worksheets": [
  {
   "cells": [
    {
     "cell_type": "heading",
     "level": 1,
     "metadata": {},
     "source": [
      "Unsupervised learning challenges (Frederik Durant)"
     ]
    },
    {
     "cell_type": "heading",
     "level": 2,
     "metadata": {},
     "source": [
      "Data preparation"
     ]
    },
    {
     "cell_type": "markdown",
     "metadata": {},
     "source": [
      "Our data are a slightly enhanced version of Kiva.org's loan records downloaded as a  [data dump](http://build.kiva.org/) from Feb 17, 2015. The loan data files in JSON got an extra processed_description field with language IDs, and were then loaded into a local MongoDB database called kiva.loans.\n",
      "\n",
      "The Kiva loan descriptions are real documents with multiple paragraphs, unlike tweets."
     ]
    },
    {
     "cell_type": "code",
     "collapsed": false,
     "input": [
      "from pymongo import MongoClient\n",
      "from datetime import datetime\n",
      "\n",
      "client = MongoClient()\n",
      "\n",
      "langcode = \"en\"\n",
      "loansCollection = client.kiva.loans\n",
      "#print \"Number of loan descriptions in '%s': %d\" % (langcode,loansCollection.find({\"processed_description.texts.%s\" % langcode :{'$exists': True}}).count())\n",
      "\n",
      "startYear = 2015\n",
      "start = datetime(startYear, 1, 1)\n",
      "c = loansCollection.find({\"$and\" : [{\"posted_date\" : { \"$gte\" : start }},\n",
      "                                    {\"processed_description.texts.%s\" % langcode :{'$exists': True}}\n",
      "                                    ]\n",
      "                                    })\n",
      "print \"Number of loans in '%s' since %d: %d\" % (langcode,startYear,c.count())\n",
      "documents = []\n",
      "for loan in c:\n",
      "    documents.append(loan[\"processed_description\"][\"texts\"][langcode])\n",
      "\n",
      "print documents[0:1]"
     ],
     "language": "python",
     "metadata": {},
     "outputs": [
      {
       "output_type": "stream",
       "stream": "stdout",
       "text": [
        "Number of loans in 'en' since 2015: 17938\n",
        "[u\"Jose is 49 years old and lives with his partner. He lives in his own home with his partner and their three children in the rural zone of the Oyotun district, Chiclayo province, Lambayeque region, on the north coast of Peru. The inhabitants of this district mainly make a living in agriculture, livestock and business.\\n\\nHe makes a living offering transport services in his mototaxi, with seven years of experience in the business. He has very good personal and work references in the area. The loan will be used to maintain his vehicle as well as to undertake repairs in the garage where he keeps his mototaxi. With this, Jose hopes to offer a better service to his clients, increasing his income level, and therefore his and his family's quality of life.\"]"
       ]
      },
      {
       "output_type": "stream",
       "stream": "stdout",
       "text": [
        "\n"
       ]
      }
     ],
     "prompt_number": 23
    },
    {
     "cell_type": "heading",
     "level": 2,
     "metadata": {},
     "source": [
      "Challenge 1"
     ]
    },
    {
     "cell_type": "markdown",
     "metadata": {},
     "source": [
      "Cluster sentences with K-means. If you have your own Fletcher test data, get sentences out and cluster them. If not, cluster the tweets you gathered during the last challenge set. For each cluster, print out the sentences, try to see how close the sentences are. Try different K values and try to find a K value that makes the most sense (the sentences look like they do form a meaningful cluster)."
     ]
    },
    {
     "cell_type": "code",
     "collapsed": false,
     "input": [
      "from nltk.tokenize import word_tokenize\n",
      "from sklearn.feature_extraction.text import TfidfVectorizer\n",
      "from sklearn.cluster import KMeans\n",
      "from sklearn import metrics\n",
      "from pprint import pprint\n",
      "import sys\n",
      "\n",
      "# number of documents to cluster                                                                                                             \n",
      "nrDocs = 2500\n",
      "\n",
      "# Build a TFIDF weighted document-term matrix                                                                                                \n",
      "vectorizer = TfidfVectorizer(stop_words=\"english\", ngram_range=(1,1), tokenizer=word_tokenize, use_idf=True)\n",
      "docVectors = vectorizer.fit_transform(documents[:nrDocs])\n",
      "\n",
      "# Inspired by http://scikit-learn.org/stable/auto_examples/cluster/plot_kmeans_digits.html                                                   \n",
      "print(\"number of sample docs: %d, \\t number of unigram features: %d\" % (docVectors.shape[0], docVectors.shape[1]))\n",
      "\n",
      "minNrClusters = 5\n",
      "maxNrClusters = 25\n",
      "results = {}\n",
      "\n",
      "def groupDocsByCluster(clusterIndices,docs):\n",
      "    '''                                                                                                                                      \n",
      "    clusterIndices is a list cluster indices                                                                                                 \n",
      "    documents is a list of documents                                                                                                         \n",
      "    result is a dict with cluster indices as key, and a list of documents as value                                                           \n",
      "    '''\n",
      "    assert(len(clusterIndices) == len(docs)), \"number of cluster indices %d and number of documents %d are unequal\" % (len(clusterIndices),l\\\n",
      "en(docs))\n",
      "    result = {}\n",
      "    for cnt in range(len(clusterIndices)):\n",
      "        i = clusterIndices[cnt]\n",
      "        if result.has_key(i):\n",
      "            result[i].append(docs[cnt])\n",
      "        else:\n",
      "            result[i] = [docs[cnt]]\n",
      "    return result\n",
      "\n",
      "\n",
      "for nrClusters in range(minNrClusters,maxNrClusters+1):\n",
      "    print >> sys.stderr, \"Fitting KMeans model with %s clusters\" % nrClusters\n",
      "    results[nrClusters] = {}\n",
      "    model = KMeans(n_clusters=nrClusters).fit(docVectors)\n",
      "    results[nrClusters]['inertia'] = model.inertia_\n",
      "    results[nrClusters]['predictions'] = model.predict(docVectors)\n",
      "    results[nrClusters]['cluster_centroids'] = model.cluster_centers_\n",
      "    \n",
      "# Just for inspection                                                                                                                        \n",
      "clusteredDocs = groupDocsByCluster(results[minNrClusters]['predictions'],documents[:nrDocs])\n",
      "for k in sorted(clusteredDocs.keys()):\n",
      "    print \"<<<<<<<<<< SAMPLES FROM CLUSTER %d: >>>>>>>>>\" % k\n",
      "    print \"\\n-----------------------------------------------------------------\\n\\n\".join(clusteredDocs[k][:3])\n",
      "    print"
     ],
     "language": "python",
     "metadata": {},
     "outputs": [
      {
       "output_type": "stream",
       "stream": "stderr",
       "text": [
        "Fitting KMeans model with 5 clusters\n",
        "Fitting KMeans model with 6 clusters"
       ]
      },
      {
       "output_type": "stream",
       "stream": "stderr",
       "text": [
        "\n",
        "Fitting KMeans model with 7 clusters"
       ]
      },
      {
       "output_type": "stream",
       "stream": "stderr",
       "text": [
        "\n",
        "Fitting KMeans model with 8 clusters"
       ]
      },
      {
       "output_type": "stream",
       "stream": "stderr",
       "text": [
        "\n",
        "Fitting KMeans model with 9 clusters"
       ]
      },
      {
       "output_type": "stream",
       "stream": "stderr",
       "text": [
        "\n",
        "Fitting KMeans model with 10 clusters"
       ]
      },
      {
       "output_type": "stream",
       "stream": "stderr",
       "text": [
        "\n",
        "Fitting KMeans model with 11 clusters"
       ]
      },
      {
       "output_type": "stream",
       "stream": "stderr",
       "text": [
        "\n",
        "Fitting KMeans model with 12 clusters"
       ]
      },
      {
       "output_type": "stream",
       "stream": "stderr",
       "text": [
        "\n",
        "Fitting KMeans model with 13 clusters"
       ]
      },
      {
       "output_type": "stream",
       "stream": "stderr",
       "text": [
        "\n",
        "Fitting KMeans model with 14 clusters"
       ]
      },
      {
       "output_type": "stream",
       "stream": "stderr",
       "text": [
        "\n",
        "Fitting KMeans model with 15 clusters"
       ]
      },
      {
       "output_type": "stream",
       "stream": "stderr",
       "text": [
        "\n",
        "Fitting KMeans model with 16 clusters"
       ]
      },
      {
       "output_type": "stream",
       "stream": "stderr",
       "text": [
        "\n",
        "Fitting KMeans model with 17 clusters"
       ]
      },
      {
       "output_type": "stream",
       "stream": "stderr",
       "text": [
        "\n",
        "Fitting KMeans model with 18 clusters"
       ]
      },
      {
       "output_type": "stream",
       "stream": "stderr",
       "text": [
        "\n",
        "Fitting KMeans model with 19 clusters"
       ]
      },
      {
       "output_type": "stream",
       "stream": "stderr",
       "text": [
        "\n",
        "Fitting KMeans model with 20 clusters"
       ]
      },
      {
       "output_type": "stream",
       "stream": "stderr",
       "text": [
        "\n",
        "Fitting KMeans model with 21 clusters"
       ]
      },
      {
       "output_type": "stream",
       "stream": "stderr",
       "text": [
        "\n",
        "Fitting KMeans model with 22 clusters"
       ]
      },
      {
       "output_type": "stream",
       "stream": "stderr",
       "text": [
        "\n",
        "Fitting KMeans model with 23 clusters"
       ]
      },
      {
       "output_type": "stream",
       "stream": "stderr",
       "text": [
        "\n",
        "Fitting KMeans model with 24 clusters"
       ]
      },
      {
       "output_type": "stream",
       "stream": "stderr",
       "text": [
        "\n",
        "Fitting KMeans model with 25 clusters"
       ]
      },
      {
       "output_type": "stream",
       "stream": "stdout",
       "text": [
        "number of sample docs: 2500, \t number of unigram features: 10377\n",
        "<<<<<<<<<< SAMPLES FROM CLUSTER 0: >>>>>>>>>"
       ]
      },
      {
       "output_type": "stream",
       "stream": "stdout",
       "text": [
        "\n",
        "Alma works hard to support her family. Alma is married and has a pig fattening business in the Philippines.\n",
        "\n",
        "She requested a PHP 10,000 loan through NWTF to buy feed and vitamins for her pigs.\n",
        "\n",
        "Alma has been in this business for 10 years now.\n",
        "\n",
        "In the future, Alma would like to save money to expand her business.\n",
        "-----------------------------------------------------------------\n",
        "\n",
        "Anecita is 54 years old and married with three children. She is a very hardworking entrepreneur. \n",
        "\n",
        "She has a buy and sell of clothing business in the Philippines. Anecita requested a PHP 11,000 loan through NWTF to buy additional items like t-shirts, pants, shorts, etc.\n",
        "\n",
        "Anecita has been in this business for three years. In the future, Anecita would like to save money to expand her business.\n",
        "-----------------------------------------------------------------\n",
        "\n",
        "Asoncion works hard to support her family. Asoncion is married and has a dried fish vending business in the Philippines.\n",
        "\n",
        "She requested a PHP 10,000 loan through NWTF to purchase additional boxes of dried fish to sell.\n",
        "\n",
        "Asoncion has been in this business for 18 years now.\n",
        "\n",
        "She would like to save enough to provide a secure future for her family.\n",
        "\n",
        "<<<<<<<<<< SAMPLES FROM CLUSTER 1: >>>>>>>>>\n",
        "Jose is 49 years old and lives with his partner. He lives in his own home with his partner and their three children in the rural zone of the Oyotun district, Chiclayo province, Lambayeque region, on the north coast of Peru. The inhabitants of this district mainly make a living in agriculture, livestock and business.\n",
        "\n",
        "He makes a living offering transport services in his mototaxi, with seven years of experience in the business. He has very good personal and work references in the area. The loan will be used to maintain his vehicle as well as to undertake repairs in the garage where he keeps his mototaxi. With this, Jose hopes to offer a better service to his clients, increasing his income level, and therefore his and his family's quality of life.\n",
        "-----------------------------------------------------------------\n",
        "\n",
        "Maria is 45 years old and married. Her family, her husband and son, live together in their own house in the Lagunas district of Chiclayo Province in the Lambayeque region on the north coast of Per\u00fa. The people of this district are reliant on agriculture, cattle raising, and commerce. \n",
        "\n",
        "Maria's business is selling produce. She has over three years of experience in this line of work and has very good personal and professional references. In addition, she raises livestock such as ducks, guinea pigs, and sheep. This loan will be used to buy greater quantities of produce so as to increase her business's stock. With this she hopes to increase sales, and thus her income, and improve her quality of life. \n",
        "-----------------------------------------------------------------\n",
        "\n",
        "Alcides is 52 years old and has a life partner. He lives with his partner and their daughter in the Callayuc province in the Cajamarca region in the northern mountains of Peru. In that district, the population works in agriculture and livestock.\n",
        "\n",
        "Alcides makes a living raising and selling farmyard animals like guinea pigs, chicken and ducks, among others. He has over five years of experience in this field and has very good personal and work references in the area. The purpose of the loan will be to buy a greater quantity of animals like guinea pigs, chickens and ducks, as well as to buy animal feed for them. With this, Alcides hopes to increase his business's production and improve the quality of the products he offers his customers, which will have a positive impact on his income level and, therefore, his quality of life.\n",
        "\n",
        "<<<<<<<<<< SAMPLES FROM CLUSTER 2: >>>>>>>>>\n",
        "Sylivier is 43 years old. He is married with five children aged between 1 and 14 years, 4 of whom go to school. He is a farmer and has been farming for 20 years. With the loan from Kiva, he would like to buy more fertilizers to grow maize, which he will then sell. The profits from the business will be used to pay for his workers.\n",
        "\n",
        "The agriculture sector accounts for 37% of Rwanda's gross domestic product, generates 65% of Rwanda's export revenue, and employs approximately 90% of Rwandans (as of 2009). Despite the importance of agriculture to Rwandans and their economy, financial institutions view lending to fund agricultural activities as a high-risk proposition because the profitability of these activities is affected by weather, natural disasters, and price fluctuations. For this reason, farmers in Rwanda remain underserved by financial institutions. Urwego Opportunity Bank is expanding into this market and is happy to provide Kiva lenders with the opportunity to support Rwandan farmers. \n",
        "-----------------------------------------------------------------\n",
        "\n",
        "Innocent is 44 years old. He is married with 7 children aged between 1 and 22 years, 4 of whom go to school. \n",
        "\n",
        "Innocent has been farming for 21 years. He will use this loan from Kiva's lenders to buy fertilizer to grow maize which he will then sell. The profits will be used to pay his employees.\n",
        "\n",
        "As of 2009, the agriculture sector accounts for 37% of Rwanda's gross domestic product, generates 65% of Rwanda's export revenue, and employs approximately 90% of Rwandans. However, despite the importance of agriculture to Rwandans and their economy, financial institutions view lending to fund agricultural activities as a high-risk proposition because the profitability of these activities is affected by weather, natural disasters, and price fluctuations. For this reason, farmers in Rwanda remain underserved by financial institutions. Urwego Opportunity Bank is expanding into this market and is happy to provide Kiva lenders with the opportunity to support Rwandan farmers. \n",
        "-----------------------------------------------------------------\n",
        "\n",
        "Joseph is 48 years old. He is married with four children aged between seven and 23 years; all of them go to school. Joseph has farmed for 15 years and will use his Kiva loan to buy fertilizer and grow and sell maize. The profits from the business will be used to pay for his employees.\n",
        "\n",
        "The agriculture sector accounts for 37% of Rwanda's gross domestic product, generates 65% of Rwanda's export revenue, and employs approximately 90% of Rwandans (as of 2009). Despite the importance of agriculture to Rwandans and their economy, financial institutions view lending to fund agricultural activities as a high-risk proposition because the profitability of these activities is affected by weather, natural disasters, and price fluctuations. For this reason, farmers in Rwanda remain underserved by financial institutions. Urwego Opportunity Bank is expanding into this market and is happy to provide Kiva lenders with the opportunity to support Rwandan farmers.\n",
        "\n",
        "<<<<<<<<<< SAMPLES FROM CLUSTER 3: >>>>>>>>>\n",
        "Sothy\u2019s group lives in a rural village in Kompong Thom province in Cambodia. Sothy works as a farm laborer and he also does extra work as a seller by selling bread to support his family. In their village there is no reliable access to safe, clean drinking water. Having a water filter at home will help each of woman and man to safeguard the health of their families, save money on medical expenses and save time by not having to collect fuel and boil water.\n",
        "-----------------------------------------------------------------\n",
        "\n",
        "Rosita is 35 years old and married. She lives with her husband and her children. She has two daughter. She usually sells food and her husband has been a farmer for over 11 years to increase the family's income. She was pleased to be able to help her husband to improve their life\n",
        "\n",
        "She has asked for a loan from KPP-UMKM Syariah for 6,000,000 rupiah. This loan will be used to buy and build a bathroom, septic tank, and closet at her home to improve access to water and sanitation for her family. She wants to have access to safe sanitation for her family. Her family income is still not enough to build toilets and water resources with cash, but she is able to repay the loans received.\n",
        "\n",
        "She and her family want to live a healthy life with healthy sanitation. She is very grateful for the opportunity and wants to thank all of lenders.\n",
        "-----------------------------------------------------------------\n",
        "\n",
        "Murni is 50 years old and married. She lives with her husband and her children. She has two sons. She has been selling food and cakes for over eleven years to increase the family income. She was pleased to be able to help her husband to improve and have a better life.\n",
        "\n",
        "She has asked for a loan from KPP-UMKM Syariah for 7,500,000 rupiah. This loan will be used to buy and build a bathroom, septic tank, and closet at their home to improve access to water and sanitation for their family. She wants to have access to safe sanitation for the families. Her family income is still not enough to build toilets and water resources with cash, but they are able to repay the loans received.\n",
        "\n",
        "She and her family want to live a healthy life with healthy sanitation. She is very grateful for the opportunity and wants to thank to all of lenders.\n",
        "\n",
        "<<<<<<<<<< SAMPLES FROM CLUSTER 4: >>>>>>>>>\n",
        "The communal bank \"San Agust\u00edn\" is the name of this group, which includes 8 hardworking women with initiative. They are from a community where there is a large lake where the residents go out daily to fish, wash clothes, or enjoy themselves.  The members of this group are:\n",
        "\n",
        "Josefina \u2013 sells wooden furniture \n",
        "\n",
        "Francisca \u2013 sells shoe through a catalog\n",
        "\n",
        "Maria Del Carmen - sells chicken\n",
        "\n",
        "Marisela - sells bread\n",
        "\n",
        "Karina \u2013  sells tortillas \n",
        "\n",
        "Gloria - sells sweets\n",
        "\n",
        "Karina is a very responsible person.  Three years ago she took over the care of her nephew, whom she loves as if she was his mother.  Karina learned to make tortillas by hand when she was a little girl.  Her mother taught her, and she has been selling this traditional Mexican food for 2 years.  Mondays through Saturdays she gets up at 5am to wash the corn that she cooked the previous evening, and later she grinds it, turns on the light, and opens her business.  Each day she sells about 500 tortillas.  Karina must take good care of her hands, since they are her main work tool.  In addition to this activity, Karina also rents her mill to other people who make their own tortillas.\n",
        "\n",
        "With her earnings, Karina covers the bi-monthly payment that covers the electricity that the mill uses, and she also buys firewood and contributes to the household finances.  As with her previous loans, she will buy corn at wholesale and a new griddle, and she will also do maintenance work on her mill so that she can keep her business running.  \"I'm thinking about starting up a new business, so that I can make use of my free time in the afternoons and increase my income.\"\n",
        "\n",
        "Note: the photograph was taken in front of Francisca's house.  Karina is seen wearing a grey skirt and a blue blouse.\n",
        "-----------------------------------------------------------------\n",
        "\n",
        "The most important crop in the region where the group is located is sugar cane. Almost all of the fields are covered with this fruit, although one also tends to see lime, papaya, and orange trees. The members of Las Tres Mar\u00edas [The Three Mar\u00edas] and their occupations are:\n",
        "\n",
        "Francisca \u2013 Sewing\n",
        "\n",
        "Martina \u2013 Tacos\n",
        "\n",
        "Maria R. \u2013 Bread\n",
        "\n",
        "Mar\u00eda R. is an extremely committed person. She is married to Filiberto and has three children. The youngest of her children is 15 years old. She does not know how to read or write due to the fact that she did not study. Therefore, she unfortunately had to start working from a very early age to help her parents take care of her siblings. \n",
        "\n",
        "Mar\u00eda R. used to make a living by buying and reselling bread with the purpose of giving her children the quality of life that she did not have. \u201cI will never forget the day in which my son told me: \u2018Mom, why don\u2019t you make bread to sell instead of buying it?\u2019\u201d she says. When Filiberto arrived at the house after a day of work, she told him the little one\u2019s idea and that was how they started their own bakery 5 years ago. The invested their savings to buy materials to build a stone oven where the bread is cooked over a wood fire. They also bought flour, sugar, butter, and food coloring. \n",
        "\n",
        "At the beginning, Mar\u00eda R.\u2019s biggest fear was to not be successful and that her investment would be in vain. Today, her bakery employs 7 people. She, her husband, and her brother-in-law prepare the bread. \u201cI like to sell. For this reason, after I finish making the bread I carry 80 pieces in my basket and I go out to sell them to the neighboring communities,\u201d she says.\n",
        "\n",
        "Thanks to the two loans that she received before, she was able to buy baskets, sugar, butter, flour, and firewood, continuing her bakery in this manner. Due to the fact that the coldest months in the region are arriving, the inhabitants tend to buy more bread. For this reason, Mar\u00eda R. needs to buy more ingredients and materials to take advantage of the season. \n",
        "\n",
        "*The photograph was taken in Ma Filiberta\u2019s house. Mar\u00eda R. is wearing a blue t-shirt and is leaning against some pieces of firewood.\n",
        "-----------------------------------------------------------------\n",
        "\n",
        "Javier is 29 years old and studied through high school. Later he stopped studying because he could not pay university costs. He has a life partner and one child. His partner sells clothing and both of them work to support their home. Javier has been in sales for 5 years. He makes and sells bread everyday in the streets of his town and the surrounding communities. Before, he sold ice cream but the bread sales are going better. He is requesting a  loan to buy flour, sugar, yeast, molds, and more for his business. Javier sees a great opportunity to grow in this business. His dream is to establish a big bakery and create jobs for people who need them.\n",
        "\n"
       ]
      },
      {
       "output_type": "stream",
       "stream": "stderr",
       "text": [
        "\n"
       ]
      }
     ],
     "prompt_number": 39
    },
    {
     "cell_type": "heading",
     "level": 2,
     "metadata": {},
     "source": [
      "Challenge 2"
     ]
    },
    {
     "cell_type": "markdown",
     "metadata": {},
     "source": [
      "Draw the inertia curve over different k values. (Sklearn KMeans class has an inertia_ attribute)"
     ]
    },
    {
     "cell_type": "code",
     "collapsed": false,
     "input": [
      "%matplotlib inline\n",
      "\n",
      "from matplotlib import pyplot as plt\n",
      "#print \"KMeans with %d clusters has inertia: %d\" % (nrClusters, model.inertia_)                                                              \n",
      "\n",
      "X = [n for n in sorted(results.keys())]\n",
      "Y = [results[n]['inertia'] for n in X]\n",
      "\n",
      "plt.figure()\n",
      "plt.scatter(X,Y)\n",
      "plt.title(\"Metric of goodness for KMeans document clustering\")\n",
      "plt.xlabel(\"Number of clusters\")\n",
      "plt.ylabel(\"Inertia\")\n",
      "plt.show()"
     ],
     "language": "python",
     "metadata": {},
     "outputs": [
      {
       "metadata": {},
       "output_type": "display_data",
       "png": "[encoded data removed]",
       "text": [
        "<matplotlib.figure.Figure at 0x10a0e2cd0>"
       ]
      }
     ],
     "prompt_number": 40
    },
    {
     "cell_type": "heading",
     "level": 2,
     "metadata": {},
     "source": [
      "Challenge 3"
     ]
    },
    {
     "cell_type": "markdown",
     "metadata": {},
     "source": [
      "**Let's name the clusters 1**\n",
      "\n",
      "For each cluster, find the sentence closest to the centroid of the cluster. (You can use sklearn.metrics.pairwise_distances6 or scipy.spatial.distance3 [check pdist, cdist, and euclidean distance] to find distances to the centroid). KMeans has a cluster_centroids_ attribute. This sentence (closest to centroid) is now the name of the cluster. For each cluster, print the representative sentence, and print 'N people expressed a similar statement', or something like that relevant to your dataset. (This is very close to what amazon used to do in the reviews section up to a year ago.)\n",
      "\n",
      "Find the biggest 3 clusters, and print their representative sentences (This is close to what amazon is doing now in the reviews section, except they choose the sentence from the most helpful review instead of closest to center)"
     ]
    },
    {
     "cell_type": "code",
     "collapsed": false,
     "input": [
      "from sklearn.metrics.pairwise import pairwise_distances\n",
      "from collections import Counter\n",
      "\n",
      "def getIndicesOfClosest(distances, n=1):\n",
      "    result = sorted(range(len(distances)), key=lambda i:distances[i])\n",
      "    return result[n]\n",
      "\n",
      "for nrClusters in range(minNrClusters,minNrClusters+3):\n",
      "    centroids = results[nrClusters]['cluster_centroids']\n",
      "    groupedPredictions = Counter(results[nrClusters]['predictions'])\n",
      "    sortedGroupedPredictions = [(l,k) for k,l in sorted([(j,i) for i,j in groupedPredictions.items()], reverse=True)]\n",
      "    print \"<<<<<<<<<< For %d clusters >>>>>>>>>>\" % nrClusters\n",
      "    for (clusterIndex,nrInstancesInCluster) in sortedGroupedPredictions[0:3]:\n",
      "        c = centroids[clusterIndex]\n",
      "        distances = pairwise_distances(docVectors, Y=[c], metric='cosine')\n",
      "        indexOfClosest = getIndicesOfClosest(distances, 1)\n",
      "        closestDocument = documents[indexOfClosest]\n",
      "        print \"\\n<< central document in cluster %d (%d instances)>>\" % (clusterIndex,nrInstancesInCluster)\n",
      "        print closestDocument[:100] + \" ...\""
     ],
     "language": "python",
     "metadata": {},
     "outputs": [
      {
       "output_type": "stream",
       "stream": "stdout",
       "text": [
        "<<<<<<<<<< For 5 clusters >>>>>>>>>>\n",
        "\n",
        "<< central document in cluster 4 (1609 instances)>>\n",
        "Amelida is 52 years old, married, and lives with her family in a rural area of the Oyot\u00fan district.  ...\n",
        "\n",
        "<< central document in cluster 0 (664 instances)>>\n",
        "As a married parent of five children, Irene works hard to support her family.\n",
        "\n",
        "She has a general sto ...\n",
        "\n",
        "<< central document in cluster 1 (120 instances)>>\n",
        "Amelida is 52 years old, married, and lives with her family in a rural area of the Oyot\u00fan district.  ...\n",
        "<<<<<<<<<< For 6 clusters >>>>>>>>>>\n",
        "\n",
        "<< central document in cluster 1 (1502 instances)>>"
       ]
      },
      {
       "output_type": "stream",
       "stream": "stdout",
       "text": [
        "\n",
        "Amelida is 52 years old, married, and lives with her family in a rural area of the Oyot\u00fan district.  ...\n",
        "\n",
        "<< central document in cluster 0 (476 instances)>>\n",
        "Ma. Jory is 44 years old and married with five children.\n",
        "\n",
        "She works hard to provide for her family.  ...\n",
        "\n",
        "<< central document in cluster 4 (190 instances)>>\n",
        "As a parent of two children, Paz works hard to support her family.She has a food vending business in ...\n",
        "<<<<<<<<<< For 7 clusters >>>>>>>>>>\n",
        "\n",
        "<< central document in cluster 2 (1381 instances)>>"
       ]
      },
      {
       "output_type": "stream",
       "stream": "stdout",
       "text": [
        "\n",
        "Amelida is 52 years old, married, and lives with her family in a rural area of the Oyot\u00fan district.  ...\n",
        "\n",
        "<< central document in cluster 4 (461 instances)>>\n",
        "Ma. Jory is 44 years old and married with five children.\n",
        "\n",
        "She works hard to provide for her family.  ...\n",
        "\n",
        "<< central document in cluster 1 (205 instances)>>\n",
        "As a parent of two children, Paz works hard to support her family.She has a food vending business in ...\n"
       ]
      }
     ],
     "prompt_number": 41
    },
    {
     "cell_type": "heading",
     "level": 2,
     "metadata": {},
     "source": [
      "Challenge 4"
     ]
    },
    {
     "cell_type": "markdown",
     "metadata": {},
     "source": [
      "**Let's name the clusters 2**\n",
      "\n",
      "Calculate the tf-idf of each word in each cluster (think of all sentences of a cluster together as a document). Represent each cluster with the top 1, or top 2 or... to 5 tf-idf words. For each cluster, print the name (keywords) of the cluster, and \"N statements\" in the cluster (N is the size of the cluster)"
     ]
    },
    {
     "cell_type": "code",
     "collapsed": false,
     "input": [
      "import numpy as np\n",
      "\n",
      "for nrClusters in range(minNrClusters,minNrClusters+3):\n",
      "    groupedPredictions = Counter(results[nrClusters]['predictions'])\n",
      "    #print groupedPredictions\n",
      "    \n",
      "    print \"<<<<<<<<<< For %d clusters >>>>>>>>>>\" % nrClusters\n",
      "\n",
      "    clusterSizeDocs = [\"\" for x in range(nrClusters)]\n",
      "    for i,docIndex in enumerate(results[nrClusters]['predictions']):\n",
      "        clusterSizeDocs[docIndex] += (documents[i])\n",
      "\n",
      "    # Build a TFIDF weighted document-term matrix                                                                                                \n",
      "    vectorizer = TfidfVectorizer(stop_words=\"english\", ngram_range=(1,1), tokenizer=word_tokenize, use_idf=True)\n",
      "    clusterVectors = vectorizer.fit_transform(clusterSizeDocs)\n",
      "#    print clusterVectors.shape\n",
      "\n",
      "    for clusterIndex in range(clusterVectors.shape[0]):\n",
      "        clusterVector = clusterVectors[clusterIndex,0:].todense()\n",
      "#        print clusterVector\n",
      "#        print clusterVector.shape\n",
      "        sortedIndicesByTFIDF = sorted(range(clusterVector.shape[1]), key=lambda i:clusterVector.item(0,i), reverse=True)\n",
      "#        print sortedIndicesByTFIDF\n",
      "#        print \"Number of features: %d\" % len(vectorizer.get_feature_names())\n",
      "        topTokens = [str(vectorizer.get_feature_names()[x]) for x in sortedIndicesByTFIDF[0:5]]\n",
      "        print \"cluster %d (size %d) highest TFIDF terms:\" % (clusterIndex, dict(groupedPredictions)[clusterIndex]), topTokens"
     ],
     "language": "python",
     "metadata": {},
     "outputs": [
      {
       "output_type": "stream",
       "stream": "stdout",
       "text": [
        "<<<<<<<<<< For 5 clusters >>>>>>>>>>\n",
        "cluster 0 (size 664) highest TFIDF terms:"
       ]
      },
      {
       "output_type": "stream",
       "stream": "stdout",
       "text": [
        " ['.', 'nwtf', ',', 'business', 'php']\n",
        "cluster 1 (size 120) highest TFIDF terms:"
       ]
      },
      {
       "output_type": "stream",
       "stream": "stdout",
       "text": [
        " [',', '.', 'district', 'ducks', 'region']\n",
        "cluster 2 (size 61) highest TFIDF terms:"
       ]
      },
      {
       "output_type": "stream",
       "stream": "stdout",
       "text": [
        " ['.', ',', 'rwanda', '%', 'rwandans']\n",
        "cluster 3 (size 46) highest TFIDF terms:"
       ]
      },
      {
       "output_type": "stream",
       "stream": "stdout",
       "text": [
        " ['.', 'water', ',', 'community', 'chlorine']\n",
        "cluster 4 (size 1609) highest TFIDF terms:"
       ]
      },
      {
       "output_type": "stream",
       "stream": "stdout",
       "text": [
        " ['.', ',', 'loan', 'business', 'years']\n",
        "<<<<<<<<<< For 6 clusters >>>>>>>>>>\n",
        "cluster 0 (size 476) highest TFIDF terms:"
       ]
      },
      {
       "output_type": "stream",
       "stream": "stdout",
       "text": [
        " ['.', ',', 'nwtf', 'business', 'years']\n",
        "cluster 1 (size 1502) highest TFIDF terms:"
       ]
      },
      {
       "output_type": "stream",
       "stream": "stdout",
       "text": [
        " ['.', ',', 'loan', 'business', 'years']\n",
        "cluster 2 (size 61) highest TFIDF terms:"
       ]
      },
      {
       "output_type": "stream",
       "stream": "stdout",
       "text": [
        " ['.', ',', 'rwanda', '%', 'rwandans']\n",
        "cluster 3 (size 179) highest TFIDF terms:"
       ]
      },
      {
       "output_type": "stream",
       "stream": "stdout",
       "text": [
        " [',', '.', 'district', 'som', 'loan']\n",
        "cluster 4 (size 190) highest TFIDF terms:"
       ]
      },
      {
       "output_type": "stream",
       "stream": "stdout",
       "text": [
        " ['.', 'business', 'nwtf', ',', 'hard']\n",
        "cluster 5 (size 92) highest TFIDF terms:"
       ]
      },
      {
       "output_type": "stream",
       "stream": "stdout",
       "text": [
        " ['.', ',', 'anticipated', 'business', 'years']\n",
        "<<<<<<<<<< For 7 clusters >>>>>>>>>>\n",
        "cluster 0 (size 92) highest TFIDF terms:"
       ]
      },
      {
       "output_type": "stream",
       "stream": "stdout",
       "text": [
        " ['.', ',', 'anticipated', 'business', 'years']\n",
        "cluster 1 (size 205) highest TFIDF terms:"
       ]
      },
      {
       "output_type": "stream",
       "stream": "stdout",
       "text": [
        " ['.', 'nwtf', 'business', ',', 'php']\n",
        "cluster 2 (size 1381) highest TFIDF terms:"
       ]
      },
      {
       "output_type": "stream",
       "stream": "stdout",
       "text": [
        " ['.', ',', 'loan', 'business', 'years']\n",
        "cluster 3 (size 111) highest TFIDF terms:"
       ]
      },
      {
       "output_type": "stream",
       "stream": "stdout",
       "text": [
        " ['.', ',', 'kgs', 'som', 'loan']\n",
        "cluster 4 (size 461) highest TFIDF terms:"
       ]
      },
      {
       "output_type": "stream",
       "stream": "stdout",
       "text": [
        " ['.', ',', 'nwtf', 'business', 'php']\n",
        "cluster 5 (size 61) highest TFIDF terms:"
       ]
      },
      {
       "output_type": "stream",
       "stream": "stdout",
       "text": [
        " ['.', ',', 'rwanda', '%', 'rwandans']\n",
        "cluster 6 (size 189) highest TFIDF terms:"
       ]
      },
      {
       "output_type": "stream",
       "stream": "stdout",
       "text": [
        " ['.', ',', 'water', 'community', 'district']\n"
       ]
      }
     ],
     "prompt_number": 42
    },
    {
     "cell_type": "heading",
     "level": 2,
     "metadata": {},
     "source": [
      "Challenge 5"
     ]
    },
    {
     "cell_type": "markdown",
     "metadata": {},
     "source": [
      "Let's name the clusters 3 Same as the previous challenge, but this time, calculate tf-idf only for nouns (NN tag) and build keyword(s) with nouns. (This is close to what amazon switched to last year, before settling into the current design). (They would show five nouns, you would click on one and it would show sentences - linked to the reviews- that were related to that noun.)"
     ]
    },
    {
     "cell_type": "code",
     "collapsed": false,
     "input": [
      "from nltk.tag import pos_tag\n",
      "from nltk.tokenize import sent_tokenize, word_tokenize\n",
      "import numpy as np\n",
      "\n",
      "vocabulary = {}\n",
      "for i,d in enumerate(documents[:nrDocs]):\n",
      "    sentences = sent_tokenize(d)\n",
      "    for si,s in enumerate(sentences):\n",
      "        tokens = pos_tag(word_tokenize(s))\n",
      "        nouns = [token for token in tokens if token[1] == 'NN']\n",
      "        for noun in nouns:\n",
      "            if vocabulary.has_key(noun):\n",
      "                vocabulary[noun] += 1\n",
      "            else:\n",
      "                vocabulary[noun] = 1\n",
      "    if i % (nrDocs/20) == 0:\n",
      "        print >> sys.stderr, \"Tokenized sentences and words from document #%d out of %d\" % (i,nrDocs)\n",
      "\n",
      "voc = [entry[0] for entry in sorted(vocabulary.keys(), key=lambda x:vocabulary[x], reverse=True)]\n",
      "print \"Vocabulary (%d clusters)\" % nrClusters, voc[0:10]\n",
      "\n",
      "for nrClusters in range(minNrClusters,minNrClusters+10):\n",
      "    groupedPredictions = Counter(results[nrClusters]['predictions'])\n",
      "    #print groupedPredictions\n",
      "    \n",
      "    print \"<<<<<<<<<< For %d clusters >>>>>>>>>>\" % nrClusters\n",
      "\n",
      "    clusterSizeDocs = [\"\" for x in range(nrClusters)]\n",
      "    for i,docIndex in enumerate(results[nrClusters]['predictions']):\n",
      "        clusterSizeDocs[docIndex] += (documents[i])\n",
      "                \n",
      "    # Build a TFIDF weighted document-term matrix                                                                                                \n",
      "    vectorizer = TfidfVectorizer(stop_words=\"english\", ngram_range=(1,1), vocabulary=voc, use_idf=True)\n",
      "    clusterVectors = vectorizer.fit_transform(clusterSizeDocs)\n",
      "#    print clusterVectors.shape\n",
      "\n",
      "    for clusterIndex in range(clusterVectors.shape[0]):\n",
      "        clusterVector = clusterVectors[clusterIndex,0:].todense()\n",
      "#        print clusterVector\n",
      "#        print clusterVector.shape\n",
      "        sortedIndicesByTFIDF = sorted(range(clusterVector.shape[1]), key=lambda i:clusterVector.item(0,i), reverse=True)\n",
      "#        print sortedIndicesByTFIDF\n",
      "#        print \"Number of features: %d\" % len(vectorizer.get_feature_names())\n",
      "        topTokens = [str(vectorizer.get_feature_names()[x]) for x in sortedIndicesByTFIDF[0:5]]\n",
      "        print \"cluster %d (size %d) highest TFIDF terms:\" % (clusterIndex, dict(groupedPredictions)[clusterIndex]), topTokens"
     ],
     "language": "python",
     "metadata": {},
     "outputs": [
      {
       "output_type": "stream",
       "stream": "stderr",
       "text": [
        "Tokenized sentences and words from document #0 out of 2500\n",
        "Tokenized sentences and words from document #125 out of 2500"
       ]
      },
      {
       "output_type": "stream",
       "stream": "stderr",
       "text": [
        "\n",
        "Tokenized sentences and words from document #250 out of 2500"
       ]
      },
      {
       "output_type": "stream",
       "stream": "stderr",
       "text": [
        "\n",
        "Tokenized sentences and words from document #375 out of 2500"
       ]
      },
      {
       "output_type": "stream",
       "stream": "stderr",
       "text": [
        "\n",
        "Tokenized sentences and words from document #500 out of 2500"
       ]
      },
      {
       "output_type": "stream",
       "stream": "stderr",
       "text": [
        "\n",
        "Tokenized sentences and words from document #625 out of 2500"
       ]
      },
      {
       "output_type": "stream",
       "stream": "stderr",
       "text": [
        "\n",
        "Tokenized sentences and words from document #750 out of 2500"
       ]
      },
      {
       "output_type": "stream",
       "stream": "stderr",
       "text": [
        "\n",
        "Tokenized sentences and words from document #875 out of 2500"
       ]
      },
      {
       "output_type": "stream",
       "stream": "stderr",
       "text": [
        "\n",
        "Tokenized sentences and words from document #1000 out of 2500"
       ]
      },
      {
       "output_type": "stream",
       "stream": "stderr",
       "text": [
        "\n",
        "Tokenized sentences and words from document #1125 out of 2500"
       ]
      },
      {
       "output_type": "stream",
       "stream": "stderr",
       "text": [
        "\n",
        "Tokenized sentences and words from document #1250 out of 2500"
       ]
      },
      {
       "output_type": "stream",
       "stream": "stderr",
       "text": [
        "\n",
        "Tokenized sentences and words from document #1375 out of 2500"
       ]
      },
      {
       "output_type": "stream",
       "stream": "stderr",
       "text": [
        "\n",
        "Tokenized sentences and words from document #1500 out of 2500"
       ]
      },
      {
       "output_type": "stream",
       "stream": "stderr",
       "text": [
        "\n",
        "Tokenized sentences and words from document #1625 out of 2500"
       ]
      },
      {
       "output_type": "stream",
       "stream": "stderr",
       "text": [
        "\n",
        "Tokenized sentences and words from document #1750 out of 2500"
       ]
      },
      {
       "output_type": "stream",
       "stream": "stderr",
       "text": [
        "\n",
        "Tokenized sentences and words from document #1875 out of 2500"
       ]
      },
      {
       "output_type": "stream",
       "stream": "stderr",
       "text": [
        "\n",
        "Tokenized sentences and words from document #2000 out of 2500"
       ]
      },
      {
       "output_type": "stream",
       "stream": "stderr",
       "text": [
        "\n",
        "Tokenized sentences and words from document #2125 out of 2500"
       ]
      },
      {
       "output_type": "stream",
       "stream": "stderr",
       "text": [
        "\n",
        "Tokenized sentences and words from document #2250 out of 2500"
       ]
      },
      {
       "output_type": "stream",
       "stream": "stderr",
       "text": [
        "\n",
        "Tokenized sentences and words from document #2375 out of 2500"
       ]
      },
      {
       "output_type": "stream",
       "stream": "stdout",
       "text": [
        "Vocabulary (7 clusters) [u'business', u'loan', u'family', u'income', u'future', u'school', u'money', u'store', u'husband', u'group']\n",
        "<<<<<<<<<< For 5 clusters >>>>>>>>>>\n",
        "cluster 0 (size 664) highest TFIDF terms:"
       ]
      },
      {
       "output_type": "stream",
       "stream": "stdout",
       "text": [
        " ['business', 'future', 'loan', 'save', 'hard']\n",
        "cluster 1 (size 120) highest TFIDF terms: ['district', 'quality', 'region', 'northern', 'business']\n",
        "cluster 2 (size 61) highest TFIDF terms: ['agriculture', 'opportunity', 'kiva', 'export', 'gross']\n",
        "cluster 3 (size 46) highest TFIDF terms: ['water', 'community', 'chlorine', 'dispenser', 'carbon']\n",
        "cluster 4 (size 1609) highest TFIDF terms: ['loan', 'business', 'family', 'income', 'buy']\n",
        "<<<<<<<<<< For 6 clusters >>>>>>>>>>"
       ]
      },
      {
       "output_type": "stream",
       "stream": "stdout",
       "text": [
        "\n",
        "cluster 0 (size 476) highest TFIDF terms:"
       ]
      },
      {
       "output_type": "stream",
       "stream": "stdout",
       "text": [
        " ['business', 'loan', 'save', 'future', 'hard']\n",
        "cluster 1 (size 1502) highest TFIDF terms: ['loan', 'business', 'family', 'group', 'income']\n",
        "cluster 2 (size 61) highest TFIDF terms: ['agriculture', 'opportunity', 'kiva', 'export', 'gross']\n",
        "cluster 3 (size 179) highest TFIDF terms: ['district', 'som', 'business', 'loan', 'income']\n",
        "cluster 4 (size 190) highest TFIDF terms: ['business', 'hard', 'sustaining', 'borrowing', 'family']\n",
        "cluster 5 (size 92) highest TFIDF terms:"
       ]
      },
      {
       "output_type": "stream",
       "stream": "stdout",
       "text": [
        " ['business', 'loan', 'use', 'future', 'educate']\n",
        "<<<<<<<<<< For 7 clusters >>>>>>>>>>\n",
        "cluster 0 (size 92) highest TFIDF terms:"
       ]
      },
      {
       "output_type": "stream",
       "stream": "stdout",
       "text": [
        " ['business', 'loan', 'use', 'future', 'old']\n",
        "cluster 1 (size 205) highest TFIDF terms: ['business', 'sustaining', 'hard', 'borrowing', 'family']\n",
        "cluster 2 (size 1381) highest TFIDF terms: ['loan', 'business', 'family', 'income', 'buy']\n",
        "cluster 3 (size 111) highest TFIDF terms: ['som', 'loan', 'income', 'farm', 'bank']\n",
        "cluster 4 (size 461) highest TFIDF terms: ['business', 'loan', 'save', 'future', 'hard']\n",
        "cluster 5 (size 61) highest TFIDF terms:"
       ]
      },
      {
       "output_type": "stream",
       "stream": "stdout",
       "text": [
        " ['opportunity', 'agriculture', 'export', 'gross', 'kiva']\n",
        "cluster 6 (size 189) highest TFIDF terms: ['water', 'community', 'district', 'chlorine', 'province']\n",
        "<<<<<<<<<< For 8 clusters >>>>>>>>>>\n",
        "cluster 0 (size 379) highest TFIDF terms:"
       ]
      },
      {
       "output_type": "stream",
       "stream": "stdout",
       "text": [
        " ['business', 'future', 'loan', 'buy', 'save']\n",
        "cluster 1 (size 165) highest TFIDF terms: ['store', 'loan', 'business', 'sell', 'provide']\n",
        "cluster 2 (size 482) highest TFIDF terms: ['loan', 'business', 'family', 'quality', 'income']\n",
        "cluster 3 (size 46) highest TFIDF terms: ['water', 'community', 'chlorine', 'dispenser', 'carbon']\n",
        "cluster 4 (size 61) highest TFIDF terms: ['agriculture', 'opportunity', 'export', 'gross', 'maize']\n",
        "cluster 5 (size 79) highest TFIDF terms:"
       ]
      },
      {
       "output_type": "stream",
       "stream": "stdout",
       "text": [
        " ['husband', 'loan', 'kiva', 'partner', 'field']\n",
        "cluster 6 (size 121) highest TFIDF terms: ['business', 'hard', 'sustaining', 'family', 'parent']\n",
        "cluster 7 (size 1167) highest TFIDF terms: ['loan', 'business', 'family', 'income', 'old']\n",
        "<<<<<<<<<< For 9 clusters >>>>>>>>>>\n",
        "cluster 0 (size 207) highest TFIDF terms:"
       ]
      },
      {
       "output_type": "stream",
       "stream": "stdout",
       "text": [
        " ['business', 'sustaining', 'borrowing', 'hard', 'dream']\n",
        "cluster 1 (size 92) highest TFIDF terms: ['som', 'loan', 'income', 'bank', 'livestock']\n",
        "cluster 2 (size 104) highest TFIDF terms: ['district', 'quality', 'region', 'northern', 'province']\n",
        "cluster 3 (size 1434) highest TFIDF terms: ['loan', 'business', 'family', 'income', 'group']\n",
        "cluster 4 (size 166) highest TFIDF terms: ['store', 'loan', 'business', 'provide', 'sell']\n",
        "cluster 5 (size 37) highest TFIDF terms:"
       ]
      },
      {
       "output_type": "stream",
       "stream": "stdout",
       "text": [
        " ['water', 'chlorine', 'community', 'dispenser', 'carbon']\n",
        "cluster 6 (size 92) highest TFIDF terms: ['business', 'use', 'loan', 'future', 'educate']\n",
        "cluster 7 (size 307) highest TFIDF terms: ['business', 'future', 'loan', 'save', 'buy']\n",
        "cluster 8 (size 61) highest TFIDF terms: ['opportunity', 'agriculture', 'export', 'gross', 'kiva']\n",
        "<<<<<<<<<< For 10 clusters >>>>>>>>>>\n",
        "cluster 0 (size 163) highest TFIDF terms:"
       ]
      },
      {
       "output_type": "stream",
       "stream": "stdout",
       "text": [
        " ['store', 'loan', 'business', 'provide', 'save']\n",
        "cluster 1 (size 203) highest TFIDF terms: ['business', 'save', 'future', 'entrepreneur', 'send']\n",
        "cluster 2 (size 104) highest TFIDF terms: ['district', 'quality', 'region', 'northern', 'province']\n",
        "cluster 3 (size 61) highest TFIDF terms: ['opportunity', 'agriculture', 'export', 'gross', 'kiva']\n",
        "cluster 4 (size 37) highest TFIDF terms: ['water', 'community', 'chlorine', 'dispenser', 'carbon']\n",
        "cluster 5 (size 1449) highest TFIDF terms:"
       ]
      },
      {
       "output_type": "stream",
       "stream": "stdout",
       "text": [
        " ['loan', 'business', 'family', 'group', 'income']\n",
        "cluster 6 (size 92) highest TFIDF terms: ['business', 'use', 'loan', 'future', 'educate']\n",
        "cluster 7 (size 120) highest TFIDF terms: ['business', 'hard', 'dream', 'parent', 'sustaining']\n",
        "cluster 8 (size 195) highest TFIDF terms: ['business', 'future', 'loan', 'family', 'buy']\n",
        "cluster 9 (size 76) highest TFIDF terms: ['som', 'loan', 'bank', 'income', 'business']\n",
        "<<<<<<<<<< For 11 clusters >>>>>>>>>>\n",
        "cluster 0 (size 76) highest TFIDF terms:"
       ]
      },
      {
       "output_type": "stream",
       "stream": "stdout",
       "text": [
        " ['som', 'loan', 'bank', 'income', 'business']\n",
        "cluster 1 (size 92) highest TFIDF terms: ['business', 'loan', 'use', 'future', 'old']\n",
        "cluster 2 (size 850) highest TFIDF terms: ['loan', 'family', 'business', 'buy', 'old']\n",
        "cluster 3 (size 61) highest TFIDF terms: ['agriculture', 'opportunity', 'export', 'gross', 'kiva']\n",
        "cluster 4 (size 107) highest TFIDF terms: ['loan', 'husband', 'kiva', 'family', 'business']\n",
        "cluster 5 (size 29) highest TFIDF terms:"
       ]
      },
      {
       "output_type": "stream",
       "stream": "stdout",
       "text": [
        " ['business', 'electricity', 'access', 'selling', 'water']\n",
        "cluster 6 (size 464) highest TFIDF terms: ['loan', 'business', 'group', 'buy', 'family']\n",
        "cluster 7 (size 439) highest TFIDF terms: ['business', 'hard', 'buy', 'save', 'future']\n",
        "cluster 8 (size 37) highest TFIDF terms: ['water', 'community', 'chlorine', 'dispenser', 'carbon']\n",
        "cluster 9 (size 120) highest TFIDF terms: ['district', 'quality', 'region', 'northern', 'province']\n",
        "cluster 10 (size 225) highest TFIDF terms:"
       ]
      },
      {
       "output_type": "stream",
       "stream": "stdout",
       "text": [
        " ['store', 'loan', 'business', 'save', 'old']\n",
        "<<<<<<<<<< For 12 clusters >>>>>>>>>>\n",
        "cluster 0 (size 329) highest TFIDF terms:"
       ]
      },
      {
       "output_type": "stream",
       "stream": "stdout",
       "text": [
        " ['business', 'future', 'save', 'loan', 'buy']\n",
        "cluster 1 (size 603) highest TFIDF terms: ['loan', 'business', 'family', 'buy', 'old']\n",
        "cluster 2 (size 196) highest TFIDF terms: ['loan', 'buy', 'biodigester', 'old', 'family']\n",
        "cluster 3 (size 29) highest TFIDF terms: ['business', 'electricity', 'access', 'boost', 'school']\n",
        "cluster 4 (size 104) highest TFIDF terms: ['district', 'northern', 'quality', 'region', 'province']\n",
        "cluster 5 (size 570) highest TFIDF terms:"
       ]
      },
      {
       "output_type": "stream",
       "stream": "stdout",
       "text": [
        " ['loan', 'business', 'group', 'family', 'income']\n",
        "cluster 6 (size 163) highest TFIDF terms: ['store', 'loan', 'provide', 'hard', 'sell']\n",
        "cluster 7 (size 133) highest TFIDF terms: ['som', 'loan', 'income', 'business', 'livestock']\n",
        "cluster 8 (size 46) highest TFIDF terms: ['water', 'chlorine', 'community', 'dispenser', 'carbon']\n",
        "cluster 9 (size 174) highest TFIDF terms: ['business', 'sustaining', 'hard', 'borrowing', 'family']\n",
        "cluster 10 (size 61) highest TFIDF terms:"
       ]
      },
      {
       "output_type": "stream",
       "stream": "stdout",
       "text": [
        " ['agriculture', 'opportunity', 'export', 'gross', 'kiva']\n",
        "cluster 11 (size 92) highest TFIDF terms: ['business', 'use', 'loan', 'future', 'old']\n",
        "<<<<<<<<<< For 13 clusters >>>>>>>>>>\n",
        "cluster 0 (size 722) highest TFIDF terms:"
       ]
      },
      {
       "output_type": "stream",
       "stream": "stdout",
       "text": [
        " ['loan', 'business', 'family', 'old', 'buy']\n",
        "cluster 1 (size 408) highest TFIDF terms: ['business', 'loan', 'group', 'buy', 'family']\n",
        "cluster 2 (size 77) highest TFIDF terms: ['water', 'chlorine', 'community', 'dispenser', 'carbon']\n",
        "cluster 3 (size 61) highest TFIDF terms: ['agriculture', 'opportunity', 'export', 'gross', 'proposition']\n",
        "cluster 4 (size 252) highest TFIDF terms: ['business', 'future', 'loan', 'save', 'buy']\n",
        "cluster 5 (size 76) highest TFIDF terms:"
       ]
      },
      {
       "output_type": "stream",
       "stream": "stdout",
       "text": [
        " ['som', 'loan', 'bank', 'income', 'business']\n",
        "cluster 6 (size 173) highest TFIDF terms: ['business', 'sustaining', 'borrowing', 'hard', 'family']\n",
        "cluster 7 (size 76) highest TFIDF terms: ['business', 'attainment', 'pig', 'old', 'save']\n",
        "cluster 8 (size 76) highest TFIDF terms: ['loan', 'family', 'income', 'province', 'living']\n",
        "cluster 9 (size 165) highest TFIDF terms: ['store', 'loan', 'business', 'provide', 'sell']\n",
        "cluster 10 (size 120) highest TFIDF terms:"
       ]
      },
      {
       "output_type": "stream",
       "stream": "stdout",
       "text": [
        " ['district', 'quality', 'region', 'northern', 'province']\n",
        "cluster 11 (size 73) highest TFIDF terms: ['husband', 'kiva', 'loan', 'rickshaw', 'partner']\n",
        "cluster 12 (size 221) highest TFIDF terms: ['loan', 'business', 'farming', 'use', 'poultry']\n",
        "<<<<<<<<<< For 14 clusters >>>>>>>>>>\n",
        "cluster 0 (size 17) highest TFIDF terms:"
       ]
      },
      {
       "output_type": "stream",
       "stream": "stdout",
       "text": [
        " ['business', 'poor', 'fund', 'loan', 'hardship']\n",
        "cluster 1 (size 483) highest TFIDF terms: ['loan', 'business', 'income', 'group', 'family']\n",
        "cluster 2 (size 61) highest TFIDF terms: ['opportunity', 'agriculture', 'export', 'gross', 'kiva']\n",
        "cluster 3 (size 122) highest TFIDF terms: ['business', 'use', 'loan', 'future', 'educate']\n",
        "cluster 4 (size 112) highest TFIDF terms: ['water', 'community', 'chlorine', 'carbon', 'dispenser']\n",
        "cluster 5 (size 164) highest TFIDF terms:"
       ]
      },
      {
       "output_type": "stream",
       "stream": "stdout",
       "text": [
        " ['store', 'loan', 'save', 'provide', 'business']\n",
        "cluster 6 (size 76) highest TFIDF terms: ['som', 'loan', 'bank', 'income', 'business']\n",
        "cluster 7 (size 63) highest TFIDF terms: ['husband', 'kiva', 'partner', 'loan', 'field']\n",
        "cluster 8 (size 68) highest TFIDF terms: ['business', 'sustaining', 'borrowing', 'entrepreneur', 'income']\n",
        "cluster 9 (size 104) highest TFIDF terms: ['district', 'quality', 'northern', 'region', 'province']\n",
        "cluster 10 (size 782) highest TFIDF terms:"
       ]
      },
      {
       "output_type": "stream",
       "stream": "stdout",
       "text": [
        " ['loan', 'business', 'family', 'old', 'buy']\n",
        "cluster 11 (size 12) highest TFIDF terms: ['solar', 'energy', 'cell', 'lighting', 'hard']\n",
        "cluster 12 (size 317) highest TFIDF terms: ['business', 'future', 'save', 'loan', 'buy']\n",
        "cluster 13 (size 119) highest TFIDF terms: ['business', 'hard', 'sustaining', 'parent', 'borrowing']\n"
       ]
      },
      {
       "output_type": "stream",
       "stream": "stderr",
       "text": [
        "\n"
       ]
      }
     ],
     "prompt_number": 45
    },
    {
     "cell_type": "heading",
     "level": 2,
     "metadata": {},
     "source": [
      "Challenge 6"
     ]
    },
    {
     "cell_type": "markdown",
     "metadata": {},
     "source": [
      "Cluster the same data with [MiniBatchKMeans](http://scikit-learn.org/stable/modules/generated/sklearn.cluster.MiniBatchKMeans.html). MiniBatchKMeans is a fast way to apply K-means to large data without much loss -- The results are very similar. Instead of using EVERY single point to find the new place of the centroid, MiniBatch just randomly samples a small number (like 100) in the cluster to calculate the new center. Since this is usually very close to the actual center, the algorithm gets there much faster. Try it and compare the results.\n",
      "\n",
      "[Example on two-feature data](http://scikit-learn.org/stable/auto_examples/cluster/plot_mini_batch_kmeans.html)"
     ]
    },
    {
     "cell_type": "code",
     "collapsed": false,
     "input": [
      "from nltk.tag import pos_tag\n",
      "from nltk.tokenize import sent_tokenize, word_tokenize\n",
      "import numpy as np\n",
      "from sklearn.cluster import MiniBatchKMeans\n",
      "\n",
      "results2 = {}\n",
      "\n",
      "for nrClusters in range(minNrClusters,maxNrClusters+1):\n",
      "    print >> sys.stderr, \"Fitting MiniBatchKMeans model with %s clusters\" % nrClusters\n",
      "    results2[nrClusters] = {}\n",
      "    model = MiniBatchKMeans(n_clusters=nrClusters, batch_size=250).fit(docVectors)\n",
      "    results2[nrClusters]['inertia'] = model.inertia_\n",
      "    results2[nrClusters]['predictions'] = model.predict(docVectors)\n",
      "    results2[nrClusters]['cluster_centroids'] = model.cluster_centers_\n",
      "\n",
      "for nrClusters in range(minNrClusters,minNrClusters+10):\n",
      "    groupedPredictions2 = Counter(results2[nrClusters]['predictions'])\n",
      "    print groupedPredictions2\n",
      "    \n",
      "    print \"<<<<<<<<<< For %d clusters >>>>>>>>>>\" % nrClusters\n",
      "\n",
      "    clusterSizeDocs2 = [\"\" for x in range(nrClusters)]\n",
      "    for i,docIndex in enumerate(results2[nrClusters]['predictions']):\n",
      "        clusterSizeDocs2[docIndex] += (documents[i])\n",
      "                \n",
      "    # Build a TFIDF weighted document-term matrix                                                                                                \n",
      "    vectorizer = TfidfVectorizer(stop_words=\"english\", ngram_range=(1,1), vocabulary=voc, use_idf=True)\n",
      "    clusterVectors2 = vectorizer.fit_transform(clusterSizeDocs2)\n",
      "#    print clusterVectors.shape\n",
      "\n",
      "    for clusterIndex in range(clusterVectors2.shape[0]):\n",
      "        clusterVector2 = clusterVectors2[clusterIndex,0:].todense()\n",
      "#        print clusterVector2\n",
      "#        print clusterVector2.shape\n",
      "        sortedIndicesByTFIDF = sorted(range(clusterVector2.shape[1]), key=lambda i:clusterVector2.item(0,i), reverse=True)\n",
      "#        print sortedIndicesByTFIDF\n",
      "#        print \"Number of features: %d\" % len(vectorizer.get_feature_names())\n",
      "        topTokens = [str(vectorizer.get_feature_names()[x]) for x in sortedIndicesByTFIDF[0:5]]\n",
      "        if dict(groupedPredictions2).has_key(clusterIndex):\n",
      "            print \"cluster %d (size %d) highest TFIDF terms:\" % (clusterIndex, dict(groupedPredictions2)[clusterIndex]), topTokens\n",
      "        else:\n",
      "            print \"cluster %d is empty\" % clusterIndex"
     ],
     "language": "python",
     "metadata": {},
     "outputs": [
      {
       "output_type": "stream",
       "stream": "stderr",
       "text": [
        "Fitting MiniBatchKMeans model with 5 clusters\n",
        "Fitting MiniBatchKMeans model with 6 clusters"
       ]
      },
      {
       "output_type": "stream",
       "stream": "stderr",
       "text": [
        "\n",
        "Fitting MiniBatchKMeans model with 7 clusters"
       ]
      },
      {
       "output_type": "stream",
       "stream": "stderr",
       "text": [
        "\n",
        "Fitting MiniBatchKMeans model with 8 clusters"
       ]
      },
      {
       "output_type": "stream",
       "stream": "stderr",
       "text": [
        "\n",
        "Fitting MiniBatchKMeans model with 9 clusters"
       ]
      },
      {
       "output_type": "stream",
       "stream": "stderr",
       "text": [
        "\n",
        "Fitting MiniBatchKMeans model with 10 clusters"
       ]
      },
      {
       "output_type": "stream",
       "stream": "stderr",
       "text": [
        "\n",
        "Fitting MiniBatchKMeans model with 11 clusters"
       ]
      },
      {
       "output_type": "stream",
       "stream": "stderr",
       "text": [
        "\n",
        "Fitting MiniBatchKMeans model with 12 clusters"
       ]
      },
      {
       "output_type": "stream",
       "stream": "stderr",
       "text": [
        "\n",
        "Fitting MiniBatchKMeans model with 13 clusters"
       ]
      },
      {
       "output_type": "stream",
       "stream": "stderr",
       "text": [
        "\n",
        "Fitting MiniBatchKMeans model with 14 clusters"
       ]
      },
      {
       "output_type": "stream",
       "stream": "stderr",
       "text": [
        "\n",
        "Fitting MiniBatchKMeans model with 15 clusters"
       ]
      },
      {
       "output_type": "stream",
       "stream": "stderr",
       "text": [
        "\n",
        "Fitting MiniBatchKMeans model with 16 clusters"
       ]
      },
      {
       "output_type": "stream",
       "stream": "stderr",
       "text": [
        "\n",
        "Fitting MiniBatchKMeans model with 17 clusters"
       ]
      },
      {
       "output_type": "stream",
       "stream": "stderr",
       "text": [
        "\n",
        "Fitting MiniBatchKMeans model with 18 clusters"
       ]
      },
      {
       "output_type": "stream",
       "stream": "stderr",
       "text": [
        "\n",
        "Fitting MiniBatchKMeans model with 19 clusters"
       ]
      },
      {
       "output_type": "stream",
       "stream": "stderr",
       "text": [
        "\n",
        "Fitting MiniBatchKMeans model with 20 clusters"
       ]
      },
      {
       "output_type": "stream",
       "stream": "stderr",
       "text": [
        "\n",
        "Fitting MiniBatchKMeans model with 21 clusters"
       ]
      },
      {
       "output_type": "stream",
       "stream": "stderr",
       "text": [
        "\n",
        "Fitting MiniBatchKMeans model with 22 clusters"
       ]
      },
      {
       "output_type": "stream",
       "stream": "stderr",
       "text": [
        "\n",
        "Fitting MiniBatchKMeans model with 23 clusters"
       ]
      },
      {
       "output_type": "stream",
       "stream": "stderr",
       "text": [
        "\n",
        "Fitting MiniBatchKMeans model with 24 clusters"
       ]
      },
      {
       "output_type": "stream",
       "stream": "stderr",
       "text": [
        "\n",
        "Fitting MiniBatchKMeans model with 25 clusters"
       ]
      },
      {
       "output_type": "stream",
       "stream": "stdout",
       "text": [
        "Counter({1: 1571, 2: 664, 3: 152, 0: 76, 4: 37})\n",
        "<<<<<<<<<< For 5 clusters >>>>>>>>>>\n",
        "cluster 0 (size 76) highest TFIDF terms:"
       ]
      },
      {
       "output_type": "stream",
       "stream": "stdout",
       "text": [
        " ['som', 'loan', 'business', 'income', 'bank']\n",
        "cluster 1 (size 1571) highest TFIDF terms: ['loan', 'business', 'family', 'buy', 'old']\n",
        "cluster 2 (size 664) highest TFIDF terms: ['business', 'loan', 'hard', 'save', 'sell']\n",
        "cluster 3 (size 152) highest TFIDF terms: ['business', 'maize', 'loan', 'use', 'agriculture']\n",
        "cluster 4 (size 37) highest TFIDF terms: ['water', 'community', 'chlorine', 'dispenser', 'carbon']\n",
        "Counter({2: 941, 3: 797, 4: 443, 0: 201, 1: 61, 5: 57})\n",
        "<<<<<<<<<< For 6 clusters >>>>>>>>>>\n",
        "cluster 0 (size 201) highest TFIDF terms:"
       ]
      },
      {
       "output_type": "stream",
       "stream": "stdout",
       "text": [
        " ['business', 'sustaining', 'hard', 'borrowing', 'family']\n",
        "cluster 1 (size 61) highest TFIDF terms: ['opportunity', 'agriculture', 'export', 'gross', 'maize']\n",
        "cluster 2 (size 941) highest TFIDF terms: ['loan', 'business', 'family', 'income', 'old']\n",
        "cluster 3 (size 797) highest TFIDF terms: ['loan', 'business', 'family', 'group', 'income']\n",
        "cluster 4 (size 443) highest TFIDF terms: ['business', 'loan', 'save', 'future', 'old']\n",
        "cluster 5 (size 57) highest TFIDF terms:"
       ]
      },
      {
       "output_type": "stream",
       "stream": "stdout",
       "text": [
        " ['husband', 'loan', 'rickshaw', 'business', 'providing']\n",
        "Counter({1: 829, 2: 753, 3: 372, 6: 290, 5: 157, 4: 62, 0: 37})\n",
        "<<<<<<<<<< For 7 clusters >>>>>>>>>>\n",
        "cluster 0 (size 37) highest TFIDF terms:"
       ]
      },
      {
       "output_type": "stream",
       "stream": "stdout",
       "text": [
        " ['water', 'chlorine', 'community', 'dispenser', 'carbon']\n",
        "cluster 1 (size 829) highest TFIDF terms: ['loan', 'business', 'buy', 'old', 'family']\n",
        "cluster 2 (size 753) highest TFIDF terms: ['loan', 'business', 'family', 'income', 'buy']\n",
        "cluster 3 (size 372) highest TFIDF terms:"
       ]
      },
      {
       "output_type": "stream",
       "stream": "stdout",
       "text": [
        " ['business', 'loan', 'future', 'old', 'save']\n",
        "cluster 4 (size 62) highest TFIDF terms: ['loan', 'university', 'family', 'taking', 'student']\n",
        "cluster 5 (size 157) highest TFIDF terms: ['loan', 'group', 'family', 'husband', 'kiva']\n",
        "cluster 6 (size 290) highest TFIDF terms:"
       ]
      },
      {
       "output_type": "stream",
       "stream": "stdout",
       "text": [
        " ['business', 'family', 'hard', 'sustaining', 'loan']\n",
        "Counter({6: 1023, 1: 655, 4: 536, 7: 92, 3: 62, 5: 61, 2: 47, 0: 24})\n",
        "<<<<<<<<<< For 8 clusters >>>>>>>>>>\n",
        "cluster 0 (size 24) highest TFIDF terms:"
       ]
      },
      {
       "output_type": "stream",
       "stream": "stdout",
       "text": [
        " ['rickshaw', 'husband', 'maintenance', 'loan', 'driver']\n",
        "cluster 1 (size 655) highest TFIDF terms: ['business', 'hard', 'loan', 'save', 'family']\n",
        "cluster 2 (size 47) highest TFIDF terms: ['group', 'loan', 'province', 'income', 'family']\n",
        "cluster 3 (size 62) highest TFIDF terms: ['loan', 'family', 'house', 'city', 'group']\n",
        "cluster 4 (size 536) highest TFIDF terms: ['business', 'loan', 'family', 'income', 'quality']\n",
        "cluster 5 (size 61) highest TFIDF terms:"
       ]
      },
      {
       "output_type": "stream",
       "stream": "stdout",
       "text": [
        " ['opportunity', 'agriculture', 'export', 'gross', 'kiva']\n",
        "cluster 6 (size 1023) highest TFIDF terms: ['loan', 'business', 'family', 'community', 'buy']\n",
        "cluster 7 (size 92) highest TFIDF terms: ['business', 'use', 'loan', 'future', 'educate']\n",
        "Counter({2: 1439, 1: 414, 0: 171, 3: 110, 5: 100, 7: 79, 6: 76, 4: 61, 8: 50})\n",
        "<<<<<<<<<< For 9 clusters >>>>>>>>>>\n",
        "cluster 0 (size 171) highest TFIDF terms:"
       ]
      },
      {
       "output_type": "stream",
       "stream": "stdout",
       "text": [
        " ['store', 'loan', 'business', 'provide', 'hard']\n",
        "cluster 1 (size 414) highest TFIDF terms: ['business', 'hard', 'loan', 'family', 'buy']\n",
        "cluster 2 (size 1439) highest TFIDF terms: ['loan', 'business', 'family', 'income', 'group']\n",
        "cluster 3 (size 110) highest TFIDF terms: ['water', 'community', 'chlorine', 'village', 'dispenser']\n",
        "cluster 4 (size 61) highest TFIDF terms: ['opportunity', 'agriculture', 'export', 'gross', 'reason']\n",
        "cluster 5 (size 100) highest TFIDF terms:"
       ]
      },
      {
       "output_type": "stream",
       "stream": "stdout",
       "text": [
        " ['business', 'use', 'loan', 'future', 'old']\n",
        "cluster 6 (size 76) highest TFIDF terms: ['som', 'loan', 'income', 'business', 'bank']\n",
        "cluster 7 (size 79) highest TFIDF terms: ['business', 'attainment', 'fattening', 'save', 'sustain']\n",
        "cluster 8 (size 50) highest TFIDF terms: ['mercy', 'born', 'somoni', 'business', 'loan']\n",
        "Counter({2: 1007, 3: 361, 5: 285, 0: 260, 1: 140, 7: 138, 9: 119, 4: 79, 6: 61, 8: 50})\n",
        "<<<<<<<<<< For 10 clusters >>>>>>>>>>\n",
        "cluster 0 (size 260) highest TFIDF terms:"
       ]
      },
      {
       "output_type": "stream",
       "stream": "stdout",
       "text": [
        " ['business', 'future', 'entrepreneur', 'loan', 'buy']\n",
        "cluster 1 (size 140) highest TFIDF terms: ['water', 'community', 'chlorine', 'carbon', 'dispenser']\n",
        "cluster 2 (size 1007) highest TFIDF terms: ['loan', 'business', 'family', 'old', 'buy']\n",
        "cluster 3 (size 361) highest TFIDF terms: ['loan', 'business', 'district', 'quality', 'family']\n",
        "cluster 4 (size 79) highest TFIDF terms: ['som', 'loan', 'income', 'business', 'bank']\n",
        "cluster 5 (size 285) highest TFIDF terms:"
       ]
      },
      {
       "output_type": "stream",
       "stream": "stdout",
       "text": [
        " ['business', 'store', 'loan', 'save', 'old']\n",
        "cluster 6 (size 61) highest TFIDF terms: ['opportunity', 'agriculture', 'export', 'gross', 'kiva']\n",
        "cluster 7 (size 138) highest TFIDF terms: ['loan', 'business', 'use', 'income', 'old']\n",
        "cluster 8 (size 50) highest TFIDF terms: ['shown', 'loan', 'house', 'requesting', 'photograph']\n",
        "cluster 9 (size 119) highest TFIDF terms: ['business', 'hard', 'sustaining', 'family', 'work']\n",
        "Counter({8: 764, 5: 537, 3: 461, 10: 205, 7: 177, 1: 92, 2: 82, 6: 76, 4: 61, 9: 34, 0: 11})\n",
        "<<<<<<<<<< For 11 clusters >>>>>>>>>>\n",
        "cluster 0 (size 11) highest TFIDF terms:"
       ]
      },
      {
       "output_type": "stream",
       "stream": "stdout",
       "text": [
        " ['guide', 'business', 'learner', 'loan', 'household']\n",
        "cluster 1 (size 92) highest TFIDF terms: ['business', 'loan', 'use', 'future', 'buy']\n",
        "cluster 2 (size 82) highest TFIDF terms: ['water', 'chlorine', 'community', 'dispenser', 'carbon']\n",
        "cluster 3 (size 461) highest TFIDF terms: ['business', 'loan', 'save', 'future', 'hard']\n",
        "cluster 4 (size 61) highest TFIDF terms:"
       ]
      },
      {
       "output_type": "stream",
       "stream": "stdout",
       "text": [
        " ['agriculture', 'opportunity', 'export', 'gross', 'profitability']\n",
        "cluster 5 (size 537) highest TFIDF terms: ['loan', 'business', 'family', 'buy', 'old']\n",
        "cluster 6 (size 76) highest TFIDF terms: ['som', 'loan', 'income', 'business', 'bank']\n",
        "cluster 7 (size 177) highest TFIDF terms:"
       ]
      },
      {
       "output_type": "stream",
       "stream": "stdout",
       "text": [
        " ['loan', 'husband', 'business', 'income', 'family']\n",
        "cluster 8 (size 764) highest TFIDF terms: ['loan', 'business', 'family', 'income', 'buy']\n",
        "cluster 9 (size 34) highest TFIDF terms: ['loan', 'village', 'community', 'duck', 'packet']\n",
        "cluster 10 (size 205) highest TFIDF terms:"
       ]
      },
      {
       "output_type": "stream",
       "stream": "stdout",
       "text": [
        " ['business', 'sustaining', 'hard', 'borrowing', 'family']\n",
        "Counter({4: 786, 1: 492, 8: 295, 11: 233, 0: 189, 3: 124, 7: 124, 2: 119, 9: 54, 6: 52, 10: 23, 5: 9})\n",
        "<<<<<<<<<< For 12 clusters >>>>>>>>>>\n",
        "cluster 0 (size 189) highest TFIDF terms:"
       ]
      },
      {
       "output_type": "stream",
       "stream": "stdout",
       "text": [
        " ['business', 'future', 'loan', 'entrepreneur', 'save']\n",
        "cluster 1 (size 492) highest TFIDF terms: ['loan', 'business', 'family', 'income', 'work']\n",
        "cluster 2 (size 119) highest TFIDF terms: ['business', 'hard', 'parent', 'family', 'sustaining']\n",
        "cluster 3 (size 124) highest TFIDF terms: ['business', 'future', 'save', 'borrowing', 'buy']\n",
        "cluster 4 (size 786) highest TFIDF terms:"
       ]
      },
      {
       "output_type": "stream",
       "stream": "stdout",
       "text": [
        " ['loan', 'business', 'family', 'water', 'community']\n",
        "cluster 5 (size 9) highest TFIDF terms: ['agriculture', 'opportunity', 'export', 'gross', 'kiva']\n",
        "cluster 6 (size 52) highest TFIDF terms: ['agriculture', 'opportunity', 'export', 'gross', 'kiva']\n",
        "cluster 7 (size 124) highest TFIDF terms: ['business', 'use', 'loan', 'future', 'educate']\n",
        "cluster 8 (size 295) highest TFIDF terms: ['group', 'loan', 'family', 'business', 'income']\n",
        "cluster 9 (size 54) highest TFIDF terms:"
       ]
      },
      {
       "output_type": "stream",
       "stream": "stdout",
       "text": [
        " ['group', 'loan', 'city', 'business', 'bank']\n",
        "cluster 10 (size 23) highest TFIDF terms: ['rickshaw', 'husband', 'loan', 'driver', 'profession']\n",
        "cluster 11 (size 233) highest TFIDF terms: ['store', 'business', 'loan', 'hard', 'save']\n",
        "Counter({0: 1814, 1: 598, 3: 61, 9: 18, 7: 5, 4: 1, 5: 1, 6: 1, 12: 1})\n",
        "<<<<<<<<<< For 13 clusters >>>>>>>>>>\n",
        "cluster 0 (size 1814) highest TFIDF terms:"
       ]
      },
      {
       "output_type": "stream",
       "stream": "stdout",
       "text": [
        " ['business', 'loan', 'family', 'income', 'old']\n",
        "cluster 1 (size 598) highest TFIDF terms: ['business', 'hard', 'future', 'save', 'loan']\n",
        "cluster 2 is empty\n",
        "cluster 3 (size 61) highest TFIDF terms: ['agriculture', 'opportunity', 'kiva', 'export', 'gross']\n",
        "cluster 4 (size 1) highest TFIDF terms: ['district', 'home', 'life', 'province', 'experience']\n",
        "cluster 5 (size 1) highest TFIDF terms:"
       ]
      },
      {
       "output_type": "stream",
       "stream": "stdout",
       "text": [
        " ['project', 'start', 'job', 'head', 'manufacturing']\n",
        "cluster 6 (size 1) highest TFIDF terms: ['business', 'loan', 'family', 'income', 'future']\n",
        "cluster 7 (size 5) highest TFIDF terms: ['business', 'maize', 'harvest', 'sell', 'hope']\n",
        "cluster 8 is empty\n",
        "cluster 9 (size 18) highest TFIDF terms: ['biodigester', 'farm', 'gas', 'biogas', 'waste']\n",
        "cluster 10 is empty"
       ]
      },
      {
       "output_type": "stream",
       "stream": "stdout",
       "text": [
        "\n",
        "cluster 11 is empty\n",
        "cluster 12 (size 1) highest TFIDF terms: ['maize', 'member', 'harvest', 'sell', 'percent']\n",
        "Counter({0: 1140, 3: 369, 9: 173, 11: 141, 13: 106, 2: 92, 4: 80, 8: 76, 10: 75, 1: 70, 7: 61, 5: 44, 12: 44, 6: 29})\n",
        "<<<<<<<<<< For 14 clusters >>>>>>>>>>\n",
        "cluster 0 (size 1140) highest TFIDF terms:"
       ]
      },
      {
       "output_type": "stream",
       "stream": "stdout",
       "text": [
        " ['loan', 'business', 'family', 'buy', 'group']\n",
        "cluster 1 (size 70) highest TFIDF terms: ['kiva', 'husband', 'partner', 'loan', 'field']\n",
        "cluster 2 (size 92) highest TFIDF terms: ['business', 'loan', 'use', 'educate', 'future']\n",
        "cluster 3 (size 369) highest TFIDF terms: ['business', 'loan', 'save', 'future', 'buy']\n",
        "cluster 4 (size 80) highest TFIDF terms:"
       ]
      },
      {
       "output_type": "stream",
       "stream": "stdout",
       "text": [
        " ['loan', 'fellowship', 'university', 'student', 'god']\n",
        "cluster 5 (size 44) highest TFIDF terms: ['portion', 'group', 'loan', 'province', 'income']\n",
        "cluster 6 (size 29) highest TFIDF terms: ['business', 'access', 'electricity', 'school', 'water']\n",
        "cluster 7 (size 61) highest TFIDF terms: ['agriculture', 'opportunity', 'export', 'gross', 'kiva']\n",
        "cluster 8 (size 76) highest TFIDF terms: ['som', 'loan', 'bank', 'income', 'livestock']\n",
        "cluster 9 (size 173) highest TFIDF terms:"
       ]
      },
      {
       "output_type": "stream",
       "stream": "stdout",
       "text": [
        " ['business', 'sustaining', 'borrowing', 'hard', 'family']\n",
        "cluster 10 (size 75) highest TFIDF terms: ['loan', 'family', 'buy', 'old', 'growing']\n",
        "cluster 11 (size 141) highest TFIDF terms: ['store', 'loan', 'business', 'provide', 'sell']\n",
        "cluster 12 (size 44) highest TFIDF terms: ['water', 'chlorine', 'community', 'dispenser', 'carbon']\n",
        "cluster 13 (size 106) highest TFIDF terms: ['district', 'region', 'quality', 'northern', 'province']\n"
       ]
      },
      {
       "output_type": "stream",
       "stream": "stderr",
       "text": [
        "\n"
       ]
      }
     ],
     "prompt_number": 55
    },
    {
     "cell_type": "markdown",
     "metadata": {},
     "source": [
      "We see a less even distribution of documents over the various clusters; some clusters are even empty"
     ]
    },
    {
     "cell_type": "code",
     "collapsed": false,
     "input": [],
     "language": "python",
     "metadata": {},
     "outputs": []
    }
   ],
   "metadata": {}
  }
 ]
}