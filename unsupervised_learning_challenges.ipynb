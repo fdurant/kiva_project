{
 "metadata": {
  "name": "",
  "signature": "sha256:72eadf42cbe0c4d195b5dc583f2f101f6c7b34856e7d1605d96dc7cd96789ef2"
 },
 "nbformat": 3,
 "nbformat_minor": 0,
 "worksheets": [
  {
   "cells": [
    {
     "cell_type": "heading",
     "level": 1,
     "metadata": {},
     "source": [
      "Unsupervised learning challenges (Frederik Durant)"
     ]
    },
    {
     "cell_type": "heading",
     "level": 2,
     "metadata": {},
     "source": [
      "Data preparation"
     ]
    },
    {
     "cell_type": "markdown",
     "metadata": {},
     "source": [
      "Our data are a slightly enhanced version of Kiva.org's loan records downloaded as a  [data dump](http://build.kiva.org/) from Feb 17, 2015. The loan data files in JSON got an extra processed_description field with language IDs, and were then loaded into a local MongoDB database called kiva.loans.\n",
      "\n",
      "The Kiva loan descriptions are real documents with multiple paragraphs, unlike tweets."
     ]
    },
    {
     "cell_type": "code",
     "collapsed": false,
     "input": [
      "from pymongo import MongoClient\n",
      "from datetime import datetime\n",
      "\n",
      "client = MongoClient()\n",
      "\n",
      "langcode = \"en\"\n",
      "loansCollection = client.kiva.loans\n",
      "#print \"Number of loan descriptions in '%s': %d\" % (langcode,loansCollection.find({\"processed_description.texts.%s\" % langcode :{'$exists': True}}).count())\n",
      "\n",
      "startYear = 2015\n",
      "start = datetime(startYear, 1, 1)\n",
      "c = loansCollection.find({\"$and\" : [{\"posted_date\" : { \"$gte\" : start }},\n",
      "                                    {\"processed_description.texts.%s\" % langcode :{'$exists': True}}\n",
      "                                    ]\n",
      "                                    })\n",
      "print \"Number of loans in '%s' since %d: %d\" % (langcode,startYear,c.count())\n",
      "documents = []\n",
      "for loan in c:\n",
      "    documents.append(loan[\"processed_description\"][\"texts\"][langcode])\n",
      "\n",
      "print documents[0:1]"
     ],
     "language": "python",
     "metadata": {},
     "outputs": [
      {
       "output_type": "stream",
       "stream": "stdout",
       "text": [
        "Number of loans in 'en' since 2015: 17938\n",
        "[u\"Jose is 49 years old and lives with his partner. He lives in his own home with his partner and their three children in the rural zone of the Oyotun district, Chiclayo province, Lambayeque region, on the north coast of Peru. The inhabitants of this district mainly make a living in agriculture, livestock and business.\\n\\nHe makes a living offering transport services in his mototaxi, with seven years of experience in the business. He has very good personal and work references in the area. The loan will be used to maintain his vehicle as well as to undertake repairs in the garage where he keeps his mototaxi. With this, Jose hopes to offer a better service to his clients, increasing his income level, and therefore his and his family's quality of life.\"]"
       ]
      },
      {
       "output_type": "stream",
       "stream": "stdout",
       "text": [
        "\n"
       ]
      }
     ],
     "prompt_number": 2
    },
    {
     "cell_type": "heading",
     "level": 2,
     "metadata": {},
     "source": [
      "Challenge 1"
     ]
    },
    {
     "cell_type": "markdown",
     "metadata": {},
     "source": [
      "Cluster sentences with K-means. If you have your own Fletcher test data, get sentences out and cluster them. If not, cluster the tweets you gathered during the last challenge set. For each cluster, print out the sentences, try to see how close the sentences are. Try different K values and try to find a K value that makes the most sense (the sentences look like they do form a meaningful cluster)."
     ]
    },
    {
     "cell_type": "code",
     "collapsed": false,
     "input": [
      "from nltk.tokenize import word_tokenize\n",
      "from sklearn.feature_extraction.text import TfidfVectorizer\n",
      "from sklearn.cluster import KMeans\n",
      "from sklearn import metrics\n",
      "from pprint import pprint\n",
      "import sys\n",
      "\n",
      "# number of documents to cluster                                                                                                             \n",
      "nrDocs = 500\n",
      "\n",
      "# Build a TFIDF weighted document-term matrix                                                                                                \n",
      "vectorizer = TfidfVectorizer(stop_words=\"english\", ngram_range=(1,1), tokenizer=word_tokenize)\n",
      "docVectors = vectorizer.fit_transform(documents[:nrDocs])\n",
      "\n",
      "# Inspired by http://scikit-learn.org/stable/auto_examples/cluster/plot_kmeans_digits.html                                                   \n",
      "print(\"number of sample docs: %d, \\t number of unigram features: %d\" % (docVectors.shape[0], docVectors.shape[1]))\n",
      "\n",
      "minNrClusters = 5\n",
      "maxNrClusters = 50\n",
      "results = {}\n",
      "\n",
      "def groupDocsByCluster(clusterIndices,docs):\n",
      "    '''                                                                                                                                      \n",
      "    clusterIndices is a list cluster indices                                                                                                 \n",
      "    documents is a list of documents                                                                                                         \n",
      "    result is a dict with cluster indices as key, and a list of documents as value                                                           \n",
      "    '''\n",
      "    assert(len(clusterIndices) == len(docs)), \"number of cluster indices %d and number of documents %d are unequal\" % (len(clusterIndices),l\\\n",
      "en(docs))\n",
      "    result = {}\n",
      "    for cnt in range(len(clusterIndices)):\n",
      "        i = clusterIndices[cnt]\n",
      "        if result.has_key(i):\n",
      "            result[i].append(docs[cnt])\n",
      "        else:\n",
      "            result[i] = [docs[cnt]]\n",
      "    return result\n",
      "\n",
      "\n",
      "for nrClusters in range(minNrClusters,maxNrClusters+1):\n",
      "    print >> sys.stderr, \"Fitting KMeans model with %s clusters\" % nrClusters\n",
      "    results[nrClusters] = {}\n",
      "    model = KMeans(n_clusters=nrClusters).fit(docVectors)\n",
      "    results[nrClusters]['inertia'] = model.inertia_\n",
      "    results[nrClusters]['predictions'] = model.predict(docVectors)\n",
      "    \n",
      "# Just for inspection                                                                                                                        \n",
      "clusteredDocs = groupDocsByCluster(results[minNrClusters]['predictions'],documents[:nrDocs])\n",
      "for k in sorted(clusteredDocs.keys()):\n",
      "    print \"<<<<<<<<<< SAMPLES FROM CLUSTER %d: >>>>>>>>>\" % k\n",
      "    print \"\\n-----------------------------------------------------------------\\n\\n\".join(clusteredDocs[k][:3])\n",
      "    print"
     ],
     "language": "python",
     "metadata": {},
     "outputs": [
      {
       "output_type": "stream",
       "stream": "stderr",
       "text": [
        "Fitting KMeans model with 5 clusters\n",
        "Fitting KMeans model with 6 clusters"
       ]
      },
      {
       "output_type": "stream",
       "stream": "stderr",
       "text": [
        "\n",
        "Fitting KMeans model with 7 clusters"
       ]
      },
      {
       "output_type": "stream",
       "stream": "stderr",
       "text": [
        "\n",
        "Fitting KMeans model with 8 clusters"
       ]
      },
      {
       "output_type": "stream",
       "stream": "stderr",
       "text": [
        "\n",
        "Fitting KMeans model with 9 clusters"
       ]
      },
      {
       "output_type": "stream",
       "stream": "stderr",
       "text": [
        "\n",
        "Fitting KMeans model with 10 clusters"
       ]
      },
      {
       "output_type": "stream",
       "stream": "stderr",
       "text": [
        "\n",
        "Fitting KMeans model with 11 clusters"
       ]
      },
      {
       "output_type": "stream",
       "stream": "stderr",
       "text": [
        "\n",
        "Fitting KMeans model with 12 clusters"
       ]
      },
      {
       "output_type": "stream",
       "stream": "stderr",
       "text": [
        "\n",
        "Fitting KMeans model with 13 clusters"
       ]
      },
      {
       "output_type": "stream",
       "stream": "stderr",
       "text": [
        "\n",
        "Fitting KMeans model with 14 clusters"
       ]
      },
      {
       "output_type": "stream",
       "stream": "stderr",
       "text": [
        "\n",
        "Fitting KMeans model with 15 clusters"
       ]
      },
      {
       "output_type": "stream",
       "stream": "stderr",
       "text": [
        "\n",
        "Fitting KMeans model with 16 clusters"
       ]
      },
      {
       "output_type": "stream",
       "stream": "stderr",
       "text": [
        "\n",
        "Fitting KMeans model with 17 clusters"
       ]
      },
      {
       "output_type": "stream",
       "stream": "stderr",
       "text": [
        "\n",
        "Fitting KMeans model with 18 clusters"
       ]
      },
      {
       "output_type": "stream",
       "stream": "stderr",
       "text": [
        "\n",
        "Fitting KMeans model with 19 clusters"
       ]
      },
      {
       "output_type": "stream",
       "stream": "stderr",
       "text": [
        "\n",
        "Fitting KMeans model with 20 clusters"
       ]
      },
      {
       "output_type": "stream",
       "stream": "stderr",
       "text": [
        "\n",
        "Fitting KMeans model with 21 clusters"
       ]
      },
      {
       "output_type": "stream",
       "stream": "stderr",
       "text": [
        "\n",
        "Fitting KMeans model with 22 clusters"
       ]
      },
      {
       "output_type": "stream",
       "stream": "stderr",
       "text": [
        "\n",
        "Fitting KMeans model with 23 clusters"
       ]
      },
      {
       "output_type": "stream",
       "stream": "stderr",
       "text": [
        "\n",
        "Fitting KMeans model with 24 clusters"
       ]
      },
      {
       "output_type": "stream",
       "stream": "stderr",
       "text": [
        "\n",
        "Fitting KMeans model with 25 clusters"
       ]
      },
      {
       "output_type": "stream",
       "stream": "stderr",
       "text": [
        "\n",
        "Fitting KMeans model with 26 clusters"
       ]
      },
      {
       "output_type": "stream",
       "stream": "stderr",
       "text": [
        "\n",
        "Fitting KMeans model with 27 clusters"
       ]
      },
      {
       "output_type": "stream",
       "stream": "stderr",
       "text": [
        "\n",
        "Fitting KMeans model with 28 clusters"
       ]
      },
      {
       "output_type": "stream",
       "stream": "stderr",
       "text": [
        "\n",
        "Fitting KMeans model with 29 clusters"
       ]
      },
      {
       "output_type": "stream",
       "stream": "stderr",
       "text": [
        "\n",
        "Fitting KMeans model with 30 clusters"
       ]
      },
      {
       "output_type": "stream",
       "stream": "stderr",
       "text": [
        "\n",
        "Fitting KMeans model with 31 clusters"
       ]
      },
      {
       "output_type": "stream",
       "stream": "stderr",
       "text": [
        "\n",
        "Fitting KMeans model with 32 clusters"
       ]
      },
      {
       "output_type": "stream",
       "stream": "stderr",
       "text": [
        "\n",
        "Fitting KMeans model with 33 clusters"
       ]
      },
      {
       "output_type": "stream",
       "stream": "stderr",
       "text": [
        "\n",
        "Fitting KMeans model with 34 clusters"
       ]
      },
      {
       "output_type": "stream",
       "stream": "stderr",
       "text": [
        "\n",
        "Fitting KMeans model with 35 clusters"
       ]
      },
      {
       "output_type": "stream",
       "stream": "stderr",
       "text": [
        "\n",
        "Fitting KMeans model with 36 clusters"
       ]
      },
      {
       "output_type": "stream",
       "stream": "stderr",
       "text": [
        "\n",
        "Fitting KMeans model with 37 clusters"
       ]
      },
      {
       "output_type": "stream",
       "stream": "stderr",
       "text": [
        "\n",
        "Fitting KMeans model with 38 clusters"
       ]
      },
      {
       "output_type": "stream",
       "stream": "stderr",
       "text": [
        "\n",
        "Fitting KMeans model with 39 clusters"
       ]
      },
      {
       "output_type": "stream",
       "stream": "stderr",
       "text": [
        "\n",
        "Fitting KMeans model with 40 clusters"
       ]
      },
      {
       "output_type": "stream",
       "stream": "stderr",
       "text": [
        "\n",
        "Fitting KMeans model with 41 clusters"
       ]
      },
      {
       "output_type": "stream",
       "stream": "stderr",
       "text": [
        "\n",
        "Fitting KMeans model with 42 clusters"
       ]
      },
      {
       "output_type": "stream",
       "stream": "stderr",
       "text": [
        "\n",
        "Fitting KMeans model with 43 clusters"
       ]
      },
      {
       "output_type": "stream",
       "stream": "stderr",
       "text": [
        "\n",
        "Fitting KMeans model with 44 clusters"
       ]
      },
      {
       "output_type": "stream",
       "stream": "stderr",
       "text": [
        "\n",
        "Fitting KMeans model with 45 clusters"
       ]
      },
      {
       "output_type": "stream",
       "stream": "stderr",
       "text": [
        "\n",
        "Fitting KMeans model with 46 clusters"
       ]
      },
      {
       "output_type": "stream",
       "stream": "stderr",
       "text": [
        "\n",
        "Fitting KMeans model with 47 clusters"
       ]
      },
      {
       "output_type": "stream",
       "stream": "stderr",
       "text": [
        "\n",
        "Fitting KMeans model with 48 clusters"
       ]
      },
      {
       "output_type": "stream",
       "stream": "stderr",
       "text": [
        "\n",
        "Fitting KMeans model with 49 clusters"
       ]
      },
      {
       "output_type": "stream",
       "stream": "stderr",
       "text": [
        "\n",
        "Fitting KMeans model with 50 clusters"
       ]
      },
      {
       "output_type": "stream",
       "stream": "stdout",
       "text": [
        "number of sample docs: 500, \t number of unigram features: 4345\n",
        "<<<<<<<<<< SAMPLES FROM CLUSTER 0: >>>>>>>>>"
       ]
      },
      {
       "output_type": "stream",
       "stream": "stdout",
       "text": [
        "\n",
        "Alma works hard to support her family. Alma is married and has a pig fattening business in the Philippines.\n",
        "\n",
        "She requested a PHP 10,000 loan through NWTF to buy feed and vitamins for her pigs.\n",
        "\n",
        "Alma has been in this business for 10 years now.\n",
        "\n",
        "In the future, Alma would like to save money to expand her business.\n",
        "-----------------------------------------------------------------\n",
        "\n",
        "Anecita is 54 years old and married with three children. She is a very hardworking entrepreneur. \n",
        "\n",
        "She has a buy and sell of clothing business in the Philippines. Anecita requested a PHP 11,000 loan through NWTF to buy additional items like t-shirts, pants, shorts, etc.\n",
        "\n",
        "Anecita has been in this business for three years. In the future, Anecita would like to save money to expand her business.\n",
        "-----------------------------------------------------------------\n",
        "\n",
        "Asoncion works hard to support her family. Asoncion is married and has a dried fish vending business in the Philippines.\n",
        "\n",
        "She requested a PHP 10,000 loan through NWTF to purchase additional boxes of dried fish to sell.\n",
        "\n",
        "Asoncion has been in this business for 18 years now.\n",
        "\n",
        "She would like to save enough to provide a secure future for her family.\n",
        "\n",
        "<<<<<<<<<< SAMPLES FROM CLUSTER 1: >>>>>>>>>\n",
        "Jose is 49 years old and lives with his partner. He lives in his own home with his partner and their three children in the rural zone of the Oyotun district, Chiclayo province, Lambayeque region, on the north coast of Peru. The inhabitants of this district mainly make a living in agriculture, livestock and business.\n",
        "\n",
        "He makes a living offering transport services in his mototaxi, with seven years of experience in the business. He has very good personal and work references in the area. The loan will be used to maintain his vehicle as well as to undertake repairs in the garage where he keeps his mototaxi. With this, Jose hopes to offer a better service to his clients, increasing his income level, and therefore his and his family's quality of life.\n",
        "-----------------------------------------------------------------\n",
        "\n",
        "The communal bank \"San Agust\u00edn\" is the name of this group, which includes 8 hardworking women with initiative. They are from a community where there is a large lake where the residents go out daily to fish, wash clothes, or enjoy themselves.  The members of this group are:\n",
        "\n",
        "Josefina \u2013 sells wooden furniture \n",
        "\n",
        "Francisca \u2013 sells shoe through a catalog\n",
        "\n",
        "Maria Del Carmen - sells chicken\n",
        "\n",
        "Marisela - sells bread\n",
        "\n",
        "Karina \u2013  sells tortillas \n",
        "\n",
        "Gloria - sells sweets\n",
        "\n",
        "Karina is a very responsible person.  Three years ago she took over the care of her nephew, whom she loves as if she was his mother.  Karina learned to make tortillas by hand when she was a little girl.  Her mother taught her, and she has been selling this traditional Mexican food for 2 years.  Mondays through Saturdays she gets up at 5am to wash the corn that she cooked the previous evening, and later she grinds it, turns on the light, and opens her business.  Each day she sells about 500 tortillas.  Karina must take good care of her hands, since they are her main work tool.  In addition to this activity, Karina also rents her mill to other people who make their own tortillas.\n",
        "\n",
        "With her earnings, Karina covers the bi-monthly payment that covers the electricity that the mill uses, and she also buys firewood and contributes to the household finances.  As with her previous loans, she will buy corn at wholesale and a new griddle, and she will also do maintenance work on her mill so that she can keep her business running.  \"I'm thinking about starting up a new business, so that I can make use of my free time in the afternoons and increase my income.\"\n",
        "\n",
        "Note: the photograph was taken in front of Francisca's house.  Karina is seen wearing a grey skirt and a blue blouse.\n",
        "-----------------------------------------------------------------\n",
        "\n",
        "Maria is 45 years old and married. Her family, her husband and son, live together in their own house in the Lagunas district of Chiclayo Province in the Lambayeque region on the north coast of Per\u00fa. The people of this district are reliant on agriculture, cattle raising, and commerce. \n",
        "\n",
        "Maria's business is selling produce. She has over three years of experience in this line of work and has very good personal and professional references. In addition, she raises livestock such as ducks, guinea pigs, and sheep. This loan will be used to buy greater quantities of produce so as to increase her business's stock. With this she hopes to increase sales, and thus her income, and improve her quality of life. \n",
        "\n",
        "<<<<<<<<<< SAMPLES FROM CLUSTER 2: >>>>>>>>>\n",
        "Sylivier is 43 years old. He is married with five children aged between 1 and 14 years, 4 of whom go to school. He is a farmer and has been farming for 20 years. With the loan from Kiva, he would like to buy more fertilizers to grow maize, which he will then sell. The profits from the business will be used to pay for his workers.\n",
        "\n",
        "The agriculture sector accounts for 37% of Rwanda's gross domestic product, generates 65% of Rwanda's export revenue, and employs approximately 90% of Rwandans (as of 2009). Despite the importance of agriculture to Rwandans and their economy, financial institutions view lending to fund agricultural activities as a high-risk proposition because the profitability of these activities is affected by weather, natural disasters, and price fluctuations. For this reason, farmers in Rwanda remain underserved by financial institutions. Urwego Opportunity Bank is expanding into this market and is happy to provide Kiva lenders with the opportunity to support Rwandan farmers. \n",
        "-----------------------------------------------------------------\n",
        "\n",
        "Innocent is 44 years old. He is married with 7 children aged between 1 and 22 years, 4 of whom go to school. \n",
        "\n",
        "Innocent has been farming for 21 years. He will use this loan from Kiva's lenders to buy fertilizer to grow maize which he will then sell. The profits will be used to pay his employees.\n",
        "\n",
        "As of 2009, the agriculture sector accounts for 37% of Rwanda's gross domestic product, generates 65% of Rwanda's export revenue, and employs approximately 90% of Rwandans. However, despite the importance of agriculture to Rwandans and their economy, financial institutions view lending to fund agricultural activities as a high-risk proposition because the profitability of these activities is affected by weather, natural disasters, and price fluctuations. For this reason, farmers in Rwanda remain underserved by financial institutions. Urwego Opportunity Bank is expanding into this market and is happy to provide Kiva lenders with the opportunity to support Rwandan farmers. \n",
        "-----------------------------------------------------------------\n",
        "\n",
        "Joseph is 48 years old. He is married with four children aged between seven and 23 years; all of them go to school. Joseph has farmed for 15 years and will use his Kiva loan to buy fertilizer and grow and sell maize. The profits from the business will be used to pay for his employees.\n",
        "\n",
        "The agriculture sector accounts for 37% of Rwanda's gross domestic product, generates 65% of Rwanda's export revenue, and employs approximately 90% of Rwandans (as of 2009). Despite the importance of agriculture to Rwandans and their economy, financial institutions view lending to fund agricultural activities as a high-risk proposition because the profitability of these activities is affected by weather, natural disasters, and price fluctuations. For this reason, farmers in Rwanda remain underserved by financial institutions. Urwego Opportunity Bank is expanding into this market and is happy to provide Kiva lenders with the opportunity to support Rwandan farmers.\n",
        "\n",
        "<<<<<<<<<< SAMPLES FROM CLUSTER 3: >>>>>>>>>\n",
        "This community is located in Pyi Taw Tar Village in Myanmar\u2019s Ayeyarwaddy Delta region.  The Community Based Organization (CBO) consists of five committee members overseeing 30 village customers. This new loan would help the Ka Laug Ta Yar Village Group members purchase more ducks and buy duck feed (one packet is $14, feeding 100 ducks for six days). More ducks will increase income from more duck eggs.\n",
        "\n",
        "Pictured above are committee members from the Ka Laug Ta Yar Village CBO, named U Khin, U Aung, Daw Chaw, Daw Hla and Ma Tin. Apart from raising ducks, most of the villagers are farmers and especially do cropping. Some of the women make handmade bags for extra income and every villager raises pigs and hens as livestock. \n",
        "\n",
        "Included in photo is 45 year-old Daw Hla (in the middle), who is married and has two children. She and her husband are farmers as well. Her income comes not only from farming, but also from betel nuts and livestock. Like other members, Daw Hla will use the loan to buy more food for ducks to enable more egg hatching, hoping to command a higher price for her ducks.  \n",
        "-----------------------------------------------------------------\n",
        "\n",
        "Located in Tone Kwa Village, in Myanmar's Ayeyarwaddy Delta region, this community consist of 25 village members (Female 16, Male 9), includes 5 CBO members (Community Based Organizations) who helping to lead the loan in certain area.This loan will help villagers purchase more ducks which will let them increase income from more duck eggs and help the villagers buy good quality duck foods (a packet costs $14, 4 days provisions for 100 ducks). The villagers earn their living from crop farms and fishing as they have streams nearby from their home. Most married women help their husband on the farm as well as look after the home raised livestock. Some families have small grocery stores open in their house. For livestock, villagers mostly raise pigs, hens and ducks.The above is the picture of 5 CBO members, named as Daw Yu, U Myint, U Moe and Daw Tin. Daw Yu, included in the picture (second from left), is 21 years old. She is married and living happily together with her husband. Her husband farms at their 7 acres of crop farm whereas she looks after to their 100 ducks. Even though there are very least members in the family, they are having financial problems and in need for investments. The current 100 ducks aren't enough and so with this loan, she wants to increase the number of ducks to 130.\n",
        "-----------------------------------------------------------------\n",
        "\n",
        "Located in Pae Kone Village, Myanmar's Ayeyarwaddy Delta region and this community consists of 26 female members, includes 5 CBO (Community Based Organization) members who lead the loan in certain areas.This loan will help the villagers buy Taiwan (named) ducks which are much bigger in size as well lay eggs very often. Even though, Taiwan ducks ($6 per duck) are much more expensive than normal ducks, this lets them earn more while selling the eggs. Likewise, this loan will help some of the members to buy good quality feeds and vitamins. Pae Kone Villagers specialize on both crop farming and fishing as the streams nearby from the homes. Some earn from boat carries as well as from plantations such as betel and seasonal fruits. Additionally, most have pigs and ducks as livestock.The picture above are the CBO members from Pae Kone Village, named as, Daw Khin, Daw Nyein, Daw Than, Daw Ae and Daw Aye.Included in the picture, Daw Khine (First from left), is 42 years old. She is married and blessed having 3 daughters. Her husband is a fisherman and she mostly take care of her 160 ducks and 4 pigs. Like other fellow members, this loan will help her buy foods for her Taiwan ducks.\n",
        "\n",
        "<<<<<<<<<< SAMPLES FROM CLUSTER 4: >>>>>>>>>\n",
        "Rose is a married woman with two children, both of whom attend school. She lives in her own house that has electricity but no piped water. Her greatest monthly expenses are food and school fees for the family.\n",
        "\n",
        "For the past six years, she has operated a cosmetics selling shop, selling at retail to her neighbors and passersby. In addition, she operates a food stall business, selling from home, which earns her another source of livelihood. Her potential customers are neighbors and passersby. She faces a major challenge of the high cost of transportation in her business. Rose dreams of establishing a retail shop business in the future. \n",
        "\n",
        "With the loan that she is requesting of Kes 20,000, she wants to purchase stock of cosmetics and foodstuff for resale. She decided to join Yehu to access loans to boost her business. \n",
        "-----------------------------------------------------------------\n",
        "\n",
        "Teresa is a married mother of five children, all of whom are grown-ups. She lives in her rental house that has electricity and piped water. Her greatest monthly expense is food.\n",
        "\n",
        "For the past 15 years, she has operated a clothes selling business, selling from door to door to her neighbours and passersby. She faces the major challenge of the high cost of transportation. She dreams of expanding and establishing a boutique business in the future. \n",
        "\n",
        "With the loan that she is requesting of Kes 40,000, she wants to purchase bales of clothes for resale. She decided to join Yehu to access loans to boost her business.\n",
        "-----------------------------------------------------------------\n",
        "\n",
        "Fatuma is a married woman with three children, all of whom attend school. She lives in her own house that has electricity and piped water. Her monthly expenses are food and fees.\n",
        "\n",
        "She has operated a business selling paraffin for use in cooking at retail to her neighbours. In addition, she operates a phone charging business, which earns her another source of income. She faces the challenge of delayed payments, hence low profits in her business.\n",
        "\n",
        "With the loan of 50,000 Kes that she is requesting, she wants to establish rental houses and to purchase cement and sand for their construction. She decided to join Yehu to access loans to boost her business.\n",
        "\n"
       ]
      },
      {
       "output_type": "stream",
       "stream": "stderr",
       "text": [
        "\n"
       ]
      }
     ],
     "prompt_number": 4
    },
    {
     "cell_type": "heading",
     "level": 2,
     "metadata": {},
     "source": [
      "Challenge 2"
     ]
    },
    {
     "cell_type": "markdown",
     "metadata": {},
     "source": [
      "Draw the inertia curve over different k values. (Sklearn KMeans class has an inertia_ attribute)"
     ]
    },
    {
     "cell_type": "code",
     "collapsed": false,
     "input": [
      "%matplotlib inline\n",
      "\n",
      "from matplotlib import pyplot as plt\n",
      "#print \"KMeans with %d clusters has inertia: %d\" % (nrClusters, model.inertia_)                                                              \n",
      "\n",
      "X = [n for n in sorted(results.keys())]\n",
      "Y = [results[n]['inertia'] for n in X]\n",
      "\n",
      "plt.figure()\n",
      "plt.scatter(X,Y)\n",
      "plt.title(\"Metric of goodness for KMeans document clustering\")\n",
      "plt.xlabel(\"Number of clusters\")\n",
      "plt.ylabel(\"Inertia\")\n",
      "plt.show()"
     ],
     "language": "python",
     "metadata": {},
     "outputs": [
      {
       "metadata": {},
       "output_type": "display_data",
       "png": "[encoded data removed]",
       "text": [
        "<matplotlib.figure.Figure at 0x10a13dad0>"
       ]
      }
     ],
     "prompt_number": 6
    }
   ],
   "metadata": {}
  }
 ]
}