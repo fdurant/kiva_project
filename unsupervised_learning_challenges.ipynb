{
 "metadata": {
  "name": "",
  "signature": "sha256:c1a71ae44e20c280fb67853f45b37848b0d534b32d22700d9fe78d4725469ba5"
 },
 "nbformat": 3,
 "nbformat_minor": 0,
 "worksheets": [
  {
   "cells": [
    {
     "cell_type": "heading",
     "level": 1,
     "metadata": {},
     "source": [
      "Unsupervised learning challenges (Frederik Durant)"
     ]
    },
    {
     "cell_type": "heading",
     "level": 2,
     "metadata": {},
     "source": [
      "Data preparation"
     ]
    },
    {
     "cell_type": "markdown",
     "metadata": {},
     "source": [
      "Our data are a slightly enhanced version of Kiva.org's loan records downloaded as a  [data dump](http://build.kiva.org/) from Feb 17, 2015. The loan data files in JSON got an extra processed_description field with language IDs, and were then loaded into a local MongoDB database called kiva.loans.\n",
      "\n",
      "The Kiva loan descriptions are real documents with multiple paragraphs, unlike tweets."
     ]
    },
    {
     "cell_type": "code",
     "collapsed": false,
     "input": [
      "from pymongo import MongoClient\n",
      "from datetime import datetime\n",
      "\n",
      "client = MongoClient()\n",
      "\n",
      "langcode = \"en\"\n",
      "loansCollection = client.kiva.loans\n",
      "#print \"Number of loan descriptions in '%s': %d\" % (langcode,loansCollection.find({\"processed_description.texts.%s\" % langcode :{'$exists': True}}).count())\n",
      "\n",
      "startYear = 2015\n",
      "start = datetime(startYear, 1, 1)\n",
      "c = loansCollection.find({\"$and\" : [{\"posted_date\" : { \"$gte\" : start }},\n",
      "                                    {\"processed_description.texts.%s\" % langcode :{'$exists': True}}\n",
      "                                    ]\n",
      "                                    })\n",
      "print \"Number of loans in '%s' since %d: %d\" % (langcode,startYear,c.count())\n",
      "documents = []\n",
      "for loan in c:\n",
      "    documents.append(loan[\"processed_description\"][\"texts\"][langcode])\n",
      "\n",
      "print documents[0:1]"
     ],
     "language": "python",
     "metadata": {},
     "outputs": [
      {
       "output_type": "stream",
       "stream": "stdout",
       "text": [
        "Number of loans in 'en' since 2015: 17938\n",
        "[u\"Jose is 49 years old and lives with his partner. He lives in his own home with his partner and their three children in the rural zone of the Oyotun district, Chiclayo province, Lambayeque region, on the north coast of Peru. The inhabitants of this district mainly make a living in agriculture, livestock and business.\\n\\nHe makes a living offering transport services in his mototaxi, with seven years of experience in the business. He has very good personal and work references in the area. The loan will be used to maintain his vehicle as well as to undertake repairs in the garage where he keeps his mototaxi. With this, Jose hopes to offer a better service to his clients, increasing his income level, and therefore his and his family's quality of life.\"]"
       ]
      },
      {
       "output_type": "stream",
       "stream": "stdout",
       "text": [
        "\n"
       ]
      }
     ],
     "prompt_number": 11
    },
    {
     "cell_type": "heading",
     "level": 2,
     "metadata": {},
     "source": [
      "Challenge 1"
     ]
    },
    {
     "cell_type": "markdown",
     "metadata": {},
     "source": [
      "Cluster sentences with K-means. If you have your own Fletcher test data, get sentences out and cluster them. If not, cluster the tweets you gathered during the last challenge set. For each cluster, print out the sentences, try to see how close the sentences are. Try different K values and try to find a K value that makes the most sense (the sentences look like they do form a meaningful cluster)."
     ]
    },
    {
     "cell_type": "code",
     "collapsed": false,
     "input": [
      "from nltk.tokenize import word_tokenize\n",
      "from sklearn.feature_extraction.text import TfidfVectorizer\n",
      "from sklearn.cluster import KMeans\n",
      "from sklearn import metrics\n",
      "from pprint import pprint\n",
      "import sys\n",
      "\n",
      "# number of documents to cluster                                                                                                             \n",
      "nrDocs = 500\n",
      "\n",
      "# Build a TFIDF weighted document-term matrix                                                                                                \n",
      "vectorizer = TfidfVectorizer(stop_words=\"english\", ngram_range=(1,1), tokenizer=word_tokenize)\n",
      "docVectors = vectorizer.fit_transform(documents[:nrDocs])\n",
      "\n",
      "# Inspired by http://scikit-learn.org/stable/auto_examples/cluster/plot_kmeans_digits.html                                                   \n",
      "print(\"number of sample docs: %d, \\t number of unigram features: %d\" % (docVectors.shape[0], docVectors.shape[1]))\n",
      "\n",
      "minNrClusters = 5\n",
      "maxNrClusters = 25\n",
      "results = {}\n",
      "\n",
      "def groupDocsByCluster(clusterIndices,docs):\n",
      "    '''                                                                                                                                      \n",
      "    clusterIndices is a list cluster indices                                                                                                 \n",
      "    documents is a list of documents                                                                                                         \n",
      "    result is a dict with cluster indices as key, and a list of documents as value                                                           \n",
      "    '''\n",
      "    assert(len(clusterIndices) == len(docs)), \"number of cluster indices %d and number of documents %d are unequal\" % (len(clusterIndices),l\\\n",
      "en(docs))\n",
      "    result = {}\n",
      "    for cnt in range(len(clusterIndices)):\n",
      "        i = clusterIndices[cnt]\n",
      "        if result.has_key(i):\n",
      "            result[i].append(docs[cnt])\n",
      "        else:\n",
      "            result[i] = [docs[cnt]]\n",
      "    return result\n",
      "\n",
      "\n",
      "for nrClusters in range(minNrClusters,maxNrClusters+1):\n",
      "    print >> sys.stderr, \"Fitting KMeans model with %s clusters\" % nrClusters\n",
      "    results[nrClusters] = {}\n",
      "    model = KMeans(n_clusters=nrClusters).fit(docVectors)\n",
      "    results[nrClusters]['inertia'] = model.inertia_\n",
      "    results[nrClusters]['predictions'] = model.predict(docVectors)\n",
      "    results[nrClusters]['cluster_centroids'] = model.cluster_centers_\n",
      "    \n",
      "# Just for inspection                                                                                                                        \n",
      "clusteredDocs = groupDocsByCluster(results[minNrClusters]['predictions'],documents[:nrDocs])\n",
      "for k in sorted(clusteredDocs.keys()):\n",
      "    print \"<<<<<<<<<< SAMPLES FROM CLUSTER %d: >>>>>>>>>\" % k\n",
      "    print \"\\n-----------------------------------------------------------------\\n\\n\".join(clusteredDocs[k][:3])\n",
      "    print"
     ],
     "language": "python",
     "metadata": {},
     "outputs": [
      {
       "output_type": "stream",
       "stream": "stderr",
       "text": [
        "Fitting KMeans model with 5 clusters\n",
        "Fitting KMeans model with 6 clusters"
       ]
      },
      {
       "output_type": "stream",
       "stream": "stderr",
       "text": [
        "\n",
        "Fitting KMeans model with 7 clusters"
       ]
      },
      {
       "output_type": "stream",
       "stream": "stderr",
       "text": [
        "\n",
        "Fitting KMeans model with 8 clusters"
       ]
      },
      {
       "output_type": "stream",
       "stream": "stderr",
       "text": [
        "\n",
        "Fitting KMeans model with 9 clusters"
       ]
      },
      {
       "output_type": "stream",
       "stream": "stderr",
       "text": [
        "\n",
        "Fitting KMeans model with 10 clusters"
       ]
      },
      {
       "output_type": "stream",
       "stream": "stderr",
       "text": [
        "\n",
        "Fitting KMeans model with 11 clusters"
       ]
      },
      {
       "output_type": "stream",
       "stream": "stderr",
       "text": [
        "\n",
        "Fitting KMeans model with 12 clusters"
       ]
      },
      {
       "output_type": "stream",
       "stream": "stderr",
       "text": [
        "\n",
        "Fitting KMeans model with 13 clusters"
       ]
      },
      {
       "output_type": "stream",
       "stream": "stderr",
       "text": [
        "\n",
        "Fitting KMeans model with 14 clusters"
       ]
      },
      {
       "output_type": "stream",
       "stream": "stderr",
       "text": [
        "\n",
        "Fitting KMeans model with 15 clusters"
       ]
      },
      {
       "output_type": "stream",
       "stream": "stderr",
       "text": [
        "\n",
        "Fitting KMeans model with 16 clusters"
       ]
      },
      {
       "output_type": "stream",
       "stream": "stderr",
       "text": [
        "\n",
        "Fitting KMeans model with 17 clusters"
       ]
      },
      {
       "output_type": "stream",
       "stream": "stderr",
       "text": [
        "\n",
        "Fitting KMeans model with 18 clusters"
       ]
      },
      {
       "output_type": "stream",
       "stream": "stderr",
       "text": [
        "\n",
        "Fitting KMeans model with 19 clusters"
       ]
      },
      {
       "output_type": "stream",
       "stream": "stderr",
       "text": [
        "\n",
        "Fitting KMeans model with 20 clusters"
       ]
      },
      {
       "output_type": "stream",
       "stream": "stderr",
       "text": [
        "\n",
        "Fitting KMeans model with 21 clusters"
       ]
      },
      {
       "output_type": "stream",
       "stream": "stderr",
       "text": [
        "\n",
        "Fitting KMeans model with 22 clusters"
       ]
      },
      {
       "output_type": "stream",
       "stream": "stderr",
       "text": [
        "\n",
        "Fitting KMeans model with 23 clusters"
       ]
      },
      {
       "output_type": "stream",
       "stream": "stderr",
       "text": [
        "\n",
        "Fitting KMeans model with 24 clusters"
       ]
      },
      {
       "output_type": "stream",
       "stream": "stderr",
       "text": [
        "\n",
        "Fitting KMeans model with 25 clusters"
       ]
      },
      {
       "output_type": "stream",
       "stream": "stdout",
       "text": [
        "number of sample docs: 500, \t number of unigram features: 4345\n",
        "<<<<<<<<<< SAMPLES FROM CLUSTER 0: >>>>>>>>>"
       ]
      },
      {
       "output_type": "stream",
       "stream": "stdout",
       "text": [
        "\n",
        "Jose is 49 years old and lives with his partner. He lives in his own home with his partner and their three children in the rural zone of the Oyotun district, Chiclayo province, Lambayeque region, on the north coast of Peru. The inhabitants of this district mainly make a living in agriculture, livestock and business.\n",
        "\n",
        "He makes a living offering transport services in his mototaxi, with seven years of experience in the business. He has very good personal and work references in the area. The loan will be used to maintain his vehicle as well as to undertake repairs in the garage where he keeps his mototaxi. With this, Jose hopes to offer a better service to his clients, increasing his income level, and therefore his and his family's quality of life.\n",
        "-----------------------------------------------------------------\n",
        "\n",
        "The communal bank \"San Agust\u00edn\" is the name of this group, which includes 8 hardworking women with initiative. They are from a community where there is a large lake where the residents go out daily to fish, wash clothes, or enjoy themselves.  The members of this group are:\n",
        "\n",
        "Josefina \u2013 sells wooden furniture \n",
        "\n",
        "Francisca \u2013 sells shoe through a catalog\n",
        "\n",
        "Maria Del Carmen - sells chicken\n",
        "\n",
        "Marisela - sells bread\n",
        "\n",
        "Karina \u2013  sells tortillas \n",
        "\n",
        "Gloria - sells sweets\n",
        "\n",
        "Karina is a very responsible person.  Three years ago she took over the care of her nephew, whom she loves as if she was his mother.  Karina learned to make tortillas by hand when she was a little girl.  Her mother taught her, and she has been selling this traditional Mexican food for 2 years.  Mondays through Saturdays she gets up at 5am to wash the corn that she cooked the previous evening, and later she grinds it, turns on the light, and opens her business.  Each day she sells about 500 tortillas.  Karina must take good care of her hands, since they are her main work tool.  In addition to this activity, Karina also rents her mill to other people who make their own tortillas.\n",
        "\n",
        "With her earnings, Karina covers the bi-monthly payment that covers the electricity that the mill uses, and she also buys firewood and contributes to the household finances.  As with her previous loans, she will buy corn at wholesale and a new griddle, and she will also do maintenance work on her mill so that she can keep her business running.  \"I'm thinking about starting up a new business, so that I can make use of my free time in the afternoons and increase my income.\"\n",
        "\n",
        "Note: the photograph was taken in front of Francisca's house.  Karina is seen wearing a grey skirt and a blue blouse.\n",
        "-----------------------------------------------------------------\n",
        "\n",
        "Maria is 45 years old and married. Her family, her husband and son, live together in their own house in the Lagunas district of Chiclayo Province in the Lambayeque region on the north coast of Per\u00fa. The people of this district are reliant on agriculture, cattle raising, and commerce. \n",
        "\n",
        "Maria's business is selling produce. She has over three years of experience in this line of work and has very good personal and professional references. In addition, she raises livestock such as ducks, guinea pigs, and sheep. This loan will be used to buy greater quantities of produce so as to increase her business's stock. With this she hopes to increase sales, and thus her income, and improve her quality of life. \n",
        "\n",
        "<<<<<<<<<< SAMPLES FROM CLUSTER 1: >>>>>>>>>\n",
        "Rose is a married woman with two children, both of whom attend school. She lives in her own house that has electricity but no piped water. Her greatest monthly expenses are food and school fees for the family.\n",
        "\n",
        "For the past six years, she has operated a cosmetics selling shop, selling at retail to her neighbors and passersby. In addition, she operates a food stall business, selling from home, which earns her another source of livelihood. Her potential customers are neighbors and passersby. She faces a major challenge of the high cost of transportation in her business. Rose dreams of establishing a retail shop business in the future. \n",
        "\n",
        "With the loan that she is requesting of Kes 20,000, she wants to purchase stock of cosmetics and foodstuff for resale. She decided to join Yehu to access loans to boost her business. \n",
        "-----------------------------------------------------------------\n",
        "\n",
        "Teresa is a married mother of five children, all of whom are grown-ups. She lives in her rental house that has electricity and piped water. Her greatest monthly expense is food.\n",
        "\n",
        "For the past 15 years, she has operated a clothes selling business, selling from door to door to her neighbours and passersby. She faces the major challenge of the high cost of transportation. She dreams of expanding and establishing a boutique business in the future. \n",
        "\n",
        "With the loan that she is requesting of Kes 40,000, she wants to purchase bales of clothes for resale. She decided to join Yehu to access loans to boost her business.\n",
        "-----------------------------------------------------------------\n",
        "\n",
        "Fatuma is a married woman with three children, all of whom attend school. She lives in her own house that has electricity and piped water. Her monthly expenses are food and fees.\n",
        "\n",
        "She has operated a business selling paraffin for use in cooking at retail to her neighbours. In addition, she operates a phone charging business, which earns her another source of income. She faces the challenge of delayed payments, hence low profits in her business.\n",
        "\n",
        "With the loan of 50,000 Kes that she is requesting, she wants to establish rental houses and to purchase cement and sand for their construction. She decided to join Yehu to access loans to boost her business.\n",
        "\n",
        "<<<<<<<<<< SAMPLES FROM CLUSTER 2: >>>>>>>>>\n",
        "Sylivier is 43 years old. He is married with five children aged between 1 and 14 years, 4 of whom go to school. He is a farmer and has been farming for 20 years. With the loan from Kiva, he would like to buy more fertilizers to grow maize, which he will then sell. The profits from the business will be used to pay for his workers.\n",
        "\n",
        "The agriculture sector accounts for 37% of Rwanda's gross domestic product, generates 65% of Rwanda's export revenue, and employs approximately 90% of Rwandans (as of 2009). Despite the importance of agriculture to Rwandans and their economy, financial institutions view lending to fund agricultural activities as a high-risk proposition because the profitability of these activities is affected by weather, natural disasters, and price fluctuations. For this reason, farmers in Rwanda remain underserved by financial institutions. Urwego Opportunity Bank is expanding into this market and is happy to provide Kiva lenders with the opportunity to support Rwandan farmers. \n",
        "-----------------------------------------------------------------\n",
        "\n",
        "Innocent is 44 years old. He is married with 7 children aged between 1 and 22 years, 4 of whom go to school. \n",
        "\n",
        "Innocent has been farming for 21 years. He will use this loan from Kiva's lenders to buy fertilizer to grow maize which he will then sell. The profits will be used to pay his employees.\n",
        "\n",
        "As of 2009, the agriculture sector accounts for 37% of Rwanda's gross domestic product, generates 65% of Rwanda's export revenue, and employs approximately 90% of Rwandans. However, despite the importance of agriculture to Rwandans and their economy, financial institutions view lending to fund agricultural activities as a high-risk proposition because the profitability of these activities is affected by weather, natural disasters, and price fluctuations. For this reason, farmers in Rwanda remain underserved by financial institutions. Urwego Opportunity Bank is expanding into this market and is happy to provide Kiva lenders with the opportunity to support Rwandan farmers. \n",
        "-----------------------------------------------------------------\n",
        "\n",
        "Joseph is 48 years old. He is married with four children aged between seven and 23 years; all of them go to school. Joseph has farmed for 15 years and will use his Kiva loan to buy fertilizer and grow and sell maize. The profits from the business will be used to pay for his employees.\n",
        "\n",
        "The agriculture sector accounts for 37% of Rwanda's gross domestic product, generates 65% of Rwanda's export revenue, and employs approximately 90% of Rwandans (as of 2009). Despite the importance of agriculture to Rwandans and their economy, financial institutions view lending to fund agricultural activities as a high-risk proposition because the profitability of these activities is affected by weather, natural disasters, and price fluctuations. For this reason, farmers in Rwanda remain underserved by financial institutions. Urwego Opportunity Bank is expanding into this market and is happy to provide Kiva lenders with the opportunity to support Rwandan farmers.\n",
        "\n",
        "<<<<<<<<<< SAMPLES FROM CLUSTER 3: >>>>>>>>>\n",
        "Alma works hard to support her family. Alma is married and has a pig fattening business in the Philippines.\n",
        "\n",
        "She requested a PHP 10,000 loan through NWTF to buy feed and vitamins for her pigs.\n",
        "\n",
        "Alma has been in this business for 10 years now.\n",
        "\n",
        "In the future, Alma would like to save money to expand her business.\n",
        "-----------------------------------------------------------------\n",
        "\n",
        "Anecita is 54 years old and married with three children. She is a very hardworking entrepreneur. \n",
        "\n",
        "She has a buy and sell of clothing business in the Philippines. Anecita requested a PHP 11,000 loan through NWTF to buy additional items like t-shirts, pants, shorts, etc.\n",
        "\n",
        "Anecita has been in this business for three years. In the future, Anecita would like to save money to expand her business.\n",
        "-----------------------------------------------------------------\n",
        "\n",
        "Asoncion works hard to support her family. Asoncion is married and has a dried fish vending business in the Philippines.\n",
        "\n",
        "She requested a PHP 10,000 loan through NWTF to purchase additional boxes of dried fish to sell.\n",
        "\n",
        "Asoncion has been in this business for 18 years now.\n",
        "\n",
        "She would like to save enough to provide a secure future for her family.\n",
        "\n",
        "<<<<<<<<<< SAMPLES FROM CLUSTER 4: >>>>>>>>>\n",
        "Shahida is a 30-year old married woman, living in the area of Lahore, Pakistan. She is the mother of four children. \n",
        "\n",
        "Shahida has requested a loan from Kiva\u2019s field partner BRAC Pakistan for her husband's shoe manufacturing business. He is a shoe maker and very expert in his trade. He has been manufacturing shoes for many years. This is the reason he has a lot of experience in his trade. He sews shoes made of leather and Rexene on a sewing machine. After that, the shoe is attached to its sole through stitching by hands. In this way he generates income for his family. \n",
        "\n",
        "He has been making shoes at home, but now he has established a shop to continue his business on a wide level. But he does not have the necessary amount to buy initial raw material for making shoes.\n",
        "\n",
        "Therefore, Shahida has requested a loan for her husband so he can buy initial raw material for making shoes.\n",
        "-----------------------------------------------------------------\n",
        "\n",
        "Tahira is age 37; she is a mother of five children and living in Lahore, Pakistan. Her husband has been running a general store in which he sells rice, sugar, cooking oil, detergent, soap, biscuits, etc. He manages to cover his household necessities from his own store. His relatives also like to purchase from his general store. He speaks with an even tone, which is impressive, and he easily wins the trust of others. \n",
        "\n",
        "Due to his behavior and tone, Tahira's husband has built up very good relations with his customers. His general store is very famous in the town, and that is the reason his business runs well. Due to good relations, his sales have increased a lot, but he does not have sufficient stock to cope with the demand. Therefore, Tahira requested a loan for her husband so that he can buy more stock of wheat, rice, flour, pulses, soaps, shampoo, detergents, biscuits, etc. \n",
        "\n",
        "Tahira hopes that her husband will utilize the loan in a positive way; this amount will help him to cope with the needs of her family. Tahira thanks Kiva and field partner BRAC Pakistan.\n",
        "-----------------------------------------------------------------\n",
        "\n",
        "Mariyam is a 45-year-old married woman who lives with her husband and four children in the area of Lahore, Pakistan. Her husband is a rickshaw driver by profession who drives a rickshaw in Lahore city, which is very populated area. He recently got into a road accident: when he was looking for a passenger by standing beside the road, a speeding car collapsed into the rickshaw from behind. Mariyam\u2019s husband did not get any fractures but the rickshaw has gotten seriously damaged and needs fixing. Her husband does not have enough money to fix his auto rickshaw.\n",
        "\n",
        "Mariyam is requesting a loan from the Kiva field partner BRAC Pakistan to cover the repair costs for her husband\u2019s rickshaw. She is very thankful to Kiva and the field partner BRAC Pakistan for this support.\n",
        "\n"
       ]
      },
      {
       "output_type": "stream",
       "stream": "stderr",
       "text": [
        "\n"
       ]
      }
     ],
     "prompt_number": 12
    },
    {
     "cell_type": "heading",
     "level": 2,
     "metadata": {},
     "source": [
      "Challenge 2"
     ]
    },
    {
     "cell_type": "markdown",
     "metadata": {},
     "source": [
      "Draw the inertia curve over different k values. (Sklearn KMeans class has an inertia_ attribute)"
     ]
    },
    {
     "cell_type": "code",
     "collapsed": false,
     "input": [
      "%matplotlib inline\n",
      "\n",
      "from matplotlib import pyplot as plt\n",
      "#print \"KMeans with %d clusters has inertia: %d\" % (nrClusters, model.inertia_)                                                              \n",
      "\n",
      "X = [n for n in sorted(results.keys())]\n",
      "Y = [results[n]['inertia'] for n in X]\n",
      "\n",
      "plt.figure()\n",
      "plt.scatter(X,Y)\n",
      "plt.title(\"Metric of goodness for KMeans document clustering\")\n",
      "plt.xlabel(\"Number of clusters\")\n",
      "plt.ylabel(\"Inertia\")\n",
      "plt.show()"
     ],
     "language": "python",
     "metadata": {},
     "outputs": [
      {
       "metadata": {},
       "output_type": "display_data",
       "png": "[encoded data removed]",
       "text": [
        "<matplotlib.figure.Figure at 0x10deabf50>"
       ]
      }
     ],
     "prompt_number": 13
    },
    {
     "cell_type": "heading",
     "level": 2,
     "metadata": {},
     "source": [
      "Challenge 3"
     ]
    },
    {
     "cell_type": "markdown",
     "metadata": {},
     "source": [
      "Let's name the clusters 1\n",
      "\n",
      "For each cluster, find the sentence closest to the centroid of the cluster. (You can use sklearn.metrics.pairwise_distances6 or scipy.spatial.distance3 [check pdist, cdist, and euclidean distance] to find distances to the centroid). KMeans has a cluster_centroids_ attribute. This sentence (closest to centroid) is now the name of the cluster. For each cluster, print the representative sentence, and print 'N people expressed a similar statement', or something like that relevant to your dataset. (This is very close to what amazon used to do in the reviews section up to a year ago.)\n",
      "\n",
      "Find the biggest 3 clusters, and print their representative sentences (This is close to what amazon is doing now in the reviews section, except they choose the sentence from the most helpful review instead of closest to center)"
     ]
    },
    {
     "cell_type": "code",
     "collapsed": false,
     "input": [
      "from sklearn.metrics.pairwise import pairwise_distances\n",
      "from collections import Counter\n",
      "\n",
      "def getIndicesOfClosest(distances, n=1):\n",
      "    result = sorted(range(len(distances)), key=lambda i:distances[i])\n",
      "    return result[n]\n",
      "\n",
      "for nrClusters in range(minNrClusters,minNrClusters+3):\n",
      "    centroids = results[nrClusters]['cluster_centroids']\n",
      "    groupedPredictions = Counter(results[nrClusters]['predictions'])\n",
      "    sortedGroupedPredictions = [(l,k) for k,l in sorted([(j,i) for i,j in groupedPredictions.items()], reverse=True)]\n",
      "    print \"<<<<<<<<<< For %d clusters >>>>>>>>>>\" % nrClusters\n",
      "    for (clusterIndex,nrInstancesInCluster) in sortedGroupedPredictions[0:3]:\n",
      "        c = centroids[clusterIndex]\n",
      "        distances = pairwise_distances(docVectors, Y=[c], metric='cosine')\n",
      "        indexOfClosest = getIndicesOfClosest(distances, 1)\n",
      "        closestDocument = documents[indexOfClosest]\n",
      "        print \"\\n<< central document in cluster %d (%d instances)>>\" % (clusterIndex,nrInstancesInCluster)\n",
      "        print closestDocument[:100] + \" ...\""
     ],
     "language": "python",
     "metadata": {},
     "outputs": [
      {
       "output_type": "stream",
       "stream": "stdout",
       "text": [
        "<<<<<<<<<< For 5 clusters >>>>>>>>>>\n",
        "\n",
        "<< central document in cluster 0 (286 instances)>>\n",
        "Residing in Chhindwara district of Madhya Pradesh, Memabati is 32 years old and a mother of two chil ...\n",
        "\n",
        "<< central document in cluster 3 (104 instances)>>\n",
        "Flordeliz is 52 years old and married with nine children, four of whom are in school.\n",
        "\n",
        "She works har ...\n",
        "\n",
        "<< central document in cluster 4 (61 instances)>>\n",
        "Shahmeem is 35-year-old woman. She lives in Rawalpindi, Pakistan with her three children. Her husban ...\n",
        "<<<<<<<<<< For 6 clusters >>>>>>>>>>\n",
        "\n",
        "<< central document in cluster 5 (301 instances)>>\n",
        "Shahmeem is 35-year-old woman. She lives in Rawalpindi, Pakistan with her three children. Her husban ...\n",
        "\n",
        "<< central document in cluster 3 (105 instances)>>\n",
        "Flordeliz is 52 years old and married with nine children, four of whom are in school.\n",
        "\n",
        "She works har ...\n",
        "\n",
        "<< central document in cluster 1 (32 instances)>>\n",
        "The Jiguene Bakhna 90 Group is a group with economic interests and is made up of five people. They l ...\n",
        "<<<<<<<<<< For 7 clusters >>>>>>>>>>\n",
        "\n",
        "<< central document in cluster 0 (204 instances)>>\n",
        "Mayaben, the lady in the center (and the group leader), hails from Kutch, Gujarat. She runs her own  ...\n",
        "\n",
        "<< central document in cluster 3 (108 instances)>>\n",
        "Flordeliz is 52 years old and married with nine children, four of whom are in school.\n",
        "\n",
        "She works har ...\n",
        "\n",
        "<< central document in cluster 5 (64 instances)>>\n",
        "Shahmeem is 35-year-old woman. She lives in Rawalpindi, Pakistan with her three children. Her husban ...\n"
       ]
      }
     ],
     "prompt_number": 40
    }
   ],
   "metadata": {}
  }
 ]
}