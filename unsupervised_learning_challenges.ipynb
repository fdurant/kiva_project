{
 "metadata": {
  "name": "",
  "signature": "sha256:9d82c1d23ed294a49401dbbbc33ef7fe7536b32bec28a90967391c758d96e087"
 },
 "nbformat": 3,
 "nbformat_minor": 0,
 "worksheets": [
  {
   "cells": [
    {
     "cell_type": "heading",
     "level": 1,
     "metadata": {},
     "source": [
      "Unsupervised learning challenges (Frederik Durant)"
     ]
    },
    {
     "cell_type": "heading",
     "level": 2,
     "metadata": {},
     "source": [
      "Data preparation"
     ]
    },
    {
     "cell_type": "markdown",
     "metadata": {},
     "source": [
      "Our data are a slightly enhanced version of Kiva.org's loan records downloaded as a  [data dump](http://build.kiva.org/) from Feb 17, 2015. The loan data files in JSON got an extra processed_description field with language IDs, and were then loaded into a local MongoDB database called kiva.loans.\n",
      "\n",
      "The Kiva loan descriptions are real documents with multiple paragraphs, unlike tweets."
     ]
    },
    {
     "cell_type": "code",
     "collapsed": false,
     "input": [
      "from pymongo import MongoClient\n",
      "from datetime import datetime\n",
      "\n",
      "client = MongoClient()\n",
      "\n",
      "langcode = \"en\"\n",
      "loansCollection = client.kiva.loans\n",
      "#print \"Number of loan descriptions in '%s': %d\" % (langcode,loansCollection.find({\"processed_description.texts.%s\" % langcode :{'$exists': True}}).count())\n",
      "\n",
      "startYear = 2015\n",
      "start = datetime(startYear, 1, 1)\n",
      "c = loansCollection.find({\"$and\" : [{\"posted_date\" : { \"$gte\" : start }},\n",
      "                                    {\"processed_description.texts.%s\" % langcode :{'$exists': True}}\n",
      "                                    ]\n",
      "                                    })\n",
      "print \"Number of loans in '%s' since %d: %d\" % (langcode,startYear,c.count())\n",
      "documents = []\n",
      "for loan in c:\n",
      "    documents.append(loan[\"processed_description\"][\"texts\"][langcode])\n",
      "\n",
      "print documents[0:1]"
     ],
     "language": "python",
     "metadata": {},
     "outputs": [
      {
       "output_type": "stream",
       "stream": "stdout",
       "text": [
        "Number of loans in 'en' since 2015: 17938\n",
        "[u\"Jose is 49 years old and lives with his partner. He lives in his own home with his partner and their three children in the rural zone of the Oyotun district, Chiclayo province, Lambayeque region, on the north coast of Peru. The inhabitants of this district mainly make a living in agriculture, livestock and business.\\n\\nHe makes a living offering transport services in his mototaxi, with seven years of experience in the business. He has very good personal and work references in the area. The loan will be used to maintain his vehicle as well as to undertake repairs in the garage where he keeps his mototaxi. With this, Jose hopes to offer a better service to his clients, increasing his income level, and therefore his and his family's quality of life.\"]"
       ]
      },
      {
       "output_type": "stream",
       "stream": "stdout",
       "text": [
        "\n"
       ]
      }
     ],
     "prompt_number": 26
    },
    {
     "cell_type": "heading",
     "level": 2,
     "metadata": {},
     "source": [
      "Challenge 1"
     ]
    },
    {
     "cell_type": "markdown",
     "metadata": {},
     "source": [
      "Cluster sentences with K-means. If you have your own Fletcher test data, get sentences out and cluster them. If not, cluster the tweets you gathered during the last challenge set. For each cluster, print out the sentences, try to see how close the sentences are. Try different K values and try to find a K value that makes the most sense (the sentences look like they do form a meaningful cluster)."
     ]
    },
    {
     "cell_type": "code",
     "collapsed": false,
     "input": [
      "from nltk.tokenize import word_tokenize\n",
      "from sklearn.feature_extraction.text import TfidfVectorizer\n",
      "from sklearn.cluster import KMeans\n",
      "from sklearn import metrics\n",
      "from pprint import pprint\n",
      "import sys\n",
      "\n",
      "# number of documents to cluster                                                                                                             \n",
      "nrDocs = 2500\n",
      "\n",
      "# Build a TFIDF weighted document-term matrix                                                                                                \n",
      "vectorizer = TfidfVectorizer(stop_words=\"english\", ngram_range=(1,1), tokenizer=word_tokenize, use_idf=True)\n",
      "docVectors = vectorizer.fit_transform(documents[:nrDocs])\n",
      "\n",
      "# Inspired by http://scikit-learn.org/stable/auto_examples/cluster/plot_kmeans_digits.html                                                   \n",
      "print(\"number of sample docs: %d, \\t number of unigram features: %d\" % (docVectors.shape[0], docVectors.shape[1]))\n",
      "\n",
      "minNrClusters = 5\n",
      "maxNrClusters = 25\n",
      "results = {}\n",
      "\n",
      "def groupDocsByCluster(clusterIndices,docs):\n",
      "    '''                                                                                                                                      \n",
      "    clusterIndices is a list cluster indices                                                                                                 \n",
      "    documents is a list of documents                                                                                                         \n",
      "    result is a dict with cluster indices as key, and a list of documents as value                                                           \n",
      "    '''\n",
      "    assert(len(clusterIndices) == len(docs)), \"number of cluster indices %d and number of documents %d are unequal\" % (len(clusterIndices),l\\\n",
      "en(docs))\n",
      "    result = {}\n",
      "    for cnt in range(len(clusterIndices)):\n",
      "        i = clusterIndices[cnt]\n",
      "        if result.has_key(i):\n",
      "            result[i].append(docs[cnt])\n",
      "        else:\n",
      "            result[i] = [docs[cnt]]\n",
      "    return result\n",
      "\n",
      "\n",
      "for nrClusters in range(minNrClusters,maxNrClusters+1):\n",
      "    print >> sys.stderr, \"Fitting KMeans model with %s clusters\" % nrClusters\n",
      "    results[nrClusters] = {}\n",
      "    model = KMeans(n_clusters=nrClusters).fit(docVectors)\n",
      "    results[nrClusters]['inertia'] = model.inertia_\n",
      "    results[nrClusters]['predictions'] = model.predict(docVectors)\n",
      "    results[nrClusters]['cluster_centroids'] = model.cluster_centers_\n",
      "    \n",
      "# Just for inspection                                                                                                                        \n",
      "clusteredDocs = groupDocsByCluster(results[minNrClusters]['predictions'],documents[:nrDocs])\n",
      "for k in sorted(clusteredDocs.keys()):\n",
      "    print \"<<<<<<<<<< SAMPLES FROM CLUSTER %d: >>>>>>>>>\" % k\n",
      "    print \"\\n-----------------------------------------------------------------\\n\\n\".join(clusteredDocs[k][:3])\n",
      "    print"
     ],
     "language": "python",
     "metadata": {},
     "outputs": [
      {
       "output_type": "stream",
       "stream": "stderr",
       "text": [
        "Fitting KMeans model with 5 clusters\n",
        "Fitting KMeans model with 6 clusters"
       ]
      },
      {
       "output_type": "stream",
       "stream": "stderr",
       "text": [
        "\n",
        "Fitting KMeans model with 7 clusters"
       ]
      },
      {
       "output_type": "stream",
       "stream": "stderr",
       "text": [
        "\n",
        "Fitting KMeans model with 8 clusters"
       ]
      },
      {
       "output_type": "stream",
       "stream": "stderr",
       "text": [
        "\n",
        "Fitting KMeans model with 9 clusters"
       ]
      },
      {
       "output_type": "stream",
       "stream": "stderr",
       "text": [
        "\n",
        "Fitting KMeans model with 10 clusters"
       ]
      },
      {
       "output_type": "stream",
       "stream": "stderr",
       "text": [
        "\n",
        "Fitting KMeans model with 11 clusters"
       ]
      },
      {
       "output_type": "stream",
       "stream": "stderr",
       "text": [
        "\n",
        "Fitting KMeans model with 12 clusters"
       ]
      },
      {
       "output_type": "stream",
       "stream": "stderr",
       "text": [
        "\n",
        "Fitting KMeans model with 13 clusters"
       ]
      },
      {
       "output_type": "stream",
       "stream": "stderr",
       "text": [
        "\n",
        "Fitting KMeans model with 14 clusters"
       ]
      },
      {
       "output_type": "stream",
       "stream": "stderr",
       "text": [
        "\n",
        "Fitting KMeans model with 15 clusters"
       ]
      },
      {
       "output_type": "stream",
       "stream": "stderr",
       "text": [
        "\n",
        "Fitting KMeans model with 16 clusters"
       ]
      },
      {
       "output_type": "stream",
       "stream": "stderr",
       "text": [
        "\n",
        "Fitting KMeans model with 17 clusters"
       ]
      },
      {
       "output_type": "stream",
       "stream": "stderr",
       "text": [
        "\n",
        "Fitting KMeans model with 18 clusters"
       ]
      },
      {
       "output_type": "stream",
       "stream": "stderr",
       "text": [
        "\n",
        "Fitting KMeans model with 19 clusters"
       ]
      },
      {
       "output_type": "stream",
       "stream": "stderr",
       "text": [
        "\n",
        "Fitting KMeans model with 20 clusters"
       ]
      },
      {
       "output_type": "stream",
       "stream": "stderr",
       "text": [
        "\n",
        "Fitting KMeans model with 21 clusters"
       ]
      },
      {
       "output_type": "stream",
       "stream": "stderr",
       "text": [
        "\n",
        "Fitting KMeans model with 22 clusters"
       ]
      },
      {
       "output_type": "stream",
       "stream": "stderr",
       "text": [
        "\n",
        "Fitting KMeans model with 23 clusters"
       ]
      },
      {
       "output_type": "stream",
       "stream": "stderr",
       "text": [
        "\n",
        "Fitting KMeans model with 24 clusters"
       ]
      },
      {
       "output_type": "stream",
       "stream": "stderr",
       "text": [
        "\n",
        "Fitting KMeans model with 25 clusters"
       ]
      },
      {
       "output_type": "stream",
       "stream": "stdout",
       "text": [
        "number of sample docs: 2500, \t number of unigram features: 10377\n",
        "<<<<<<<<<< SAMPLES FROM CLUSTER 0: >>>>>>>>>"
       ]
      },
      {
       "output_type": "stream",
       "stream": "stdout",
       "text": [
        "\n",
        "The communal bank \"San Agust\u00edn\" is the name of this group, which includes 8 hardworking women with initiative. They are from a community where there is a large lake where the residents go out daily to fish, wash clothes, or enjoy themselves.  The members of this group are:\n",
        "\n",
        "Josefina \u2013 sells wooden furniture \n",
        "\n",
        "Francisca \u2013 sells shoe through a catalog\n",
        "\n",
        "Maria Del Carmen - sells chicken\n",
        "\n",
        "Marisela - sells bread\n",
        "\n",
        "Karina \u2013  sells tortillas \n",
        "\n",
        "Gloria - sells sweets\n",
        "\n",
        "Karina is a very responsible person.  Three years ago she took over the care of her nephew, whom she loves as if she was his mother.  Karina learned to make tortillas by hand when she was a little girl.  Her mother taught her, and she has been selling this traditional Mexican food for 2 years.  Mondays through Saturdays she gets up at 5am to wash the corn that she cooked the previous evening, and later she grinds it, turns on the light, and opens her business.  Each day she sells about 500 tortillas.  Karina must take good care of her hands, since they are her main work tool.  In addition to this activity, Karina also rents her mill to other people who make their own tortillas.\n",
        "\n",
        "With her earnings, Karina covers the bi-monthly payment that covers the electricity that the mill uses, and she also buys firewood and contributes to the household finances.  As with her previous loans, she will buy corn at wholesale and a new griddle, and she will also do maintenance work on her mill so that she can keep her business running.  \"I'm thinking about starting up a new business, so that I can make use of my free time in the afternoons and increase my income.\"\n",
        "\n",
        "Note: the photograph was taken in front of Francisca's house.  Karina is seen wearing a grey skirt and a blue blouse.\n",
        "-----------------------------------------------------------------\n",
        "\n",
        "The most important crop in the region where the group is located is sugar cane. Almost all of the fields are covered with this fruit, although one also tends to see lime, papaya, and orange trees. The members of Las Tres Mar\u00edas [The Three Mar\u00edas] and their occupations are:\n",
        "\n",
        "Francisca \u2013 Sewing\n",
        "\n",
        "Martina \u2013 Tacos\n",
        "\n",
        "Maria R. \u2013 Bread\n",
        "\n",
        "Mar\u00eda R. is an extremely committed person. She is married to Filiberto and has three children. The youngest of her children is 15 years old. She does not know how to read or write due to the fact that she did not study. Therefore, she unfortunately had to start working from a very early age to help her parents take care of her siblings. \n",
        "\n",
        "Mar\u00eda R. used to make a living by buying and reselling bread with the purpose of giving her children the quality of life that she did not have. \u201cI will never forget the day in which my son told me: \u2018Mom, why don\u2019t you make bread to sell instead of buying it?\u2019\u201d she says. When Filiberto arrived at the house after a day of work, she told him the little one\u2019s idea and that was how they started their own bakery 5 years ago. The invested their savings to buy materials to build a stone oven where the bread is cooked over a wood fire. They also bought flour, sugar, butter, and food coloring. \n",
        "\n",
        "At the beginning, Mar\u00eda R.\u2019s biggest fear was to not be successful and that her investment would be in vain. Today, her bakery employs 7 people. She, her husband, and her brother-in-law prepare the bread. \u201cI like to sell. For this reason, after I finish making the bread I carry 80 pieces in my basket and I go out to sell them to the neighboring communities,\u201d she says.\n",
        "\n",
        "Thanks to the two loans that she received before, she was able to buy baskets, sugar, butter, flour, and firewood, continuing her bakery in this manner. Due to the fact that the coldest months in the region are arriving, the inhabitants tend to buy more bread. For this reason, Mar\u00eda R. needs to buy more ingredients and materials to take advantage of the season. \n",
        "\n",
        "*The photograph was taken in Ma Filiberta\u2019s house. Mar\u00eda R. is wearing a blue t-shirt and is leaning against some pieces of firewood.\n",
        "-----------------------------------------------------------------\n",
        "\n",
        "Javier is 29 years old and studied through high school. Later he stopped studying because he could not pay university costs. He has a life partner and one child. His partner sells clothing and both of them work to support their home. Javier has been in sales for 5 years. He makes and sells bread everyday in the streets of his town and the surrounding communities. Before, he sold ice cream but the bread sales are going better. He is requesting a  loan to buy flour, sugar, yeast, molds, and more for his business. Javier sees a great opportunity to grow in this business. His dream is to establish a big bakery and create jobs for people who need them.\n",
        "\n",
        "<<<<<<<<<< SAMPLES FROM CLUSTER 1: >>>>>>>>>\n",
        "Jose is 49 years old and lives with his partner. He lives in his own home with his partner and their three children in the rural zone of the Oyotun district, Chiclayo province, Lambayeque region, on the north coast of Peru. The inhabitants of this district mainly make a living in agriculture, livestock and business.\n",
        "\n",
        "He makes a living offering transport services in his mototaxi, with seven years of experience in the business. He has very good personal and work references in the area. The loan will be used to maintain his vehicle as well as to undertake repairs in the garage where he keeps his mototaxi. With this, Jose hopes to offer a better service to his clients, increasing his income level, and therefore his and his family's quality of life.\n",
        "-----------------------------------------------------------------\n",
        "\n",
        "Maria is 45 years old and married. Her family, her husband and son, live together in their own house in the Lagunas district of Chiclayo Province in the Lambayeque region on the north coast of Per\u00fa. The people of this district are reliant on agriculture, cattle raising, and commerce. \n",
        "\n",
        "Maria's business is selling produce. She has over three years of experience in this line of work and has very good personal and professional references. In addition, she raises livestock such as ducks, guinea pigs, and sheep. This loan will be used to buy greater quantities of produce so as to increase her business's stock. With this she hopes to increase sales, and thus her income, and improve her quality of life. \n",
        "-----------------------------------------------------------------\n",
        "\n",
        "Alcides is 52 years old and has a life partner. He lives with his partner and their daughter in the Callayuc province in the Cajamarca region in the northern mountains of Peru. In that district, the population works in agriculture and livestock.\n",
        "\n",
        "Alcides makes a living raising and selling farmyard animals like guinea pigs, chicken and ducks, among others. He has over five years of experience in this field and has very good personal and work references in the area. The purpose of the loan will be to buy a greater quantity of animals like guinea pigs, chickens and ducks, as well as to buy animal feed for them. With this, Alcides hopes to increase his business's production and improve the quality of the products he offers his customers, which will have a positive impact on his income level and, therefore, his quality of life.\n",
        "\n",
        "<<<<<<<<<< SAMPLES FROM CLUSTER 2: >>>>>>>>>\n",
        "Alma works hard to support her family. Alma is married and has a pig fattening business in the Philippines.\n",
        "\n",
        "She requested a PHP 10,000 loan through NWTF to buy feed and vitamins for her pigs.\n",
        "\n",
        "Alma has been in this business for 10 years now.\n",
        "\n",
        "In the future, Alma would like to save money to expand her business.\n",
        "-----------------------------------------------------------------\n",
        "\n",
        "Anecita is 54 years old and married with three children. She is a very hardworking entrepreneur. \n",
        "\n",
        "She has a buy and sell of clothing business in the Philippines. Anecita requested a PHP 11,000 loan through NWTF to buy additional items like t-shirts, pants, shorts, etc.\n",
        "\n",
        "Anecita has been in this business for three years. In the future, Anecita would like to save money to expand her business.\n",
        "-----------------------------------------------------------------\n",
        "\n",
        "Asoncion works hard to support her family. Asoncion is married and has a dried fish vending business in the Philippines.\n",
        "\n",
        "She requested a PHP 10,000 loan through NWTF to purchase additional boxes of dried fish to sell.\n",
        "\n",
        "Asoncion has been in this business for 18 years now.\n",
        "\n",
        "She would like to save enough to provide a secure future for her family.\n",
        "\n",
        "<<<<<<<<<< SAMPLES FROM CLUSTER 3: >>>>>>>>>\n",
        "Sylivier is 43 years old. He is married with five children aged between 1 and 14 years, 4 of whom go to school. He is a farmer and has been farming for 20 years. With the loan from Kiva, he would like to buy more fertilizers to grow maize, which he will then sell. The profits from the business will be used to pay for his workers.\n",
        "\n",
        "The agriculture sector accounts for 37% of Rwanda's gross domestic product, generates 65% of Rwanda's export revenue, and employs approximately 90% of Rwandans (as of 2009). Despite the importance of agriculture to Rwandans and their economy, financial institutions view lending to fund agricultural activities as a high-risk proposition because the profitability of these activities is affected by weather, natural disasters, and price fluctuations. For this reason, farmers in Rwanda remain underserved by financial institutions. Urwego Opportunity Bank is expanding into this market and is happy to provide Kiva lenders with the opportunity to support Rwandan farmers. \n",
        "-----------------------------------------------------------------\n",
        "\n",
        "Innocent is 44 years old. He is married with 7 children aged between 1 and 22 years, 4 of whom go to school. \n",
        "\n",
        "Innocent has been farming for 21 years. He will use this loan from Kiva's lenders to buy fertilizer to grow maize which he will then sell. The profits will be used to pay his employees.\n",
        "\n",
        "As of 2009, the agriculture sector accounts for 37% of Rwanda's gross domestic product, generates 65% of Rwanda's export revenue, and employs approximately 90% of Rwandans. However, despite the importance of agriculture to Rwandans and their economy, financial institutions view lending to fund agricultural activities as a high-risk proposition because the profitability of these activities is affected by weather, natural disasters, and price fluctuations. For this reason, farmers in Rwanda remain underserved by financial institutions. Urwego Opportunity Bank is expanding into this market and is happy to provide Kiva lenders with the opportunity to support Rwandan farmers. \n",
        "-----------------------------------------------------------------\n",
        "\n",
        "Joseph is 48 years old. He is married with four children aged between seven and 23 years; all of them go to school. Joseph has farmed for 15 years and will use his Kiva loan to buy fertilizer and grow and sell maize. The profits from the business will be used to pay for his employees.\n",
        "\n",
        "The agriculture sector accounts for 37% of Rwanda's gross domestic product, generates 65% of Rwanda's export revenue, and employs approximately 90% of Rwandans (as of 2009). Despite the importance of agriculture to Rwandans and their economy, financial institutions view lending to fund agricultural activities as a high-risk proposition because the profitability of these activities is affected by weather, natural disasters, and price fluctuations. For this reason, farmers in Rwanda remain underserved by financial institutions. Urwego Opportunity Bank is expanding into this market and is happy to provide Kiva lenders with the opportunity to support Rwandan farmers.\n",
        "\n",
        "<<<<<<<<<< SAMPLES FROM CLUSTER 4: >>>>>>>>>\n",
        "Joseph is 42 years old. He is married to Leah and together they have been blessed with 5 children aged between 16 and 7 years respectively. Leah is a farmer, hence provides additional income for her family.\n",
        "\n",
        "Joseph is a farmer as well, a business he has done for the last 15 years, earning a monthly income of KES 20,000.\n",
        "\n",
        "Joseph has requested for his 1st loan with VisionFund Kenya of KES 70,000 which he will use to buy farm inputs like fertilizers, seedlings and pay his laborers.\n",
        "\n",
        "With the anticipated profits, Joseph will be able to buy more land as well as educate his children.\n",
        "\n",
        "His hopes and dreams for the future are to prosper in everything he does.\n",
        "-----------------------------------------------------------------\n",
        "\n",
        "Eliud has a motorcycle transport business, and has been in the business for three years now. He is 27 years old, married, and together with his spouse they have been blessed with two children. \n",
        "\n",
        "He will use this loan to service his motorcycle by buying new spare parts, and ensuring that the motorcycle is in good condition. He will use the anticipated profits to expand his business by buying another motorcycle. \n",
        "\n",
        "This is his first loan term from VisionFund Kenya, and in future he hopes to have a prosperous business and be able to educate his children. \n",
        "-----------------------------------------------------------------\n",
        "\n",
        "Eva is 60 years. She is married to Joseph, and together they have been blessed with five children of ages between 39 and 2 years.\n",
        "\n",
        "She is a farmer, a business she has done for the last 10 years.\n",
        "\n",
        "Eva has requested her first loan with VisionFund Kenya of Kshs. 50,000, which she will use as working capital to buy farm inputs like fertilizer and seedlings, and to pay her laborers.\n",
        "\n",
        "With the anticipated profits, Eva will be able to buy more land for farming, and plots to build houses.\n",
        "\n",
        "Her hope and dream for the future is to keep on upgrading her living standards.\n",
        "\n"
       ]
      },
      {
       "output_type": "stream",
       "stream": "stderr",
       "text": [
        "\n"
       ]
      }
     ],
     "prompt_number": 126
    },
    {
     "cell_type": "heading",
     "level": 2,
     "metadata": {},
     "source": [
      "Challenge 2"
     ]
    },
    {
     "cell_type": "markdown",
     "metadata": {},
     "source": [
      "Draw the inertia curve over different k values. (Sklearn KMeans class has an inertia_ attribute)"
     ]
    },
    {
     "cell_type": "code",
     "collapsed": false,
     "input": [
      "%matplotlib inline\n",
      "\n",
      "from matplotlib import pyplot as plt\n",
      "#print \"KMeans with %d clusters has inertia: %d\" % (nrClusters, model.inertia_)                                                              \n",
      "\n",
      "X = [n for n in sorted(results.keys())]\n",
      "Y = [results[n]['inertia'] for n in X]\n",
      "\n",
      "plt.figure()\n",
      "plt.scatter(X,Y)\n",
      "plt.title(\"Metric of goodness for KMeans document clustering\")\n",
      "plt.xlabel(\"Number of clusters\")\n",
      "plt.ylabel(\"Inertia\")\n",
      "plt.show()"
     ],
     "language": "python",
     "metadata": {},
     "outputs": [
      {
       "metadata": {},
       "output_type": "display_data",
       "png": "[encoded data removed]",
       "text": [
        "<matplotlib.figure.Figure at 0x102f20990>"
       ]
      }
     ],
     "prompt_number": 127
    },
    {
     "cell_type": "heading",
     "level": 2,
     "metadata": {},
     "source": [
      "Challenge 3"
     ]
    },
    {
     "cell_type": "markdown",
     "metadata": {},
     "source": [
      "**Let's name the clusters 1**\n",
      "\n",
      "For each cluster, find the sentence closest to the centroid of the cluster. (You can use sklearn.metrics.pairwise_distances6 or scipy.spatial.distance3 [check pdist, cdist, and euclidean distance] to find distances to the centroid). KMeans has a cluster_centroids_ attribute. This sentence (closest to centroid) is now the name of the cluster. For each cluster, print the representative sentence, and print 'N people expressed a similar statement', or something like that relevant to your dataset. (This is very close to what amazon used to do in the reviews section up to a year ago.)\n",
      "\n",
      "Find the biggest 3 clusters, and print their representative sentences (This is close to what amazon is doing now in the reviews section, except they choose the sentence from the most helpful review instead of closest to center)"
     ]
    },
    {
     "cell_type": "code",
     "collapsed": false,
     "input": [
      "from sklearn.metrics.pairwise import pairwise_distances\n",
      "from collections import Counter\n",
      "\n",
      "def getIndicesOfClosest(distances, n=1):\n",
      "    result = sorted(range(len(distances)), key=lambda i:distances[i])\n",
      "    return result[n]\n",
      "\n",
      "for nrClusters in range(minNrClusters,minNrClusters+3):\n",
      "    centroids = results[nrClusters]['cluster_centroids']\n",
      "    groupedPredictions = Counter(results[nrClusters]['predictions'])\n",
      "    sortedGroupedPredictions = [(l,k) for k,l in sorted([(j,i) for i,j in groupedPredictions.items()], reverse=True)]\n",
      "    print \"<<<<<<<<<< For %d clusters >>>>>>>>>>\" % nrClusters\n",
      "    for (clusterIndex,nrInstancesInCluster) in sortedGroupedPredictions[0:3]:\n",
      "        c = centroids[clusterIndex]\n",
      "        distances = pairwise_distances(docVectors, Y=[c], metric='cosine')\n",
      "        indexOfClosest = getIndicesOfClosest(distances, 1)\n",
      "        closestDocument = documents[indexOfClosest]\n",
      "        print \"\\n<< central document in cluster %d (%d instances)>>\" % (clusterIndex,nrInstancesInCluster)\n",
      "        print closestDocument[:100] + \" ...\""
     ],
     "language": "python",
     "metadata": {},
     "outputs": [
      {
       "output_type": "stream",
       "stream": "stdout",
       "text": [
        "<<<<<<<<<< For 5 clusters >>>>>>>>>>\n",
        "\n",
        "<< central document in cluster 0 (1563 instances)>>\n",
        "Amelida is 52 years old, married, and lives with her family in a rural area of the Oyot\u00fan district.  ...\n",
        "\n",
        "<< central document in cluster 2 (664 instances)>>\n",
        "As a married parent of five children, Irene works hard to support her family.\n",
        "\n",
        "She has a general sto ...\n",
        "\n",
        "<< central document in cluster 1 (120 instances)>>"
       ]
      },
      {
       "output_type": "stream",
       "stream": "stdout",
       "text": [
        "\n",
        "Amelida is 52 years old, married, and lives with her family in a rural area of the Oyot\u00fan district.  ...\n",
        "<<<<<<<<<< For 6 clusters >>>>>>>>>>\n",
        "\n",
        "<< central document in cluster 1 (1365 instances)>>\n",
        "Amelida is 52 years old, married, and lives with her family in a rural area of the Oyot\u00fan district.  ...\n",
        "\n",
        "<< central document in cluster 5 (664 instances)>>\n",
        "As a married parent of five children, Irene works hard to support her family.\n",
        "\n",
        "She has a general sto ...\n",
        "\n",
        "<< central document in cluster 2 (260 instances)>>"
       ]
      },
      {
       "output_type": "stream",
       "stream": "stdout",
       "text": [
        "\n",
        "Pius is 56 years old, married, and together with his spouse they have been blessed with nine childre ...\n",
        "<<<<<<<<<< For 7 clusters >>>>>>>>>>\n",
        "\n",
        "<< central document in cluster 2 (1435 instances)>>\n",
        "Angela is 35 years old, married, and has two children who depend on her. For various years now she h ...\n",
        "\n",
        "<< central document in cluster 3 (459 instances)>>\n",
        "Ma. Jory is 44 years old and married with five children.\n",
        "\n",
        "She works hard to provide for her family.  ...\n",
        "\n",
        "<< central document in cluster 5 (210 instances)>>"
       ]
      },
      {
       "output_type": "stream",
       "stream": "stdout",
       "text": [
        "\n",
        "Justa is 34 years old and married, and she and her spouse have been blessed with 4 children. She has ...\n"
       ]
      }
     ],
     "prompt_number": 128
    },
    {
     "cell_type": "heading",
     "level": 2,
     "metadata": {},
     "source": [
      "Challenge 4"
     ]
    },
    {
     "cell_type": "markdown",
     "metadata": {},
     "source": [
      "**Let's name the clusters 2**\n",
      "\n",
      "Calculate the tf-idf of each word in each cluster (think of all sentences of a cluster together as a document). Represent each cluster with the top 1, or top 2 or... to 5 tf-idf words. For each cluster, print the name (keywords) of the cluster, and \"N statements\" in the cluster (N is the size of the cluster)"
     ]
    },
    {
     "cell_type": "code",
     "collapsed": false,
     "input": [
      "import numpy as np\n",
      "\n",
      "for nrClusters in range(minNrClusters,minNrClusters+3):\n",
      "    groupedPredictions = Counter(results[nrClusters]['predictions'])\n",
      "    #print groupedPredictions\n",
      "    \n",
      "    print \"<<<<<<<<<< For %d clusters >>>>>>>>>>\" % nrClusters\n",
      "\n",
      "    clusterSizeDocs = [\"\" for x in range(nrClusters)]\n",
      "    for i,docIndex in enumerate(results[nrClusters]['predictions']):\n",
      "        clusterSizeDocs[docIndex] += (documents[i])\n",
      "\n",
      "    # Build a TFIDF weighted document-term matrix                                                                                                \n",
      "    vectorizer = TfidfVectorizer(stop_words=\"english\", ngram_range=(1,1), tokenizer=word_tokenize, use_idf=True)\n",
      "    clusterVectors = vectorizer.fit_transform(clusterSizeDocs)\n",
      "#    print clusterVectors.shape\n",
      "\n",
      "    for clusterIndex in range(clusterVectors.shape[0]):\n",
      "        clusterVector = clusterVectors[clusterIndex,0:].todense()\n",
      "#        print clusterVector\n",
      "#        print clusterVector.shape\n",
      "        sortedIndicesByTFIDF = sorted(range(clusterVector.shape[1]), key=lambda i:clusterVector.item(0,i), reverse=True)\n",
      "#        print sortedIndicesByTFIDF\n",
      "#        print \"Number of features: %d\" % len(vectorizer.get_feature_names())\n",
      "        topTokens = [str(vectorizer.get_feature_names()[x]) for x in sortedIndicesByTFIDF[0:5]]\n",
      "        print \"cluster %d (size %d) highest TFIDF terms:\" % (clusterIndex, dict(groupedPredictions)[clusterIndex]), topTokens"
     ],
     "language": "python",
     "metadata": {},
     "outputs": [
      {
       "output_type": "stream",
       "stream": "stdout",
       "text": [
        "<<<<<<<<<< For 5 clusters >>>>>>>>>>\n",
        "cluster 0 (size 1563) highest TFIDF terms:"
       ]
      },
      {
       "output_type": "stream",
       "stream": "stdout",
       "text": [
        " ['.', ',', 'loan', 'business', 'years']\n",
        "cluster 1 (size 120) highest TFIDF terms:"
       ]
      },
      {
       "output_type": "stream",
       "stream": "stdout",
       "text": [
        " [',', '.', 'district', 'ducks', 'region']\n",
        "cluster 2 (size 664) highest TFIDF terms:"
       ]
      },
      {
       "output_type": "stream",
       "stream": "stdout",
       "text": [
        " ['.', 'nwtf', ',', 'business', 'php']\n",
        "cluster 3 (size 61) highest TFIDF terms:"
       ]
      },
      {
       "output_type": "stream",
       "stream": "stdout",
       "text": [
        " ['.', ',', 'rwanda', '%', 'rwandans']\n",
        "cluster 4 (size 92) highest TFIDF terms:"
       ]
      },
      {
       "output_type": "stream",
       "stream": "stdout",
       "text": [
        " ['.', ',', 'business', 'anticipated', 'years']\n",
        "<<<<<<<<<< For 6 clusters >>>>>>>>>>\n",
        "cluster 0 (size 46) highest TFIDF terms:"
       ]
      },
      {
       "output_type": "stream",
       "stream": "stdout",
       "text": [
        " ['.', 'water', ',', 'chlorine', 'community']\n",
        "cluster 1 (size 1365) highest TFIDF terms:"
       ]
      },
      {
       "output_type": "stream",
       "stream": "stdout",
       "text": [
        " ['.', ',', 'loan', 'business', 'years']\n",
        "cluster 2 (size 260) highest TFIDF terms:"
       ]
      },
      {
       "output_type": "stream",
       "stream": "stdout",
       "text": [
        " ['.', ',', 'business', 'loan', 'years']\n",
        "cluster 3 (size 61) highest TFIDF terms:"
       ]
      },
      {
       "output_type": "stream",
       "stream": "stdout",
       "text": [
        " ['.', ',', 'rwanda', '%', 'rwandans']\n",
        "cluster 4 (size 104) highest TFIDF terms:"
       ]
      },
      {
       "output_type": "stream",
       "stream": "stdout",
       "text": [
        " [',', '.', 'district', 'region', 'northern']\n",
        "cluster 5 (size 664) highest TFIDF terms:"
       ]
      },
      {
       "output_type": "stream",
       "stream": "stdout",
       "text": [
        " ['.', 'nwtf', ',', 'business', 'philippines']\n",
        "<<<<<<<<<< For 7 clusters >>>>>>>>>>\n",
        "cluster 0 (size 207) highest TFIDF terms:"
       ]
      },
      {
       "output_type": "stream",
       "stream": "stdout",
       "text": [
        " ['.', 'nwtf', 'business', ',', 'php']\n",
        "cluster 1 (size 61) highest TFIDF terms:"
       ]
      },
      {
       "output_type": "stream",
       "stream": "stdout",
       "text": [
        " ['.', ',', 'rwanda', '%', 'rwandans']\n",
        "cluster 2 (size 1435) highest TFIDF terms:"
       ]
      },
      {
       "output_type": "stream",
       "stream": "stdout",
       "text": [
        " ['.', ',', 'loan', 'business', 'years']\n",
        "cluster 3 (size 459) highest TFIDF terms:"
       ]
      },
      {
       "output_type": "stream",
       "stream": "stdout",
       "text": [
        " ['.', ',', 'nwtf', 'business', 'php']\n",
        "cluster 4 (size 75) highest TFIDF terms:"
       ]
      },
      {
       "output_type": "stream",
       "stream": "stdout",
       "text": [
        " ['.', ',', 'brac', 'pakistan', 'husband']\n",
        "cluster 5 (size 210) highest TFIDF terms:"
       ]
      },
      {
       "output_type": "stream",
       "stream": "stdout",
       "text": [
        " ['.', ',', 'loan', 'business', 'years']\n",
        "cluster 6 (size 53) highest TFIDF terms:"
       ]
      },
      {
       "output_type": "stream",
       "stream": "stdout",
       "text": [
        " ['.', ',', 'water', 'community', 'chlorine']\n"
       ]
      }
     ],
     "prompt_number": 152
    },
    {
     "cell_type": "code",
     "collapsed": false,
     "input": [],
     "language": "python",
     "metadata": {},
     "outputs": []
    }
   ],
   "metadata": {}
  }
 ]
}